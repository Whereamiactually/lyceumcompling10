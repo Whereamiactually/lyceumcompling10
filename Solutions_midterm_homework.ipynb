{
  "nbformat": 4,
  "nbformat_minor": 0,
  "metadata": {
    "colab": {
      "provenance": [],
      "authorship_tag": "ABX9TyOnK5N9nnjBrWEMugewxx3E",
      "include_colab_link": true
    },
    "kernelspec": {
      "name": "python3",
      "display_name": "Python 3"
    },
    "language_info": {
      "name": "python"
    }
  },
  "cells": [
    {
      "cell_type": "markdown",
      "metadata": {
        "id": "view-in-github",
        "colab_type": "text"
      },
      "source": [
        "<a href=\"https://colab.research.google.com/github/Whereamiactually/lyceumcompling10/blob/main/Solutions_midterm_homework.ipynb\" target=\"_parent\"><img src=\"https://colab.research.google.com/assets/colab-badge.svg\" alt=\"Open In Colab\"/></a>"
      ]
    },
    {
      "cell_type": "markdown",
      "source": [
        "# Домашка\n",
        "\n",
        "### Времена\n",
        "\n",
        "Посчитайте, глаголы в каком времени чаще всего встречаются в тексте. У вас должен получиться словарь, ключами которого являются времена, а их значениями - их количества в тексте. Используйте морфологический анализатор из библиотеки Natasha. Подсказка: вначале нужно создать список, куда включить время каждого глагола в тексте. Ещё подсказка: время находится в атрибуте 'Tense'. Ещё подсказка: вам поможет использовать `try: ... except: continue`."
      ],
      "metadata": {
        "id": "mjRvvQoAtD3F"
      }
    },
    {
      "cell_type": "code",
      "source": [
        "pip install natasha"
      ],
      "metadata": {
        "id": "0fdsJNlLZMfj"
      },
      "execution_count": null,
      "outputs": []
    },
    {
      "cell_type": "code",
      "source": [
        "albert_text = \"\"\"Работы 1905 года принесли Эйнштейну, хотя и не сразу, всемирную славу. 30 апреля 1905 он направил в университет Цюриха текст своей докторской диссертации на тему «Новое определение размеров молекул». Рецензентами были профессора Кляйнер и Буркхард. 15 января 1906 года он получил степень доктора наук по физике. Он переписывается и встречается с самыми знаменитыми физиками мира, а Планк в Берлине включает теорию относительности в свой учебный курс. В письмах его называют «г-н профессор», однако ещё четыре года (до октября 1909 года) Эйнштейн продолжает службу в Бюро патентов; в 1906 году его повысили в должности (он стал экспертом II класса с ежегодным окладом 4500 франков). В октябре 1908 года Эйнштейна пригласили читать факультатив в Бернский университет, однако без всякой оплаты. В 1909 году он побывал на съезде натуралистов в Зальцбурге, где собралась элита немецкой физики, и впервые встретился с Планком; за 3 года переписки они быстро стали близкими друзьями. После съезда Эйнштейн наконец получил оплачиваемую должность экстраординарного профессора в Цюрихском университете (декабрь 1909 года), где преподавал геометрию его старый друг Марсель Гроссман. Оплата была небольшой, особенно для семьи с двумя детьми, и в 1911 году Эйнштейн без колебаний принял приглашение возглавить кафедру физики в пражском Немецком университете. В этот период Эйнштейн продолжает публикацию серии статей по термодинамике, теории относительности и квантовой теории. В Праге он активизирует исследования по теории тяготения, поставив целью создать релятивистскую теорию гравитации и осуществить давнюю мечту физиков — исключить из этой области ньютоновское дальнодействие. В 1911 году Эйнштейн участвовал в Первом Сольвеевском конгрессе (Брюссель), посвящённом квантовой физике. Там произошла его единственная встреча с Пуанкаре, который не поддержал теорию относительности, хотя лично к Эйнштейну относился с большим уважением. Эйнштейн провёл в Праге почти два года (с января 1911 по октябрь 1912), в этот период он считался гражданином Австро-Венгрии. Затем он вернулся в Цюрих, где стал профессором родного Политехникума и читал там лекции по физике. В 1913 году он посетил Конгресс естествоиспытателей в Вене, навестил там 75-летнего Эрнста Маха; когда-то критика Махом ньютоновской механики произвела на Эйнштейна огромное впечатление и идейно подготовила к новациям теории относительности. В мае 1914 года пришло приглашение от Петербургской академии наук, подписанное физиком П. П. Лазаревым. Однако впечатления от погромов и «дела Бейлиса» были ещё свежи, и Эйнштейн отказался: «Я нахожу отвратительным ехать без надобности в страну, где так жестоко преследуют моих соплеменников». В конце 1913 года, по рекомендации Планка и Нернста, Эйнштейн получил приглашение возглавить создаваемый в Берлине физический исследовательский институт; он зачислен также профессором Прусской академии. Помимо близости к другу Планку, эта должность имела то преимущество, что не обязывала отвлекаться на преподавание. Он принял приглашение, и в предвоенный 1914 год убеждённый пацифист Эйнштейн прибыл в Берлин. Милева с детьми осталась в Цюрихе, их семья распалась. Гражданство Швейцарии, нейтральной страны, помогало Эйнштейну выдерживать милитаристское давление после начала войны. Он не подписывал никаких «патриотических» воззваний, напротив — в соавторстве с физиологом Георгом Фридрихом Николаи составил антивоенное «Воззвание к европейцам» в противовес шовинистическому «манифесту девяносто трёх», а в письме Ромену Роллану писал: «Поблагодарят ли будущие поколения нашу Европу, в которой три столетия самой напряжённой культурной работы привели лишь к тому, что религиозное безумие сменилось безумием националистическим? Даже учёные разных стран ведут себя так, словно у них ампутировали мозги».\"\"\"\n",
        "albert_text"
      ],
      "metadata": {
        "colab": {
          "base_uri": "https://localhost:8080/",
          "height": 122
        },
        "id": "iGXaUroStDd0",
        "outputId": "d8e0ee45-9822-49ae-a42a-bf0ff9ed4baf"
      },
      "execution_count": 1,
      "outputs": [
        {
          "output_type": "execute_result",
          "data": {
            "text/plain": [
              "'Работы 1905 года принесли Эйнштейну, хотя и не сразу, всемирную славу. 30 апреля 1905 он направил в университет Цюриха текст своей докторской диссертации на тему «Новое определение размеров молекул». Рецензентами были профессора Кляйнер и Буркхард. 15 января 1906 года он получил степень доктора наук по физике. Он переписывается и встречается с самыми знаменитыми физиками мира, а Планк в Берлине включает теорию относительности в свой учебный курс. В письмах его называют «г-н профессор», однако ещё четыре года (до октября 1909 года) Эйнштейн продолжает службу в Бюро патентов; в 1906 году его повысили в должности (он стал экспертом II класса с ежегодным окладом 4500 франков). В октябре 1908 года Эйнштейна пригласили читать факультатив в Бернский университет, однако без всякой оплаты. В 1909 году он побывал на съезде натуралистов в Зальцбурге, где собралась элита немецкой физики, и впервые встретился с Планком; за 3 года переписки они быстро стали близкими друзьями. После съезда Эйнштейн наконец получил оплачиваемую должность экстраординарного профессора в Цюрихском университете (декабрь 1909 года), где преподавал геометрию его старый друг Марсель Гроссман. Оплата была небольшой, особенно для семьи с двумя детьми, и в 1911 году Эйнштейн без колебаний принял приглашение возглавить кафедру физики в пражском Немецком университете. В этот период Эйнштейн продолжает публикацию серии статей по термодинамике, теории относительности и квантовой теории. В Праге он активизирует исследования по теории тяготения, поставив целью создать релятивистскую теорию гравитации и осуществить давнюю мечту физиков — исключить из этой области ньютоновское дальнодействие. В 1911 году Эйнштейн участвовал в Первом Сольвеевском конгрессе (Брюссель), посвящённом квантовой физике. Там произошла его единственная встреча с Пуанкаре, который не поддержал теорию относительности, хотя лично к Эйнштейну относился с большим уважением. Эйнштейн провёл в Праге почти два года (с января 1911 по октябрь 1912), в этот период он считался гражданином Австро-Венгрии. Затем он вернулся в Цюрих, где стал профессором родного Политехникума и читал там лекции по физике. В 1913 году он посетил Конгресс естествоиспытателей в Вене, навестил там 75-летнего Эрнста Маха; когда-то критика Махом ньютоновской механики произвела на Эйнштейна огромное впечатление и идейно подготовила к новациям теории относительности. В мае 1914 года пришло приглашение от Петербургской академии наук, подписанное физиком П. П. Лазаревым. Однако впечатления от погромов и «дела Бейлиса» были ещё свежи, и Эйнштейн отказался: «Я нахожу отвратительным ехать без надобности в страну, где так жестоко преследуют моих соплеменников». В конце 1913 года, по рекомендации Планка и Нернста, Эйнштейн получил приглашение возглавить создаваемый в Берлине физический исследовательский институт; он зачислен также профессором Прусской академии. Помимо близости к другу Планку, эта должность имела то преимущество, что не обязывала отвлекаться на преподавание. Он принял приглашение, и в предвоенный 1914 год убеждённый пацифист Эйнштейн прибыл в Берлин. Милева с детьми осталась в Цюрихе, их семья распалась. Гражданство Швейцарии, нейтральной страны, помогало Эйнштейну выдерживать милитаристское давление после начала войны. Он не подписывал никаких «патриотических» воззваний, напротив — в соавторстве с физиологом Георгом Фридрихом Николаи составил антивоенное «Воззвание к европейцам» в противовес шовинистическому «манифесту девяносто трёх», а в письме Ромену Роллану писал: «Поблагодарят ли будущие поколения нашу Европу, в которой три столетия самой напряжённой культурной работы привели лишь к тому, что религиозное безумие сменилось безумием националистическим? Даже учёные разных стран ведут себя так, словно у них ампутировали мозги».'"
            ],
            "application/vnd.google.colaboratory.intrinsic+json": {
              "type": "string"
            }
          },
          "metadata": {},
          "execution_count": 1
        }
      ]
    },
    {
      "cell_type": "code",
      "source": [
        "# для выполнения каждого задания нужно выполнить этот кусок кода (но можно это сделать единожды в самом начале)\n",
        "from natasha import (\n",
        "  Segmenter,\n",
        "\n",
        "  NewsEmbedding,\n",
        "  NewsMorphTagger,\n",
        "  NewsSyntaxParser,\n",
        "\n",
        "  Doc\n",
        ")\n",
        "\n",
        "segmenter = Segmenter()\n",
        "\n",
        "emb = NewsEmbedding()\n",
        "morph_tagger = NewsMorphTagger(emb)\n",
        "syntax_parser = NewsSyntaxParser(emb)\n",
        "doc = Doc(albert_text)\n",
        "\n",
        "doc.segment(segmenter)\n",
        "doc.tag_morph(morph_tagger)\n",
        "doc.parse_syntax(syntax_parser)"
      ],
      "metadata": {
        "id": "1ITvyhB-yVLk"
      },
      "execution_count": 3,
      "outputs": []
    },
    {
      "cell_type": "code",
      "source": [
        "tenses = []\n",
        "count_tense = {}\n",
        "for token in doc.tokens:\n",
        "  try:\n",
        "    tenses.append(token.feats['Tense'])\n",
        "  except:\n",
        "    continue\n",
        "\n",
        "for tense in tenses:\n",
        "  if tense not in count_tense:\n",
        "    count_tense[tense] = 1\n",
        "  else:\n",
        "    count_tense[tense] += 1\n",
        "\n",
        "print(count_tense)"
      ],
      "metadata": {
        "id": "Bpr9m1pzyiI6",
        "colab": {
          "base_uri": "https://localhost:8080/"
        },
        "outputId": "ef391733-96c8-41ef-bb43-a0d31f6f7ccb"
      },
      "execution_count": 12,
      "outputs": [
        {
          "output_type": "stream",
          "name": "stdout",
          "text": [
            "{'Past': 51, 'Pres': 11}\n"
          ]
        }
      ]
    },
    {
      "cell_type": "code",
      "source": [
        "# вместо второго цикла можно использовать более короткий код\n",
        "count_tense = {'Past': tenses.count('Past'), 'Present': tenses.count('Pres'), 'Future': tenses.count('Fut')}\n",
        "count_tense"
      ],
      "metadata": {
        "id": "WRDtdyAwYmlc",
        "colab": {
          "base_uri": "https://localhost:8080/"
        },
        "outputId": "c2b5d41e-3e11-49e8-c3d4-3b486dffd9a3"
      },
      "execution_count": 13,
      "outputs": [
        {
          "output_type": "execute_result",
          "data": {
            "text/plain": [
              "{'Past': 51, 'Present': 11, 'Future': 0}"
            ]
          },
          "metadata": {},
          "execution_count": 13
        }
      ]
    },
    {
      "cell_type": "markdown",
      "source": [
        "### Дерево зависимостей\n",
        "\n",
        "Постройте дерево зависимостей для любого из предложений (как было у нас на занятии)."
      ],
      "metadata": {
        "id": "z9h3GKwbz79G"
      }
    },
    {
      "cell_type": "code",
      "source": [
        "sent = doc.sents[0]\n",
        "sent.syntax.print()"
      ],
      "metadata": {
        "id": "noM3l1uE0_aV",
        "colab": {
          "base_uri": "https://localhost:8080/"
        },
        "outputId": "55f933b6-e894-45f1-aaa0-62f821ac66e4"
      },
      "execution_count": 15,
      "outputs": [
        {
          "output_type": "stream",
          "name": "stdout",
          "text": [
            "        ┌──► Работы    obj\n",
            "        │ ┌► 1905      amod\n",
            "        │ └─ года      \n",
            "┌───────└─┌─ принесли  \n",
            "│         └► Эйнштейну iobj\n",
            "│ ┌────────► ,         punct\n",
            "│ │ ┌──────► хотя      mark\n",
            "│ │ │ ┌────► и         advmod\n",
            "│ │ │ │ ┌─┌► не        advmod\n",
            "│ │ │ └─└►└─ сразу     advmod\n",
            "│ │ │ ┌────► ,         punct\n",
            "│ │ │ │ ┌─┌► всемирную amod\n",
            "│ └─└─└─└►└─ славу     obj\n",
            "└──────────► .         punct\n"
          ]
        }
      ]
    },
    {
      "cell_type": "markdown",
      "source": [
        "### Количество слов\n",
        "\n",
        "Посчитайте количество лемм (то есть \"теория\" и \"теории\" должны считаться одной леммой) для текста из предыдущего задания (должен получиться словарь, где ключ это слово, а значение - количество). Программа может допускать ошибки, от этого никуда не деться, поэтому если идеального результата не получится, не переживайте.\n",
        "\n",
        "Программа не должна считать пунктуацию как отдельные слова. Когда будете добавлять в словарь, проверяйте, не является ли это слово знаком препинания. Список всех знаков препинения - `list(string.punctuation) + ['«', '—', '»']`, вначале нужно импортировать `string`.\n",
        "\n",
        "Отсортируйте словарь по количеству вхождений слов (то есть по значению). Для этого используйте функцию `sorted()`, в качестве объекта для сортировки `lemmas.items()` (эта штука даёт кортежи ключ:значение), а в качестве ключа для сортировки `key = lambda item: item[1]`."
      ],
      "metadata": {
        "id": "D4VmVWkf1E0S"
      }
    },
    {
      "cell_type": "code",
      "source": [
        "from natasha import MorphVocab\n",
        "morph_vocab = MorphVocab()"
      ],
      "metadata": {
        "id": "mAOrFbsg1xAw"
      },
      "execution_count": 16,
      "outputs": []
    },
    {
      "cell_type": "code",
      "source": [
        "import string\n",
        "punct = list(string.punctuation) + ['«', '—', '»'] # эти знаки есть в тексте, но их нет в списке"
      ],
      "metadata": {
        "id": "y8OHTFCL1vvl"
      },
      "execution_count": 17,
      "outputs": []
    },
    {
      "cell_type": "code",
      "source": [
        "lemmas = {}\n",
        "for token in doc.tokens:\n",
        "  token.lemmatize(morph_vocab)\n",
        "for token in doc.tokens:\n",
        "  if token.lemma in lemmas and token.lemma not in punct:\n",
        "    lemmas[token.lemma] += 1\n",
        "  elif token.lemma not in punct:\n",
        "    lemmas[token.lemma] = 1\n",
        "\n",
        "sorted_lemmas = sorted(lemmas.items(), key = lambda item: item[1], reverse = True)\n",
        "sorted_lemmas"
      ],
      "metadata": {
        "id": "Iw0Ty73CBKgy"
      },
      "execution_count": null,
      "outputs": []
    },
    {
      "cell_type": "markdown",
      "source": [
        "### Распознавание имён\n",
        "\n",
        "Выведите весь текст, где обозначаются типы именованных сущностей (как мы делали на занятии). Для каждого человека выведите его имя, фамилию и отчество, если они есть (тоже делали на занятии). Должен получиться словарь, где неразделённые имена - ключи, а разделённые - значения."
      ],
      "metadata": {
        "id": "PK30UWYA75zy"
      }
    },
    {
      "cell_type": "code",
      "source": [
        "from natasha import NewsNERTagger\n",
        "ner_tagger = NewsNERTagger(emb) # инициализируем распознаватель именованных сущностей"
      ],
      "metadata": {
        "id": "cjFd5kt_zFGB"
      },
      "execution_count": 19,
      "outputs": []
    },
    {
      "cell_type": "code",
      "source": [
        "doc.tag_ner(ner_tagger)\n",
        "doc.ner.print()"
      ],
      "metadata": {
        "id": "klNRMJTABVlJ"
      },
      "execution_count": null,
      "outputs": []
    },
    {
      "cell_type": "code",
      "source": [
        "# этот код надо выполнить перед следующим кодом\n",
        "from natasha import (\n",
        "  MorphVocab,\n",
        "  PER,\n",
        "  NamesExtractor,\n",
        ")\n",
        "\n",
        "morph_vocab = MorphVocab()\n",
        "names_extractor = NamesExtractor(morph_vocab)"
      ],
      "metadata": {
        "id": "_JWcKkaz8c7Y"
      },
      "execution_count": 21,
      "outputs": []
    },
    {
      "cell_type": "code",
      "source": [
        "for span in doc.spans: # перед выполнением задания нужно нормализовать каждую именованную сущность (в этой ячейке ничего менять не надо)\n",
        "  span.normalize(morph_vocab)"
      ],
      "metadata": {
        "id": "UzuRxF-q8jJt"
      },
      "execution_count": 22,
      "outputs": []
    },
    {
      "cell_type": "markdown",
      "source": [
        "Обратите внимание, что программа не все именованные сущности распознает правильно. Какие-то места она считает людьми. Если мы попробуем применить код для извлечения имен и фамилий к местам, то он нам выдаст ошибку. Поэтому нужно воспользоваться `try: ... except: continue`.\n",
        "В вашей программе должно быть как минимум два цикла `for` (с одним циклом не сработает, но можно и больше)."
      ],
      "metadata": {
        "id": "pza9DNFaBfwj"
      }
    },
    {
      "cell_type": "code",
      "source": [
        "# не работает\n",
        "for span in doc.spans:\n",
        "  if span.type == PER:\n",
        "    try:\n",
        "      span.extract_fact(names_extractor)\n",
        "    except:\n",
        "      continue\n",
        "\n",
        "{_.normal: _.fact.as_dict for _ in doc.spans if _.type == PER}"
      ],
      "metadata": {
        "id": "X-pC_uQJdcS9"
      },
      "execution_count": 32,
      "outputs": []
    },
    {
      "cell_type": "code",
      "source": [
        "for span in doc.spans:\n",
        "  if span.type == PER:\n",
        "    try:\n",
        "      span.extract_fact(names_extractor)\n",
        "    except:\n",
        "      continue\n",
        "\n",
        "people = {}\n",
        "for person in doc.spans:\n",
        "  if person.type == PER:\n",
        "    try:\n",
        "      people[person.normal] = person.fact.as_dict\n",
        "    except:\n",
        "      continue\n",
        "people"
      ],
      "metadata": {
        "id": "5G_dqbCz8mHT"
      },
      "execution_count": null,
      "outputs": []
    },
    {
      "cell_type": "markdown",
      "source": [
        "### 1. Национальный корпус русского языка\n",
        "\n",
        "##### 1. Первая часть задания со свободным письменным ответом (то есть ответ нужно писать непосредственно после каждого пункта)\n",
        "\n",
        "1. Придумайте любое слово (существительное, прилагательное, глагол), которое вы хотите посмотреть в НКРЯ.\n",
        "\n",
        "2. Посмотрите портрет этого слова и выпишите на выбор несколько фактов о нем.\n",
        "\n",
        "**Ваш ответ здесь.**\n",
        "\n",
        "3. Воспользуйтесь лексико-грамматическим поиском по этому слову - выберите несколько (2-3) любых морфологических/синтаксических признаков, чтобы уточнить ваш запрос. (Ниже напишите, по каким именно признакам вы искали.)\n",
        "\n",
        "**Ваш ответ здесь.**\n",
        "\n",
        "4. Скачайте выдачу в .csv формате (лучше, чтобы выдача была не слишком большая, не больше 1000 вхождений, так как иначе обработка будет занимать относительно много времени) и положите ее в ваше рабочее пространство для этой контрольной работы.\n",
        "\n",
        "##### 2. Вторая часть в Python'e\n",
        "\n",
        "1. Прочитайте скачанный файл в Python'e и проверьте, правильно ли он считался (вам понадобится библиотека pandas).\n",
        "\n",
        "Датасет имеет довольно много колонок с разной нерелевантной для нас информацией, поэтому при открытии используйте только колонки с искомым словом (Center), правым контекстом (Right context), именем автора (Author), названием произведения (Header), датой его создания (Created), его типом (Type) и полным контекстом примера (Full context). Также обратите внимание, что, несмотря на расширение, в качестве разделителя в файле используется знак \";\"."
      ],
      "metadata": {
        "id": "4-8YZ3-IcMEK"
      }
    },
    {
      "cell_type": "code",
      "source": [
        "import pandas as pd"
      ],
      "metadata": {
        "id": "HY7DsgTk4sc6"
      },
      "execution_count": 33,
      "outputs": []
    },
    {
      "cell_type": "code",
      "source": [
        "colnames = ['Center', 'Right context', 'Author', 'Header', 'Created', 'Type', 'Right context']\n",
        "data = pd.read_csv(\"ruscorpora_content.csv\", sep = ';', usecols = colnames)\n",
        "data.head()"
      ],
      "metadata": {
        "id": "LPjp3Y2UmJdJ",
        "colab": {
          "base_uri": "https://localhost:8080/",
          "height": 206
        },
        "outputId": "8ed8a6c6-8eba-4d83-f8ad-31cce9294a24"
      },
      "execution_count": 34,
      "outputs": [
        {
          "output_type": "execute_result",
          "data": {
            "text/plain": [
              "       Center                                      Right context  \\\n",
              "0  столешницы                      лепестки (у него их целых две   \n",
              "1  столешницу                         покрывали белые простыни.    \n",
              "2  столешницу  двигающимися стаканами, сухарным и рафинадным ...   \n",
              "3  столешницу                                         фартуком.    \n",
              "4  столешницу          и потом, точно очнувшись, потребовал злым   \n",
              "\n",
              "              Author                                             Header  \\\n",
              "0       Юлия Пешкова                                  Ярмарка тщеславия   \n",
              "1        Олег Павлов  Карагандинские девятины, или Повесть последних...   \n",
              "2    Б. Л. Пастернак                                     Воздушные пути   \n",
              "3  Сергей Бурлаченко                                        Сорвиголова   \n",
              "4  Сергей Бурлаченко                                        Сорвиголова   \n",
              "\n",
              "  Created      Type  \n",
              "0    2002  репортаж  \n",
              "1    2001   повесть  \n",
              "2    1924   повесть  \n",
              "3    2019   повесть  \n",
              "4    2019   повесть  "
            ],
            "text/html": [
              "\n",
              "  <div id=\"df-1f0bb4a3-8c68-4f77-9ae0-9d5455b247d6\" class=\"colab-df-container\">\n",
              "    <div>\n",
              "<style scoped>\n",
              "    .dataframe tbody tr th:only-of-type {\n",
              "        vertical-align: middle;\n",
              "    }\n",
              "\n",
              "    .dataframe tbody tr th {\n",
              "        vertical-align: top;\n",
              "    }\n",
              "\n",
              "    .dataframe thead th {\n",
              "        text-align: right;\n",
              "    }\n",
              "</style>\n",
              "<table border=\"1\" class=\"dataframe\">\n",
              "  <thead>\n",
              "    <tr style=\"text-align: right;\">\n",
              "      <th></th>\n",
              "      <th>Center</th>\n",
              "      <th>Right context</th>\n",
              "      <th>Author</th>\n",
              "      <th>Header</th>\n",
              "      <th>Created</th>\n",
              "      <th>Type</th>\n",
              "    </tr>\n",
              "  </thead>\n",
              "  <tbody>\n",
              "    <tr>\n",
              "      <th>0</th>\n",
              "      <td>столешницы</td>\n",
              "      <td>лепестки (у него их целых две</td>\n",
              "      <td>Юлия Пешкова</td>\n",
              "      <td>Ярмарка тщеславия</td>\n",
              "      <td>2002</td>\n",
              "      <td>репортаж</td>\n",
              "    </tr>\n",
              "    <tr>\n",
              "      <th>1</th>\n",
              "      <td>столешницу</td>\n",
              "      <td>покрывали белые простыни.</td>\n",
              "      <td>Олег Павлов</td>\n",
              "      <td>Карагандинские девятины, или Повесть последних...</td>\n",
              "      <td>2001</td>\n",
              "      <td>повесть</td>\n",
              "    </tr>\n",
              "    <tr>\n",
              "      <th>2</th>\n",
              "      <td>столешницу</td>\n",
              "      <td>двигающимися стаканами, сухарным и рафинадным ...</td>\n",
              "      <td>Б. Л. Пастернак</td>\n",
              "      <td>Воздушные пути</td>\n",
              "      <td>1924</td>\n",
              "      <td>повесть</td>\n",
              "    </tr>\n",
              "    <tr>\n",
              "      <th>3</th>\n",
              "      <td>столешницу</td>\n",
              "      <td>фартуком.</td>\n",
              "      <td>Сергей Бурлаченко</td>\n",
              "      <td>Сорвиголова</td>\n",
              "      <td>2019</td>\n",
              "      <td>повесть</td>\n",
              "    </tr>\n",
              "    <tr>\n",
              "      <th>4</th>\n",
              "      <td>столешницу</td>\n",
              "      <td>и потом, точно очнувшись, потребовал злым</td>\n",
              "      <td>Сергей Бурлаченко</td>\n",
              "      <td>Сорвиголова</td>\n",
              "      <td>2019</td>\n",
              "      <td>повесть</td>\n",
              "    </tr>\n",
              "  </tbody>\n",
              "</table>\n",
              "</div>\n",
              "    <div class=\"colab-df-buttons\">\n",
              "\n",
              "  <div class=\"colab-df-container\">\n",
              "    <button class=\"colab-df-convert\" onclick=\"convertToInteractive('df-1f0bb4a3-8c68-4f77-9ae0-9d5455b247d6')\"\n",
              "            title=\"Convert this dataframe to an interactive table.\"\n",
              "            style=\"display:none;\">\n",
              "\n",
              "  <svg xmlns=\"http://www.w3.org/2000/svg\" height=\"24px\" viewBox=\"0 -960 960 960\">\n",
              "    <path d=\"M120-120v-720h720v720H120Zm60-500h600v-160H180v160Zm220 220h160v-160H400v160Zm0 220h160v-160H400v160ZM180-400h160v-160H180v160Zm440 0h160v-160H620v160ZM180-180h160v-160H180v160Zm440 0h160v-160H620v160Z\"/>\n",
              "  </svg>\n",
              "    </button>\n",
              "\n",
              "  <style>\n",
              "    .colab-df-container {\n",
              "      display:flex;\n",
              "      gap: 12px;\n",
              "    }\n",
              "\n",
              "    .colab-df-convert {\n",
              "      background-color: #E8F0FE;\n",
              "      border: none;\n",
              "      border-radius: 50%;\n",
              "      cursor: pointer;\n",
              "      display: none;\n",
              "      fill: #1967D2;\n",
              "      height: 32px;\n",
              "      padding: 0 0 0 0;\n",
              "      width: 32px;\n",
              "    }\n",
              "\n",
              "    .colab-df-convert:hover {\n",
              "      background-color: #E2EBFA;\n",
              "      box-shadow: 0px 1px 2px rgba(60, 64, 67, 0.3), 0px 1px 3px 1px rgba(60, 64, 67, 0.15);\n",
              "      fill: #174EA6;\n",
              "    }\n",
              "\n",
              "    .colab-df-buttons div {\n",
              "      margin-bottom: 4px;\n",
              "    }\n",
              "\n",
              "    [theme=dark] .colab-df-convert {\n",
              "      background-color: #3B4455;\n",
              "      fill: #D2E3FC;\n",
              "    }\n",
              "\n",
              "    [theme=dark] .colab-df-convert:hover {\n",
              "      background-color: #434B5C;\n",
              "      box-shadow: 0px 1px 3px 1px rgba(0, 0, 0, 0.15);\n",
              "      filter: drop-shadow(0px 1px 2px rgba(0, 0, 0, 0.3));\n",
              "      fill: #FFFFFF;\n",
              "    }\n",
              "  </style>\n",
              "\n",
              "    <script>\n",
              "      const buttonEl =\n",
              "        document.querySelector('#df-1f0bb4a3-8c68-4f77-9ae0-9d5455b247d6 button.colab-df-convert');\n",
              "      buttonEl.style.display =\n",
              "        google.colab.kernel.accessAllowed ? 'block' : 'none';\n",
              "\n",
              "      async function convertToInteractive(key) {\n",
              "        const element = document.querySelector('#df-1f0bb4a3-8c68-4f77-9ae0-9d5455b247d6');\n",
              "        const dataTable =\n",
              "          await google.colab.kernel.invokeFunction('convertToInteractive',\n",
              "                                                    [key], {});\n",
              "        if (!dataTable) return;\n",
              "\n",
              "        const docLinkHtml = 'Like what you see? Visit the ' +\n",
              "          '<a target=\"_blank\" href=https://colab.research.google.com/notebooks/data_table.ipynb>data table notebook</a>'\n",
              "          + ' to learn more about interactive tables.';\n",
              "        element.innerHTML = '';\n",
              "        dataTable['output_type'] = 'display_data';\n",
              "        await google.colab.output.renderOutput(dataTable, element);\n",
              "        const docLink = document.createElement('div');\n",
              "        docLink.innerHTML = docLinkHtml;\n",
              "        element.appendChild(docLink);\n",
              "      }\n",
              "    </script>\n",
              "  </div>\n",
              "\n",
              "\n",
              "<div id=\"df-9a29ab17-c8bf-49ff-978c-012b73fc1994\">\n",
              "  <button class=\"colab-df-quickchart\" onclick=\"quickchart('df-9a29ab17-c8bf-49ff-978c-012b73fc1994')\"\n",
              "            title=\"Suggest charts\"\n",
              "            style=\"display:none;\">\n",
              "\n",
              "<svg xmlns=\"http://www.w3.org/2000/svg\" height=\"24px\"viewBox=\"0 0 24 24\"\n",
              "     width=\"24px\">\n",
              "    <g>\n",
              "        <path d=\"M19 3H5c-1.1 0-2 .9-2 2v14c0 1.1.9 2 2 2h14c1.1 0 2-.9 2-2V5c0-1.1-.9-2-2-2zM9 17H7v-7h2v7zm4 0h-2V7h2v10zm4 0h-2v-4h2v4z\"/>\n",
              "    </g>\n",
              "</svg>\n",
              "  </button>\n",
              "\n",
              "<style>\n",
              "  .colab-df-quickchart {\n",
              "      --bg-color: #E8F0FE;\n",
              "      --fill-color: #1967D2;\n",
              "      --hover-bg-color: #E2EBFA;\n",
              "      --hover-fill-color: #174EA6;\n",
              "      --disabled-fill-color: #AAA;\n",
              "      --disabled-bg-color: #DDD;\n",
              "  }\n",
              "\n",
              "  [theme=dark] .colab-df-quickchart {\n",
              "      --bg-color: #3B4455;\n",
              "      --fill-color: #D2E3FC;\n",
              "      --hover-bg-color: #434B5C;\n",
              "      --hover-fill-color: #FFFFFF;\n",
              "      --disabled-bg-color: #3B4455;\n",
              "      --disabled-fill-color: #666;\n",
              "  }\n",
              "\n",
              "  .colab-df-quickchart {\n",
              "    background-color: var(--bg-color);\n",
              "    border: none;\n",
              "    border-radius: 50%;\n",
              "    cursor: pointer;\n",
              "    display: none;\n",
              "    fill: var(--fill-color);\n",
              "    height: 32px;\n",
              "    padding: 0;\n",
              "    width: 32px;\n",
              "  }\n",
              "\n",
              "  .colab-df-quickchart:hover {\n",
              "    background-color: var(--hover-bg-color);\n",
              "    box-shadow: 0 1px 2px rgba(60, 64, 67, 0.3), 0 1px 3px 1px rgba(60, 64, 67, 0.15);\n",
              "    fill: var(--button-hover-fill-color);\n",
              "  }\n",
              "\n",
              "  .colab-df-quickchart-complete:disabled,\n",
              "  .colab-df-quickchart-complete:disabled:hover {\n",
              "    background-color: var(--disabled-bg-color);\n",
              "    fill: var(--disabled-fill-color);\n",
              "    box-shadow: none;\n",
              "  }\n",
              "\n",
              "  .colab-df-spinner {\n",
              "    border: 2px solid var(--fill-color);\n",
              "    border-color: transparent;\n",
              "    border-bottom-color: var(--fill-color);\n",
              "    animation:\n",
              "      spin 1s steps(1) infinite;\n",
              "  }\n",
              "\n",
              "  @keyframes spin {\n",
              "    0% {\n",
              "      border-color: transparent;\n",
              "      border-bottom-color: var(--fill-color);\n",
              "      border-left-color: var(--fill-color);\n",
              "    }\n",
              "    20% {\n",
              "      border-color: transparent;\n",
              "      border-left-color: var(--fill-color);\n",
              "      border-top-color: var(--fill-color);\n",
              "    }\n",
              "    30% {\n",
              "      border-color: transparent;\n",
              "      border-left-color: var(--fill-color);\n",
              "      border-top-color: var(--fill-color);\n",
              "      border-right-color: var(--fill-color);\n",
              "    }\n",
              "    40% {\n",
              "      border-color: transparent;\n",
              "      border-right-color: var(--fill-color);\n",
              "      border-top-color: var(--fill-color);\n",
              "    }\n",
              "    60% {\n",
              "      border-color: transparent;\n",
              "      border-right-color: var(--fill-color);\n",
              "    }\n",
              "    80% {\n",
              "      border-color: transparent;\n",
              "      border-right-color: var(--fill-color);\n",
              "      border-bottom-color: var(--fill-color);\n",
              "    }\n",
              "    90% {\n",
              "      border-color: transparent;\n",
              "      border-bottom-color: var(--fill-color);\n",
              "    }\n",
              "  }\n",
              "</style>\n",
              "\n",
              "  <script>\n",
              "    async function quickchart(key) {\n",
              "      const quickchartButtonEl =\n",
              "        document.querySelector('#' + key + ' button');\n",
              "      quickchartButtonEl.disabled = true;  // To prevent multiple clicks.\n",
              "      quickchartButtonEl.classList.add('colab-df-spinner');\n",
              "      try {\n",
              "        const charts = await google.colab.kernel.invokeFunction(\n",
              "            'suggestCharts', [key], {});\n",
              "      } catch (error) {\n",
              "        console.error('Error during call to suggestCharts:', error);\n",
              "      }\n",
              "      quickchartButtonEl.classList.remove('colab-df-spinner');\n",
              "      quickchartButtonEl.classList.add('colab-df-quickchart-complete');\n",
              "    }\n",
              "    (() => {\n",
              "      let quickchartButtonEl =\n",
              "        document.querySelector('#df-9a29ab17-c8bf-49ff-978c-012b73fc1994 button');\n",
              "      quickchartButtonEl.style.display =\n",
              "        google.colab.kernel.accessAllowed ? 'block' : 'none';\n",
              "    })();\n",
              "  </script>\n",
              "</div>\n",
              "    </div>\n",
              "  </div>\n"
            ]
          },
          "metadata": {},
          "execution_count": 34
        }
      ]
    },
    {
      "cell_type": "code",
      "source": [
        "pip install pymorphy2"
      ],
      "metadata": {
        "id": "fGzUhlftrXTn",
        "colab": {
          "base_uri": "https://localhost:8080/"
        },
        "outputId": "02e60efa-a6c1-48b3-9048-0c302b30c82a"
      },
      "execution_count": 36,
      "outputs": [
        {
          "output_type": "stream",
          "name": "stdout",
          "text": [
            "Requirement already satisfied: pymorphy2 in /usr/local/lib/python3.10/dist-packages (0.9.1)\n",
            "Requirement already satisfied: dawg-python>=0.7.1 in /usr/local/lib/python3.10/dist-packages (from pymorphy2) (0.7.2)\n",
            "Requirement already satisfied: pymorphy2-dicts-ru<3.0,>=2.4 in /usr/local/lib/python3.10/dist-packages (from pymorphy2) (2.4.417127.4579844)\n",
            "Requirement already satisfied: docopt>=0.6 in /usr/local/lib/python3.10/dist-packages (from pymorphy2) (0.6.2)\n"
          ]
        }
      ]
    },
    {
      "cell_type": "code",
      "source": [
        "from pymorphy2 import MorphAnalyzer\n",
        "from razdel import tokenize\n",
        "morph = MorphAnalyzer()"
      ],
      "metadata": {
        "id": "hYo53tF5reiz"
      },
      "execution_count": 37,
      "outputs": []
    },
    {
      "cell_type": "markdown",
      "source": [
        "2. Создайте новый столбец c названием Morph_right в этом датафрейме, в котором будет указана часть речи первого слова из правого контекста (используйте библиотеки Natasha и PyMorphy2). Не обращайте внимания на ошибки анализатора. (Вы можете отклоняться от шагов, описанных ниже (как в этом задании, так и в других), они просто призваны помочь вам.)\n",
        "\n",
        "Вам нужно:\n",
        "1. пройтись по каждой ячейке из столбца Right context,\n",
        "2. разбить текст на токены (имейте в виду, что контекста может и не быть, при этом в результирующий список все равно нужно добавить информацию об этом),\n",
        "3. вытащить часть речи из морфологического разбора первого слова, сделанного с помощью PyMorphy2, и\n",
        "4. последовательно положить часть речи для каждого слова в список, который станет новой колонкой в таблице.\n",
        "\n",
        "Длина этого списка должна быть равна количеству строк в таблице, что довольно логично, так как иначе части речи неверно соотнесутся с их родными строками."
      ],
      "metadata": {
        "id": "EN0FPsu81i-P"
      }
    },
    {
      "cell_type": "code",
      "source": [
        "pos_right = []\n",
        "for index, row in data.iterrows():\n",
        "    try:\n",
        "      context_word = list(list(tokenize(row['Right context']))[0])[2]\n",
        "      context_pos = str(morph.parse(context_word)[0].tag.POS)\n",
        "    except:\n",
        "      context_pos = \"No context.\"\n",
        "    pos_right.append(context_pos)\n",
        "print(pos_right)"
      ],
      "metadata": {
        "colab": {
          "base_uri": "https://localhost:8080/"
        },
        "id": "3UdrzW4E78ul",
        "outputId": "73432cae-cab9-4f57-cc78-71b6264b7e69"
      },
      "execution_count": 38,
      "outputs": [
        {
          "output_type": "stream",
          "name": "stdout",
          "text": [
            "['NOUN', 'VERB', 'PRTF', 'NOUN', 'CONJ', 'CONJ', 'NOUN', 'NOUN', 'VERB', 'ADVB', 'ADJF', 'No context.', 'No context.', 'ADJF', 'No context.', 'NPRO', 'CONJ', 'CONJ', 'ADJF', 'VERB', 'VERB', 'No context.', 'No context.', 'ADVB', 'CONJ', 'VERB', 'PREP', 'ADVB', 'No context.', 'CONJ', 'No context.', 'CONJ', 'CONJ', 'No context.', 'CONJ', 'No context.', 'CONJ', 'No context.', 'No context.', 'ADJF', 'CONJ', 'No context.', 'CONJ', 'NPRO', 'No context.', 'NOUN', 'NOUN', 'No context.', 'NOUN', 'CONJ', 'ADJF', 'No context.', 'PREP', 'ADJF', 'PREP', 'ADJF', 'No context.', 'NOUN', 'No context.', 'CONJ', 'CONJ', 'NOUN', 'VERB', 'CONJ', 'ADJS', 'PRCL', 'No context.', 'PRTF', 'No context.', 'ADJF', 'ADVB', 'No context.', 'PREP', 'VERB', 'No context.', 'VERB', 'PREP', 'ADJF', 'No context.', 'CONJ', 'ADVB', 'PREP', 'NOUN', 'VERB', 'No context.', 'PRTF', 'CONJ', 'PRCL', 'No context.', 'VERB', 'CONJ', 'NPRO', 'NPRO', 'PREP', 'No context.', 'VERB', 'No context.', 'NOUN', 'NOUN', 'CONJ', 'PREP', 'ADJF', 'ADVB', 'VERB', 'No context.', 'NOUN', 'No context.', 'ADVB', 'CONJ', 'ADJF', 'VERB', 'NOUN', 'CONJ', 'No context.', 'CONJ', 'PREP', 'CONJ', 'ADJF', 'PRTF', 'CONJ', 'PREP', 'VERB', 'PRTF', 'NOUN', 'PREP', 'ADJF', 'CONJ', 'No context.', 'VERB', 'CONJ', 'VERB', 'INFN', 'NOUN', 'ADJF', 'No context.', 'VERB', 'No context.', 'No context.', 'NOUN', 'No context.', 'ADJF', 'VERB', 'NOUN', 'No context.', 'No context.', 'PREP', 'CONJ', 'CONJ', 'ADJF', 'NOUN', 'ADJF', 'No context.', 'No context.', 'PREP', 'CONJ', 'VERB', 'ADJF', 'CONJ', 'VERB', 'CONJ', 'GRND', 'CONJ', 'ADVB', 'No context.', 'GRND', 'NOUN', 'CONJ', 'VERB', 'NOUN', 'VERB', 'ADJF', 'No context.', 'CONJ', 'NOUN', 'ADVB', 'No context.', 'NOUN', 'No context.', 'No context.', 'ADJF', 'ADJF', 'ADVB', 'VERB', 'PREP', 'NOUN', 'CONJ', 'CONJ', 'ADJF', 'No context.', 'NOUN', 'CONJ', 'PREP', 'No context.', 'NOUN', 'PRTS', 'CONJ', 'VERB', 'VERB', 'No context.', 'No context.', 'CONJ', 'ADVB', 'NOUN', 'VERB', 'NOUN', 'VERB', 'No context.', 'NOUN', 'VERB', 'CONJ', 'No context.', 'VERB', 'No context.', 'No context.', 'No context.', 'No context.', 'VERB', 'ADJF', 'CONJ', 'CONJ', 'PRCL', 'CONJ', 'NOUN', 'ADJF', 'NOUN', 'VERB', 'ADJF', 'NOUN', 'No context.', 'No context.', 'No context.', 'PREP', 'No context.', 'CONJ', 'NUMR']\n"
          ]
        }
      ]
    },
    {
      "cell_type": "markdown",
      "source": [
        "5. Добавьте получившийся список в таблицу как новую колонку с названием Morph_right. Посмотрите на получившийся датасет."
      ],
      "metadata": {
        "id": "q1XUsO4Evzii"
      }
    },
    {
      "cell_type": "code",
      "source": [
        "data['Morph_right'] = pos_right\n",
        "data.head()"
      ],
      "metadata": {
        "id": "ib6L_TUV8uUq",
        "colab": {
          "base_uri": "https://localhost:8080/",
          "height": 206
        },
        "outputId": "08f31971-14c5-4916-b93c-f3b83179150b"
      },
      "execution_count": 40,
      "outputs": [
        {
          "output_type": "execute_result",
          "data": {
            "text/plain": [
              "       Center                                      Right context  \\\n",
              "0  столешницы                      лепестки (у него их целых две   \n",
              "1  столешницу                         покрывали белые простыни.    \n",
              "2  столешницу  двигающимися стаканами, сухарным и рафинадным ...   \n",
              "3  столешницу                                         фартуком.    \n",
              "4  столешницу          и потом, точно очнувшись, потребовал злым   \n",
              "\n",
              "              Author                                             Header  \\\n",
              "0       Юлия Пешкова                                  Ярмарка тщеславия   \n",
              "1        Олег Павлов  Карагандинские девятины, или Повесть последних...   \n",
              "2    Б. Л. Пастернак                                     Воздушные пути   \n",
              "3  Сергей Бурлаченко                                        Сорвиголова   \n",
              "4  Сергей Бурлаченко                                        Сорвиголова   \n",
              "\n",
              "  Created      Type Morph_right  \n",
              "0    2002  репортаж        NOUN  \n",
              "1    2001   повесть        VERB  \n",
              "2    1924   повесть        PRTF  \n",
              "3    2019   повесть        NOUN  \n",
              "4    2019   повесть        CONJ  "
            ],
            "text/html": [
              "\n",
              "  <div id=\"df-9b1875d3-a318-4aa3-b479-c97b86b8738c\" class=\"colab-df-container\">\n",
              "    <div>\n",
              "<style scoped>\n",
              "    .dataframe tbody tr th:only-of-type {\n",
              "        vertical-align: middle;\n",
              "    }\n",
              "\n",
              "    .dataframe tbody tr th {\n",
              "        vertical-align: top;\n",
              "    }\n",
              "\n",
              "    .dataframe thead th {\n",
              "        text-align: right;\n",
              "    }\n",
              "</style>\n",
              "<table border=\"1\" class=\"dataframe\">\n",
              "  <thead>\n",
              "    <tr style=\"text-align: right;\">\n",
              "      <th></th>\n",
              "      <th>Center</th>\n",
              "      <th>Right context</th>\n",
              "      <th>Author</th>\n",
              "      <th>Header</th>\n",
              "      <th>Created</th>\n",
              "      <th>Type</th>\n",
              "      <th>Morph_right</th>\n",
              "    </tr>\n",
              "  </thead>\n",
              "  <tbody>\n",
              "    <tr>\n",
              "      <th>0</th>\n",
              "      <td>столешницы</td>\n",
              "      <td>лепестки (у него их целых две</td>\n",
              "      <td>Юлия Пешкова</td>\n",
              "      <td>Ярмарка тщеславия</td>\n",
              "      <td>2002</td>\n",
              "      <td>репортаж</td>\n",
              "      <td>NOUN</td>\n",
              "    </tr>\n",
              "    <tr>\n",
              "      <th>1</th>\n",
              "      <td>столешницу</td>\n",
              "      <td>покрывали белые простыни.</td>\n",
              "      <td>Олег Павлов</td>\n",
              "      <td>Карагандинские девятины, или Повесть последних...</td>\n",
              "      <td>2001</td>\n",
              "      <td>повесть</td>\n",
              "      <td>VERB</td>\n",
              "    </tr>\n",
              "    <tr>\n",
              "      <th>2</th>\n",
              "      <td>столешницу</td>\n",
              "      <td>двигающимися стаканами, сухарным и рафинадным ...</td>\n",
              "      <td>Б. Л. Пастернак</td>\n",
              "      <td>Воздушные пути</td>\n",
              "      <td>1924</td>\n",
              "      <td>повесть</td>\n",
              "      <td>PRTF</td>\n",
              "    </tr>\n",
              "    <tr>\n",
              "      <th>3</th>\n",
              "      <td>столешницу</td>\n",
              "      <td>фартуком.</td>\n",
              "      <td>Сергей Бурлаченко</td>\n",
              "      <td>Сорвиголова</td>\n",
              "      <td>2019</td>\n",
              "      <td>повесть</td>\n",
              "      <td>NOUN</td>\n",
              "    </tr>\n",
              "    <tr>\n",
              "      <th>4</th>\n",
              "      <td>столешницу</td>\n",
              "      <td>и потом, точно очнувшись, потребовал злым</td>\n",
              "      <td>Сергей Бурлаченко</td>\n",
              "      <td>Сорвиголова</td>\n",
              "      <td>2019</td>\n",
              "      <td>повесть</td>\n",
              "      <td>CONJ</td>\n",
              "    </tr>\n",
              "  </tbody>\n",
              "</table>\n",
              "</div>\n",
              "    <div class=\"colab-df-buttons\">\n",
              "\n",
              "  <div class=\"colab-df-container\">\n",
              "    <button class=\"colab-df-convert\" onclick=\"convertToInteractive('df-9b1875d3-a318-4aa3-b479-c97b86b8738c')\"\n",
              "            title=\"Convert this dataframe to an interactive table.\"\n",
              "            style=\"display:none;\">\n",
              "\n",
              "  <svg xmlns=\"http://www.w3.org/2000/svg\" height=\"24px\" viewBox=\"0 -960 960 960\">\n",
              "    <path d=\"M120-120v-720h720v720H120Zm60-500h600v-160H180v160Zm220 220h160v-160H400v160Zm0 220h160v-160H400v160ZM180-400h160v-160H180v160Zm440 0h160v-160H620v160ZM180-180h160v-160H180v160Zm440 0h160v-160H620v160Z\"/>\n",
              "  </svg>\n",
              "    </button>\n",
              "\n",
              "  <style>\n",
              "    .colab-df-container {\n",
              "      display:flex;\n",
              "      gap: 12px;\n",
              "    }\n",
              "\n",
              "    .colab-df-convert {\n",
              "      background-color: #E8F0FE;\n",
              "      border: none;\n",
              "      border-radius: 50%;\n",
              "      cursor: pointer;\n",
              "      display: none;\n",
              "      fill: #1967D2;\n",
              "      height: 32px;\n",
              "      padding: 0 0 0 0;\n",
              "      width: 32px;\n",
              "    }\n",
              "\n",
              "    .colab-df-convert:hover {\n",
              "      background-color: #E2EBFA;\n",
              "      box-shadow: 0px 1px 2px rgba(60, 64, 67, 0.3), 0px 1px 3px 1px rgba(60, 64, 67, 0.15);\n",
              "      fill: #174EA6;\n",
              "    }\n",
              "\n",
              "    .colab-df-buttons div {\n",
              "      margin-bottom: 4px;\n",
              "    }\n",
              "\n",
              "    [theme=dark] .colab-df-convert {\n",
              "      background-color: #3B4455;\n",
              "      fill: #D2E3FC;\n",
              "    }\n",
              "\n",
              "    [theme=dark] .colab-df-convert:hover {\n",
              "      background-color: #434B5C;\n",
              "      box-shadow: 0px 1px 3px 1px rgba(0, 0, 0, 0.15);\n",
              "      filter: drop-shadow(0px 1px 2px rgba(0, 0, 0, 0.3));\n",
              "      fill: #FFFFFF;\n",
              "    }\n",
              "  </style>\n",
              "\n",
              "    <script>\n",
              "      const buttonEl =\n",
              "        document.querySelector('#df-9b1875d3-a318-4aa3-b479-c97b86b8738c button.colab-df-convert');\n",
              "      buttonEl.style.display =\n",
              "        google.colab.kernel.accessAllowed ? 'block' : 'none';\n",
              "\n",
              "      async function convertToInteractive(key) {\n",
              "        const element = document.querySelector('#df-9b1875d3-a318-4aa3-b479-c97b86b8738c');\n",
              "        const dataTable =\n",
              "          await google.colab.kernel.invokeFunction('convertToInteractive',\n",
              "                                                    [key], {});\n",
              "        if (!dataTable) return;\n",
              "\n",
              "        const docLinkHtml = 'Like what you see? Visit the ' +\n",
              "          '<a target=\"_blank\" href=https://colab.research.google.com/notebooks/data_table.ipynb>data table notebook</a>'\n",
              "          + ' to learn more about interactive tables.';\n",
              "        element.innerHTML = '';\n",
              "        dataTable['output_type'] = 'display_data';\n",
              "        await google.colab.output.renderOutput(dataTable, element);\n",
              "        const docLink = document.createElement('div');\n",
              "        docLink.innerHTML = docLinkHtml;\n",
              "        element.appendChild(docLink);\n",
              "      }\n",
              "    </script>\n",
              "  </div>\n",
              "\n",
              "\n",
              "<div id=\"df-0e3034e1-b966-4cda-bb44-2b7e589d943a\">\n",
              "  <button class=\"colab-df-quickchart\" onclick=\"quickchart('df-0e3034e1-b966-4cda-bb44-2b7e589d943a')\"\n",
              "            title=\"Suggest charts\"\n",
              "            style=\"display:none;\">\n",
              "\n",
              "<svg xmlns=\"http://www.w3.org/2000/svg\" height=\"24px\"viewBox=\"0 0 24 24\"\n",
              "     width=\"24px\">\n",
              "    <g>\n",
              "        <path d=\"M19 3H5c-1.1 0-2 .9-2 2v14c0 1.1.9 2 2 2h14c1.1 0 2-.9 2-2V5c0-1.1-.9-2-2-2zM9 17H7v-7h2v7zm4 0h-2V7h2v10zm4 0h-2v-4h2v4z\"/>\n",
              "    </g>\n",
              "</svg>\n",
              "  </button>\n",
              "\n",
              "<style>\n",
              "  .colab-df-quickchart {\n",
              "      --bg-color: #E8F0FE;\n",
              "      --fill-color: #1967D2;\n",
              "      --hover-bg-color: #E2EBFA;\n",
              "      --hover-fill-color: #174EA6;\n",
              "      --disabled-fill-color: #AAA;\n",
              "      --disabled-bg-color: #DDD;\n",
              "  }\n",
              "\n",
              "  [theme=dark] .colab-df-quickchart {\n",
              "      --bg-color: #3B4455;\n",
              "      --fill-color: #D2E3FC;\n",
              "      --hover-bg-color: #434B5C;\n",
              "      --hover-fill-color: #FFFFFF;\n",
              "      --disabled-bg-color: #3B4455;\n",
              "      --disabled-fill-color: #666;\n",
              "  }\n",
              "\n",
              "  .colab-df-quickchart {\n",
              "    background-color: var(--bg-color);\n",
              "    border: none;\n",
              "    border-radius: 50%;\n",
              "    cursor: pointer;\n",
              "    display: none;\n",
              "    fill: var(--fill-color);\n",
              "    height: 32px;\n",
              "    padding: 0;\n",
              "    width: 32px;\n",
              "  }\n",
              "\n",
              "  .colab-df-quickchart:hover {\n",
              "    background-color: var(--hover-bg-color);\n",
              "    box-shadow: 0 1px 2px rgba(60, 64, 67, 0.3), 0 1px 3px 1px rgba(60, 64, 67, 0.15);\n",
              "    fill: var(--button-hover-fill-color);\n",
              "  }\n",
              "\n",
              "  .colab-df-quickchart-complete:disabled,\n",
              "  .colab-df-quickchart-complete:disabled:hover {\n",
              "    background-color: var(--disabled-bg-color);\n",
              "    fill: var(--disabled-fill-color);\n",
              "    box-shadow: none;\n",
              "  }\n",
              "\n",
              "  .colab-df-spinner {\n",
              "    border: 2px solid var(--fill-color);\n",
              "    border-color: transparent;\n",
              "    border-bottom-color: var(--fill-color);\n",
              "    animation:\n",
              "      spin 1s steps(1) infinite;\n",
              "  }\n",
              "\n",
              "  @keyframes spin {\n",
              "    0% {\n",
              "      border-color: transparent;\n",
              "      border-bottom-color: var(--fill-color);\n",
              "      border-left-color: var(--fill-color);\n",
              "    }\n",
              "    20% {\n",
              "      border-color: transparent;\n",
              "      border-left-color: var(--fill-color);\n",
              "      border-top-color: var(--fill-color);\n",
              "    }\n",
              "    30% {\n",
              "      border-color: transparent;\n",
              "      border-left-color: var(--fill-color);\n",
              "      border-top-color: var(--fill-color);\n",
              "      border-right-color: var(--fill-color);\n",
              "    }\n",
              "    40% {\n",
              "      border-color: transparent;\n",
              "      border-right-color: var(--fill-color);\n",
              "      border-top-color: var(--fill-color);\n",
              "    }\n",
              "    60% {\n",
              "      border-color: transparent;\n",
              "      border-right-color: var(--fill-color);\n",
              "    }\n",
              "    80% {\n",
              "      border-color: transparent;\n",
              "      border-right-color: var(--fill-color);\n",
              "      border-bottom-color: var(--fill-color);\n",
              "    }\n",
              "    90% {\n",
              "      border-color: transparent;\n",
              "      border-bottom-color: var(--fill-color);\n",
              "    }\n",
              "  }\n",
              "</style>\n",
              "\n",
              "  <script>\n",
              "    async function quickchart(key) {\n",
              "      const quickchartButtonEl =\n",
              "        document.querySelector('#' + key + ' button');\n",
              "      quickchartButtonEl.disabled = true;  // To prevent multiple clicks.\n",
              "      quickchartButtonEl.classList.add('colab-df-spinner');\n",
              "      try {\n",
              "        const charts = await google.colab.kernel.invokeFunction(\n",
              "            'suggestCharts', [key], {});\n",
              "      } catch (error) {\n",
              "        console.error('Error during call to suggestCharts:', error);\n",
              "      }\n",
              "      quickchartButtonEl.classList.remove('colab-df-spinner');\n",
              "      quickchartButtonEl.classList.add('colab-df-quickchart-complete');\n",
              "    }\n",
              "    (() => {\n",
              "      let quickchartButtonEl =\n",
              "        document.querySelector('#df-0e3034e1-b966-4cda-bb44-2b7e589d943a button');\n",
              "      quickchartButtonEl.style.display =\n",
              "        google.colab.kernel.accessAllowed ? 'block' : 'none';\n",
              "    })();\n",
              "  </script>\n",
              "</div>\n",
              "    </div>\n",
              "  </div>\n"
            ]
          },
          "metadata": {},
          "execution_count": 40
        }
      ]
    },
    {
      "cell_type": "markdown",
      "source": [
        "6. Бегло пробегитесь по результату - бросились ли вам какие-то ошибки в глаза? С чем могут быть связаны эти ошибки? (Объясните своими словами в паре предложений.)\n",
        "\n",
        "**Ваш ответ здесь.**\n",
        "\n",
        "3. Создайте ещё один столбец с названием Name_parsed, в котором ФИО каждого автора будeт распаршено на свои составляющие в виде {'first': 'Александр', 'last': 'Пушкин', 'middle': 'Сергеевич'} (используйте библиотеку Natasha и её NamesExtractor). Не обращайте внимания на ошибки анализатора.\n",
        "\n",
        "(Не забудьте вначале установить библиотеку Natasha.)\n",
        "\n",
        "(Нижеследующая ячейка необходима для работы с NER в библиотеке Natasha.)"
      ],
      "metadata": {
        "id": "VAtx_iwe9w9N"
      }
    },
    {
      "cell_type": "code",
      "source": [
        "from natasha import (\n",
        "  Segmenter,\n",
        "\n",
        "  NewsEmbedding,\n",
        "  NewsMorphTagger,\n",
        "  NewsSyntaxParser,\n",
        "  NewsNERTagger,\n",
        "  MorphVocab,\n",
        "  PER,\n",
        "  NamesExtractor,\n",
        "\n",
        "  Doc\n",
        ")\n",
        "\n",
        "segmenter = Segmenter()\n",
        "# Natasha обрабатывает текст на нескольких уровнях для достижения максимально точного результата,\n",
        "# поэтому каждый раз необходимо инициализировать морфологический и синтаксический анализаторы\n",
        "emb = NewsEmbedding() # создает векторное представление или эмбеддинг\n",
        "morph_tagger = NewsMorphTagger(emb) # анализирует морфологию\n",
        "syntax_parser = NewsSyntaxParser(emb) # анализирует синтаксис\n",
        "ner_tagger = NewsNERTagger(emb) # работает с именованными сущностями\n",
        "morph_vocab = MorphVocab()\n",
        "names_extractor = NamesExtractor(morph_vocab) # извлекает имена в требуемом нам формате"
      ],
      "metadata": {
        "id": "Nn8V1ybuA-9_"
      },
      "execution_count": null,
      "outputs": []
    },
    {
      "cell_type": "markdown",
      "source": [
        "Для этого задания вам нужно:\n",
        "\n",
        "1. снова пройтись по каждой ячейке в таблице из столбца Author,\n",
        "2. выполнить для каждой ячейки все предварительные операции для подготовки данных для извлечения именованных сущностей (закоменченный код ниже, он всегда один и тот же при работе с Natasha),  \n",
        "3. извлечь именованные сущности для каждой ячейки, проходясь по каждому спану в `doc.spans` и используя метод `.fact.as_dict` (после закомменченного кода), и добавить их в список. Вам поможет `[_.fact.as_dict for _ in doc.spans if _.type == PER]`, который как раз возвращает список всех людей в ячейке.\n",
        "\n",
        "Обратите внимание, что не в каждой строке есть автор. В некоторых ячейках указывается 'nan' (то есть None). Почему-то Python считает, что это float, поэтому нужно превратить это в строку и сравнить со строкой 'nan' при отфильтровывании ячеек. Также в некоторых ячейках указано 'коллективный' для народного творчества. Эти ячейки тоже нужно отфильтровать, так как в них не содержится именованных сущностей. При этом в результирующий список все равно надо добавить информацию о таких ячейках, чтобы индексы не сбились (длина результирующего списка должна совпадать с количеством строк в таблице, как и в предыдущем задании).\n",
        "\n"
      ],
      "metadata": {
        "id": "_EoemQP6zylX"
      }
    },
    {
      "cell_type": "code",
      "source": [
        "names = []\n",
        "for index, row in data.iterrows():\n",
        "  if str(row['Author']) == \"nan\" or row['Author'] == \"коллективный\":\n",
        "    names.append(\"Имени нет.\")\n",
        "  else:\n",
        "    doc = Doc(row['Author'])\n",
        "    doc.segment(segmenter)\n",
        "    doc.tag_morph(morph_tagger)\n",
        "    doc.parse_syntax(syntax_parser)\n",
        "    doc.tag_ner(ner_tagger)\n",
        "    for span in doc.spans:\n",
        "      span.normalize(morph_vocab)\n",
        "    for span in doc.spans:\n",
        "      if span.type == PER:\n",
        "        span.extract_fact(names_extractor)\n",
        "    names.append([_.fact.as_dict for _ in doc.spans if _.type == PER])"
      ],
      "metadata": {
        "id": "gAIL7UGAkDr9"
      },
      "execution_count": 44,
      "outputs": []
    },
    {
      "cell_type": "markdown",
      "source": [
        "4. Добавьте получившийся список в таблицу как новую колонку с названием Name_parsed. Посмотрите на получившийся датасет."
      ],
      "metadata": {
        "id": "FIM-gBLYIT0E"
      }
    },
    {
      "cell_type": "code",
      "source": [
        "data['Name_parsed'] = names"
      ],
      "metadata": {
        "id": "h4F6nY1yn7Pq"
      },
      "execution_count": null,
      "outputs": []
    },
    {
      "cell_type": "code",
      "source": [
        "data"
      ],
      "metadata": {
        "id": "V_Qg7q7RoMB0"
      },
      "execution_count": null,
      "outputs": []
    },
    {
      "cell_type": "markdown",
      "source": [
        "5. Прокомментируйте в паре предложений, насколько хорошо, на ваш взгляд, распознаватель именованных сущностей справился со своей задачей.\n",
        "\n",
        "**Ваш ответ здесь.**\n",
        "\n",
        "### Работа с отзывами\n",
        "\n",
        "1. Вам предлагается два датасета на выбор (вам надо выбрать только один): один содержит отзывы на парки Disneyland, а другой - отзывы на фильмы, выгруженные с сайта IMDB (датасеты взяты с очень крутого [сайта Kaggle](https://www.kaggle.com/), где можно найти множество хороших датасетов на всевозможные тематики для всевозможных задач). Работа с ними для этого задания будет отличаться совсем незначительно (пункт 4).\n",
        "\n",
        "**Датасет про Disneyland** (ДДатасет) содержит следующие колонки: Review_ID (ID ревьюера), Rating (его оценка), Year_Month (дата отзыва), Reviewer_Location (местоположение ревьюера), Review_Text (текст отзыва) и Branch (филиал Disneyland).\n",
        "\n",
        "**Датасет с отзывами на фильмы** (ФДатасет) содержит две колонки: review (отзыв), sentiment (тональность отзыва - негативный или положительный).\n",
        "\n",
        "Мы хотим проверить, насколько хорошо справляются оценочные словари с предсказанием тональности того или иного текста. Будем делать все по шагам - вначале лемматизируем текст, а потом посчитаем количество слов той или иной тональности в каждом отзыве. Поехали!\n",
        "\n",
        "2. Вне зависимтости от выбранного вами датасета, вам надо создать список, в который для каждого отзыва вам надо поместить его лемматизированную версию, из которой удалены стоп-слова и знаки препинания. Используйте инструменты из библиотеки NLTK.\n",
        "\n",
        "3. Затем вам надо создать колонку с названием Polarity, в которую будет помещаться тональность каждого отзыва (негативная или положительная). Используйте данные из предыдущего пункта. Для этого задания используйте списки слов разной тональности из библиотеки NLTK.\n",
        "\n",
        "4. Вам надо сравнить полученный вами результат с тем, что уже известно о тональности отзывов. Результатом этого пункта будет еще одна колонка в датасете с бинарными значениями: 1 - ваш результат для отзыва совпал с настоящей тональностью отзыва, 0 - ваш результат не совпал с настоящей тональностью отзыва.\n",
        "\n",
        "В **ДДатасете** вам надо сравнить результат с колонкой Rating, где дана оценка по пятибалльной шкале. Если оценка 4-5, мы считаем, что отзыв должен быть положительным. Если оценка 3 и ниже, то отзыв должен быть отрицательным.\n",
        "\n",
        "В **ФДатасете** вам надо сравнить результат с колонкой sentiment, в ней уже однозначно указано, какая тональность у отзыва на самом деле.\n",
        "\n",
        "5. В завершение вам надо подсчитать количество правильных угадываний (в процентах от общего числа) и сделать вывод о том, насколько хорошо ваша программа справилась с распознаванием тональности.\n",
        "\n",
        "Теперь давайте пойдем по порядку по пунктам!\n",
        "\n",
        "##### 1. **Чтение данных**\n",
        "\n",
        "Вам нужно прочитать данные из выбранного вами файла. При чтении ДДатасета добавьте параметр `encoding = 'Latin-1'`, так как чтение с кодировкой UTF-8 выдает ошибку. Для ДДатасета вам нужны только две колонки - Rating и Review_Text.\n",
        "\n",
        "Посмотрите, нормально ли считался датасет."
      ],
      "metadata": {
        "id": "YmW0sPcn_9SO"
      }
    },
    {
      "cell_type": "code",
      "source": [
        "colnames = ['Rating', 'Review_Text']\n",
        "data_d = pd.read_csv(\"DisneylandReviews (smallest).csv\", sep = ',', encoding = 'Latin-1', usecols = colnames)\n",
        "data_d.head()"
      ],
      "metadata": {
        "id": "ByG3SzYMJxdF",
        "colab": {
          "base_uri": "https://localhost:8080/",
          "height": 206
        },
        "outputId": "e1d5342f-bad2-4d83-9a45-c075a0e27f9d"
      },
      "execution_count": 63,
      "outputs": [
        {
          "output_type": "execute_result",
          "data": {
            "text/plain": [
              "   Rating                                        Review_Text\n",
              "0       4  If you've ever been to Disneyland anywhere you...\n",
              "1       4  Its been a while since d last time we visit HK...\n",
              "2       4  Thanks God it wasn   t too hot or too humid wh...\n",
              "3       4  HK Disneyland is a great compact park. Unfortu...\n",
              "4       4  the location is not in the city, took around 1..."
            ],
            "text/html": [
              "\n",
              "  <div id=\"df-673dc175-c427-4b41-bfe4-690338f2120f\" class=\"colab-df-container\">\n",
              "    <div>\n",
              "<style scoped>\n",
              "    .dataframe tbody tr th:only-of-type {\n",
              "        vertical-align: middle;\n",
              "    }\n",
              "\n",
              "    .dataframe tbody tr th {\n",
              "        vertical-align: top;\n",
              "    }\n",
              "\n",
              "    .dataframe thead th {\n",
              "        text-align: right;\n",
              "    }\n",
              "</style>\n",
              "<table border=\"1\" class=\"dataframe\">\n",
              "  <thead>\n",
              "    <tr style=\"text-align: right;\">\n",
              "      <th></th>\n",
              "      <th>Rating</th>\n",
              "      <th>Review_Text</th>\n",
              "    </tr>\n",
              "  </thead>\n",
              "  <tbody>\n",
              "    <tr>\n",
              "      <th>0</th>\n",
              "      <td>4</td>\n",
              "      <td>If you've ever been to Disneyland anywhere you...</td>\n",
              "    </tr>\n",
              "    <tr>\n",
              "      <th>1</th>\n",
              "      <td>4</td>\n",
              "      <td>Its been a while since d last time we visit HK...</td>\n",
              "    </tr>\n",
              "    <tr>\n",
              "      <th>2</th>\n",
              "      <td>4</td>\n",
              "      <td>Thanks God it wasn   t too hot or too humid wh...</td>\n",
              "    </tr>\n",
              "    <tr>\n",
              "      <th>3</th>\n",
              "      <td>4</td>\n",
              "      <td>HK Disneyland is a great compact park. Unfortu...</td>\n",
              "    </tr>\n",
              "    <tr>\n",
              "      <th>4</th>\n",
              "      <td>4</td>\n",
              "      <td>the location is not in the city, took around 1...</td>\n",
              "    </tr>\n",
              "  </tbody>\n",
              "</table>\n",
              "</div>\n",
              "    <div class=\"colab-df-buttons\">\n",
              "\n",
              "  <div class=\"colab-df-container\">\n",
              "    <button class=\"colab-df-convert\" onclick=\"convertToInteractive('df-673dc175-c427-4b41-bfe4-690338f2120f')\"\n",
              "            title=\"Convert this dataframe to an interactive table.\"\n",
              "            style=\"display:none;\">\n",
              "\n",
              "  <svg xmlns=\"http://www.w3.org/2000/svg\" height=\"24px\" viewBox=\"0 -960 960 960\">\n",
              "    <path d=\"M120-120v-720h720v720H120Zm60-500h600v-160H180v160Zm220 220h160v-160H400v160Zm0 220h160v-160H400v160ZM180-400h160v-160H180v160Zm440 0h160v-160H620v160ZM180-180h160v-160H180v160Zm440 0h160v-160H620v160Z\"/>\n",
              "  </svg>\n",
              "    </button>\n",
              "\n",
              "  <style>\n",
              "    .colab-df-container {\n",
              "      display:flex;\n",
              "      gap: 12px;\n",
              "    }\n",
              "\n",
              "    .colab-df-convert {\n",
              "      background-color: #E8F0FE;\n",
              "      border: none;\n",
              "      border-radius: 50%;\n",
              "      cursor: pointer;\n",
              "      display: none;\n",
              "      fill: #1967D2;\n",
              "      height: 32px;\n",
              "      padding: 0 0 0 0;\n",
              "      width: 32px;\n",
              "    }\n",
              "\n",
              "    .colab-df-convert:hover {\n",
              "      background-color: #E2EBFA;\n",
              "      box-shadow: 0px 1px 2px rgba(60, 64, 67, 0.3), 0px 1px 3px 1px rgba(60, 64, 67, 0.15);\n",
              "      fill: #174EA6;\n",
              "    }\n",
              "\n",
              "    .colab-df-buttons div {\n",
              "      margin-bottom: 4px;\n",
              "    }\n",
              "\n",
              "    [theme=dark] .colab-df-convert {\n",
              "      background-color: #3B4455;\n",
              "      fill: #D2E3FC;\n",
              "    }\n",
              "\n",
              "    [theme=dark] .colab-df-convert:hover {\n",
              "      background-color: #434B5C;\n",
              "      box-shadow: 0px 1px 3px 1px rgba(0, 0, 0, 0.15);\n",
              "      filter: drop-shadow(0px 1px 2px rgba(0, 0, 0, 0.3));\n",
              "      fill: #FFFFFF;\n",
              "    }\n",
              "  </style>\n",
              "\n",
              "    <script>\n",
              "      const buttonEl =\n",
              "        document.querySelector('#df-673dc175-c427-4b41-bfe4-690338f2120f button.colab-df-convert');\n",
              "      buttonEl.style.display =\n",
              "        google.colab.kernel.accessAllowed ? 'block' : 'none';\n",
              "\n",
              "      async function convertToInteractive(key) {\n",
              "        const element = document.querySelector('#df-673dc175-c427-4b41-bfe4-690338f2120f');\n",
              "        const dataTable =\n",
              "          await google.colab.kernel.invokeFunction('convertToInteractive',\n",
              "                                                    [key], {});\n",
              "        if (!dataTable) return;\n",
              "\n",
              "        const docLinkHtml = 'Like what you see? Visit the ' +\n",
              "          '<a target=\"_blank\" href=https://colab.research.google.com/notebooks/data_table.ipynb>data table notebook</a>'\n",
              "          + ' to learn more about interactive tables.';\n",
              "        element.innerHTML = '';\n",
              "        dataTable['output_type'] = 'display_data';\n",
              "        await google.colab.output.renderOutput(dataTable, element);\n",
              "        const docLink = document.createElement('div');\n",
              "        docLink.innerHTML = docLinkHtml;\n",
              "        element.appendChild(docLink);\n",
              "      }\n",
              "    </script>\n",
              "  </div>\n",
              "\n",
              "\n",
              "<div id=\"df-01eb8aa8-6622-4a35-97fc-3148a5a2530c\">\n",
              "  <button class=\"colab-df-quickchart\" onclick=\"quickchart('df-01eb8aa8-6622-4a35-97fc-3148a5a2530c')\"\n",
              "            title=\"Suggest charts\"\n",
              "            style=\"display:none;\">\n",
              "\n",
              "<svg xmlns=\"http://www.w3.org/2000/svg\" height=\"24px\"viewBox=\"0 0 24 24\"\n",
              "     width=\"24px\">\n",
              "    <g>\n",
              "        <path d=\"M19 3H5c-1.1 0-2 .9-2 2v14c0 1.1.9 2 2 2h14c1.1 0 2-.9 2-2V5c0-1.1-.9-2-2-2zM9 17H7v-7h2v7zm4 0h-2V7h2v10zm4 0h-2v-4h2v4z\"/>\n",
              "    </g>\n",
              "</svg>\n",
              "  </button>\n",
              "\n",
              "<style>\n",
              "  .colab-df-quickchart {\n",
              "      --bg-color: #E8F0FE;\n",
              "      --fill-color: #1967D2;\n",
              "      --hover-bg-color: #E2EBFA;\n",
              "      --hover-fill-color: #174EA6;\n",
              "      --disabled-fill-color: #AAA;\n",
              "      --disabled-bg-color: #DDD;\n",
              "  }\n",
              "\n",
              "  [theme=dark] .colab-df-quickchart {\n",
              "      --bg-color: #3B4455;\n",
              "      --fill-color: #D2E3FC;\n",
              "      --hover-bg-color: #434B5C;\n",
              "      --hover-fill-color: #FFFFFF;\n",
              "      --disabled-bg-color: #3B4455;\n",
              "      --disabled-fill-color: #666;\n",
              "  }\n",
              "\n",
              "  .colab-df-quickchart {\n",
              "    background-color: var(--bg-color);\n",
              "    border: none;\n",
              "    border-radius: 50%;\n",
              "    cursor: pointer;\n",
              "    display: none;\n",
              "    fill: var(--fill-color);\n",
              "    height: 32px;\n",
              "    padding: 0;\n",
              "    width: 32px;\n",
              "  }\n",
              "\n",
              "  .colab-df-quickchart:hover {\n",
              "    background-color: var(--hover-bg-color);\n",
              "    box-shadow: 0 1px 2px rgba(60, 64, 67, 0.3), 0 1px 3px 1px rgba(60, 64, 67, 0.15);\n",
              "    fill: var(--button-hover-fill-color);\n",
              "  }\n",
              "\n",
              "  .colab-df-quickchart-complete:disabled,\n",
              "  .colab-df-quickchart-complete:disabled:hover {\n",
              "    background-color: var(--disabled-bg-color);\n",
              "    fill: var(--disabled-fill-color);\n",
              "    box-shadow: none;\n",
              "  }\n",
              "\n",
              "  .colab-df-spinner {\n",
              "    border: 2px solid var(--fill-color);\n",
              "    border-color: transparent;\n",
              "    border-bottom-color: var(--fill-color);\n",
              "    animation:\n",
              "      spin 1s steps(1) infinite;\n",
              "  }\n",
              "\n",
              "  @keyframes spin {\n",
              "    0% {\n",
              "      border-color: transparent;\n",
              "      border-bottom-color: var(--fill-color);\n",
              "      border-left-color: var(--fill-color);\n",
              "    }\n",
              "    20% {\n",
              "      border-color: transparent;\n",
              "      border-left-color: var(--fill-color);\n",
              "      border-top-color: var(--fill-color);\n",
              "    }\n",
              "    30% {\n",
              "      border-color: transparent;\n",
              "      border-left-color: var(--fill-color);\n",
              "      border-top-color: var(--fill-color);\n",
              "      border-right-color: var(--fill-color);\n",
              "    }\n",
              "    40% {\n",
              "      border-color: transparent;\n",
              "      border-right-color: var(--fill-color);\n",
              "      border-top-color: var(--fill-color);\n",
              "    }\n",
              "    60% {\n",
              "      border-color: transparent;\n",
              "      border-right-color: var(--fill-color);\n",
              "    }\n",
              "    80% {\n",
              "      border-color: transparent;\n",
              "      border-right-color: var(--fill-color);\n",
              "      border-bottom-color: var(--fill-color);\n",
              "    }\n",
              "    90% {\n",
              "      border-color: transparent;\n",
              "      border-bottom-color: var(--fill-color);\n",
              "    }\n",
              "  }\n",
              "</style>\n",
              "\n",
              "  <script>\n",
              "    async function quickchart(key) {\n",
              "      const quickchartButtonEl =\n",
              "        document.querySelector('#' + key + ' button');\n",
              "      quickchartButtonEl.disabled = true;  // To prevent multiple clicks.\n",
              "      quickchartButtonEl.classList.add('colab-df-spinner');\n",
              "      try {\n",
              "        const charts = await google.colab.kernel.invokeFunction(\n",
              "            'suggestCharts', [key], {});\n",
              "      } catch (error) {\n",
              "        console.error('Error during call to suggestCharts:', error);\n",
              "      }\n",
              "      quickchartButtonEl.classList.remove('colab-df-spinner');\n",
              "      quickchartButtonEl.classList.add('colab-df-quickchart-complete');\n",
              "    }\n",
              "    (() => {\n",
              "      let quickchartButtonEl =\n",
              "        document.querySelector('#df-01eb8aa8-6622-4a35-97fc-3148a5a2530c button');\n",
              "      quickchartButtonEl.style.display =\n",
              "        google.colab.kernel.accessAllowed ? 'block' : 'none';\n",
              "    })();\n",
              "  </script>\n",
              "</div>\n",
              "    </div>\n",
              "  </div>\n"
            ]
          },
          "metadata": {},
          "execution_count": 63
        }
      ]
    },
    {
      "cell_type": "markdown",
      "source": [
        "Создайте список всех текстов отзывов."
      ],
      "metadata": {
        "id": "UBtr1g7B_lIf"
      }
    },
    {
      "cell_type": "code",
      "source": [
        "review_d = list(data_d['Review_Text'])\n",
        "print(review_d[:20])"
      ],
      "metadata": {
        "id": "lD137HtYtOid",
        "colab": {
          "base_uri": "https://localhost:8080/"
        },
        "outputId": "d9ca34f5-316d-48d9-8c03-8ae3d88d4819"
      },
      "execution_count": 64,
      "outputs": [
        {
          "output_type": "stream",
          "name": "stdout",
          "text": [
            "[\"If you've ever been to Disneyland anywhere you'll find Disneyland Hong Kong very similar in the layout when you walk into main street! It has a very familiar feel. One of the rides  its a Small World  is absolutely fabulous and worth doing. The day we visited was fairly hot and relatively busy but the queues moved fairly well. \", \"Its been a while since d last time we visit HK Disneyland .. Yet, this time we only stay in Tomorrowland .. AKA Marvel land!Now they have Iron Man Experience n d Newly open Ant Man n d Wasp!!Ironman .. Great feature n so Exciting, especially d whole scenery of HK (HK central area to Kowloon)!Antman .. Changed by previous Buzz lightyear! More or less d same, but I'm expecting to have something most!!However, my boys like it!!Space Mountain .. Turns into Star Wars!! This 1 is Great!!!For cast members (staffs) .. Felt bit MINUS point from before!!! Just dun feel like its a Disney brand!! Seems more local like Ocean Park or even worst!!They got no SMILING face, but just wanna u to enter n attraction n leave!!Hello this is supposed to be Happiest Place on Earth brand!! But, just really Dont feel it!!Bakery in Main Street now have more attractive delicacies n Disney theme sweets .. These are Good Points!!Last, they also have Starbucks now inside the theme park!!\", 'Thanks God it wasn   t too hot or too humid when I was visiting the park   otherwise it would be a big issue (there is not a lot of shade).I have arrived around 10:30am and left at 6pm. Unfortunately I didn   t last until evening parade, but 8.5 hours was too much for me.There is plenty to do and everyone will find something interesting for themselves to enjoy.It wasn   t extremely busy and the longest time I had to queue for certain attractions was 45 minutes (which is really not that bad).Although I had an amazing time, I felt a bit underwhelmed with choice of rides and attractions. The park itself is quite small (I was really expecting something grand   even the main castle which was closed by the way was quite small).The food options are good, few coffee shops (including Starbucks) and plenty of gift shops. There was no issue with toilets as they are everywhere.All together it was a great day out and I really enjoyed it.', 'HK Disneyland is a great compact park. Unfortunately there is quite a bit of maintenance work going on at present so a number of areas are closed off (including the famous castle) If you go midweek, it is not too crowded and certainly no where near as bus as LA Disneyland. We did notice on this visit that prices for food, drinks etc have really gone through the roof so be prepared to pay top dollar for snacks (and avoid the souvenir shops if you can) Regardless, kids will love it.', 'the location is not in the city, took around 1 hour from Kowlon, my kids like disneyland so much, everything is fine.   but its really crowded and hot in Hong Kong', \"Have been to Disney World, Disneyland Anaheim and Tokyo Disneyland but I feel that Disneyland Hong Kong is really too small to be called a Disneyland. It has way too few rides and attractions. Souvenirs, food and even entrance tickets are slightly more expensive than other Disneyland as well. Basically, this park is good only for small children and people who has never been to Disney. The food choices were acceptable, mostly fast food, and not too expensive. Bottled water, however, was VERY expensive but they do have water fountains around for you to refill your water bottles. The parade was pretty good. It was crowded not a problem but what was the problem was the people were just so rude, the pushing and shoving cutting in lines for the rides, gift shops, food stands was just to much to take. forget trying to see one of the shows its a free for all for seats, i don't see how Disney can let this happen, it was by far the worst managed Disney property.\", \"Great place! Your day will go by and you won't even know it. Obviously went there for my daughter and she absolutely loved it! Too bad the parade got canceled though.\", \"Think of it as an intro to Disney magic for the little ones. Almost all of the attractions can be completed in 1.5days.One drawback was the timing. For example, Disney's Storybook Theatre is closed Wed Thu for private events. Some restaurants close mid week Tue Thur as well. So best not to plan your visit during mid week.The biggest disappointment is the food at the Park. Even Maxim's is so so only. The only decent Restaurant is Main Street Corner Cafe and the Main Street Bakery. And do be prepared for the typical abrupt HongKong style service from the serving staff.\", 'Feel so let down with this place,the Disneyland train was fantastic until you get past the station,bad signage, terrible staff who just did not want to be there ,it was rainning and rides were not working could not find a map of place, over priced fun park. Disney characters only 2 seen under a cabana having photos with visitors queuing up in the rain. Dont waste your money. Walt Disney would be horrified, not enough eating places for the amount of people or rest rooms. Seems they are building something but who knows what. No atmosphere of fun and fantasy. ', \"I can go on talking about Disneyland. Whatever I say about it, is less. Disneyland is all about your childhood dreams come true. Starting from the Entrance, the environment, popcorn, the shows, everything. Even the MTR Trains and the station is specially designed. In my opinion one should by a Two Day Ticket to explore it well if you have time. Else few of the attractions may remain incomplete in one day. An online Two Day Ticket can save around HKD 100 in comparison to an on spot ticket.  Must NOT Miss  attractions include the Jungle River Cruise, Micky's Phillhar Magic (a 4D Show), The Lion King ShowIt is better to have some home work regarding the Show Timings so that you can maximise the number of shows you can cover. It is better to avoid Sundays or the public holidays to avoid rush.\", \"Disneyland never cease to amaze me! I've been to Disneyland florida and I thought I have exhausted the kid in me but nope! I still had so much fun in disneyland hong kong. 2 DL off my bucketlist and more to come!     \", 'We spent the day here with our grown kids and I have to admit we had a great time. It seems the kids never tire of Disney. There aren   t as many rides as the states Disney parks but they have some great ones no less. Do the haunted house, catch the lion king show, space mountain, and the iron man experience to list a few. They have lots of shops that you have to spend some money in of course. The kids will love the day!', 'We spend two days, the second day went early then went straight to the back of the park, no lineups for so children got to go on many rides, some twice in a row. This Disneyland is very suitable for young children ours were 7,6,5,4,3 and 1 so most of them could go on all the rides, it was disappointing the castle was closed no nightly fireworks. Would not like to go in the hot season.', \"It was indeed the happiest place on earth! My family had really fun and it made my daughter's birthday a memorable one!\", 'This place is HUGE! Definately need more than one day. We had 3 children aged 11, 9 & 6 and they loved it. A great variety of rides and attractions for all ages. Food options were fantastic with 3D models of what you were ordering. Staff were fantastic, very helpful. An awesome family experience. ', 'We brought tickets before we left and got 2 days for less than the price of 1. After visiting would advise everyone to look for an online deal not worth the walk up price. Castle was closed due to that area being refurbished and altered, weekday aprox no more than a 30 min wait for rides with most being less than that would not recommend weekends or holidays. As has been said like all Disney parks and theme parks in general food and drink is expensive .This is a small park and can easily be done in 1 day', 'Its huge , not enough to visit in one day. We did with 2 days pass ... all the scenes were amazing ... you were like in movies, fairytales, etc. At 8 pm, we have enjoyed lots with the character show on the street. Must Visit !!! ', \"Around   60 per person and if you want to eat or drink at any point it was cost you a small fortune. If you go on a week day like we did I assume like us you will wait around half an hour per ride. At the time we went the Disney castle was under construction.. it doesn't look like it will be finished soon. Fast track is free for everyone but single rider was a lot faster. An average day at an expensive place. \", 'It   s Disneyland! It just does not need reviewing!  Place speaks for itself.  However smaller than I expected.  Great experience', 'There is nothing more to say except that you become a child once again as you step inside Disneyland in HK!  Easy to go and come out with dedicated trams and subway stations.  Wait for the parade at sunset it is definitely worth waiting!']\n"
          ]
        }
      ]
    },
    {
      "cell_type": "markdown",
      "source": [
        "##### 2. **Лемматизация, удаление стоп-слов и знаков препинания**\n",
        "\n",
        "NLTK работает не так, как Natasha, поэтому нужно пройтись по каждому слову отдельно, чтобы его лемматизировать, то есть предложение нужно предварительно разбить на токены.\n",
        "\n"
      ],
      "metadata": {
        "id": "id1NHrd68C8T"
      }
    },
    {
      "cell_type": "code",
      "source": [
        "import nltk\n",
        "from nltk import pos_tag\n",
        "from nltk.stem import WordNetLemmatizer # импортируем лемматизатор\n",
        "from nltk.tokenize import word_tokenize # импортируем токенизатор\n",
        "from nltk.corpus import wordnet\n",
        "\n",
        "lemmatizer = WordNetLemmatizer()"
      ],
      "metadata": {
        "id": "AuZ6Yi5t_Iba"
      },
      "execution_count": 54,
      "outputs": []
    },
    {
      "cell_type": "code",
      "source": [
        "nltk.download('wordnet')\n",
        "nltk.download('punkt') # работа с пунктуацией, необходимо для токенизации\n",
        "nltk.download('averaged_perceptron_tagger') # необходимо для разметки частей речи"
      ],
      "metadata": {
        "id": "GUyeejbNBLfY",
        "colab": {
          "base_uri": "https://localhost:8080/"
        },
        "outputId": "f83bd53c-b0cf-4a03-8007-a2c6785bfa82"
      },
      "execution_count": 55,
      "outputs": [
        {
          "output_type": "stream",
          "name": "stderr",
          "text": [
            "[nltk_data] Downloading package wordnet to /root/nltk_data...\n",
            "[nltk_data] Downloading package punkt to /root/nltk_data...\n",
            "[nltk_data]   Unzipping tokenizers/punkt.zip.\n",
            "[nltk_data] Downloading package averaged_perceptron_tagger to\n",
            "[nltk_data]     /root/nltk_data...\n",
            "[nltk_data]   Unzipping taggers/averaged_perceptron_tagger.zip.\n"
          ]
        },
        {
          "output_type": "execute_result",
          "data": {
            "text/plain": [
              "True"
            ]
          },
          "metadata": {},
          "execution_count": 55
        }
      ]
    },
    {
      "cell_type": "code",
      "source": [
        "nltk.download(\"stopwords\") # загружаем список стоп-слов\n",
        "stops = list(set(nltk.corpus.stopwords.words(\"english\")))"
      ],
      "metadata": {
        "id": "a1wQwTpiBrdU",
        "colab": {
          "base_uri": "https://localhost:8080/"
        },
        "outputId": "6f81a0e1-289d-4367-f2ad-917973239d39"
      },
      "execution_count": 56,
      "outputs": [
        {
          "output_type": "stream",
          "name": "stderr",
          "text": [
            "[nltk_data] Downloading package stopwords to /root/nltk_data...\n",
            "[nltk_data]   Unzipping corpora/stopwords.zip.\n"
          ]
        }
      ]
    },
    {
      "cell_type": "markdown",
      "source": [
        "Импортируйте библиотеку, из которой можно достать строку со всеми знаками препинания, и сделайте из этой строки список."
      ],
      "metadata": {
        "id": "eVO3LvLadmil"
      }
    },
    {
      "cell_type": "code",
      "source": [
        "import string\n",
        "punct = list(string.punctuation)"
      ],
      "metadata": {
        "id": "tXZ68vsZBiMq"
      },
      "execution_count": 53,
      "outputs": []
    },
    {
      "cell_type": "markdown",
      "source": [
        "Еще одна особенность, которая отличает NLTK от Natasha, это необходимость снабжать лемматизатор данными о части речи слова, которое нужно лемматизировать.\n",
        "\n",
        "Кроме того, части речи должны быть записаны в определенном формате, не в таком, который выдает сам NLTK. Для этого была создана следующая функция `pos_tagger()`, которая смотрит на морфологический разбор слова, выстаскивает из него часть речи, смотрит, на какую букву она начинается, и возвращает ее в таком формате, который используется при лемматизации.\n",
        "\n",
        "Этот лемматизатор различает только прилагательные, глаголы, существительные и наречия. Другие части речи он не сможет лемматизировать (например, местоимения). Да это нам, собственно, и не надо, так как большинство таких слов все равно не попадут в итоговый текст из-за того, что они попадают в список стоп-слов."
      ],
      "metadata": {
        "id": "Cd2CmX96d61w"
      }
    },
    {
      "cell_type": "code",
      "source": [
        "def pos_tagger(nltk_tag):\n",
        "    if nltk_tag.startswith('J'): # проверяет, является ли прилагательным\n",
        "        return wordnet.ADJ\n",
        "    elif nltk_tag.startswith('V'): # проверяет, является ли глаголом\n",
        "        return wordnet.VERB\n",
        "    elif nltk_tag.startswith('N'): # проверяет, является ли существительным\n",
        "        return wordnet.NOUN\n",
        "    elif nltk_tag.startswith('R'): # проверяет, является ли наречием\n",
        "        return wordnet.ADV\n",
        "    else:\n",
        "        return None # если ничего не подходит, возвращает None"
      ],
      "metadata": {
        "id": "6OT0ukvJFIGr"
      },
      "execution_count": 57,
      "outputs": []
    },
    {
      "cell_type": "markdown",
      "source": [
        "Пойдем по порядку.\n",
        "\n",
        "1. Надо последовательно идти по каждому отзыву.\n",
        "2. Каждый отзыв надо токенизировать, а затем эти токены надо разметить по частям речи. (Используйте `nltk.pos_tag(tokens)`.) В результате у вас получится список сетов (токен, часть речи).\n",
        "3. Затем вам нужно поменять формат записи частей речи. Для этого используйте следующую строку `wordnet_tagged = list(map(lambda x: (x[0], pos_tagger(x[1])), pos_tagged))`, где `pos_tagged` это список сетов из второго пункта. Этот код также вернет список сетов, где второй элемент сета (тег) будет нужного нам формата: **r** для наречий, **a** для прилагательных, **n** для существительных, **v** для глаголов. Остальные получат тег None, поэтому их можно не отправлять в лемматизатор, так как он все равно с ними ничего не сделает.\n",
        "4. Создайте список `abbr = [\"'ll\", \"'m\", \"'ve\", \"'d\"]`, который включает в себя самые частотные сокращения в английском языке (токенизатор будет считать их отдельными словами). Эти глаголы входят в список стоп-слов (но в несокращенном виде), поэтому мы тоже не хотим их видеть в нашем лемматизированном тексте.\n",
        "5. Пусть для каждого отзыва создается пустой список, в который вы потом будете помещать каждое лемматизированное слово.\n",
        "6. Для каждого отзыва проходитесь по парам `word, tag in wordnet_tagged` (пункт 3).\n",
        "7. Для каждого слова создайте переменную `clean_word`, в которую положите слово в нижнем регистре (это важно, так как лемматизатор различает регистр) и очищенное по бокам от знаков препинания (иногда в начале слов попадается точка, потому что автор отзыва не отделил слово от предшествующего предложения пробелом).\n",
        "8. Затем с помощью условий нужно проверить, входит ли это слово в список стоп-слов, в список `abbr` (пунтк 4) или в список знаков препинания (знаки препинания при токенизации считаются отдельными словами). Если оно входит хотя бы в один из этих списков, то его не надо никуда добавлять, так как оно нас не интересует.\n",
        "9. Если слово не входит ни в один из этих списков, то можно проверить, является ли его тег None, так как в данном случае его нет смысла лемматизировать и можно просто добавить его в список лемматизированных слов (пункт5).\n",
        "10. Если у него нормальный тег и оно не входит ни в один из \"плохих\" списков (пункт 8), то можно его лемматизировать, снабдив лемматизатор информацией о части речи этого слова. Это делается с помощью `lemmatizer.lemmatize(clean_word, tag)`. Добавьте это слово в список лемматизированных слов.\n",
        "11. Для каждого отзыва, после всех проделанных операций (пункты 2-10), кладите список лемматизированных слов в общий список лемматизированных слов по всем отзывам.\n",
        "12. В результате у вас должен получиться список со списками лемматизированных слов отзывов, длина которого равна количеству строк в таблице.\n",
        "\n",
        "При придумывании кода, его можно тестировать всего лишь, например, на 10 предложениях, чтобы ускорить работу. Потому что иначе очень много времени потратится на обработку большого количества информации.\n",
        "\n",
        "А уже в конце, когда все будет отлажено, можно выполнить этот код для всего множества данных."
      ],
      "metadata": {
        "id": "WM1etY6jfuDk"
      }
    },
    {
      "cell_type": "code",
      "source": [
        "abbr = [\"'ll\", \"'m\", \"'ve\", \"'d\"]\n",
        "all_reviews_lemm = []\n",
        "for review in review_d:\n",
        "  tokens = word_tokenize(review)\n",
        "  lemmatized = []\n",
        "  pos_tagged = nltk.pos_tag(tokens)\n",
        "  wordnet_tagged = list(map(lambda x: (x[0], pos_tagger(x[1])), pos_tagged))\n",
        "  for word, tag in wordnet_tagged:\n",
        "    clean_word = word.lower().strip(string.punctuation)\n",
        "    if tag is None and clean_word not in stops and clean_word not in punct and clean_word not in abbr:\n",
        "      lemmatized.append(clean_word)\n",
        "    elif clean_word in stops or clean_word in punct or clean_word in abbr:\n",
        "      continue\n",
        "    else:\n",
        "      lemmatized.append(lemmatizer.lemmatize(clean_word, tag))\n",
        "  all_reviews_lemm.append(lemmatized)"
      ],
      "metadata": {
        "id": "-cpDqLJQtlbF"
      },
      "execution_count": 65,
      "outputs": []
    },
    {
      "cell_type": "code",
      "source": [
        "all_reviews_lemm[:10]"
      ],
      "metadata": {
        "id": "M2dpa_jjkkrB"
      },
      "execution_count": null,
      "outputs": []
    },
    {
      "cell_type": "markdown",
      "source": [
        "13. Теперь посмотрим на тональность отзывов. Вначале загрузим словари оценочной лексики."
      ],
      "metadata": {
        "id": "aFUmPq65mJUG"
      }
    },
    {
      "cell_type": "code",
      "source": [
        "from nltk.corpus import opinion_lexicon\n",
        "nltk.download('opinion_lexicon')\n",
        "pos_list = set(opinion_lexicon.positive())\n",
        "neg_list = set(opinion_lexicon.negative())"
      ],
      "metadata": {
        "colab": {
          "base_uri": "https://localhost:8080/"
        },
        "id": "x21B_mupLDDV",
        "outputId": "f0cd8b83-ccaf-4e32-c9e8-0e9d929d66c2"
      },
      "execution_count": 67,
      "outputs": [
        {
          "output_type": "stream",
          "name": "stderr",
          "text": [
            "[nltk_data] Downloading package opinion_lexicon to /root/nltk_data...\n",
            "[nltk_data]   Unzipping corpora/opinion_lexicon.zip.\n"
          ]
        }
      ]
    },
    {
      "cell_type": "markdown",
      "source": [
        "14. Теперь пройдемся по каждому лемматизированному отзыву и внутри него по каждому слову. Нам надо узнать тональность каждого отзыва. Легче всего это сделать, посмотрев, какое количество слов негативной и позитивной лексики содержится в отзыве. Будем считать, что если отзыв содержит больше **65 процентов** позитивной лексики, то он позитивный. Все остальные отзывы считаются негативными. Обратите внимание, что некоторые отзывы могут не содержать вообще ни одного оценочного слова. Этот случай нужно прописать отдельно.\n",
        "15. Проверим, входит ли оно в список негативной или позитивной лексики. В зависимости от того, в какой список входит слово, увеличим на единицу счетчик позитивных или негативных слов (эти счетчики должнны сбрасываться до нуля при каждом новом отзыве).\n",
        "16. Посмотрев на соотношение позитивных и негативных слов, сделаем вывод о том, какая тональность у отзыва.\n",
        "17. Соответственно, для каждого отзыва добавим в список его тональность на основе процентного соотношения позитивных и негативных слов."
      ],
      "metadata": {
        "id": "0mPfGhLZmVTi"
      }
    },
    {
      "cell_type": "code",
      "source": [
        "polarity = []\n",
        "polarity_words = []\n",
        "for review in all_reviews_lemm:\n",
        "  review_pol_words = {'good': [], 'bad': []}\n",
        "  bad = 0\n",
        "  good = 0\n",
        "  for word in review:\n",
        "    if word in pos_list:\n",
        "      good += 1\n",
        "      review_pol_words['good'].append(word)\n",
        "    elif word in neg_list:\n",
        "      bad += 1\n",
        "      review_pol_words['bad'].append(word)\n",
        "  if good == 0 and bad == 0:\n",
        "    polarity.append('neutral')\n",
        "  elif good / (good + bad) > 0.65:\n",
        "    polarity.append('positive')\n",
        "  else:\n",
        "    polarity.append('negative')\n",
        "  polarity_words.append(review_pol_words)\n",
        "print(polarity_words)\n",
        "print(polarity)"
      ],
      "metadata": {
        "id": "UmeamKDvnU15"
      },
      "execution_count": null,
      "outputs": []
    },
    {
      "cell_type": "markdown",
      "source": [
        "18. Добавим новую колоночку в таблицу с названием Polarity."
      ],
      "metadata": {
        "id": "OFySv5vBo3yG"
      }
    },
    {
      "cell_type": "code",
      "source": [
        "data_d['Polarity'] = polarity\n",
        "data_d"
      ],
      "metadata": {
        "id": "Mzxm1BKKpB5A",
        "colab": {
          "base_uri": "https://localhost:8080/",
          "height": 424
        },
        "outputId": "e2a11e23-bdb6-4587-ba08-7a222fd71391"
      },
      "execution_count": 69,
      "outputs": [
        {
          "output_type": "execute_result",
          "data": {
            "text/plain": [
              "       Rating                                        Review_Text  Polarity\n",
              "0           4  If you've ever been to Disneyland anywhere you...  positive\n",
              "1           4  Its been a while since d last time we visit HK...  positive\n",
              "2           4  Thanks God it wasn   t too hot or too humid wh...  negative\n",
              "3           4  HK Disneyland is a great compact park. Unfortu...  positive\n",
              "4           4  the location is not in the city, took around 1...  positive\n",
              "...       ...                                                ...       ...\n",
              "13252       4  This was Disneyland's 60th anniversary celebra...  positive\n",
              "13253       5  We have been to Disney World numerous times an...  negative\n",
              "13254       2  Top attractions Matterhorn, Railroad, Riverboa...  positive\n",
              "13255       4  Just returned from a Disney trip during our Sp...  positive\n",
              "13256       4  We had fun, for sure. But with the train that ...  positive\n",
              "\n",
              "[13257 rows x 3 columns]"
            ],
            "text/html": [
              "\n",
              "  <div id=\"df-fa635e02-2b1c-4a86-8b78-83ef0b1f2b86\" class=\"colab-df-container\">\n",
              "    <div>\n",
              "<style scoped>\n",
              "    .dataframe tbody tr th:only-of-type {\n",
              "        vertical-align: middle;\n",
              "    }\n",
              "\n",
              "    .dataframe tbody tr th {\n",
              "        vertical-align: top;\n",
              "    }\n",
              "\n",
              "    .dataframe thead th {\n",
              "        text-align: right;\n",
              "    }\n",
              "</style>\n",
              "<table border=\"1\" class=\"dataframe\">\n",
              "  <thead>\n",
              "    <tr style=\"text-align: right;\">\n",
              "      <th></th>\n",
              "      <th>Rating</th>\n",
              "      <th>Review_Text</th>\n",
              "      <th>Polarity</th>\n",
              "    </tr>\n",
              "  </thead>\n",
              "  <tbody>\n",
              "    <tr>\n",
              "      <th>0</th>\n",
              "      <td>4</td>\n",
              "      <td>If you've ever been to Disneyland anywhere you...</td>\n",
              "      <td>positive</td>\n",
              "    </tr>\n",
              "    <tr>\n",
              "      <th>1</th>\n",
              "      <td>4</td>\n",
              "      <td>Its been a while since d last time we visit HK...</td>\n",
              "      <td>positive</td>\n",
              "    </tr>\n",
              "    <tr>\n",
              "      <th>2</th>\n",
              "      <td>4</td>\n",
              "      <td>Thanks God it wasn   t too hot or too humid wh...</td>\n",
              "      <td>negative</td>\n",
              "    </tr>\n",
              "    <tr>\n",
              "      <th>3</th>\n",
              "      <td>4</td>\n",
              "      <td>HK Disneyland is a great compact park. Unfortu...</td>\n",
              "      <td>positive</td>\n",
              "    </tr>\n",
              "    <tr>\n",
              "      <th>4</th>\n",
              "      <td>4</td>\n",
              "      <td>the location is not in the city, took around 1...</td>\n",
              "      <td>positive</td>\n",
              "    </tr>\n",
              "    <tr>\n",
              "      <th>...</th>\n",
              "      <td>...</td>\n",
              "      <td>...</td>\n",
              "      <td>...</td>\n",
              "    </tr>\n",
              "    <tr>\n",
              "      <th>13252</th>\n",
              "      <td>4</td>\n",
              "      <td>This was Disneyland's 60th anniversary celebra...</td>\n",
              "      <td>positive</td>\n",
              "    </tr>\n",
              "    <tr>\n",
              "      <th>13253</th>\n",
              "      <td>5</td>\n",
              "      <td>We have been to Disney World numerous times an...</td>\n",
              "      <td>negative</td>\n",
              "    </tr>\n",
              "    <tr>\n",
              "      <th>13254</th>\n",
              "      <td>2</td>\n",
              "      <td>Top attractions Matterhorn, Railroad, Riverboa...</td>\n",
              "      <td>positive</td>\n",
              "    </tr>\n",
              "    <tr>\n",
              "      <th>13255</th>\n",
              "      <td>4</td>\n",
              "      <td>Just returned from a Disney trip during our Sp...</td>\n",
              "      <td>positive</td>\n",
              "    </tr>\n",
              "    <tr>\n",
              "      <th>13256</th>\n",
              "      <td>4</td>\n",
              "      <td>We had fun, for sure. But with the train that ...</td>\n",
              "      <td>positive</td>\n",
              "    </tr>\n",
              "  </tbody>\n",
              "</table>\n",
              "<p>13257 rows × 3 columns</p>\n",
              "</div>\n",
              "    <div class=\"colab-df-buttons\">\n",
              "\n",
              "  <div class=\"colab-df-container\">\n",
              "    <button class=\"colab-df-convert\" onclick=\"convertToInteractive('df-fa635e02-2b1c-4a86-8b78-83ef0b1f2b86')\"\n",
              "            title=\"Convert this dataframe to an interactive table.\"\n",
              "            style=\"display:none;\">\n",
              "\n",
              "  <svg xmlns=\"http://www.w3.org/2000/svg\" height=\"24px\" viewBox=\"0 -960 960 960\">\n",
              "    <path d=\"M120-120v-720h720v720H120Zm60-500h600v-160H180v160Zm220 220h160v-160H400v160Zm0 220h160v-160H400v160ZM180-400h160v-160H180v160Zm440 0h160v-160H620v160ZM180-180h160v-160H180v160Zm440 0h160v-160H620v160Z\"/>\n",
              "  </svg>\n",
              "    </button>\n",
              "\n",
              "  <style>\n",
              "    .colab-df-container {\n",
              "      display:flex;\n",
              "      gap: 12px;\n",
              "    }\n",
              "\n",
              "    .colab-df-convert {\n",
              "      background-color: #E8F0FE;\n",
              "      border: none;\n",
              "      border-radius: 50%;\n",
              "      cursor: pointer;\n",
              "      display: none;\n",
              "      fill: #1967D2;\n",
              "      height: 32px;\n",
              "      padding: 0 0 0 0;\n",
              "      width: 32px;\n",
              "    }\n",
              "\n",
              "    .colab-df-convert:hover {\n",
              "      background-color: #E2EBFA;\n",
              "      box-shadow: 0px 1px 2px rgba(60, 64, 67, 0.3), 0px 1px 3px 1px rgba(60, 64, 67, 0.15);\n",
              "      fill: #174EA6;\n",
              "    }\n",
              "\n",
              "    .colab-df-buttons div {\n",
              "      margin-bottom: 4px;\n",
              "    }\n",
              "\n",
              "    [theme=dark] .colab-df-convert {\n",
              "      background-color: #3B4455;\n",
              "      fill: #D2E3FC;\n",
              "    }\n",
              "\n",
              "    [theme=dark] .colab-df-convert:hover {\n",
              "      background-color: #434B5C;\n",
              "      box-shadow: 0px 1px 3px 1px rgba(0, 0, 0, 0.15);\n",
              "      filter: drop-shadow(0px 1px 2px rgba(0, 0, 0, 0.3));\n",
              "      fill: #FFFFFF;\n",
              "    }\n",
              "  </style>\n",
              "\n",
              "    <script>\n",
              "      const buttonEl =\n",
              "        document.querySelector('#df-fa635e02-2b1c-4a86-8b78-83ef0b1f2b86 button.colab-df-convert');\n",
              "      buttonEl.style.display =\n",
              "        google.colab.kernel.accessAllowed ? 'block' : 'none';\n",
              "\n",
              "      async function convertToInteractive(key) {\n",
              "        const element = document.querySelector('#df-fa635e02-2b1c-4a86-8b78-83ef0b1f2b86');\n",
              "        const dataTable =\n",
              "          await google.colab.kernel.invokeFunction('convertToInteractive',\n",
              "                                                    [key], {});\n",
              "        if (!dataTable) return;\n",
              "\n",
              "        const docLinkHtml = 'Like what you see? Visit the ' +\n",
              "          '<a target=\"_blank\" href=https://colab.research.google.com/notebooks/data_table.ipynb>data table notebook</a>'\n",
              "          + ' to learn more about interactive tables.';\n",
              "        element.innerHTML = '';\n",
              "        dataTable['output_type'] = 'display_data';\n",
              "        await google.colab.output.renderOutput(dataTable, element);\n",
              "        const docLink = document.createElement('div');\n",
              "        docLink.innerHTML = docLinkHtml;\n",
              "        element.appendChild(docLink);\n",
              "      }\n",
              "    </script>\n",
              "  </div>\n",
              "\n",
              "\n",
              "<div id=\"df-4e4411d8-a1e3-48a9-93c8-b9c3a5c85d3c\">\n",
              "  <button class=\"colab-df-quickchart\" onclick=\"quickchart('df-4e4411d8-a1e3-48a9-93c8-b9c3a5c85d3c')\"\n",
              "            title=\"Suggest charts\"\n",
              "            style=\"display:none;\">\n",
              "\n",
              "<svg xmlns=\"http://www.w3.org/2000/svg\" height=\"24px\"viewBox=\"0 0 24 24\"\n",
              "     width=\"24px\">\n",
              "    <g>\n",
              "        <path d=\"M19 3H5c-1.1 0-2 .9-2 2v14c0 1.1.9 2 2 2h14c1.1 0 2-.9 2-2V5c0-1.1-.9-2-2-2zM9 17H7v-7h2v7zm4 0h-2V7h2v10zm4 0h-2v-4h2v4z\"/>\n",
              "    </g>\n",
              "</svg>\n",
              "  </button>\n",
              "\n",
              "<style>\n",
              "  .colab-df-quickchart {\n",
              "      --bg-color: #E8F0FE;\n",
              "      --fill-color: #1967D2;\n",
              "      --hover-bg-color: #E2EBFA;\n",
              "      --hover-fill-color: #174EA6;\n",
              "      --disabled-fill-color: #AAA;\n",
              "      --disabled-bg-color: #DDD;\n",
              "  }\n",
              "\n",
              "  [theme=dark] .colab-df-quickchart {\n",
              "      --bg-color: #3B4455;\n",
              "      --fill-color: #D2E3FC;\n",
              "      --hover-bg-color: #434B5C;\n",
              "      --hover-fill-color: #FFFFFF;\n",
              "      --disabled-bg-color: #3B4455;\n",
              "      --disabled-fill-color: #666;\n",
              "  }\n",
              "\n",
              "  .colab-df-quickchart {\n",
              "    background-color: var(--bg-color);\n",
              "    border: none;\n",
              "    border-radius: 50%;\n",
              "    cursor: pointer;\n",
              "    display: none;\n",
              "    fill: var(--fill-color);\n",
              "    height: 32px;\n",
              "    padding: 0;\n",
              "    width: 32px;\n",
              "  }\n",
              "\n",
              "  .colab-df-quickchart:hover {\n",
              "    background-color: var(--hover-bg-color);\n",
              "    box-shadow: 0 1px 2px rgba(60, 64, 67, 0.3), 0 1px 3px 1px rgba(60, 64, 67, 0.15);\n",
              "    fill: var(--button-hover-fill-color);\n",
              "  }\n",
              "\n",
              "  .colab-df-quickchart-complete:disabled,\n",
              "  .colab-df-quickchart-complete:disabled:hover {\n",
              "    background-color: var(--disabled-bg-color);\n",
              "    fill: var(--disabled-fill-color);\n",
              "    box-shadow: none;\n",
              "  }\n",
              "\n",
              "  .colab-df-spinner {\n",
              "    border: 2px solid var(--fill-color);\n",
              "    border-color: transparent;\n",
              "    border-bottom-color: var(--fill-color);\n",
              "    animation:\n",
              "      spin 1s steps(1) infinite;\n",
              "  }\n",
              "\n",
              "  @keyframes spin {\n",
              "    0% {\n",
              "      border-color: transparent;\n",
              "      border-bottom-color: var(--fill-color);\n",
              "      border-left-color: var(--fill-color);\n",
              "    }\n",
              "    20% {\n",
              "      border-color: transparent;\n",
              "      border-left-color: var(--fill-color);\n",
              "      border-top-color: var(--fill-color);\n",
              "    }\n",
              "    30% {\n",
              "      border-color: transparent;\n",
              "      border-left-color: var(--fill-color);\n",
              "      border-top-color: var(--fill-color);\n",
              "      border-right-color: var(--fill-color);\n",
              "    }\n",
              "    40% {\n",
              "      border-color: transparent;\n",
              "      border-right-color: var(--fill-color);\n",
              "      border-top-color: var(--fill-color);\n",
              "    }\n",
              "    60% {\n",
              "      border-color: transparent;\n",
              "      border-right-color: var(--fill-color);\n",
              "    }\n",
              "    80% {\n",
              "      border-color: transparent;\n",
              "      border-right-color: var(--fill-color);\n",
              "      border-bottom-color: var(--fill-color);\n",
              "    }\n",
              "    90% {\n",
              "      border-color: transparent;\n",
              "      border-bottom-color: var(--fill-color);\n",
              "    }\n",
              "  }\n",
              "</style>\n",
              "\n",
              "  <script>\n",
              "    async function quickchart(key) {\n",
              "      const quickchartButtonEl =\n",
              "        document.querySelector('#' + key + ' button');\n",
              "      quickchartButtonEl.disabled = true;  // To prevent multiple clicks.\n",
              "      quickchartButtonEl.classList.add('colab-df-spinner');\n",
              "      try {\n",
              "        const charts = await google.colab.kernel.invokeFunction(\n",
              "            'suggestCharts', [key], {});\n",
              "      } catch (error) {\n",
              "        console.error('Error during call to suggestCharts:', error);\n",
              "      }\n",
              "      quickchartButtonEl.classList.remove('colab-df-spinner');\n",
              "      quickchartButtonEl.classList.add('colab-df-quickchart-complete');\n",
              "    }\n",
              "    (() => {\n",
              "      let quickchartButtonEl =\n",
              "        document.querySelector('#df-4e4411d8-a1e3-48a9-93c8-b9c3a5c85d3c button');\n",
              "      quickchartButtonEl.style.display =\n",
              "        google.colab.kernel.accessAllowed ? 'block' : 'none';\n",
              "    })();\n",
              "  </script>\n",
              "</div>\n",
              "    </div>\n",
              "  </div>\n"
            ]
          },
          "metadata": {},
          "execution_count": 69
        }
      ]
    },
    {
      "cell_type": "markdown",
      "source": [
        "19. Затем нам надо сравнить результат в колоночке, которую создали мы, с результатом, который уже там был. Для этого импортируем библиотеку numpy, которая позволит нам работать с таблицей и будет находить строки по некоторым фильтрам (см. тетрадку про pandas).\n",
        "\n",
        "Здесь задание немного отличается в двух датасетах.\n",
        "\n",
        "Для **ДДатасета** правильный результат будет тогда, когда у нас получилось positive, а оценка была 4-5, или когда у нас получилось negative, а оценка была ниже 4.\n",
        "\n",
        "Для **ФДатасета** правильный результат будет тогда, когда значения в исходной и новой колоночке совпадают.\n",
        "\n",
        "С помощью numpy создайте новую колоночку, в которой правильный результат будет записываться как 1, а неправильный - как 0."
      ],
      "metadata": {
        "id": "pSIpgeVopGJu"
      }
    },
    {
      "cell_type": "code",
      "source": [
        "import numpy as np"
      ],
      "metadata": {
        "id": "09x3uJm8XTWg"
      },
      "execution_count": 70,
      "outputs": []
    },
    {
      "cell_type": "markdown",
      "source": [
        "Если выполняется условие до запятой (то есть предсказание сбылось), то тогда это 1, всё остальное - 0.\n",
        "\n",
        "Пример приведен для работы с ДДатасетом. Для ФДатасета будет '(сравнение двух ячеек) | (или) (сравнение двух ячеек)'.  "
      ],
      "metadata": {
        "id": "GiX-Wu7RR1sl"
      }
    },
    {
      "cell_type": "code",
      "source": [
        "data_d['Comparison'] = np.where(((data_d['Rating'] >= 4) & (data_d['Polarity'] == \"positive\")) | ((data_d['Rating'] < 4) & (data_d['Polarity'] == \"negative\")), \"right\", \"wrong\")\n",
        "data_d"
      ],
      "metadata": {
        "id": "fiN3C7fMm9-y",
        "colab": {
          "base_uri": "https://localhost:8080/",
          "height": 424
        },
        "outputId": "7f25faf2-aeff-49c9-93dd-6723e7d60798"
      },
      "execution_count": 71,
      "outputs": [
        {
          "output_type": "execute_result",
          "data": {
            "text/plain": [
              "       Rating                                        Review_Text  Polarity  \\\n",
              "0           4  If you've ever been to Disneyland anywhere you...  positive   \n",
              "1           4  Its been a while since d last time we visit HK...  positive   \n",
              "2           4  Thanks God it wasn   t too hot or too humid wh...  negative   \n",
              "3           4  HK Disneyland is a great compact park. Unfortu...  positive   \n",
              "4           4  the location is not in the city, took around 1...  positive   \n",
              "...       ...                                                ...       ...   \n",
              "13252       4  This was Disneyland's 60th anniversary celebra...  positive   \n",
              "13253       5  We have been to Disney World numerous times an...  negative   \n",
              "13254       2  Top attractions Matterhorn, Railroad, Riverboa...  positive   \n",
              "13255       4  Just returned from a Disney trip during our Sp...  positive   \n",
              "13256       4  We had fun, for sure. But with the train that ...  positive   \n",
              "\n",
              "      Comparison  \n",
              "0          right  \n",
              "1          right  \n",
              "2          wrong  \n",
              "3          right  \n",
              "4          right  \n",
              "...          ...  \n",
              "13252      right  \n",
              "13253      wrong  \n",
              "13254      wrong  \n",
              "13255      right  \n",
              "13256      right  \n",
              "\n",
              "[13257 rows x 4 columns]"
            ],
            "text/html": [
              "\n",
              "  <div id=\"df-507143c8-9bd9-4141-8d26-553ef2e40c2a\" class=\"colab-df-container\">\n",
              "    <div>\n",
              "<style scoped>\n",
              "    .dataframe tbody tr th:only-of-type {\n",
              "        vertical-align: middle;\n",
              "    }\n",
              "\n",
              "    .dataframe tbody tr th {\n",
              "        vertical-align: top;\n",
              "    }\n",
              "\n",
              "    .dataframe thead th {\n",
              "        text-align: right;\n",
              "    }\n",
              "</style>\n",
              "<table border=\"1\" class=\"dataframe\">\n",
              "  <thead>\n",
              "    <tr style=\"text-align: right;\">\n",
              "      <th></th>\n",
              "      <th>Rating</th>\n",
              "      <th>Review_Text</th>\n",
              "      <th>Polarity</th>\n",
              "      <th>Comparison</th>\n",
              "    </tr>\n",
              "  </thead>\n",
              "  <tbody>\n",
              "    <tr>\n",
              "      <th>0</th>\n",
              "      <td>4</td>\n",
              "      <td>If you've ever been to Disneyland anywhere you...</td>\n",
              "      <td>positive</td>\n",
              "      <td>right</td>\n",
              "    </tr>\n",
              "    <tr>\n",
              "      <th>1</th>\n",
              "      <td>4</td>\n",
              "      <td>Its been a while since d last time we visit HK...</td>\n",
              "      <td>positive</td>\n",
              "      <td>right</td>\n",
              "    </tr>\n",
              "    <tr>\n",
              "      <th>2</th>\n",
              "      <td>4</td>\n",
              "      <td>Thanks God it wasn   t too hot or too humid wh...</td>\n",
              "      <td>negative</td>\n",
              "      <td>wrong</td>\n",
              "    </tr>\n",
              "    <tr>\n",
              "      <th>3</th>\n",
              "      <td>4</td>\n",
              "      <td>HK Disneyland is a great compact park. Unfortu...</td>\n",
              "      <td>positive</td>\n",
              "      <td>right</td>\n",
              "    </tr>\n",
              "    <tr>\n",
              "      <th>4</th>\n",
              "      <td>4</td>\n",
              "      <td>the location is not in the city, took around 1...</td>\n",
              "      <td>positive</td>\n",
              "      <td>right</td>\n",
              "    </tr>\n",
              "    <tr>\n",
              "      <th>...</th>\n",
              "      <td>...</td>\n",
              "      <td>...</td>\n",
              "      <td>...</td>\n",
              "      <td>...</td>\n",
              "    </tr>\n",
              "    <tr>\n",
              "      <th>13252</th>\n",
              "      <td>4</td>\n",
              "      <td>This was Disneyland's 60th anniversary celebra...</td>\n",
              "      <td>positive</td>\n",
              "      <td>right</td>\n",
              "    </tr>\n",
              "    <tr>\n",
              "      <th>13253</th>\n",
              "      <td>5</td>\n",
              "      <td>We have been to Disney World numerous times an...</td>\n",
              "      <td>negative</td>\n",
              "      <td>wrong</td>\n",
              "    </tr>\n",
              "    <tr>\n",
              "      <th>13254</th>\n",
              "      <td>2</td>\n",
              "      <td>Top attractions Matterhorn, Railroad, Riverboa...</td>\n",
              "      <td>positive</td>\n",
              "      <td>wrong</td>\n",
              "    </tr>\n",
              "    <tr>\n",
              "      <th>13255</th>\n",
              "      <td>4</td>\n",
              "      <td>Just returned from a Disney trip during our Sp...</td>\n",
              "      <td>positive</td>\n",
              "      <td>right</td>\n",
              "    </tr>\n",
              "    <tr>\n",
              "      <th>13256</th>\n",
              "      <td>4</td>\n",
              "      <td>We had fun, for sure. But with the train that ...</td>\n",
              "      <td>positive</td>\n",
              "      <td>right</td>\n",
              "    </tr>\n",
              "  </tbody>\n",
              "</table>\n",
              "<p>13257 rows × 4 columns</p>\n",
              "</div>\n",
              "    <div class=\"colab-df-buttons\">\n",
              "\n",
              "  <div class=\"colab-df-container\">\n",
              "    <button class=\"colab-df-convert\" onclick=\"convertToInteractive('df-507143c8-9bd9-4141-8d26-553ef2e40c2a')\"\n",
              "            title=\"Convert this dataframe to an interactive table.\"\n",
              "            style=\"display:none;\">\n",
              "\n",
              "  <svg xmlns=\"http://www.w3.org/2000/svg\" height=\"24px\" viewBox=\"0 -960 960 960\">\n",
              "    <path d=\"M120-120v-720h720v720H120Zm60-500h600v-160H180v160Zm220 220h160v-160H400v160Zm0 220h160v-160H400v160ZM180-400h160v-160H180v160Zm440 0h160v-160H620v160ZM180-180h160v-160H180v160Zm440 0h160v-160H620v160Z\"/>\n",
              "  </svg>\n",
              "    </button>\n",
              "\n",
              "  <style>\n",
              "    .colab-df-container {\n",
              "      display:flex;\n",
              "      gap: 12px;\n",
              "    }\n",
              "\n",
              "    .colab-df-convert {\n",
              "      background-color: #E8F0FE;\n",
              "      border: none;\n",
              "      border-radius: 50%;\n",
              "      cursor: pointer;\n",
              "      display: none;\n",
              "      fill: #1967D2;\n",
              "      height: 32px;\n",
              "      padding: 0 0 0 0;\n",
              "      width: 32px;\n",
              "    }\n",
              "\n",
              "    .colab-df-convert:hover {\n",
              "      background-color: #E2EBFA;\n",
              "      box-shadow: 0px 1px 2px rgba(60, 64, 67, 0.3), 0px 1px 3px 1px rgba(60, 64, 67, 0.15);\n",
              "      fill: #174EA6;\n",
              "    }\n",
              "\n",
              "    .colab-df-buttons div {\n",
              "      margin-bottom: 4px;\n",
              "    }\n",
              "\n",
              "    [theme=dark] .colab-df-convert {\n",
              "      background-color: #3B4455;\n",
              "      fill: #D2E3FC;\n",
              "    }\n",
              "\n",
              "    [theme=dark] .colab-df-convert:hover {\n",
              "      background-color: #434B5C;\n",
              "      box-shadow: 0px 1px 3px 1px rgba(0, 0, 0, 0.15);\n",
              "      filter: drop-shadow(0px 1px 2px rgba(0, 0, 0, 0.3));\n",
              "      fill: #FFFFFF;\n",
              "    }\n",
              "  </style>\n",
              "\n",
              "    <script>\n",
              "      const buttonEl =\n",
              "        document.querySelector('#df-507143c8-9bd9-4141-8d26-553ef2e40c2a button.colab-df-convert');\n",
              "      buttonEl.style.display =\n",
              "        google.colab.kernel.accessAllowed ? 'block' : 'none';\n",
              "\n",
              "      async function convertToInteractive(key) {\n",
              "        const element = document.querySelector('#df-507143c8-9bd9-4141-8d26-553ef2e40c2a');\n",
              "        const dataTable =\n",
              "          await google.colab.kernel.invokeFunction('convertToInteractive',\n",
              "                                                    [key], {});\n",
              "        if (!dataTable) return;\n",
              "\n",
              "        const docLinkHtml = 'Like what you see? Visit the ' +\n",
              "          '<a target=\"_blank\" href=https://colab.research.google.com/notebooks/data_table.ipynb>data table notebook</a>'\n",
              "          + ' to learn more about interactive tables.';\n",
              "        element.innerHTML = '';\n",
              "        dataTable['output_type'] = 'display_data';\n",
              "        await google.colab.output.renderOutput(dataTable, element);\n",
              "        const docLink = document.createElement('div');\n",
              "        docLink.innerHTML = docLinkHtml;\n",
              "        element.appendChild(docLink);\n",
              "      }\n",
              "    </script>\n",
              "  </div>\n",
              "\n",
              "\n",
              "<div id=\"df-e89cdf9f-f7a7-4242-8ea7-6d7665ca3d9b\">\n",
              "  <button class=\"colab-df-quickchart\" onclick=\"quickchart('df-e89cdf9f-f7a7-4242-8ea7-6d7665ca3d9b')\"\n",
              "            title=\"Suggest charts\"\n",
              "            style=\"display:none;\">\n",
              "\n",
              "<svg xmlns=\"http://www.w3.org/2000/svg\" height=\"24px\"viewBox=\"0 0 24 24\"\n",
              "     width=\"24px\">\n",
              "    <g>\n",
              "        <path d=\"M19 3H5c-1.1 0-2 .9-2 2v14c0 1.1.9 2 2 2h14c1.1 0 2-.9 2-2V5c0-1.1-.9-2-2-2zM9 17H7v-7h2v7zm4 0h-2V7h2v10zm4 0h-2v-4h2v4z\"/>\n",
              "    </g>\n",
              "</svg>\n",
              "  </button>\n",
              "\n",
              "<style>\n",
              "  .colab-df-quickchart {\n",
              "      --bg-color: #E8F0FE;\n",
              "      --fill-color: #1967D2;\n",
              "      --hover-bg-color: #E2EBFA;\n",
              "      --hover-fill-color: #174EA6;\n",
              "      --disabled-fill-color: #AAA;\n",
              "      --disabled-bg-color: #DDD;\n",
              "  }\n",
              "\n",
              "  [theme=dark] .colab-df-quickchart {\n",
              "      --bg-color: #3B4455;\n",
              "      --fill-color: #D2E3FC;\n",
              "      --hover-bg-color: #434B5C;\n",
              "      --hover-fill-color: #FFFFFF;\n",
              "      --disabled-bg-color: #3B4455;\n",
              "      --disabled-fill-color: #666;\n",
              "  }\n",
              "\n",
              "  .colab-df-quickchart {\n",
              "    background-color: var(--bg-color);\n",
              "    border: none;\n",
              "    border-radius: 50%;\n",
              "    cursor: pointer;\n",
              "    display: none;\n",
              "    fill: var(--fill-color);\n",
              "    height: 32px;\n",
              "    padding: 0;\n",
              "    width: 32px;\n",
              "  }\n",
              "\n",
              "  .colab-df-quickchart:hover {\n",
              "    background-color: var(--hover-bg-color);\n",
              "    box-shadow: 0 1px 2px rgba(60, 64, 67, 0.3), 0 1px 3px 1px rgba(60, 64, 67, 0.15);\n",
              "    fill: var(--button-hover-fill-color);\n",
              "  }\n",
              "\n",
              "  .colab-df-quickchart-complete:disabled,\n",
              "  .colab-df-quickchart-complete:disabled:hover {\n",
              "    background-color: var(--disabled-bg-color);\n",
              "    fill: var(--disabled-fill-color);\n",
              "    box-shadow: none;\n",
              "  }\n",
              "\n",
              "  .colab-df-spinner {\n",
              "    border: 2px solid var(--fill-color);\n",
              "    border-color: transparent;\n",
              "    border-bottom-color: var(--fill-color);\n",
              "    animation:\n",
              "      spin 1s steps(1) infinite;\n",
              "  }\n",
              "\n",
              "  @keyframes spin {\n",
              "    0% {\n",
              "      border-color: transparent;\n",
              "      border-bottom-color: var(--fill-color);\n",
              "      border-left-color: var(--fill-color);\n",
              "    }\n",
              "    20% {\n",
              "      border-color: transparent;\n",
              "      border-left-color: var(--fill-color);\n",
              "      border-top-color: var(--fill-color);\n",
              "    }\n",
              "    30% {\n",
              "      border-color: transparent;\n",
              "      border-left-color: var(--fill-color);\n",
              "      border-top-color: var(--fill-color);\n",
              "      border-right-color: var(--fill-color);\n",
              "    }\n",
              "    40% {\n",
              "      border-color: transparent;\n",
              "      border-right-color: var(--fill-color);\n",
              "      border-top-color: var(--fill-color);\n",
              "    }\n",
              "    60% {\n",
              "      border-color: transparent;\n",
              "      border-right-color: var(--fill-color);\n",
              "    }\n",
              "    80% {\n",
              "      border-color: transparent;\n",
              "      border-right-color: var(--fill-color);\n",
              "      border-bottom-color: var(--fill-color);\n",
              "    }\n",
              "    90% {\n",
              "      border-color: transparent;\n",
              "      border-bottom-color: var(--fill-color);\n",
              "    }\n",
              "  }\n",
              "</style>\n",
              "\n",
              "  <script>\n",
              "    async function quickchart(key) {\n",
              "      const quickchartButtonEl =\n",
              "        document.querySelector('#' + key + ' button');\n",
              "      quickchartButtonEl.disabled = true;  // To prevent multiple clicks.\n",
              "      quickchartButtonEl.classList.add('colab-df-spinner');\n",
              "      try {\n",
              "        const charts = await google.colab.kernel.invokeFunction(\n",
              "            'suggestCharts', [key], {});\n",
              "      } catch (error) {\n",
              "        console.error('Error during call to suggestCharts:', error);\n",
              "      }\n",
              "      quickchartButtonEl.classList.remove('colab-df-spinner');\n",
              "      quickchartButtonEl.classList.add('colab-df-quickchart-complete');\n",
              "    }\n",
              "    (() => {\n",
              "      let quickchartButtonEl =\n",
              "        document.querySelector('#df-e89cdf9f-f7a7-4242-8ea7-6d7665ca3d9b button');\n",
              "      quickchartButtonEl.style.display =\n",
              "        google.colab.kernel.accessAllowed ? 'block' : 'none';\n",
              "    })();\n",
              "  </script>\n",
              "</div>\n",
              "    </div>\n",
              "  </div>\n"
            ]
          },
          "metadata": {},
          "execution_count": 71
        }
      ]
    },
    {
      "cell_type": "markdown",
      "source": [
        "20. Отфильтруйте те отзывы, которые определились правильно, и посчитайте длину получившегося датасета."
      ],
      "metadata": {
        "id": "iMq5OZZVsNIe"
      }
    },
    {
      "cell_type": "code",
      "source": [
        "filtered_data = data_d.loc[data_d.Comparison == 'right']"
      ],
      "metadata": {
        "id": "iOwKfGWMsWj-"
      },
      "execution_count": 72,
      "outputs": []
    },
    {
      "cell_type": "markdown",
      "source": [
        "21. Посчитайте процент правильных угадываний."
      ],
      "metadata": {
        "id": "UT2TeQKXsdFq"
      }
    },
    {
      "cell_type": "code",
      "source": [
        "print(\"Получилось\", round((len(filtered_data)/len(data_d))*100), \"процентов правильных ответов.\")"
      ],
      "metadata": {
        "id": "fG4ucE5Tspsb",
        "colab": {
          "base_uri": "https://localhost:8080/"
        },
        "outputId": "349cd278-6838-4323-8085-f367d3b853f5"
      },
      "execution_count": 74,
      "outputs": [
        {
          "output_type": "stream",
          "name": "stdout",
          "text": [
            "Получилось 77 процентов правильных ответов.\n"
          ]
        }
      ]
    }
  ]
}