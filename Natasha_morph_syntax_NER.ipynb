{
  "nbformat": 4,
  "nbformat_minor": 0,
  "metadata": {
    "colab": {
      "provenance": [],
      "authorship_tag": "ABX9TyMT9EZsDn7NPQZR3qfRpYUI",
      "include_colab_link": true
    },
    "kernelspec": {
      "name": "python3",
      "display_name": "Python 3"
    },
    "language_info": {
      "name": "python"
    }
  },
  "cells": [
    {
      "cell_type": "markdown",
      "metadata": {
        "id": "view-in-github",
        "colab_type": "text"
      },
      "source": [
        "<a href=\"https://colab.research.google.com/github/Whereamiactually/lyceumcompling10/blob/main/Natasha_morph_syntax_NER.ipynb\" target=\"_parent\"><img src=\"https://colab.research.google.com/assets/colab-badge.svg\" alt=\"Open In Colab\"/></a>"
      ]
    },
    {
      "cell_type": "markdown",
      "source": [
        "### 4.  Мини-задачки"
      ],
      "metadata": {
        "id": "nIkY-z1dCF4v"
      }
    },
    {
      "cell_type": "markdown",
      "source": [
        "Нам нужно достать код телефона из каждого номера и создать список кортежей из двух элементов - кода и самого номера телефона."
      ],
      "metadata": {
        "id": "qEpAlYKQyXb0"
      }
    },
    {
      "cell_type": "code",
      "source": [
        "import re\n",
        "str_for_search = \"\"\"\n",
        "415-555-1234\n",
        "650-555-2345\n",
        "(416)555-3456\n",
        "202 555 4567\n",
        "4035555678\n",
        "1 416 555 9292\n",
        "\"\"\"\n",
        "\n",
        "re.findall('((?:1 )?\\(?(\\d{3})\\)?.+)\\n', str_for_search)"
      ],
      "metadata": {
        "id": "-beZiS3fC4kM",
        "colab": {
          "base_uri": "https://localhost:8080/"
        },
        "outputId": "ee05b160-ddde-45ea-e753-c13e4bb99952"
      },
      "execution_count": null,
      "outputs": [
        {
          "output_type": "execute_result",
          "data": {
            "text/plain": [
              "[('415-555-1234', '415'),\n",
              " ('650-555-2345', '650'),\n",
              " ('(416)555-3456', '416'),\n",
              " ('202 555 4567', '202'),\n",
              " ('4035555678', '403'),\n",
              " ('1 416 555 9292', '416')]"
            ]
          },
          "metadata": {},
          "execution_count": 10
        }
      ]
    },
    {
      "cell_type": "code",
      "source": [
        "telephones = re.split('\\n', str_for_search)\n",
        "telephones = telephones[1: len(telephones)-1]\n",
        "telephones"
      ],
      "metadata": {
        "colab": {
          "base_uri": "https://localhost:8080/"
        },
        "id": "DIduujmPtc8i",
        "outputId": "2ba3d845-bde8-4085-f5a8-cff7f6f9f678"
      },
      "execution_count": null,
      "outputs": [
        {
          "output_type": "execute_result",
          "data": {
            "text/plain": [
              "['415-555-1234',\n",
              " '650-555-2345',\n",
              " '(416)555-3456',\n",
              " '202 555 4567',\n",
              " '4035555678',\n",
              " '1 416 555 9292']"
            ]
          },
          "metadata": {},
          "execution_count": 8
        }
      ]
    },
    {
      "cell_type": "markdown",
      "source": [
        "Нам нужно вывести список кортежей, включающих в себя отдельно название изображения, отдельно его расширение."
      ],
      "metadata": {
        "id": "W5ri3MRI1u3Z"
      }
    },
    {
      "cell_type": "code",
      "source": [
        "str_for_search = \"\"\"\n",
        ".bash_profile\n",
        "workspace.doc\n",
        "img0912.jpg\n",
        "updated_img0912.png\n",
        "documentation.html\n",
        "favicon.gif\n",
        "img0912.jpg.tmp\n",
        "access.lock\n",
        "\"\"\""
      ],
      "metadata": {
        "id": "hEMYUsBS1tSp"
      },
      "execution_count": null,
      "outputs": []
    },
    {
      "cell_type": "markdown",
      "source": [
        "Нам нужно вывести список кортежей, в которых у нас есть протокол передачи данных, название сайта и то, что идет после двоеточия (не везде всё может быть)."
      ],
      "metadata": {
        "id": "yJdpPzxr0nY4"
      }
    },
    {
      "cell_type": "code",
      "source": [
        "str_for_search = \"\"\"\n",
        "ftp://file_server.com:21/top_secret/life_changing_plans.pdf\n",
        "https://regexone.com/lesson/introduction#section\n",
        "file://localhost:4040/zip_file\n",
        "https://s3cur3-server.com:9999/\n",
        "market://search/angry%20birds\n",
        "\"\"\""
      ],
      "metadata": {
        "id": "S_tj9ytmyD5u"
      },
      "execution_count": null,
      "outputs": []
    },
    {
      "cell_type": "markdown",
      "source": [
        "# Natasha - морфология, синтаксис, лемматизация, NER\n",
        "\n",
        "Сейчас мы на примере Natasha посмотрим на некоторые популярные операции, проводимые при обработке етстественного языка (NLP - Natural Language Processing)."
      ],
      "metadata": {
        "id": "a2RLjITQ3pHB"
      }
    },
    {
      "cell_type": "code",
      "source": [
        "pip install natasha"
      ],
      "metadata": {
        "colab": {
          "base_uri": "https://localhost:8080/"
        },
        "id": "yPKTGw3h2shu",
        "outputId": "29a76bae-ce0f-40a0-dfc0-21882dad43fb"
      },
      "execution_count": null,
      "outputs": [
        {
          "output_type": "stream",
          "name": "stdout",
          "text": [
            "Collecting natasha\n",
            "  Downloading natasha-1.6.0-py3-none-any.whl (34.4 MB)\n",
            "\u001b[2K     \u001b[90m━━━━━━━━━━━━━━━━━━━━━━━━━━━━━━━━━━━━━━━━\u001b[0m \u001b[32m34.4/34.4 MB\u001b[0m \u001b[31m41.7 MB/s\u001b[0m eta \u001b[36m0:00:00\u001b[0m\n",
            "\u001b[?25hCollecting pymorphy2 (from natasha)\n",
            "  Downloading pymorphy2-0.9.1-py3-none-any.whl (55 kB)\n",
            "\u001b[2K     \u001b[90m━━━━━━━━━━━━━━━━━━━━━━━━━━━━━━━━━━━━━━━━\u001b[0m \u001b[32m55.5/55.5 kB\u001b[0m \u001b[31m5.6 MB/s\u001b[0m eta \u001b[36m0:00:00\u001b[0m\n",
            "\u001b[?25hCollecting razdel>=0.5.0 (from natasha)\n",
            "  Downloading razdel-0.5.0-py3-none-any.whl (21 kB)\n",
            "Collecting navec>=0.9.0 (from natasha)\n",
            "  Downloading navec-0.10.0-py3-none-any.whl (23 kB)\n",
            "Collecting slovnet>=0.6.0 (from natasha)\n",
            "  Downloading slovnet-0.6.0-py3-none-any.whl (46 kB)\n",
            "\u001b[2K     \u001b[90m━━━━━━━━━━━━━━━━━━━━━━━━━━━━━━━━━━━━━━━━\u001b[0m \u001b[32m46.7/46.7 kB\u001b[0m \u001b[31m3.6 MB/s\u001b[0m eta \u001b[36m0:00:00\u001b[0m\n",
            "\u001b[?25hCollecting yargy>=0.16.0 (from natasha)\n",
            "  Downloading yargy-0.16.0-py3-none-any.whl (33 kB)\n",
            "Collecting ipymarkup>=0.8.0 (from natasha)\n",
            "  Downloading ipymarkup-0.9.0-py3-none-any.whl (14 kB)\n",
            "Collecting intervaltree>=3 (from ipymarkup>=0.8.0->natasha)\n",
            "  Downloading intervaltree-3.1.0.tar.gz (32 kB)\n",
            "  Preparing metadata (setup.py) ... \u001b[?25l\u001b[?25hdone\n",
            "Requirement already satisfied: numpy in /usr/local/lib/python3.10/dist-packages (from navec>=0.9.0->natasha) (1.23.5)\n",
            "Collecting dawg-python>=0.7.1 (from pymorphy2->natasha)\n",
            "  Downloading DAWG_Python-0.7.2-py2.py3-none-any.whl (11 kB)\n",
            "Collecting pymorphy2-dicts-ru<3.0,>=2.4 (from pymorphy2->natasha)\n",
            "  Downloading pymorphy2_dicts_ru-2.4.417127.4579844-py2.py3-none-any.whl (8.2 MB)\n",
            "\u001b[2K     \u001b[90m━━━━━━━━━━━━━━━━━━━━━━━━━━━━━━━━━━━━━━━━\u001b[0m \u001b[32m8.2/8.2 MB\u001b[0m \u001b[31m88.4 MB/s\u001b[0m eta \u001b[36m0:00:00\u001b[0m\n",
            "\u001b[?25hCollecting docopt>=0.6 (from pymorphy2->natasha)\n",
            "  Downloading docopt-0.6.2.tar.gz (25 kB)\n",
            "  Preparing metadata (setup.py) ... \u001b[?25l\u001b[?25hdone\n",
            "Requirement already satisfied: sortedcontainers<3.0,>=2.0 in /usr/local/lib/python3.10/dist-packages (from intervaltree>=3->ipymarkup>=0.8.0->natasha) (2.4.0)\n",
            "Building wheels for collected packages: docopt, intervaltree\n",
            "  Building wheel for docopt (setup.py) ... \u001b[?25l\u001b[?25hdone\n",
            "  Created wheel for docopt: filename=docopt-0.6.2-py2.py3-none-any.whl size=13705 sha256=057eeccc6bcc76fe6f068f80943c811dcb9681a2f350750ab4a77e207f14f5b3\n",
            "  Stored in directory: /root/.cache/pip/wheels/fc/ab/d4/5da2067ac95b36618c629a5f93f809425700506f72c9732fac\n",
            "  Building wheel for intervaltree (setup.py) ... \u001b[?25l\u001b[?25hdone\n",
            "  Created wheel for intervaltree: filename=intervaltree-3.1.0-py2.py3-none-any.whl size=26094 sha256=ad1afcafb57d1aa693cb978064e2e88d47a9be030ef9d39335c05c963eb9d8b2\n",
            "  Stored in directory: /root/.cache/pip/wheels/fa/80/8c/43488a924a046b733b64de3fac99252674c892a4c3801c0a61\n",
            "Successfully built docopt intervaltree\n",
            "Installing collected packages: razdel, pymorphy2-dicts-ru, docopt, dawg-python, pymorphy2, navec, intervaltree, yargy, slovnet, ipymarkup, natasha\n",
            "Successfully installed dawg-python-0.7.2 docopt-0.6.2 intervaltree-3.1.0 ipymarkup-0.9.0 natasha-1.6.0 navec-0.10.0 pymorphy2-0.9.1 pymorphy2-dicts-ru-2.4.417127.4579844 razdel-0.5.0 slovnet-0.6.0 yargy-0.16.0\n"
          ]
        }
      ]
    },
    {
      "cell_type": "code",
      "source": [
        "from natasha import (\n",
        "  Segmenter,\n",
        "\n",
        "  NewsEmbedding,\n",
        "  NewsMorphTagger,\n",
        "  NewsSyntaxParser,\n",
        "\n",
        "  Doc\n",
        ")\n",
        "# инициализиурем представителей разных классов\n",
        "segmenter = Segmenter() # сегментирует текст\n",
        "\n",
        "emb = NewsEmbedding() # преобразует языковые сущности в числовой вектор\n",
        "morph_tagger = NewsMorphTagger(emb) # анализирует морфологию\n",
        "syntax_parser = NewsSyntaxParser(emb) # анализирует синтаксис"
      ],
      "metadata": {
        "id": "vGJa27wH3olM"
      },
      "execution_count": null,
      "outputs": []
    },
    {
      "cell_type": "code",
      "source": [
        "text = 'Киллиан Мёрфи участвовал в 2007 году в кампании Rock the Voteruen, ориентированной на молодых избирателей на всеобщих выборах, и проводил кампанию за права бездомных с организацией Focus Ireland. В 2011 году он стал патроном Исследовательского центра ЮНЕСКО по проблемам детей и семьи при Ирландском национальном университете в Голуэе. Он тесно связан с работой профессора Пэта Долана, директора UCFRC и кафедры ЮНЕСКО по вопросам детей, молодежи и гражданского участия. В феврале 2012 года он написал послание поддержки бывшим работникам Vita Cortexruen, участвовавшим в сидячей забастовке на их заводе.'\n",
        "doc = Doc(text) # текст нужно определённым образом преобразовать\n",
        "\n",
        "doc.segment(segmenter) # сегментируем тест\n",
        "doc.tag_morph(morph_tagger) # размечаем морфологию\n",
        "doc.parse_syntax(syntax_parser) # размечаем зависимости в синтаксисе\n",
        "\n",
        "sent = doc.sents[1] # сегментируем на предложения и берём только первое предложение"
      ],
      "metadata": {
        "id": "1adIuniB5183"
      },
      "execution_count": null,
      "outputs": []
    },
    {
      "cell_type": "code",
      "source": [
        "words = doc.tokens[:11] # можно сегментировать по словам, сразу получаем морфологический разбор\n",
        "words"
      ],
      "metadata": {
        "colab": {
          "base_uri": "https://localhost:8080/"
        },
        "id": "CdHACtE561aZ",
        "outputId": "0efc8637-d815-4614-d679-64edf4dd045f"
      },
      "execution_count": null,
      "outputs": [
        {
          "output_type": "execute_result",
          "data": {
            "text/plain": [
              "[DocToken(stop=7, text='Киллиан', id='1_1', head_id='1_3', rel='nsubj', pos='PROPN', feats=<Anim,Nom,Masc,Sing>, lemma='киллиан'),\n",
              " DocToken(start=8, stop=13, text='Мёрфи', id='1_2', head_id='1_1', rel='appos', pos='PROPN', feats=<Anim,Nom,Masc,Sing>, lemma='мерфь'),\n",
              " DocToken(start=14, stop=24, text='участвовал', id='1_3', head_id='1_0', rel='root', pos='VERB', feats=<Imp,Masc,Ind,Sing,Past,Fin,Act>, lemma='участвовать'),\n",
              " DocToken(start=25, stop=26, text='в', id='1_4', head_id='1_6', rel='case', pos='ADP', lemma='в'),\n",
              " DocToken(start=27, stop=31, text='2007', id='1_5', head_id='1_6', rel='amod', pos='ADJ', lemma='2007'),\n",
              " DocToken(start=32, stop=36, text='году', id='1_6', head_id='1_3', rel='obl', pos='NOUN', feats=<Inan,Loc,Masc,Sing>, lemma='год'),\n",
              " DocToken(start=37, stop=38, text='в', id='1_7', head_id='1_8', rel='case', pos='ADP', lemma='в'),\n",
              " DocToken(start=39, stop=47, text='кампании', id='1_8', head_id='1_3', rel='obl', pos='NOUN', feats=<Inan,Loc,Fem,Sing>, lemma='кампания'),\n",
              " DocToken(start=48, stop=52, text='Rock', id='1_9', head_id='1_8', rel='appos', pos='X', feats=<Yes>, lemma='rock'),\n",
              " DocToken(start=53, stop=56, text='the', id='1_10', head_id='1_9', rel='flat:foreign', pos='X', feats=<Yes>, lemma='the'),\n",
              " DocToken(start=57, stop=65, text='Voteruen', id='1_11', head_id='1_9', rel='flat:foreign', pos='X', feats=<Yes>, lemma='voteruen')]"
            ]
          },
          "metadata": {},
          "execution_count": 33
        }
      ]
    },
    {
      "cell_type": "markdown",
      "source": [
        "[Тут](https://downloads.cs.stanford.edu/nlp/software/dependencies_manual.pdf) есть список всех обозначений частей речи и зависимостей. К сожалению, на английском. :( А [здесь](https://www.ulsu.ru/media/files1/20220108/%D0%A3%D0%9C%D0%A1%D0%A0_%D0%90%D0%BB%D0%B3%D0%BE%D1%80%D0%B8%D1%82%D0%BC%D1%8B%20%D0%98%D0%98%20%D0%BD%D0%B0%20Python.1.pdf), кажется, есть что-то на русском."
      ],
      "metadata": {
        "id": "K1zc75zL9PYp"
      }
    },
    {
      "cell_type": "code",
      "source": [
        "sent.morph.print() # выводим морфологический анализ"
      ],
      "metadata": {
        "colab": {
          "base_uri": "https://localhost:8080/"
        },
        "id": "t_C1dulW8NId",
        "outputId": "13873fe3-41b8-4639-dabf-3e313101535a"
      },
      "execution_count": null,
      "outputs": [
        {
          "output_type": "stream",
          "name": "stdout",
          "text": [
            "                   В ADP\n",
            "                2011 ADJ\n",
            "                году NOUN|Animacy=Inan|Case=Loc|Gender=Masc|Number=Sing\n",
            "                  он PRON|Case=Nom|Gender=Masc|Number=Sing|Person=3\n",
            "                стал VERB|Aspect=Perf|Gender=Masc|Mood=Ind|Number=Sing|Tense=Past|VerbForm=Fin|Voice=Act\n",
            "            патроном NOUN|Animacy=Inan|Case=Ins|Gender=Masc|Number=Sing\n",
            "  Исследовательского ADJ|Case=Gen|Degree=Pos|Gender=Masc|Number=Sing\n",
            "              центра NOUN|Animacy=Inan|Case=Gen|Gender=Masc|Number=Sing\n",
            "              ЮНЕСКО PROPN|Animacy=Inan|Case=Gen|Gender=Neut|Number=Sing\n",
            "                  по ADP\n",
            "           проблемам NOUN|Animacy=Inan|Case=Dat|Gender=Fem|Number=Plur\n",
            "               детей NOUN|Animacy=Anim|Case=Gen|Gender=Masc|Number=Plur\n",
            "                   и CCONJ\n",
            "               семьи NOUN|Animacy=Inan|Case=Gen|Gender=Fem|Number=Sing\n",
            "                 при ADP\n",
            "          Ирландском ADJ|Case=Loc|Degree=Pos|Gender=Masc|Number=Sing\n",
            "        национальном ADJ|Case=Loc|Degree=Pos|Gender=Masc|Number=Sing\n",
            "        университете NOUN|Animacy=Inan|Case=Loc|Gender=Masc|Number=Sing\n",
            "                   в ADP\n",
            "              Голуэе PROPN|Animacy=Inan|Case=Loc|Gender=Masc|Number=Sing\n",
            "                   . PUNCT\n"
          ]
        }
      ]
    },
    {
      "cell_type": "markdown",
      "source": [
        "Мы можем вывести отдельные морфологические характеристики для слов."
      ],
      "metadata": {
        "id": "PFr4VehaT_qo"
      }
    },
    {
      "cell_type": "code",
      "source": [
        "for token in doc.tokens:\n",
        "  print(token.text, token.pos) # выводит слово и его часть речи\n",
        "  print(token.text, token.feats) # выводит слово и его морфологический разбор\n",
        "  #print(token.feats.keys()) # выводит все атрибуты, которые есть у словоформы\n",
        "  try:\n",
        "    print('Падеж слова:', token.feats['Case'] + '.')\n",
        "  except:\n",
        "    print('Слово не имеет падежа.') # выводит падеж, если он есть"
      ],
      "metadata": {
        "id": "Sr2R1lGDT_HD",
        "colab": {
          "base_uri": "https://localhost:8080/"
        },
        "outputId": "14531f9f-947a-46f3-8092-e584df23740d"
      },
      "execution_count": null,
      "outputs": [
        {
          "output_type": "stream",
          "name": "stdout",
          "text": [
            "Киллиан PROPN\n",
            "Киллиан {'Animacy': 'Anim', 'Case': 'Nom', 'Gender': 'Masc', 'Number': 'Sing'}\n",
            "Падеж слова: Nom.\n",
            "Мёрфи PROPN\n",
            "Мёрфи {'Animacy': 'Anim', 'Case': 'Nom', 'Gender': 'Masc', 'Number': 'Sing'}\n",
            "Падеж слова: Nom.\n",
            "участвовал VERB\n",
            "участвовал {'Aspect': 'Imp', 'Gender': 'Masc', 'Mood': 'Ind', 'Number': 'Sing', 'Tense': 'Past', 'VerbForm': 'Fin', 'Voice': 'Act'}\n",
            "Слово не имеет падежа.\n",
            "в ADP\n",
            "в {}\n",
            "Слово не имеет падежа.\n",
            "2007 ADJ\n",
            "2007 {}\n",
            "Слово не имеет падежа.\n",
            "году NOUN\n",
            "году {'Animacy': 'Inan', 'Case': 'Loc', 'Gender': 'Masc', 'Number': 'Sing'}\n",
            "Падеж слова: Loc.\n",
            "в ADP\n",
            "в {}\n",
            "Слово не имеет падежа.\n",
            "кампании NOUN\n",
            "кампании {'Animacy': 'Inan', 'Case': 'Loc', 'Gender': 'Fem', 'Number': 'Sing'}\n",
            "Падеж слова: Loc.\n",
            "Rock X\n",
            "Rock {'Foreign': 'Yes'}\n",
            "Слово не имеет падежа.\n",
            "the X\n",
            "the {'Foreign': 'Yes'}\n",
            "Слово не имеет падежа.\n",
            "Voteruen X\n",
            "Voteruen {'Foreign': 'Yes'}\n",
            "Слово не имеет падежа.\n",
            ", PUNCT\n",
            ", {}\n",
            "Слово не имеет падежа.\n",
            "ориентированной VERB\n",
            "ориентированной {'Aspect': 'Perf', 'Case': 'Gen', 'Gender': 'Fem', 'Number': 'Sing', 'Tense': 'Past', 'VerbForm': 'Part', 'Voice': 'Pass'}\n",
            "Падеж слова: Gen.\n",
            "на ADP\n",
            "на {}\n",
            "Слово не имеет падежа.\n",
            "молодых ADJ\n",
            "молодых {'Animacy': 'Anim', 'Case': 'Acc', 'Degree': 'Pos', 'Number': 'Plur'}\n",
            "Падеж слова: Acc.\n",
            "избирателей NOUN\n",
            "избирателей {'Animacy': 'Anim', 'Case': 'Acc', 'Gender': 'Masc', 'Number': 'Plur'}\n",
            "Падеж слова: Acc.\n",
            "на ADP\n",
            "на {}\n",
            "Слово не имеет падежа.\n",
            "всеобщих ADJ\n",
            "всеобщих {'Case': 'Loc', 'Degree': 'Pos', 'Number': 'Plur'}\n",
            "Падеж слова: Loc.\n",
            "выборах NOUN\n",
            "выборах {'Animacy': 'Inan', 'Case': 'Loc', 'Gender': 'Masc', 'Number': 'Plur'}\n",
            "Падеж слова: Loc.\n",
            ", PUNCT\n",
            ", {}\n",
            "Слово не имеет падежа.\n",
            "и CCONJ\n",
            "и {}\n",
            "Слово не имеет падежа.\n",
            "проводил VERB\n",
            "проводил {'Aspect': 'Imp', 'Gender': 'Masc', 'Mood': 'Ind', 'Number': 'Sing', 'Tense': 'Past', 'VerbForm': 'Fin', 'Voice': 'Act'}\n",
            "Слово не имеет падежа.\n",
            "кампанию NOUN\n",
            "кампанию {'Animacy': 'Inan', 'Case': 'Acc', 'Gender': 'Fem', 'Number': 'Sing'}\n",
            "Падеж слова: Acc.\n",
            "за ADP\n",
            "за {}\n",
            "Слово не имеет падежа.\n",
            "права NOUN\n",
            "права {'Animacy': 'Inan', 'Case': 'Acc', 'Gender': 'Neut', 'Number': 'Plur'}\n",
            "Падеж слова: Acc.\n",
            "бездомных ADJ\n",
            "бездомных {'Case': 'Gen', 'Degree': 'Pos', 'Number': 'Plur'}\n",
            "Падеж слова: Gen.\n",
            "с ADP\n",
            "с {}\n",
            "Слово не имеет падежа.\n",
            "организацией NOUN\n",
            "организацией {'Animacy': 'Inan', 'Case': 'Ins', 'Gender': 'Fem', 'Number': 'Sing'}\n",
            "Падеж слова: Ins.\n",
            "Focus X\n",
            "Focus {'Foreign': 'Yes'}\n",
            "Слово не имеет падежа.\n",
            "Ireland X\n",
            "Ireland {'Foreign': 'Yes'}\n",
            "Слово не имеет падежа.\n",
            ". PUNCT\n",
            ". {}\n",
            "Слово не имеет падежа.\n",
            "В ADP\n",
            "В {}\n",
            "Слово не имеет падежа.\n",
            "2011 ADJ\n",
            "2011 {}\n",
            "Слово не имеет падежа.\n",
            "году NOUN\n",
            "году {'Animacy': 'Inan', 'Case': 'Loc', 'Gender': 'Masc', 'Number': 'Sing'}\n",
            "Падеж слова: Loc.\n",
            "он PRON\n",
            "он {'Case': 'Nom', 'Gender': 'Masc', 'Number': 'Sing', 'Person': '3'}\n",
            "Падеж слова: Nom.\n",
            "стал VERB\n",
            "стал {'Aspect': 'Perf', 'Gender': 'Masc', 'Mood': 'Ind', 'Number': 'Sing', 'Tense': 'Past', 'VerbForm': 'Fin', 'Voice': 'Act'}\n",
            "Слово не имеет падежа.\n",
            "патроном NOUN\n",
            "патроном {'Animacy': 'Inan', 'Case': 'Ins', 'Gender': 'Masc', 'Number': 'Sing'}\n",
            "Падеж слова: Ins.\n",
            "Исследовательского ADJ\n",
            "Исследовательского {'Case': 'Gen', 'Degree': 'Pos', 'Gender': 'Masc', 'Number': 'Sing'}\n",
            "Падеж слова: Gen.\n",
            "центра NOUN\n",
            "центра {'Animacy': 'Inan', 'Case': 'Gen', 'Gender': 'Masc', 'Number': 'Sing'}\n",
            "Падеж слова: Gen.\n",
            "ЮНЕСКО PROPN\n",
            "ЮНЕСКО {'Animacy': 'Inan', 'Case': 'Gen', 'Gender': 'Neut', 'Number': 'Sing'}\n",
            "Падеж слова: Gen.\n",
            "по ADP\n",
            "по {}\n",
            "Слово не имеет падежа.\n",
            "проблемам NOUN\n",
            "проблемам {'Animacy': 'Inan', 'Case': 'Dat', 'Gender': 'Fem', 'Number': 'Plur'}\n",
            "Падеж слова: Dat.\n",
            "детей NOUN\n",
            "детей {'Animacy': 'Anim', 'Case': 'Gen', 'Gender': 'Masc', 'Number': 'Plur'}\n",
            "Падеж слова: Gen.\n",
            "и CCONJ\n",
            "и {}\n",
            "Слово не имеет падежа.\n",
            "семьи NOUN\n",
            "семьи {'Animacy': 'Inan', 'Case': 'Gen', 'Gender': 'Fem', 'Number': 'Sing'}\n",
            "Падеж слова: Gen.\n",
            "при ADP\n",
            "при {}\n",
            "Слово не имеет падежа.\n",
            "Ирландском ADJ\n",
            "Ирландском {'Case': 'Loc', 'Degree': 'Pos', 'Gender': 'Masc', 'Number': 'Sing'}\n",
            "Падеж слова: Loc.\n",
            "национальном ADJ\n",
            "национальном {'Case': 'Loc', 'Degree': 'Pos', 'Gender': 'Masc', 'Number': 'Sing'}\n",
            "Падеж слова: Loc.\n",
            "университете NOUN\n",
            "университете {'Animacy': 'Inan', 'Case': 'Loc', 'Gender': 'Masc', 'Number': 'Sing'}\n",
            "Падеж слова: Loc.\n",
            "в ADP\n",
            "в {}\n",
            "Слово не имеет падежа.\n",
            "Голуэе PROPN\n",
            "Голуэе {'Animacy': 'Inan', 'Case': 'Loc', 'Gender': 'Masc', 'Number': 'Sing'}\n",
            "Падеж слова: Loc.\n",
            ". PUNCT\n",
            ". {}\n",
            "Слово не имеет падежа.\n",
            "Он PRON\n",
            "Он {'Case': 'Nom', 'Gender': 'Masc', 'Number': 'Sing', 'Person': '3'}\n",
            "Падеж слова: Nom.\n",
            "тесно ADV\n",
            "тесно {'Degree': 'Pos'}\n",
            "Слово не имеет падежа.\n",
            "связан VERB\n",
            "связан {'Aspect': 'Perf', 'Gender': 'Masc', 'Number': 'Sing', 'Tense': 'Past', 'Variant': 'Short', 'VerbForm': 'Part', 'Voice': 'Pass'}\n",
            "Слово не имеет падежа.\n",
            "с ADP\n",
            "с {}\n",
            "Слово не имеет падежа.\n",
            "работой NOUN\n",
            "работой {'Animacy': 'Inan', 'Case': 'Ins', 'Gender': 'Fem', 'Number': 'Sing'}\n",
            "Падеж слова: Ins.\n",
            "профессора NOUN\n",
            "профессора {'Animacy': 'Anim', 'Case': 'Gen', 'Gender': 'Masc', 'Number': 'Sing'}\n",
            "Падеж слова: Gen.\n",
            "Пэта PROPN\n",
            "Пэта {'Animacy': 'Anim', 'Case': 'Gen', 'Gender': 'Masc', 'Number': 'Sing'}\n",
            "Падеж слова: Gen.\n",
            "Долана PROPN\n",
            "Долана {'Animacy': 'Anim', 'Case': 'Gen', 'Gender': 'Masc', 'Number': 'Sing'}\n",
            "Падеж слова: Gen.\n",
            ", PUNCT\n",
            ", {}\n",
            "Слово не имеет падежа.\n",
            "директора NOUN\n",
            "директора {'Animacy': 'Anim', 'Case': 'Gen', 'Gender': 'Masc', 'Number': 'Sing'}\n",
            "Падеж слова: Gen.\n",
            "UCFRC PROPN\n",
            "UCFRC {'Foreign': 'Yes'}\n",
            "Слово не имеет падежа.\n",
            "и CCONJ\n",
            "и {}\n",
            "Слово не имеет падежа.\n",
            "кафедры NOUN\n",
            "кафедры {'Animacy': 'Inan', 'Case': 'Gen', 'Gender': 'Fem', 'Number': 'Sing'}\n",
            "Падеж слова: Gen.\n",
            "ЮНЕСКО PROPN\n",
            "ЮНЕСКО {'Animacy': 'Inan', 'Case': 'Gen', 'Gender': 'Neut', 'Number': 'Sing'}\n",
            "Падеж слова: Gen.\n",
            "по ADP\n",
            "по {}\n",
            "Слово не имеет падежа.\n",
            "вопросам NOUN\n",
            "вопросам {'Animacy': 'Inan', 'Case': 'Dat', 'Gender': 'Masc', 'Number': 'Plur'}\n",
            "Падеж слова: Dat.\n",
            "детей NOUN\n",
            "детей {'Animacy': 'Anim', 'Case': 'Gen', 'Gender': 'Masc', 'Number': 'Plur'}\n",
            "Падеж слова: Gen.\n",
            ", PUNCT\n",
            ", {}\n",
            "Слово не имеет падежа.\n",
            "молодежи NOUN\n",
            "молодежи {'Animacy': 'Inan', 'Case': 'Gen', 'Gender': 'Fem', 'Number': 'Sing'}\n",
            "Падеж слова: Gen.\n",
            "и CCONJ\n",
            "и {}\n",
            "Слово не имеет падежа.\n",
            "гражданского ADJ\n",
            "гражданского {'Case': 'Gen', 'Degree': 'Pos', 'Gender': 'Neut', 'Number': 'Sing'}\n",
            "Падеж слова: Gen.\n",
            "участия NOUN\n",
            "участия {'Animacy': 'Inan', 'Case': 'Gen', 'Gender': 'Neut', 'Number': 'Sing'}\n",
            "Падеж слова: Gen.\n",
            ". PUNCT\n",
            ". {}\n",
            "Слово не имеет падежа.\n",
            "В ADP\n",
            "В {}\n",
            "Слово не имеет падежа.\n",
            "феврале NOUN\n",
            "феврале {'Animacy': 'Inan', 'Case': 'Loc', 'Gender': 'Masc', 'Number': 'Sing'}\n",
            "Падеж слова: Loc.\n",
            "2012 ADJ\n",
            "2012 {}\n",
            "Слово не имеет падежа.\n",
            "года NOUN\n",
            "года {'Animacy': 'Inan', 'Case': 'Gen', 'Gender': 'Masc', 'Number': 'Sing'}\n",
            "Падеж слова: Gen.\n",
            "он PRON\n",
            "он {'Case': 'Nom', 'Gender': 'Masc', 'Number': 'Sing', 'Person': '3'}\n",
            "Падеж слова: Nom.\n",
            "написал VERB\n",
            "написал {'Aspect': 'Perf', 'Gender': 'Masc', 'Mood': 'Ind', 'Number': 'Sing', 'Tense': 'Past', 'VerbForm': 'Fin', 'Voice': 'Act'}\n",
            "Слово не имеет падежа.\n",
            "послание NOUN\n",
            "послание {'Animacy': 'Inan', 'Case': 'Acc', 'Gender': 'Neut', 'Number': 'Sing'}\n",
            "Падеж слова: Acc.\n",
            "поддержки NOUN\n",
            "поддержки {'Animacy': 'Inan', 'Case': 'Gen', 'Gender': 'Fem', 'Number': 'Sing'}\n",
            "Падеж слова: Gen.\n",
            "бывшим ADJ\n",
            "бывшим {'Case': 'Dat', 'Degree': 'Pos', 'Number': 'Plur'}\n",
            "Падеж слова: Dat.\n",
            "работникам NOUN\n",
            "работникам {'Animacy': 'Anim', 'Case': 'Dat', 'Gender': 'Masc', 'Number': 'Plur'}\n",
            "Падеж слова: Dat.\n",
            "Vita X\n",
            "Vita {'Foreign': 'Yes'}\n",
            "Слово не имеет падежа.\n",
            "Cortexruen X\n",
            "Cortexruen {'Foreign': 'Yes'}\n",
            "Слово не имеет падежа.\n",
            ", PUNCT\n",
            ", {}\n",
            "Слово не имеет падежа.\n",
            "участвовавшим VERB\n",
            "участвовавшим {'Aspect': 'Imp', 'Case': 'Dat', 'Number': 'Plur', 'Tense': 'Past', 'VerbForm': 'Part', 'Voice': 'Act'}\n",
            "Падеж слова: Dat.\n",
            "в ADP\n",
            "в {}\n",
            "Слово не имеет падежа.\n",
            "сидячей ADJ\n",
            "сидячей {'Case': 'Loc', 'Degree': 'Pos', 'Gender': 'Fem', 'Number': 'Sing'}\n",
            "Падеж слова: Loc.\n",
            "забастовке NOUN\n",
            "забастовке {'Animacy': 'Inan', 'Case': 'Loc', 'Gender': 'Fem', 'Number': 'Sing'}\n",
            "Падеж слова: Loc.\n",
            "на ADP\n",
            "на {}\n",
            "Слово не имеет падежа.\n",
            "их PRON\n",
            "их {'Case': 'Gen', 'Number': 'Plur', 'Person': '3'}\n",
            "Падеж слова: Gen.\n",
            "заводе NOUN\n",
            "заводе {'Animacy': 'Inan', 'Case': 'Loc', 'Gender': 'Masc', 'Number': 'Sing'}\n",
            "Падеж слова: Loc.\n",
            ". PUNCT\n",
            ". {}\n",
            "Слово не имеет падежа.\n"
          ]
        }
      ]
    },
    {
      "cell_type": "code",
      "source": [
        "sent.syntax.print() # выводим синтаксический анализ"
      ],
      "metadata": {
        "id": "JZaBufjt8TUn",
        "colab": {
          "base_uri": "https://localhost:8080/"
        },
        "outputId": "5302c3e2-8002-4133-a8a5-9966e0cdd900"
      },
      "execution_count": null,
      "outputs": [
        {
          "output_type": "stream",
          "name": "stdout",
          "text": [
            "        ┌──► В                  case\n",
            "        │ ┌► 2011               amod\n",
            "      ┌►└─└─ году               obl\n",
            "      │   ┌► он                 nsubj\n",
            "┌─────└─┌─└─ стал               \n",
            "│     ┌─└──► патроном           xcomp\n",
            "│     │   ┌► Исследовательского amod\n",
            "│ ┌─┌─└►┌─└─ центра             nmod\n",
            "│ │ │   └──► ЮНЕСКО             nmod\n",
            "│ │ │     ┌► по                 case\n",
            "│ │ └──►┌─└─ проблемам          nmod\n",
            "│ │   ┌─└──► детей              nmod\n",
            "│ │   │   ┌► и                  cc\n",
            "│ │   └──►└─ семьи              conj\n",
            "│ │   ┌────► при                case\n",
            "│ │   │ ┌──► Ирландском         amod\n",
            "│ │   │ │ ┌► национальном       amod\n",
            "│ └──►└─└─└─ университете       nmod\n",
            "│     │   ┌► в                  case\n",
            "│     └──►└─ Голуэе             nmod\n",
            "└──────────► .                  punct\n"
          ]
        }
      ]
    },
    {
      "cell_type": "markdown",
      "source": [
        "### Распознавание именованных сущностей"
      ],
      "metadata": {
        "id": "pxOuWILEEmGM"
      }
    },
    {
      "cell_type": "markdown",
      "source": [
        "Natasha также умеет распознавать **именованные сущности** (NER - Named Entity Recognition): имена людей, названия организаций, книг, городов и другие имена собственные.\n",
        "\n",
        "За одной задачей NER, на самом деле, стоит две:\n",
        "1. обнаружить, что какая-то последовательность слов — это именованная сущность;\n",
        "2. понять, к какому классу (имя человека, название организации, город и т.п.) эта именованная сущность относится.\n",
        "\n",
        "Какие классы именованных сущностей обычно хотят найти? Практически всегда стараются извлекать **имена людей и названия мест и организаций**, а дальше все зависит от конкретных задач, которые нужно решать, или от возможностей предобученной системы, которую планируется использовать. Также к задаче NER относят **извлечение дат, денежных сумм (число + валюта)**.\n",
        "\n",
        "Многие именованные сущности могут в разных контекстах относиться к разным классам: слово «Чехов» может быть человеком, городом, названием клуба и т.д.\n",
        "\n",
        "Какие **проблемы** могут быть связаны с NER?\n",
        "\n",
        "1. Именованные сущности редко состоят из одного слова. Например, из предложения «Звонил доктор Владимир Бомгард» нужно извлечь, как минимум, имя и фамилию — «Владимир Бомгард», а для многих задач полезно уметь находить полное «наименование» человека, о котором говорится: «доктор Владимир Бомгард».\n",
        "2. Не всегда очевидны границы, например, словосочетание «Иван Васильевич и партнеры» может быть названием некоторой организации, а может подразумевать некоторого Ивана Васильевича и отдельно его партнеров.\n",
        "3. С большой буквы пишутся не только имена собственные. Это верно и для русского, и еще больше для английского, но особенно хорошо видно в немецком, где с большой буквы пишутся вообще все существительные.\n",
        "4. Не во всех языках вообще есть большие буквы (например, это верно для языков со слоговыми системами).\n",
        "\n",
        "Как **работают** с именованными сущностями?\n",
        "\n",
        "Хотя большинство именованных сущностей состоит из нескольких слов, при решении этой задачи обычно рассматривают отдельные слова и решают, является ли это слово частью именованной сущности или нет. При этом **различают начало, середину и конец именованной сущности**.\n",
        "\n",
        "При разметке именованных сущностей принято использовать префикс **«B» (beginning, начало)** для обозначения первого слова, **«E» (end, конец)** — для последнего слова и **«I» (intermediate, промежуточный)** — для всех слов между. Иногда также используется префикс **«S» (single)** для обозначения именованной сущности, состоящей из одного слова. **«O» (outside, снаружи)** — слово не относится ни к какой сущности.\n",
        "\n",
        "Задача сводится к **пословной классификации**. Обычно тренируют **нейросетевую модель** на большом количестве текстов с разметкой именованных сущностей. В основе моделей обычно стоят модули, которые позволяют учитывать контекст с двух сторон от анализируемого слова.\n",
        "\n",
        "Хорошие результаты дают и **классические классификаторы**, работающие с предзаданным множеством признаков. Большие буквы или нестандартное использование больших и маленьких букв (iPhone), а также специфических символов (H&M) внутри слова — все это полезные признаки для выявления именованных сущностей.\n",
        "\n",
        "Также до сих пор используются **системы, основанные на правилах**: в них прописываются разные шаблонные схемы именованных сущностей. Например, шаблон «Министерство + образования\\туризма\\здравоохранения + Название страны» поможет найти «Министерство образования Италии» и «Министерство туризма Мексики». Шаблон «однозначное\\двузначное число + название месяца + четырехзначное число» — это дата. Основная проблема такого подхода: на подготовку правил требуется очень много времени, а малейшее отступление от паттерна (например, банальная опечатка) все сломает. Также набор правил пишется под определенный язык, поэтому набор правил, помогающий извлекать именованные сущности из текстов на русском языке никак не поможет при обработке другого языка.\n",
        "\n",
        "**Активно используемых именованных сущностей конечное количество**, многие из них уже собраны в списки (так называемые **газетиры**, gazetteers): географические названия, словари имен, реестры организаций и т.п. Всю эту информацию тоже стараются использовать для решения задачи NER."
      ],
      "metadata": {
        "id": "0UNiw4Hw985T"
      }
    },
    {
      "cell_type": "code",
      "source": [
        "from natasha import NewsNERTagger\n",
        "ner_tagger = NewsNERTagger(emb) # инициализируем распознаватель именованных сущностей"
      ],
      "metadata": {
        "id": "FqfefXU1DHzG"
      },
      "execution_count": null,
      "outputs": []
    },
    {
      "cell_type": "code",
      "source": [
        "doc.tag_ner(ner_tagger)\n",
        "doc.ner.print()"
      ],
      "metadata": {
        "id": "D0g252qqDNgM"
      },
      "execution_count": null,
      "outputs": []
    },
    {
      "cell_type": "markdown",
      "source": [
        "### Лемматизация и стемминг\n",
        "\n",
        "Стемминг vs лемматизация: что это такое и в чём разница?\n",
        "\n",
        "Это всё способы нормализации.\n",
        "\n",
        "**Лемма** - словарная форма слова. **Лемматизация** учитывает морфологический анализ слов и использует словарь для нахождения словарной формы слова.\n",
        "\n",
        "**Стемминг** работает, не учитывая контекст и морфологические характеристики слова, а просто грубо отсекает \"лишнее\" от корней слов, в том числе и словообразовательные суффиксы. Поэтому чаще всего стемминг уступает лемматизации.\n",
        "\n",
        "Natasha умеет решать задачу лемматизации. Для этого она использует другой морфологический анализатор **Pymorphy2**, с которым мы в полной мере познакомимся чуть попозже."
      ],
      "metadata": {
        "id": "u8BlYG3_EwbI"
      }
    },
    {
      "cell_type": "code",
      "source": [
        "from natasha import MorphVocab\n",
        "\n",
        "morph_vocab = MorphVocab()\n",
        "\n",
        "for token in doc.tokens:\n",
        "  token.lemmatize(morph_vocab)\n",
        "\n",
        "{word.text: word.lemma for word in doc.tokens} # создаёт для каждого токена вхождение в словаре"
      ],
      "metadata": {
        "id": "exsC-_J3N4PH"
      },
      "execution_count": null,
      "outputs": []
    },
    {
      "cell_type": "markdown",
      "source": [
        "Лемматизиация не очень хорошо справляется с названиями именованных сущностей, потому что она их делит пословно. Но это можно исправить."
      ],
      "metadata": {
        "id": "ek8h_QvAPohQ"
      }
    },
    {
      "cell_type": "code",
      "source": [
        "for span in doc.spans: # эта функция опирается на морфологический и синатаксический анализ, а также на NER\n",
        "  span.normalize(morph_vocab)\n",
        "{span.text: span.normal for span in doc.spans}"
      ],
      "metadata": {
        "colab": {
          "base_uri": "https://localhost:8080/"
        },
        "id": "uRjc_Up0Pn70",
        "outputId": "ef0baf8c-3324-4152-e044-0d8ac1c79392"
      },
      "execution_count": null,
      "outputs": [
        {
          "output_type": "execute_result",
          "data": {
            "text/plain": [
              "{'Киллиан Мёрфи': 'Киллиан Мерфи',\n",
              " 'Focus Ireland': 'Focus Ireland',\n",
              " 'Исследовательского центра': 'Исследовательский центр',\n",
              " 'ЮНЕСКО': 'ЮНЕСКО',\n",
              " 'Ирландском национальном университете': 'Ирландский национальный университет',\n",
              " 'Голуэе': 'Голуэй',\n",
              " 'Пэта Долана': 'Пэта Долан',\n",
              " 'UCFRC': 'UCFRC',\n",
              " 'Vita Cortexruen': 'Vita Cortexruen'}"
            ]
          },
          "metadata": {},
          "execution_count": 21
        }
      ]
    },
    {
      "cell_type": "markdown",
      "source": [
        "Мы можем отдельно выцеплять имена людей."
      ],
      "metadata": {
        "id": "-s07hb_pRJoc"
      }
    },
    {
      "cell_type": "code",
      "source": [
        "from natasha import (\n",
        "  PER,\n",
        "  NamesExtractor,\n",
        ")\n",
        "\n",
        "names_extractor = NamesExtractor(morph_vocab)"
      ],
      "metadata": {
        "id": "SOuj3PDSSWXc"
      },
      "execution_count": null,
      "outputs": []
    },
    {
      "cell_type": "code",
      "source": [
        "for span in doc.spans:\n",
        "  if span.type == PER:\n",
        "    span.extract_fact(names_extractor)\n",
        "\n",
        "{_.normal: _.fact.as_dict for _ in doc.spans if _.type == PER}"
      ],
      "metadata": {
        "id": "TpKSo1FMQ5-e"
      },
      "execution_count": null,
      "outputs": []
    }
  ]
}