{
  "nbformat": 4,
  "nbformat_minor": 0,
  "metadata": {
    "colab": {
      "provenance": [],
      "authorship_tag": "ABX9TyMcQqPv3D1KTHXwU4AwJIOd",
      "include_colab_link": true
    },
    "kernelspec": {
      "name": "python3",
      "display_name": "Python 3"
    },
    "language_info": {
      "name": "python"
    }
  },
  "cells": [
    {
      "cell_type": "markdown",
      "metadata": {
        "id": "view-in-github",
        "colab_type": "text"
      },
      "source": [
        "<a href=\"https://colab.research.google.com/github/Whereamiactually/lyceumcompling10/blob/main/Natasha_morph_syntax_NER.ipynb\" target=\"_parent\"><img src=\"https://colab.research.google.com/assets/colab-badge.svg\" alt=\"Open In Colab\"/></a>"
      ]
    },
    {
      "cell_type": "markdown",
      "source": [
        "# Домашка №1 (регулярные выражения)\n",
        "\n",
        "### 1. Удаление тэгов"
      ],
      "metadata": {
        "id": "96rLdFJb9C9h"
      }
    },
    {
      "cell_type": "code",
      "source": [
        "pip install natasha"
      ],
      "metadata": {
        "colab": {
          "base_uri": "https://localhost:8080/"
        },
        "id": "1wC49WcL_i3q",
        "outputId": "92bda9d9-65b8-4456-98ab-53a41bd157d8"
      },
      "execution_count": 2,
      "outputs": [
        {
          "output_type": "stream",
          "name": "stdout",
          "text": [
            "Collecting natasha\n",
            "  Downloading natasha-1.6.0-py3-none-any.whl (34.4 MB)\n",
            "\u001b[2K     \u001b[90m━━━━━━━━━━━━━━━━━━━━━━━━━━━━━━━━━━━━━━━━\u001b[0m \u001b[32m34.4/34.4 MB\u001b[0m \u001b[31m56.6 MB/s\u001b[0m eta \u001b[36m0:00:00\u001b[0m\n",
            "\u001b[?25hCollecting pymorphy2 (from natasha)\n",
            "  Downloading pymorphy2-0.9.1-py3-none-any.whl (55 kB)\n",
            "\u001b[2K     \u001b[90m━━━━━━━━━━━━━━━━━━━━━━━━━━━━━━━━━━━━━━━━\u001b[0m \u001b[32m55.5/55.5 kB\u001b[0m \u001b[31m7.6 MB/s\u001b[0m eta \u001b[36m0:00:00\u001b[0m\n",
            "\u001b[?25hCollecting razdel>=0.5.0 (from natasha)\n",
            "  Downloading razdel-0.5.0-py3-none-any.whl (21 kB)\n",
            "Collecting navec>=0.9.0 (from natasha)\n",
            "  Downloading navec-0.10.0-py3-none-any.whl (23 kB)\n",
            "Collecting slovnet>=0.6.0 (from natasha)\n",
            "  Downloading slovnet-0.6.0-py3-none-any.whl (46 kB)\n",
            "\u001b[2K     \u001b[90m━━━━━━━━━━━━━━━━━━━━━━━━━━━━━━━━━━━━━━━━\u001b[0m \u001b[32m46.7/46.7 kB\u001b[0m \u001b[31m5.9 MB/s\u001b[0m eta \u001b[36m0:00:00\u001b[0m\n",
            "\u001b[?25hCollecting yargy>=0.16.0 (from natasha)\n",
            "  Downloading yargy-0.16.0-py3-none-any.whl (33 kB)\n",
            "Collecting ipymarkup>=0.8.0 (from natasha)\n",
            "  Downloading ipymarkup-0.9.0-py3-none-any.whl (14 kB)\n",
            "Collecting intervaltree>=3 (from ipymarkup>=0.8.0->natasha)\n",
            "  Downloading intervaltree-3.1.0.tar.gz (32 kB)\n",
            "  Preparing metadata (setup.py) ... \u001b[?25l\u001b[?25hdone\n",
            "Requirement already satisfied: numpy in /usr/local/lib/python3.10/dist-packages (from navec>=0.9.0->natasha) (1.23.5)\n",
            "Collecting dawg-python>=0.7.1 (from pymorphy2->natasha)\n",
            "  Downloading DAWG_Python-0.7.2-py2.py3-none-any.whl (11 kB)\n",
            "Collecting pymorphy2-dicts-ru<3.0,>=2.4 (from pymorphy2->natasha)\n",
            "  Downloading pymorphy2_dicts_ru-2.4.417127.4579844-py2.py3-none-any.whl (8.2 MB)\n",
            "\u001b[2K     \u001b[90m━━━━━━━━━━━━━━━━━━━━━━━━━━━━━━━━━━━━━━━━\u001b[0m \u001b[32m8.2/8.2 MB\u001b[0m \u001b[31m135.2 MB/s\u001b[0m eta \u001b[36m0:00:00\u001b[0m\n",
            "\u001b[?25hCollecting docopt>=0.6 (from pymorphy2->natasha)\n",
            "  Downloading docopt-0.6.2.tar.gz (25 kB)\n",
            "  Preparing metadata (setup.py) ... \u001b[?25l\u001b[?25hdone\n",
            "Requirement already satisfied: sortedcontainers<3.0,>=2.0 in /usr/local/lib/python3.10/dist-packages (from intervaltree>=3->ipymarkup>=0.8.0->natasha) (2.4.0)\n",
            "Building wheels for collected packages: docopt, intervaltree\n",
            "  Building wheel for docopt (setup.py) ... \u001b[?25l\u001b[?25hdone\n",
            "  Created wheel for docopt: filename=docopt-0.6.2-py2.py3-none-any.whl size=13705 sha256=a74beeb8a8e6595ee93092a98bd4e90b52c567106e5c80fda30770daedda7240\n",
            "  Stored in directory: /root/.cache/pip/wheels/fc/ab/d4/5da2067ac95b36618c629a5f93f809425700506f72c9732fac\n",
            "  Building wheel for intervaltree (setup.py) ... \u001b[?25l\u001b[?25hdone\n",
            "  Created wheel for intervaltree: filename=intervaltree-3.1.0-py2.py3-none-any.whl size=26094 sha256=ff0789e0886258e2e41e2debdd8d699dd37ae3f53a5340128e32269a07c998e8\n",
            "  Stored in directory: /root/.cache/pip/wheels/fa/80/8c/43488a924a046b733b64de3fac99252674c892a4c3801c0a61\n",
            "Successfully built docopt intervaltree\n",
            "Installing collected packages: razdel, pymorphy2-dicts-ru, docopt, dawg-python, pymorphy2, navec, intervaltree, yargy, slovnet, ipymarkup, natasha\n",
            "Successfully installed dawg-python-0.7.2 docopt-0.6.2 intervaltree-3.1.0 ipymarkup-0.9.0 natasha-1.6.0 navec-0.10.0 pymorphy2-0.9.1 pymorphy2-dicts-ru-2.4.417127.4579844 razdel-0.5.0 slovnet-0.6.0 yargy-0.16.0\n"
          ]
        }
      ]
    },
    {
      "cell_type": "code",
      "source": [
        "from razdel import sentenize, tokenize\n",
        "import re\n",
        "import string"
      ],
      "metadata": {
        "id": "HcpyR21M_kGo"
      },
      "execution_count": 3,
      "outputs": []
    },
    {
      "cell_type": "code",
      "execution_count": null,
      "metadata": {
        "id": "iDgnQ2K886dq"
      },
      "outputs": [],
      "source": [
        "article_drakula = \"\"\"Ученые из Италии и Румынии <a href=\"https://www.thetimes.co.uk/article/it-sounds-batty-but-was-dracula-really-a-bleeding-vegetarian-zj6f536md\" rel=\"noopener\" target=\"_blank\">заявили</a>, что Влад III Басараб, он же Влад Цепеш и прототип графа Дракулы, мог придерживаться растительной диеты. К такому выводу исследователи пришли, когда изучили его биохимические следы.</p>\n",
        "<figure class=\"figure figure--inner\"><img decoding=\"async\" fetchpriority=\"high\" class=\"figure__image\" src=\"https://knife.media/wp-content/uploads/2023/08/Vlad_Tepes_002-640x775.jpg\" alt=\"\" width=\"640\" height=\"775\" /><figcaption class=\"figure__caption\"></figcaption></figure>\n",
        "<p>С поверхности трех писем, написанных лично Владом III, извлекли тысячи фрагментов белка, и среди них не нашлось ни одного, который бы содержался в животной пище.</p>\n",
        "<figure class=\"figure figure--quote\">\n",
        "<blockquote><p>«Обнаруженные на письмах пищевые белки встречаются только в пище растительного происхождения. Прототип вампира мог быть веганом», — говорят ученые.</p></blockquote>\n",
        "</figure>\n",
        "<p>При этом они отмечают, что вряд ли правитель Валахии придерживался растительного питания по этическим соображениям. Скорее всего, рацион зависел от сурового климата, в котором он жил.</p>\n",
        "<figure class=\"figure figure--remark\">\n",
        "<blockquote><p>🩸 Ранее изучение тех же писем помогло выяснить, что у Влада III было редкое заболевание, из-за которого он <a href=\"https://knife.media/bloody-tears-dracula/\" rel=\"noopener\" target=\"_blank\">плакал</a> кровавыми слезами.</p></blockquote>\n",
        "\"\"\"\n",
        "clear_article = re.sub('<.+?>', '', article_drakula)\n",
        "clear_article = re.sub('\\n', ' ', clear_article)\n",
        "#clear_article = re.sub('\\W+\\s', ' ', clear_article)\n",
        "#clear_article = re.sub('[^\\w\\d\\s.,-;:]\\s', '', article)\n",
        "clear_article"
      ]
    },
    {
      "cell_type": "markdown",
      "source": [
        "Задание со звёздочкой."
      ],
      "metadata": {
        "id": "w1nl2Nbh_ciB"
      }
    },
    {
      "cell_type": "code",
      "source": [
        "punct = string.punctuation # строка со всеми (почти) знаками препинания\n",
        "words_by_sentences = []\n",
        "sentences = list(sentenize(clear_article))\n",
        "for sentence in sentences:\n",
        "  new_sentence = list(tokenize(list(sentence)[2]))\n",
        "  sentence_wo_punct = []\n",
        "  for word in new_sentence:\n",
        "    if list(word)[2] not in punct:\n",
        "      sentence_wo_punct.append(list(word)[2])\n",
        "  words_by_sentences.append(sentence_wo_punct)\n",
        "words_by_sentences"
      ],
      "metadata": {
        "id": "VDHInIjG-TXb"
      },
      "execution_count": null,
      "outputs": []
    },
    {
      "cell_type": "markdown",
      "source": [
        "### 2. Замена с помощью регулярок"
      ],
      "metadata": {
        "id": "BIKw_BQBAZzc"
      }
    },
    {
      "cell_type": "code",
      "source": [
        "article_activity = \"\"\"Сегодняшняя заметка будет о сервисе отслеживания активности пользователя — <a href=\"http://www.crazyegg.com\" title=\"Сумасшедшие яйца\">CrazyEgg</a>. Я не знаю кому обязан сервис таким говорящим именем, но оно работает, и хорошо. Запоминается? Отлично!<br><br><img src=\"http://img172.imageshack.us/img172/8434/18274658kc4.png\" alt=\"Сумасшедшее яйцо\"><br><br><blockquote><h3>Что это такое?</h3><br>\n",
        "Как уже сказано выше это сервис для отслеживания перемещения пользователей по сайту — кто куда кликнул, какие ссылки наиболее популярные и тому подобная, разнородная информация для юзабилистов.<br>\n",
        "Сервис позволяет отслеживать активность определенных пользователей, и выводить эти данные в различных формах: «инфракрасная» — где чем активнее область, тем она «теплее», салюты (чем активнее область, тем больше конфети), простой список с сортировкой по активности, колбы (чем заполненнее колба, тем активнее область), облака (на мой взгляд наиболее удобный вариант — совмещает в себе все остальные вместе взятые).<br><br><img src=\"https://habrastorage.org/getpro/habr/post_images/7c7/298/33c/7c729833cd942cc493e68833e3e0f12d.jpg\" alt=\"Тепловое отслеживание популярности\"><br></blockquote><br><br><a name=\"habracut\"></a><br><br><blockquote><h3>Для кого это?</h3><br>\n",
        "Разумеется сервис изначально планировался как первый помощник для юзабилистов, но пользоваться им может каждый, у кого есть деньги — интуитивный интерфейс, и хороший дизайн дает о себе знать — сервис массово популяризировался пол года-год назад. Относительно недорогой, но уж точно не из дешевых — сервис предполагает собой 4 платных линии и одну бесплатную. Дабы написать этот обзор я не поленился заплатить 19 долларов (в месяц) выбрав средний вариант — для нескольких проектов с включенными дополнительными функциями.<br><br><img src=\"https://habrastorage.org/getpro/habr/post_images/0b0/0a0/b16/0b00a0b16b1eda28e35f39487dcd2545.jpg\" alt=\"Отслеживание ссылок\"></blockquote><br><blockquote><img src=\"https://habrastorage.org/getpro/habr/post_images/0b5/433/892/0b54338921665ffb5a90930147296f5b.jpg\" alt=\"Список по популярности\"><br><br>\n",
        "Да-да, сервис не бесплатен. Точнее бесплатная возможность потестировать есть, но она немного обрезана (можно отслеживать только 5000 посетителей и всего 4 страницы на сайте (внимание — 4 страницы, а не сайтов), т.е. вполне хватает для того, чтобы понять полезность сервиса). Зачем это?</h3><br>\n",
        "С помощью этого сервиса можно тасовать блоки на сайте, которые полезны пользователям больше всего. Больше не нужно спорить создателям — какой блок где расположить. В этом им поможет <a href=\"http://ttp://www.crazyegg.com\" title=\"Сумасшедшие яйца\">Сумасшедшее яйцо</a>.<br><br><img src=\"https://habrastorage.org/getpro/habr/post_images/38c/af8/e75/38caf8e753782a01dc6419d3902edd57.jpg\" alt=\"Добавление проекта\"></blockquote><br><blockquote>Также этот сервис поможет вам понять — в какой зоне сайта лучше всего располагать рекламу, когда в вашем сервисе речь зайдет о монетизации. Ведь альтруизм это хорошо, а деньги на содержание сервиса нужны, и не лишним будет вычислить зоны где реклама будет приносить наибольшую отдачу, и наименьшее раздражение у пользователей.<br><br><img src=\"https://habrastorage.org/getpro/habr/post_images/0dd/3fb/b34/0dd3fbb34709e77f3fbcd6523c7eac77.jpg\" alt=\"еще полезности\"></blockquote><br><blockquote><h3>Как это работает?</h3><br>\n",
        "Никаких километровых скриптов вставлять не нужно, достаточно вставиь 2 строчки яваскрипта, и сервис начнет отслеживание. Насколько я понял — исполнительный скрипт работает на сервере <a href=\"http://www.crazyegg.com\" title=\"Сумасшедшие яйца\">CrazyEgg</a>, поэтому ваш сайт от этого в производительности не потеряет ни секунды, а полезность довольно таки большая.<br><br><img src=\"https://habrastorage.org/getpro/habr/post_images/a90/e4e/e67/a90e4ee6760978463e6306a2f5982e24.jpg\" alt=\"управление популярностью\"></blockquote><br><blockquote><h3>Сколько это стоит?</h3><br>\n",
        "Как я уже упоминал — сервис далеко не бесплатен, хоть и имеет тестовую-бесплатную версию. Расскажу подробнее о тарификации.</blockquote><br><blockquote>1. Бесплатная тестовая версия. Включает в себя возможность отслеживания 5 000 посещений, 4 страницы на сайте.<br><br>\n",
        "2. Базовая версия. В этой версии можно отследить 10 000 посещений, и 10 страниц, что вполне достаточно для среднего корпоративного сайта. Стоит базовый комплект — 9 долларов в месяц. В этот комплект включены все дополнительные функции.<br><br>\n",
        "3. Версия «Стандарт». В неё входит возможность отслеживания 25 000 посещений на 20 страницах. Вполне подходит для тестирования нового стартапа. Стоит она 19 долларов в месяц, именно её я купил для тестирования сервиса, и написания этого обзора.<br><br>\n",
        "4. Версия «Плюс». Отличается от предыдущей возможностью отслеживания 100 000 посещений, 50 страниц. Очень хороший тариф для крупных сервисов. Стоит 49 долларов в месяц. Довольно большие деньги за сервис, но они обычно с лихвой окупаются.<br><br>\n",
        "5. Версия «Про». Стоит почти 100 долларов, имеет возможность отследить 250 000 посещений на ста страницах. Тариф подходит для монстров с большой посещаемостью и большим количеством страниц.<br><br><img src=\"https://habrastorage.org/getpro/habr/post_images/f73/fb2/62d/f73fb262da4618a8dde67690cfd191ea.jpg\" alt=\"Отслеживание статистики\"></blockquote><br><blockquote><h3>Есть и аналоги</h3><br>\n",
        "Я не поленился, и собрал еще пару ссылок с аналогами, которые предлагают такие же услуги, но немного дешевле.</blockquote><br><blockquote> 1. <a href=\"https://www.google.com/analytics/home/?hl=en\" title=\"Шикарный сбор и анализ статистики\">Google Analytics</a> — бесплатный сервис для сбора и анализа статистики, вывод статистики в наиболее наглядной форме, и без разнообразных рейтингов, счетчиков. Очень подробная и полезная вещь. Рекомендую, т.к. сам пользуюсь им для этого блога.<br><br>\n",
        "2. <a href=\"http://www.mapsurface.com/\" title=\"Сервис для отслеживания популярности блоков на сайте\">MapSurface</a> — сам еще не использовал (т.к. предпочел CrazyEgg), но врядли будучи плохим сервис собрал бы множество положительных отзывов. К сожалению он сейчас находится в статусе закрытой беты.</blockquote><br><blockquote><h3>Вывод</h3><br>\n",
        "Использовать можно, и нужно. Вот только тарифы довольно больно кусаются, но обычно эти деньги потом с лихвой отбиваются на повышении конвертации посетителей в деньги. Использовать сервис нужно для тестирования рекламных мест и удобства отдельных страниц, что помогает опять же повысить конвертацию. В общем и целом — <a href=\"http://ttp://www.crazyegg.com\">полезная вещь</a> для каждого владельца сайтов, а для юзабилиста вообще практически обязательна. К счастью для людей, которые поиздержались деньгами в этом месяце — есть полезные аналоги.<br><br><img src=\"http://img241.imageshack.us/img241/2346/confettitnml5.jpg\" alt=\"Интересная идея визуализации популярности - конфети\"></blockquote><br><br>\n",
        "Автор: <a href=\"http://www.birzool.com/\" title=\"Я пишу о юзабилити веб интерфейсов\">Ярослав Бирзул</a> (DezmASter).<br>\n",
        "Источник: <a href=\"http://www.birzool.com/crazyegg/\" title=\"Сумасшедшие яйца, первоисточник\">Блог о юзабилити веб интерфейсов</a>.<br><br>\n",
        "PS: Всех с прошедшим Новым годом! От всей души желаю вам всего самого-самого лучшего, чего вы желаете только в\n",
        "\"\"\"\n",
        "article_activity_cleared = re.sub('<.+?>', '', article_activity)\n",
        "zero_numbers = re.sub('[0-9]+(\\s[0-9]+)?', '0', article_activity_cleared)\n",
        "#zero_numbers = re.sub('\\d+', '0', article_activity_cleared)\n",
        "#zero_numbers = re.sub('\\d{1,3}\\s\\d{1,3}|\\d{1,3}', '0', article_activity_cleared)\n",
        "zero_numbers"
      ],
      "metadata": {
        "id": "irCPHd54Ahf1"
      },
      "execution_count": null,
      "outputs": []
    },
    {
      "cell_type": "markdown",
      "source": [
        "### 3. Имена и фамилии"
      ],
      "metadata": {
        "id": "iaJ4YgU4BZlJ"
      }
    },
    {
      "cell_type": "code",
      "source": [
        "people = 'На встрече присутствовали: профессор Владимир Успенский, физик-ядерщик Сергей Ковалев, президент клуба Владимир Медведев и космонавт Юрий Титов.'\n",
        "name = re.findall('([А-Я]\\w+) ([А-Я]\\w+)', people)\n",
        "name"
      ],
      "metadata": {
        "id": "cNTONgoKBcPJ"
      },
      "execution_count": null,
      "outputs": []
    },
    {
      "cell_type": "code",
      "source": [
        "result = []\n",
        "names = (re.findall('[А-Я]\\w+',people))[1:]\n",
        "for i in range(0, len(names), 2):\n",
        "  result.append(tuple([names[i],names[i+1]]))\n",
        "print(result)\n",
        "print(names)"
      ],
      "metadata": {
        "id": "SUW5D8zyB3d2"
      },
      "execution_count": null,
      "outputs": []
    },
    {
      "cell_type": "markdown",
      "source": [
        "### 4.  Мини-задачки"
      ],
      "metadata": {
        "id": "nIkY-z1dCF4v"
      }
    },
    {
      "cell_type": "markdown",
      "source": [
        "Нам нужно достать код телефона из каждого номера и создать список кортежей из двух элементов - кода и самого номера телефона."
      ],
      "metadata": {
        "id": "qEpAlYKQyXb0"
      }
    },
    {
      "cell_type": "code",
      "source": [
        "str_for_search = \"\"\"\n",
        "415-555-1234\n",
        "650-555-2345\n",
        "(416)555-3456\n",
        "202 555 4567\n",
        "4035555678\n",
        "1 416 555 9292\n",
        "\"\"\""
      ],
      "metadata": {
        "id": "-beZiS3fC4kM"
      },
      "execution_count": null,
      "outputs": []
    },
    {
      "cell_type": "markdown",
      "source": [
        "Нам нужно вывести список кортежей, включающих в себя отдельно название изображения, отдельно его расширение."
      ],
      "metadata": {
        "id": "W5ri3MRI1u3Z"
      }
    },
    {
      "cell_type": "code",
      "source": [
        "str_for_search = \"\"\"\n",
        ".bash_profile\n",
        "workspace.doc\n",
        "img0912.jpg\n",
        "updated_img0912.png\n",
        "documentation.html\n",
        "favicon.gif\n",
        "img0912.jpg.tmp\n",
        "access.lock\n",
        "\"\"\""
      ],
      "metadata": {
        "id": "hEMYUsBS1tSp"
      },
      "execution_count": null,
      "outputs": []
    },
    {
      "cell_type": "markdown",
      "source": [
        "Нам нужно вывести список кортежей, в которых у нас есть протокол передачи данных, название сайта и то, что идет после двоеточия (не везде всё может быть)."
      ],
      "metadata": {
        "id": "yJdpPzxr0nY4"
      }
    },
    {
      "cell_type": "code",
      "source": [
        "str_for_search = \"\"\"\n",
        "ftp://file_server.com:21/top_secret/life_changing_plans.pdf\n",
        "https://regexone.com/lesson/introduction#section\n",
        "file://localhost:4040/zip_file\n",
        "https://s3cur3-server.com:9999/\n",
        "market://search/angry%20birds\n",
        "\"\"\""
      ],
      "metadata": {
        "id": "S_tj9ytmyD5u"
      },
      "execution_count": null,
      "outputs": []
    },
    {
      "cell_type": "markdown",
      "source": [
        "# Natasha - морфология, синтаксис, лемматизация, NER\n",
        "\n",
        "Сейчас мы на примере Natasha посмотрим на некоторые популярные операции, проводимые при обработке етстественного языка (NLP - Natural Language Processing)."
      ],
      "metadata": {
        "id": "a2RLjITQ3pHB"
      }
    },
    {
      "cell_type": "code",
      "source": [
        "from natasha import (\n",
        "  Segmenter,\n",
        "\n",
        "  NewsEmbedding,\n",
        "  NewsMorphTagger,\n",
        "  NewsSyntaxParser,\n",
        "\n",
        "  Doc\n",
        ")\n",
        "# инициализиурем представителей разных классов\n",
        "segmenter = Segmenter() # сегментирует текст\n",
        "\n",
        "emb = NewsEmbedding() # преобразует языковые сущности в числовой вектор\n",
        "morph_tagger = NewsMorphTagger(emb) # анализирует морфологию\n",
        "syntax_parser = NewsSyntaxParser(emb) # анализирует синтаксис"
      ],
      "metadata": {
        "id": "vGJa27wH3olM"
      },
      "execution_count": 4,
      "outputs": []
    },
    {
      "cell_type": "code",
      "source": [
        "text = 'Киллиан Мёрфи участвовал в 2007 году в кампании Rock the Voteruen, ориентированной на молодых избирателей на всеобщих выборах, и проводил кампанию за права бездомных с организацией Focus Ireland. В 2011 году он стал патроном Исследовательского центра ЮНЕСКО по проблемам детей и семьи при Ирландском национальном университете в Голуэе. Он тесно связан с работой профессора Пэта Долана, директора UCFRC и кафедры ЮНЕСКО по вопросам детей, молодежи и гражданского участия. В феврале 2012 года он написал послание поддержки бывшим работникам Vita Cortexruen, участвовавшим в сидячей забастовке на их заводе.'\n",
        "doc = Doc(text) # текст нужно определённым образом преобразовать\n",
        "\n",
        "doc.segment(segmenter) # сегментируем тест\n",
        "doc.tag_morph(morph_tagger) # размечаем морфологию\n",
        "doc.parse_syntax(syntax_parser) # размечаем зависимости в синтаксисе\n",
        "\n",
        "sent = doc.sents[1] # сегментируем на предложения и берём только первое предложение"
      ],
      "metadata": {
        "id": "1adIuniB5183"
      },
      "execution_count": 60,
      "outputs": []
    },
    {
      "cell_type": "code",
      "source": [
        "words = doc.tokens[:11] # можно сегментировать по словам, сразу получаем морфологический разбор\n",
        "words"
      ],
      "metadata": {
        "colab": {
          "base_uri": "https://localhost:8080/"
        },
        "id": "CdHACtE561aZ",
        "outputId": "0efc8637-d815-4614-d679-64edf4dd045f"
      },
      "execution_count": 33,
      "outputs": [
        {
          "output_type": "execute_result",
          "data": {
            "text/plain": [
              "[DocToken(stop=7, text='Киллиан', id='1_1', head_id='1_3', rel='nsubj', pos='PROPN', feats=<Anim,Nom,Masc,Sing>, lemma='киллиан'),\n",
              " DocToken(start=8, stop=13, text='Мёрфи', id='1_2', head_id='1_1', rel='appos', pos='PROPN', feats=<Anim,Nom,Masc,Sing>, lemma='мерфь'),\n",
              " DocToken(start=14, stop=24, text='участвовал', id='1_3', head_id='1_0', rel='root', pos='VERB', feats=<Imp,Masc,Ind,Sing,Past,Fin,Act>, lemma='участвовать'),\n",
              " DocToken(start=25, stop=26, text='в', id='1_4', head_id='1_6', rel='case', pos='ADP', lemma='в'),\n",
              " DocToken(start=27, stop=31, text='2007', id='1_5', head_id='1_6', rel='amod', pos='ADJ', lemma='2007'),\n",
              " DocToken(start=32, stop=36, text='году', id='1_6', head_id='1_3', rel='obl', pos='NOUN', feats=<Inan,Loc,Masc,Sing>, lemma='год'),\n",
              " DocToken(start=37, stop=38, text='в', id='1_7', head_id='1_8', rel='case', pos='ADP', lemma='в'),\n",
              " DocToken(start=39, stop=47, text='кампании', id='1_8', head_id='1_3', rel='obl', pos='NOUN', feats=<Inan,Loc,Fem,Sing>, lemma='кампания'),\n",
              " DocToken(start=48, stop=52, text='Rock', id='1_9', head_id='1_8', rel='appos', pos='X', feats=<Yes>, lemma='rock'),\n",
              " DocToken(start=53, stop=56, text='the', id='1_10', head_id='1_9', rel='flat:foreign', pos='X', feats=<Yes>, lemma='the'),\n",
              " DocToken(start=57, stop=65, text='Voteruen', id='1_11', head_id='1_9', rel='flat:foreign', pos='X', feats=<Yes>, lemma='voteruen')]"
            ]
          },
          "metadata": {},
          "execution_count": 33
        }
      ]
    },
    {
      "cell_type": "markdown",
      "source": [
        "[Тут](https://downloads.cs.stanford.edu/nlp/software/dependencies_manual.pdf) есть список всех обозначений частей речи и зависимостей. К сожалению, на английском. :( А [здесь](https://www.ulsu.ru/media/files1/20220108/%D0%A3%D0%9C%D0%A1%D0%A0_%D0%90%D0%BB%D0%B3%D0%BE%D1%80%D0%B8%D1%82%D0%BC%D1%8B%20%D0%98%D0%98%20%D0%BD%D0%B0%20Python.1.pdf), кажется, есть что-то на русском."
      ],
      "metadata": {
        "id": "K1zc75zL9PYp"
      }
    },
    {
      "cell_type": "code",
      "source": [
        "sent.morph.print() # выводим морфологический анализ"
      ],
      "metadata": {
        "colab": {
          "base_uri": "https://localhost:8080/"
        },
        "id": "t_C1dulW8NId",
        "outputId": "31192c88-82d4-4128-dbd6-7ea463459f69"
      },
      "execution_count": 27,
      "outputs": [
        {
          "output_type": "stream",
          "name": "stdout",
          "text": [
            "                   В ADP\n",
            "                2011 ADJ\n",
            "                году NOUN|Animacy=Inan|Case=Loc|Gender=Masc|Number=Sing\n",
            "                  он PRON|Case=Nom|Gender=Masc|Number=Sing|Person=3\n",
            "                стал VERB|Aspect=Perf|Gender=Masc|Mood=Ind|Number=Sing|Tense=Past|VerbForm=Fin|Voice=Act\n",
            "            патроном NOUN|Animacy=Inan|Case=Ins|Gender=Masc|Number=Sing\n",
            "  Исследовательского ADJ|Case=Gen|Degree=Pos|Gender=Masc|Number=Sing\n",
            "              центра NOUN|Animacy=Inan|Case=Gen|Gender=Masc|Number=Sing\n",
            "              ЮНЕСКО PROPN|Animacy=Inan|Case=Gen|Gender=Neut|Number=Sing\n",
            "                  по ADP\n",
            "           проблемам NOUN|Animacy=Inan|Case=Dat|Gender=Fem|Number=Plur\n",
            "               детей NOUN|Animacy=Anim|Case=Gen|Gender=Masc|Number=Plur\n",
            "                   и CCONJ\n",
            "               семьи NOUN|Animacy=Inan|Case=Gen|Gender=Fem|Number=Sing\n",
            "                 при ADP\n",
            "          Ирландском ADJ|Case=Loc|Degree=Pos|Gender=Masc|Number=Sing\n",
            "        национальном ADJ|Case=Loc|Degree=Pos|Gender=Masc|Number=Sing\n",
            "        университете NOUN|Animacy=Inan|Case=Loc|Gender=Masc|Number=Sing\n",
            "                   в ADP\n",
            "              Голуэе PROPN|Animacy=Inan|Case=Loc|Gender=Masc|Number=Sing\n",
            "                   . PUNCT\n"
          ]
        }
      ]
    },
    {
      "cell_type": "markdown",
      "source": [
        "Мы можем вывести отдельные морфологические характеристики для слов."
      ],
      "metadata": {
        "id": "PFr4VehaT_qo"
      }
    },
    {
      "cell_type": "code",
      "source": [
        "for token in doc.tokens:\n",
        "  print(token.text, token.pos) # выводит слово и его часть речи\n",
        "  print(token.text, token.feats) # выводит слово и его морфологический разбор\n",
        "  #print(token.feats.keys()) # выводит все атрибуты, которые есть у словоформы\n",
        "  try:\n",
        "    print('Падеж слова:', token.feats['Case'] + '.')\n",
        "  except:\n",
        "    print('Слово не имеет падежа.') # выводит падеж, если он есть"
      ],
      "metadata": {
        "id": "Sr2R1lGDT_HD"
      },
      "execution_count": null,
      "outputs": []
    },
    {
      "cell_type": "code",
      "source": [
        "sent.syntax.print() # выводим синтаксический анализ"
      ],
      "metadata": {
        "id": "JZaBufjt8TUn"
      },
      "execution_count": null,
      "outputs": []
    },
    {
      "cell_type": "markdown",
      "source": [
        "### Распознавание именованных сущностей"
      ],
      "metadata": {
        "id": "pxOuWILEEmGM"
      }
    },
    {
      "cell_type": "markdown",
      "source": [
        "Natasha также умеет распознавать **именованные сущности** (NER - Named Entity Recognition): имена людей, названия организаций, книг, городов и другие имена собственные.\n",
        "\n",
        "За одной задачей NER, на самом деле, стоит две:\n",
        "1. обнаружить, что какая-то последовательность слов — это именованная сущность;\n",
        "2. понять, к какому классу (имя человека, название организации, город и т.п.) эта именованная сущность относится.\n",
        "\n",
        "Какие классы именованных сущностей обычно хотят найти? Практически всегда стараются извлекать **имена людей и названия мест и организаций**, а дальше все зависит от конкретных задач, которые нужно решать, или от возможностей предобученной системы, которую планируется использовать. Также к задаче NER относят **извлечение дат, денежных сумм (число + валюта)**.\n",
        "\n",
        "Многие именованные сущности могут в разных контекстах относиться к разным классам: слово «Чехов» может быть человеком, городом, названием клуба и т.д.\n",
        "\n",
        "Какие **проблемы** могут быть связаны с NER?\n",
        "\n",
        "1. Именованные сущности редко состоят из одного слова. Например, из предложения «Звонил доктор Владимир Бомгард» нужно извлечь, как минимум, имя и фамилию — «Владимир Бомгард», а для многих задач полезно уметь находить полное «наименование» человека, о котором говорится: «доктор Владимир Бомгард».\n",
        "2. Не всегда очевидны границы, например, словосочетание «Иван Васильевич и партнеры» может быть названием некоторой организации, а может подразумевать некоторого Ивана Васильевича и отдельно его партнеров.\n",
        "3. С большой буквы пишутся не только имена собственные. Это верно и для русского, и еще больше для английского, но особенно хорошо видно в немецком, где с большой буквы пишутся вообще все существительные.\n",
        "4. Не во всех языках вообще есть большие буквы (например, это верно для языков со слоговыми системами).\n",
        "\n",
        "Как **работают** с именованными сущностями?\n",
        "\n",
        "Хотя большинство именованных сущностей состоит из нескольких слов, при решении этой задачи обычно рассматривают отдельные слова и решают, является ли это слово частью именованной сущности или нет. При этом **различают начало, середину и конец именованной сущности**.\n",
        "\n",
        "При разметке именованных сущностей принято использовать префикс **«B» (beginning, начало)** для обозначения первого слова, **«E» (end, конец)** — для последнего слова и **«I» (intermediate, промежуточный)** — для всех слов между. Иногда также используется префикс **«S» (single)** для обозначения именованной сущности, состоящей из одного слова. **«O» (outside, снаружи)** — слово не относится ни к какой сущности.\n",
        "\n",
        "Задача сводится к **пословной классификации**. Обычно тренируют **нейросетевую модель** на большом количестве текстов с разметкой именованных сущностей. В основе моделей обычно стоят модули, которые позволяют учитывать контекст с двух сторон от анализируемого слова.\n",
        "\n",
        "Хорошие результаты дают и **классические классификаторы**, работающие с предзаданным множеством признаков. Большие буквы или нестандартное использование больших и маленьких букв (iPhone), а также специфических символов (H&M) внутри слова — все это полезные признаки для выявления именованных сущностей.\n",
        "\n",
        "Также до сих пор используются **системы, основанные на правилах**: в них прописываются разные шаблонные схемы именованных сущностей. Например, шаблон «Министерство + образования\\туризма\\здравоохранения + Название страны» поможет найти «Министерство образования Италии» и «Министерство туризма Мексики». Шаблон «однозначное\\двузначное число + название месяца + четырехзначное число» — это дата. Основная проблема такого подхода: на подготовку правил требуется очень много времени, а малейшее отступление от паттерна (например, банальная опечатка) все сломает. Также набор правил пишется под определенный язык, поэтому набор правил, помогающий извлекать именованные сущности из текстов на русском языке никак не поможет при обработке другого языка.\n",
        "\n",
        "**Активно используемых именованных сущностей конечное количество**, многие из них уже собраны в списки (так называемые **газетиры**, gazetteers): географические названия, словари имен, реестры организаций и т.п. Всю эту информацию тоже стараются использовать для решения задачи NER."
      ],
      "metadata": {
        "id": "0UNiw4Hw985T"
      }
    },
    {
      "cell_type": "code",
      "source": [
        "from natasha import NewsNERTagger\n",
        "ner_tagger = NewsNERTagger(emb) # инициализируем распознаватель именованных сущностей"
      ],
      "metadata": {
        "id": "FqfefXU1DHzG"
      },
      "execution_count": 12,
      "outputs": []
    },
    {
      "cell_type": "code",
      "source": [
        "doc.tag_ner(ner_tagger)\n",
        "doc.ner.print()"
      ],
      "metadata": {
        "id": "D0g252qqDNgM"
      },
      "execution_count": null,
      "outputs": []
    },
    {
      "cell_type": "markdown",
      "source": [
        "### Лемматизация и стемминг\n",
        "\n",
        "Стемминг vs лемматизация: что это такое и в чём разница?\n",
        "\n",
        "Это всё способы нормализации.\n",
        "\n",
        "**Лемма** - словарная форма слова. **Лемматизация** учитывает морфологический анализ слов и использует словарь для нахождения словарной формы слова.\n",
        "\n",
        "**Стемминг** работает, не учитывая контекст и морфологические характеристики слова, а просто грубо отсекает \"лишнее\" от корней слов, в том числе и словообразовательные суффиксы. Поэтому чаще всего стемминг уступает лемматизации.\n",
        "\n",
        "Natasha умеет решать задачу лемматизации. Для этого она использует другой морфологический анализатор **Pymorphy2**, с которым мы в полной мере познакомимся чуть попозже."
      ],
      "metadata": {
        "id": "u8BlYG3_EwbI"
      }
    },
    {
      "cell_type": "code",
      "source": [
        "from natasha import MorphVocab\n",
        "\n",
        "morph_vocab = MorphVocab()\n",
        "\n",
        "for token in doc.tokens:\n",
        "  token.lemmatize(morph_vocab)\n",
        "\n",
        "{word.text: word.lemma for word in doc.tokens} # создаёт для каждого токена вхождение в словаре"
      ],
      "metadata": {
        "id": "exsC-_J3N4PH"
      },
      "execution_count": null,
      "outputs": []
    },
    {
      "cell_type": "markdown",
      "source": [
        "Лемматизиация не очень хорошо справляется с названиями именованных сущностей, потому что она их делит пословно. Но это можно исправить."
      ],
      "metadata": {
        "id": "ek8h_QvAPohQ"
      }
    },
    {
      "cell_type": "code",
      "source": [
        "for span in doc.spans: # эта функция опирается на морфологический и синатаксический анализ, а также на NER\n",
        "  span.normalize(morph_vocab)\n",
        "{span.text: span.normal for span in doc.spans}"
      ],
      "metadata": {
        "colab": {
          "base_uri": "https://localhost:8080/"
        },
        "id": "uRjc_Up0Pn70",
        "outputId": "ef0baf8c-3324-4152-e044-0d8ac1c79392"
      },
      "execution_count": 21,
      "outputs": [
        {
          "output_type": "execute_result",
          "data": {
            "text/plain": [
              "{'Киллиан Мёрфи': 'Киллиан Мерфи',\n",
              " 'Focus Ireland': 'Focus Ireland',\n",
              " 'Исследовательского центра': 'Исследовательский центр',\n",
              " 'ЮНЕСКО': 'ЮНЕСКО',\n",
              " 'Ирландском национальном университете': 'Ирландский национальный университет',\n",
              " 'Голуэе': 'Голуэй',\n",
              " 'Пэта Долана': 'Пэта Долан',\n",
              " 'UCFRC': 'UCFRC',\n",
              " 'Vita Cortexruen': 'Vita Cortexruen'}"
            ]
          },
          "metadata": {},
          "execution_count": 21
        }
      ]
    },
    {
      "cell_type": "markdown",
      "source": [
        "Мы можем отдельно выцеплять имена людей."
      ],
      "metadata": {
        "id": "-s07hb_pRJoc"
      }
    },
    {
      "cell_type": "code",
      "source": [
        "from natasha import (\n",
        "  PER,\n",
        "  NamesExtractor,\n",
        ")\n",
        "\n",
        "names_extractor = NamesExtractor(morph_vocab)"
      ],
      "metadata": {
        "id": "SOuj3PDSSWXc"
      },
      "execution_count": 19,
      "outputs": []
    },
    {
      "cell_type": "code",
      "source": [
        "for span in doc.spans:\n",
        "  if span.type == PER:\n",
        "    span.extract_fact(names_extractor)\n",
        "\n",
        "{_.normal: _.fact.as_dict for _ in doc.spans if _.type == PER}"
      ],
      "metadata": {
        "id": "TpKSo1FMQ5-e"
      },
      "execution_count": null,
      "outputs": []
    }
  ]
}