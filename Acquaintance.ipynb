{
  "nbformat": 4,
  "nbformat_minor": 0,
  "metadata": {
    "colab": {
      "provenance": [],
      "authorship_tag": "ABX9TyNLUF9sSe0iiv/+igcyEncm",
      "include_colab_link": true
    },
    "kernelspec": {
      "name": "python3",
      "display_name": "Python 3"
    },
    "language_info": {
      "name": "python"
    }
  },
  "cells": [
    {
      "cell_type": "markdown",
      "metadata": {
        "id": "view-in-github",
        "colab_type": "text"
      },
      "source": [
        "<a href=\"https://colab.research.google.com/github/Whereamiactually/lyceumcompling10/blob/main/Acquaintance.ipynb\" target=\"_parent\"><img src=\"https://colab.research.google.com/assets/colab-badge.svg\" alt=\"Open In Colab\"/></a>"
      ]
    },
    {
      "cell_type": "markdown",
      "source": [
        "# **Знакомство с Python'ом**\n",
        "\n",
        "Integer - целое число.\n",
        "\n",
        "Функция `print()` выводит то, к чему применяется.\n",
        "\n",
        "Функция `type()` выдаёт тип того, к чему применяется."
      ],
      "metadata": {
        "id": "B4_0KRHefas0"
      }
    },
    {
      "cell_type": "code",
      "execution_count": null,
      "metadata": {
        "id": "Z1UgczusfQGS",
        "colab": {
          "base_uri": "https://localhost:8080/"
        },
        "outputId": "7e86373d-650d-4e6f-8c32-db240f53fdce"
      },
      "outputs": [
        {
          "output_type": "stream",
          "name": "stdout",
          "text": [
            "a = 402\n",
            "b = 220\n",
            "<class 'int'>\n"
          ]
        }
      ],
      "source": [
        "a = 345 + 57\n",
        "print('a =', a)\n",
        "b = 44 * 5\n",
        "print('b =', b)\n",
        "print(type(a))"
      ]
    },
    {
      "cell_type": "markdown",
      "source": [
        "Переменные типа `a` и `b` можно называть как угодно латинскими буками (за исключением сочетаний букв, которые являются служебными, типа `if`, `False` и `while`), но лучше всего называть так, чтобы было понятно, что скрывается за этой переменной."
      ],
      "metadata": {
        "id": "bDT6wtl3vikw"
      }
    },
    {
      "cell_type": "markdown",
      "source": [
        "Float - дробь, пишется через точку! (После `#` можно писать комментарий, который никак не влияет на код.)"
      ],
      "metadata": {
        "id": "243S_jg-kFBZ"
      }
    },
    {
      "cell_type": "code",
      "source": [
        "a = 44 / 5 # обычное деление (в результате всегда получается float)\n",
        "b = 44 // 5 # целая часть от деления\n",
        "c = 44 % 5 # остаток от деления\n",
        "d = 4 ** 3 # возведение в степень\n",
        "print(type(a))"
      ],
      "metadata": {
        "colab": {
          "base_uri": "https://localhost:8080/"
        },
        "id": "hIfBx5bOi6y1",
        "outputId": "3eb9c804-88fa-411a-a3e3-ace9a3672c28"
      },
      "execution_count": null,
      "outputs": [
        {
          "output_type": "stream",
          "name": "stdout",
          "text": [
            "<class 'float'>\n"
          ]
        }
      ]
    },
    {
      "cell_type": "markdown",
      "source": [
        "Значения переменных не выводятся, потому что мы лишь присвоили их, но не вывели на экран."
      ],
      "metadata": {
        "id": "p1fc1iJ9jQ_A"
      }
    },
    {
      "cell_type": "code",
      "source": [
        "print('a =', a) # при выводе на месте каждой запятой не в кавычках, появится пробел\n",
        "print('b =', b)\n",
        "print('c =', c)\n",
        "print('d =', d)\n",
        "print('b / c =', b / c)"
      ],
      "metadata": {
        "colab": {
          "base_uri": "https://localhost:8080/"
        },
        "id": "iywnV2aTjbbe",
        "outputId": "8949ce38-3a84-4bb3-f100-b2d1341b0356"
      },
      "execution_count": null,
      "outputs": [
        {
          "output_type": "stream",
          "name": "stdout",
          "text": [
            "a = 8.8\n",
            "b = 8\n",
            "c = 4\n",
            "d = 64\n",
            "b // c = 2.0\n"
          ]
        }
      ]
    },
    {
      "cell_type": "markdown",
      "source": [
        "String - строка, пишется либо в одинарных, либо в двойных кавычках."
      ],
      "metadata": {
        "id": "pckOrLE5lEVs"
      }
    },
    {
      "cell_type": "code",
      "source": [
        "print('Linguistics is cool!')\n",
        "print(\"Computers are also cool!\")\n",
        "print(type('Хочу кабачок.'))"
      ],
      "metadata": {
        "colab": {
          "base_uri": "https://localhost:8080/"
        },
        "id": "HVR94KdjlMPG",
        "outputId": "8d2c27f1-d2bd-4c55-f58a-207a65cf77a7"
      },
      "execution_count": null,
      "outputs": [
        {
          "output_type": "stream",
          "name": "stdout",
          "text": [
            "Linguistics is cool!\n",
            "Computers are also cool!\n",
            "<class 'str'>\n"
          ]
        }
      ]
    },
    {
      "cell_type": "markdown",
      "source": [
        "Над строками также можно выполнять операции сложения и умножения!\n",
        "\n",
        "Но нельзя вычетания и деления."
      ],
      "metadata": {
        "id": "UoSb_Nqfl61e"
      }
    },
    {
      "cell_type": "code",
      "source": [
        "print('computational ' + 'linguistics')\n",
        "print('земле' + 'трясение')\n",
        "print('пра' * 6 + 'бабушка')"
      ],
      "metadata": {
        "colab": {
          "base_uri": "https://localhost:8080/"
        },
        "id": "cZ5UZddQlvwf",
        "outputId": "1e544729-2aff-4d57-8037-908f58c56c00"
      },
      "execution_count": null,
      "outputs": [
        {
          "output_type": "stream",
          "name": "stdout",
          "text": [
            "computational linguistics\n",
            "землетрясение\n",
            "прапрапрапрапрапрабабушка\n"
          ]
        }
      ]
    },
    {
      "cell_type": "markdown",
      "source": [
        "**Задание**: используя операции сложения и умножения, а также функцию `print()`, напишите код, который выводит \"great-great-grandmother\"."
      ],
      "metadata": {
        "id": "Q2g7u_wrnHed"
      }
    },
    {
      "cell_type": "code",
      "source": [
        "# место для вашего кода\n",
        "print('great-' * 2 + 'grandmother')"
      ],
      "metadata": {
        "id": "sBEEQ3hiqHvG",
        "colab": {
          "base_uri": "https://localhost:8080/"
        },
        "outputId": "f6176828-d226-40d5-b2ae-6a015d9fc959"
      },
      "execution_count": 1,
      "outputs": [
        {
          "output_type": "stream",
          "name": "stdout",
          "text": [
            "great-great-grandmother\n"
          ]
        }
      ]
    },
    {
      "cell_type": "markdown",
      "source": [
        "Складывать друг с другом строки с числами и числа типа integer или float - не одно и то же!"
      ],
      "metadata": {
        "id": "FDPYJpATqZpq"
      }
    },
    {
      "cell_type": "code",
      "source": [
        "print(55 + 7)\n",
        "print('55' + '7')"
      ],
      "metadata": {
        "colab": {
          "base_uri": "https://localhost:8080/"
        },
        "id": "LgJjJ09iqYxi",
        "outputId": "219b30f6-56f6-43b3-aff2-cfad867ce383"
      },
      "execution_count": null,
      "outputs": [
        {
          "output_type": "stream",
          "name": "stdout",
          "text": [
            "62\n",
            "557\n"
          ]
        }
      ]
    },
    {
      "cell_type": "markdown",
      "source": [
        "Есть функции, которые (если у них получится), конвертируют один тип в другой."
      ],
      "metadata": {
        "id": "HU0Jp87vrMY5"
      }
    },
    {
      "cell_type": "code",
      "source": [
        "print(int('778')) # из строки в integer\n",
        "print(float('5.65')) # из строки в float\n",
        "print(str(55)) # из integer или float в строку"
      ],
      "metadata": {
        "colab": {
          "base_uri": "https://localhost:8080/"
        },
        "id": "VBqqZLUsrbiH",
        "outputId": "cd6e91b4-1e14-4d82-d8b1-8b79bd86207d"
      },
      "execution_count": null,
      "outputs": [
        {
          "output_type": "stream",
          "name": "stdout",
          "text": [
            "778\n",
            "5.65\n",
            "55\n"
          ]
        }
      ]
    },
    {
      "cell_type": "markdown",
      "source": [
        "Но нельзя, например, конвертировать из string в integer, если число в строке не целое.\n",
        "\n",
        "Что выдадут две следующие строчки кода? Как так получилось?"
      ],
      "metadata": {
        "id": "mmtU_ZQxsGM-"
      }
    },
    {
      "cell_type": "code",
      "source": [
        "print(str(float('7.8') + 4) + '77')\n",
        "print(int('80' + '7') + 2)"
      ],
      "metadata": {
        "colab": {
          "base_uri": "https://localhost:8080/"
        },
        "id": "oJOxe72auJ7f",
        "outputId": "571dae12-701d-4dec-f982-50fa4c601acb"
      },
      "execution_count": null,
      "outputs": [
        {
          "output_type": "stream",
          "name": "stdout",
          "text": [
            "11.877\n",
            "809\n"
          ]
        }
      ]
    },
    {
      "cell_type": "markdown",
      "source": [
        "Бывают ещё другие типы данных. Например, логический."
      ],
      "metadata": {
        "id": "lqagP3HCs9rI"
      }
    },
    {
      "cell_type": "code",
      "source": [
        "print(type(True)) # логический тип, имеет только два значения True и False\n",
        "print(True and False)\n",
        "print(True or False)\n",
        "print(4 == 4 * 3) # равенство"
      ],
      "metadata": {
        "colab": {
          "base_uri": "https://localhost:8080/"
        },
        "id": "sA31y7MtuolD",
        "outputId": "20cf9314-bd01-4a57-aa28-579b27676f4f"
      },
      "execution_count": null,
      "outputs": [
        {
          "output_type": "stream",
          "name": "stdout",
          "text": [
            "<class 'bool'>\n",
            "False\n",
            "True\n",
            "False\n"
          ]
        }
      ]
    },
    {
      "cell_type": "markdown",
      "source": [
        "Ещё можно сравнивать так."
      ],
      "metadata": {
        "id": "eD8wiTRdxEDa"
      }
    },
    {
      "cell_type": "code",
      "source": [
        "print(2 != 2) # неравенство\n",
        "print(4 > 5) # больше\n",
        "print(2 < 7) # меньше\n",
        "print(33 >= 33) # больше или равно\n",
        "print(33 <= 33) # меньше или равно"
      ],
      "metadata": {
        "colab": {
          "base_uri": "https://localhost:8080/"
        },
        "id": "L-Fm9YoNxT0Y",
        "outputId": "6cb01cb1-0a0f-48b1-969c-ac9940b4e458"
      },
      "execution_count": null,
      "outputs": [
        {
          "output_type": "stream",
          "name": "stdout",
          "text": [
            "False\n",
            "False\n",
            "True\n",
            "True\n",
            "True\n"
          ]
        }
      ]
    },
    {
      "cell_type": "markdown",
      "source": [
        "А ещё бывают списки (lists)."
      ],
      "metadata": {
        "id": "T33ACKvAyAX8"
      }
    },
    {
      "cell_type": "code",
      "source": [
        "spisok = ['love', 'крокодил', 8, [5, 8.7], 3.4] # элементы можно изменять\n",
        "spisok[1] = 'crocodile' # меняем первый элемент (NB: 'love' нулевой элемент)\n",
        "print(spisok)"
      ],
      "metadata": {
        "colab": {
          "base_uri": "https://localhost:8080/"
        },
        "id": "QZWgynsNyPuz",
        "outputId": "93956cf0-4473-46a4-d10d-ee833b189726"
      },
      "execution_count": 15,
      "outputs": [
        {
          "output_type": "stream",
          "name": "stdout",
          "text": [
            "['love', 'crocodile', 8, [5, 8.7], 3.4]\n",
            "КРОКОДИЛ\n",
            "<class 'list'> <class 'tuple'> <class 'dict'>\n"
          ]
        }
      ]
    },
    {
      "cell_type": "markdown",
      "source": [
        " Кортежи (tuples)."
      ],
      "metadata": {
        "id": "_E3ho1Gr51db"
      }
    },
    {
      "cell_type": "code",
      "source": [
        "kortezh = ('love', 'крокодил', 8) # элементы нельзя изменять, элементы упорядочены\n",
        "print(kortezh[1].upper()) # из кортежа, так же как из списка, можно вытаскивать элементы с помощью их индексов"
      ],
      "metadata": {
        "id": "dkP8rLVy53jE"
      },
      "execution_count": null,
      "outputs": []
    },
    {
      "cell_type": "markdown",
      "source": [
        "И словари (dictionaries). Элемент до двоеточия называется 'key' ('ключ'), элемент после двоеточия - 'value' ('значение')."
      ],
      "metadata": {
        "id": "T9rN-8Wh59lN"
      }
    },
    {
      "cell_type": "code",
      "source": [
        "slovar = {'house': 'дом', 'mouse': 5, 'fountain': [8, 0]}\n",
        "print(slovar['house']) # находим значение ключа\n",
        "print(type(spisok), type(kortezh), type(slovar))"
      ],
      "metadata": {
        "colab": {
          "base_uri": "https://localhost:8080/"
        },
        "id": "ObtSAjnJ6C3B",
        "outputId": "8151f371-20e4-4bb1-8cc7-a6b5fa8e424c"
      },
      "execution_count": 19,
      "outputs": [
        {
          "output_type": "stream",
          "name": "stdout",
          "text": [
            "дом\n",
            "<class 'list'> <class 'tuple'> <class 'dict'>\n"
          ]
        }
      ]
    },
    {
      "cell_type": "markdown",
      "source": [
        "Мы также можем выбрать/вывести все ключи, все изначения или все их пары."
      ],
      "metadata": {
        "id": "TOsoRocnC_jI"
      }
    },
    {
      "cell_type": "code",
      "source": [
        "print(list(slovar.keys()))\n",
        "print(list(slovar.values()))\n",
        "print(list(slovar.items()))"
      ],
      "metadata": {
        "colab": {
          "base_uri": "https://localhost:8080/"
        },
        "id": "gVzpiDvyDHwG",
        "outputId": "ec4ab961-6aa4-44aa-b7ec-95338c7dd655"
      },
      "execution_count": 41,
      "outputs": [
        {
          "output_type": "stream",
          "name": "stdout",
          "text": [
            "['house', 'mouse', 'fountain']\n",
            "['дом', 5, [8, 0]]\n",
            "[('house', 'дом'), ('mouse', 5), ('fountain', [8, 0])]\n"
          ]
        }
      ]
    },
    {
      "cell_type": "markdown",
      "source": [
        "Последняя выдача - это список кортежей (в данном случае упорядоченных пар)."
      ],
      "metadata": {
        "id": "byKh5HEWDZZi"
      }
    },
    {
      "cell_type": "markdown",
      "source": [
        "### Функции\n",
        "\n",
        "Теперь немного функций (также мы уже видели функцию `type()`). Функция `input()` просит пользователя ввести текст (string!)."
      ],
      "metadata": {
        "id": "RMhVan8X1V3_"
      }
    },
    {
      "cell_type": "code",
      "source": [
        "words_of_user = input('Введите ваше любимое слово или число: ')\n",
        "print(type(words_of_user))"
      ],
      "metadata": {
        "colab": {
          "base_uri": "https://localhost:8080/"
        },
        "id": "fkMLDO1H1Vbn",
        "outputId": "51fbf942-f0e9-40af-c3b7-00e9efa85eb8"
      },
      "execution_count": null,
      "outputs": [
        {
          "output_type": "stream",
          "name": "stdout",
          "text": [
            "Введите ваше любимое слово или число: 88\n",
            "<class 'str'>\n"
          ]
        }
      ]
    },
    {
      "cell_type": "markdown",
      "source": [
        "Напишем небольшой код, который, используя функцию `input()`, запрашивает у пользователя существительное, прилагательное и глагол, а затем выдаёт из них предложение."
      ],
      "metadata": {
        "id": "CdxG9bi50eEh"
      }
    },
    {
      "cell_type": "code",
      "source": [
        "verb = input('Введите переходный глагол в ед. числе: ')\n",
        "noun_1 = input('Введите существительное в им. падеже в ед. числе: ')\n",
        "adj = input('Введите прилагательное того же рода и числа: ')\n",
        "noun_2 = input('Введите существительное в вин. падеже: ')\n",
        "print('Ура! Получилось.')\n",
        "print(adj.capitalize(), noun_1, verb, noun_2 + '.')"
      ],
      "metadata": {
        "colab": {
          "base_uri": "https://localhost:8080/"
        },
        "id": "IotryS5d2P-h",
        "outputId": "fdef0bb9-dc90-4016-910e-63a81904f2b9"
      },
      "execution_count": 21,
      "outputs": [
        {
          "output_type": "stream",
          "name": "stdout",
          "text": [
            "Введите переходный глагол в ед. числе: любил\n",
            "Введите существительное в им. падеже в ед. числе: медведь\n",
            "Введите прилагательное того же рода и числа: большой\n",
            "Введите существительное в вин. падеже: ромашку\n",
            "Ура! Получилось.\n",
            "Большой медведь любил ромашку.\n"
          ]
        }
      ]
    },
    {
      "cell_type": "markdown",
      "source": [
        "Ещё есть полезная функция `len()`. Она может измерять длину вообще всего, кроме чисел."
      ],
      "metadata": {
        "id": "dwlngb0_2PK4"
      }
    },
    {
      "cell_type": "code",
      "source": [
        "print(len(spisok))\n",
        "print(len(kortezh))\n",
        "print(len(slovar))\n",
        "print(len('Много букв, но мало смысла.'))\n",
        "print(len('Много букв но мало смысла'))\n",
        "print(len('Многобуквномалосмысла'))"
      ],
      "metadata": {
        "colab": {
          "base_uri": "https://localhost:8080/"
        },
        "id": "zz5fj44C32KX",
        "outputId": "493a4a42-1335-4848-8466-cbb634df34dd"
      },
      "execution_count": 20,
      "outputs": [
        {
          "output_type": "stream",
          "name": "stdout",
          "text": [
            "5\n",
            "3\n",
            "3\n",
            "27\n",
            "25\n",
            "21\n"
          ]
        }
      ]
    },
    {
      "cell_type": "markdown",
      "source": [
        "### Методы для работы со строками\n",
        "\n",
        "Методы отличаются от функций тем, что применяются только к одному типу данных (в данном случае к строкам): `some_str.method()`."
      ],
      "metadata": {
        "id": "FO8V4RCC4ll3"
      }
    },
    {
      "cell_type": "code",
      "source": [
        "some_sentence = 'Я нИчЕгО нЕ пОнИмАю!!!11!'\n",
        "print(some_sentence.lower()) # делает все буквы маленькими\n",
        "print(some_sentence.upper()) # делает все буквы большими\n",
        "print(some_sentence.capitalize()) # делает первую букву заглавной"
      ],
      "metadata": {
        "id": "Q82FoIl14xmj",
        "colab": {
          "base_uri": "https://localhost:8080/"
        },
        "outputId": "d77c3a7a-d6ae-4a59-ef41-6c3997b306e0"
      },
      "execution_count": 23,
      "outputs": [
        {
          "output_type": "stream",
          "name": "stdout",
          "text": [
            "я ничего не понимаю!!!11!\n",
            "Я НИЧЕГО НЕ ПОНИМАЮ!!!11!\n",
            "Я ничего не понимаю!!!11!\n"
          ]
        }
      ]
    },
    {
      "cell_type": "code",
      "source": [
        "some_long_text = \"\"\"Я лгал; но мне хотелось его побесить. У меня врожденная страсть противоречить; целая моя жизнь была только цепь\n",
        "грустных и неудачных противоречий сердцу или рассудку! Присутствие энтузиаста обдает меня крещенским холодом, и, я думаю,\n",
        "частые сношения с вялым флегматиком сделали бы из меня страстного мечтателя.\n",
        "\"\"\" # так тоже можно оформлять строки, которые очень длинные\n",
        "print(some_long_text)\n",
        "some_long_text # \\n - символ переноса строки, который выводится, если не использовать функцию print()"
      ],
      "metadata": {
        "colab": {
          "base_uri": "https://localhost:8080/",
          "height": 122
        },
        "id": "Z8jfvysBOVJi",
        "outputId": "933d005b-a056-4ab4-d02b-7048553221ca"
      },
      "execution_count": 24,
      "outputs": [
        {
          "output_type": "stream",
          "name": "stdout",
          "text": [
            "Я лгал; но мне хотелось его побесить. У меня врожденная страсть противоречить; целая моя жизнь была только цепь\n",
            "грустных и неудачных противоречий сердцу или рассудку! Присутствие энтузиаста обдает меня крещенским холодом, и, я думаю,\n",
            "частые сношения с вялым флегматиком сделали бы из меня страстного мечтателя. \n",
            "\n"
          ]
        },
        {
          "output_type": "execute_result",
          "data": {
            "text/plain": [
              "'Я лгал; но мне хотелось его побесить. У меня врожденная страсть противоречить; целая моя жизнь была только цепь\\nгрустных и неудачных противоречий сердцу или рассудку! Присутствие энтузиаста обдает меня крещенским холодом, и, я думаю,\\nчастые сношения с вялым флегматиком сделали бы из меня страстного мечтателя. \\n'"
            ],
            "application/vnd.google.colaboratory.intrinsic+json": {
              "type": "string"
            }
          },
          "metadata": {},
          "execution_count": 24
        }
      ]
    },
    {
      "cell_type": "markdown",
      "source": [
        "Посчитайте количество символов в `some_sentence` и `some_long_text`."
      ],
      "metadata": {
        "id": "d8KdParBRLZm"
      }
    },
    {
      "cell_type": "code",
      "source": [
        "# здесь ваш код\n",
        "print(len(some_sentence))\n",
        "print(len(some_long_text))"
      ],
      "metadata": {
        "colab": {
          "base_uri": "https://localhost:8080/"
        },
        "id": "PePgwxV-RRj4",
        "outputId": "d38bf122-6f32-48c3-8bb1-f271a7b36481"
      },
      "execution_count": 25,
      "outputs": [
        {
          "output_type": "stream",
          "name": "stdout",
          "text": [
            "25\n",
            "312\n"
          ]
        }
      ]
    },
    {
      "cell_type": "markdown",
      "source": [
        "Очень полезно делить строки на слова."
      ],
      "metadata": {
        "id": "iVirg70UOXHl"
      }
    },
    {
      "cell_type": "code",
      "source": [
        "some_long_text.split() # делит по пробелам"
      ],
      "metadata": {
        "colab": {
          "base_uri": "https://localhost:8080/"
        },
        "id": "0TL7s7_hQZEP",
        "outputId": "aa2f4524-8073-4e48-968d-8ad7d690406f"
      },
      "execution_count": 26,
      "outputs": [
        {
          "output_type": "execute_result",
          "data": {
            "text/plain": [
              "['Я',\n",
              " 'лгал;',\n",
              " 'но',\n",
              " 'мне',\n",
              " 'хотелось',\n",
              " 'его',\n",
              " 'побесить.',\n",
              " 'У',\n",
              " 'меня',\n",
              " 'врожденная',\n",
              " 'страсть',\n",
              " 'противоречить;',\n",
              " 'целая',\n",
              " 'моя',\n",
              " 'жизнь',\n",
              " 'была',\n",
              " 'только',\n",
              " 'цепь',\n",
              " 'грустных',\n",
              " 'и',\n",
              " 'неудачных',\n",
              " 'противоречий',\n",
              " 'сердцу',\n",
              " 'или',\n",
              " 'рассудку!',\n",
              " 'Присутствие',\n",
              " 'энтузиаста',\n",
              " 'обдает',\n",
              " 'меня',\n",
              " 'крещенским',\n",
              " 'холодом,',\n",
              " 'и,',\n",
              " 'я',\n",
              " 'думаю,',\n",
              " 'частые',\n",
              " 'сношения',\n",
              " 'с',\n",
              " 'вялым',\n",
              " 'флегматиком',\n",
              " 'сделали',\n",
              " 'бы',\n",
              " 'из',\n",
              " 'меня',\n",
              " 'страстного',\n",
              " 'мечтателя.']"
            ]
          },
          "metadata": {},
          "execution_count": 26
        }
      ]
    },
    {
      "cell_type": "markdown",
      "source": [
        "Методы можно применять последовательно - слева направо."
      ],
      "metadata": {
        "id": "Hx_TmhL0QlTE"
      }
    },
    {
      "cell_type": "code",
      "source": [
        "some_sentence.lower().split()"
      ],
      "metadata": {
        "colab": {
          "base_uri": "https://localhost:8080/"
        },
        "id": "wueGopmoQg0R",
        "outputId": "927c37a9-a377-4305-a6a7-73d4fd864b21"
      },
      "execution_count": 27,
      "outputs": [
        {
          "output_type": "execute_result",
          "data": {
            "text/plain": [
              "['я', 'ничего', 'не', 'понимаю!!!11!']"
            ]
          },
          "metadata": {},
          "execution_count": 27
        }
      ]
    },
    {
      "cell_type": "markdown",
      "source": [
        "Нужно помнить, какой формат является результатом работы метода. Код `some_sentence.split().lower()` выдаст ошибку, так как метод `lower()` не применяется к спискам.\n",
        "\n",
        "Из строки можно вытаскивать определённые символы или последовательности символов."
      ],
      "metadata": {
        "id": "U-6C6N8LQ3cv"
      }
    },
    {
      "cell_type": "code",
      "source": [
        "print(some_long_text[:6]) # python начинает считать с 0, по 6 невключительно (!)\n",
        "print(some_long_text[-11:-2]) # левая граница не включается\n",
        "print(some_long_text[6:-11]) # можно вытащить кусочек из серединки"
      ],
      "metadata": {
        "colab": {
          "base_uri": "https://localhost:8080/"
        },
        "id": "dFHazpzbPlG3",
        "outputId": "f48bd85b-4537-41c9-dda4-eaa2db250b81"
      },
      "execution_count": 13,
      "outputs": [
        {
          "output_type": "stream",
          "name": "stdout",
          "text": [
            "Я лгал\n",
            "мечтателя\n",
            "; но мне хотелось его побесить. У меня врожденная страсть противоречить; целая моя жизнь была только цепь\n",
            "грустных и неудачных противоречий сердцу или рассудку. Присутствие энтузиаста обдает меня крещенским холодом, и, я думаю,\n",
            "частые сношения с вялым флегматиком сделали бы из меня страстного \n"
          ]
        }
      ]
    },
    {
      "cell_type": "markdown",
      "source": [
        "Текст можно делить не только по словам (то есть по пробелам)."
      ],
      "metadata": {
        "id": "sXtkBIDVRbct"
      }
    },
    {
      "cell_type": "code",
      "source": [
        "some_long_text.split('.') # а как же восклицательные знаки и другие знаки завершения предложения?"
      ],
      "metadata": {
        "colab": {
          "base_uri": "https://localhost:8080/"
        },
        "id": "Ivv4ENuvRfi1",
        "outputId": "726e99a5-743f-4cf8-bc1d-32d920e1d211"
      },
      "execution_count": 29,
      "outputs": [
        {
          "output_type": "execute_result",
          "data": {
            "text/plain": [
              "['Я лгал; но мне хотелось его побесить',\n",
              " ' У меня врожденная страсть противоречить; целая моя жизнь была только цепь\\nгрустных и неудачных противоречий сердцу или рассудку! Присутствие энтузиаста обдает меня крещенским холодом, и, я думаю,\\nчастые сношения с вялым флегматиком сделали бы из меня страстного мечтателя',\n",
              " ' \\n']"
            ]
          },
          "metadata": {},
          "execution_count": 29
        }
      ]
    },
    {
      "cell_type": "code",
      "source": [
        "some_long_text.split('!')"
      ],
      "metadata": {
        "colab": {
          "base_uri": "https://localhost:8080/"
        },
        "id": "0nU-qh-iR1An",
        "outputId": "567ca1eb-ca3b-4c25-efd1-1e7ec7137e56"
      },
      "execution_count": 30,
      "outputs": [
        {
          "output_type": "execute_result",
          "data": {
            "text/plain": [
              "['Я лгал; но мне хотелось его побесить. У меня врожденная страсть противоречить; целая моя жизнь была только цепь\\nгрустных и неудачных противоречий сердцу или рассудку',\n",
              " ' Присутствие энтузиаста обдает меня крещенским холодом, и, я думаю,\\nчастые сношения с вялым флегматиком сделали бы из меня страстного мечтателя. \\n']"
            ]
          },
          "metadata": {},
          "execution_count": 30
        }
      ]
    },
    {
      "cell_type": "markdown",
      "source": [
        "### Natasha\n",
        "\n",
        "Natasha - это набор библиотек для обработки текстов на русском языке. Сегодня мы будем использовать razdel, который умеет делить текст на слова и предложения. NLP - Natural Language Processing (Обработка Естественного Языка). NER - Named Entity Recognition (Распознавание Именованных Сущностей).  "
      ],
      "metadata": {
        "id": "UjaaFws4SGUh"
      }
    },
    {
      "cell_type": "code",
      "source": [
        "pip install natasha  # вначале надо установить"
      ],
      "metadata": {
        "id": "UNQMAfKoSL8f"
      },
      "execution_count": null,
      "outputs": []
    },
    {
      "cell_type": "code",
      "source": [
        "from razdel import sentenize"
      ],
      "metadata": {
        "id": "WXKtz2MuSclm"
      },
      "execution_count": 32,
      "outputs": []
    },
    {
      "cell_type": "code",
      "source": [
        "sentenize(some_long_text)"
      ],
      "metadata": {
        "colab": {
          "base_uri": "https://localhost:8080/"
        },
        "id": "ZdngES1ySwie",
        "outputId": "5ad48209-7f17-4c6b-c590-7f6e7ad6cb6c"
      },
      "execution_count": 33,
      "outputs": [
        {
          "output_type": "execute_result",
          "data": {
            "text/plain": [
              "<generator object find_substrings at 0x7ce62e4f78b0>"
            ]
          },
          "metadata": {},
          "execution_count": 33
        }
      ]
    },
    {
      "cell_type": "code",
      "source": [
        "list(sentenize(some_long_text))"
      ],
      "metadata": {
        "colab": {
          "base_uri": "https://localhost:8080/"
        },
        "id": "wYfMmFsyS0Zf",
        "outputId": "c56b7ecc-5f1c-4612-b52e-b291540b1873"
      },
      "execution_count": 34,
      "outputs": [
        {
          "output_type": "execute_result",
          "data": {
            "text/plain": [
              "[Substring(0, 37, 'Я лгал; но мне хотелось его побесить.'),\n",
              " Substring(38,\n",
              "           166,\n",
              "           'У меня врожденная страсть противоречить; целая моя жизнь была только цепь\\nгрустных и неудачных противоречий сердцу или рассудку!'),\n",
              " Substring(167,\n",
              "           310,\n",
              "           'Присутствие энтузиаста обдает меня крещенским холодом, и, я думаю,\\nчастые сношения с вялым флегматиком сделали бы из меня страстного мечтателя.')]"
            ]
          },
          "metadata": {},
          "execution_count": 34
        }
      ]
    },
    {
      "cell_type": "markdown",
      "source": [
        "Хорошо, а если у нас точка - это не конец предложения?"
      ],
      "metadata": {
        "id": "1bXSk3sDTCbu"
      }
    },
    {
      "cell_type": "code",
      "source": [
        "some_long_text2 = \"\"\"Я лгал; но мне хотелось его побесить. У меня врожденная страсть противоречить; целая моя жизнь была только цепь\n",
        "грустных и неудачных противоречий сердцу, рассудку и т.д. и т.п.! Присутствие энтузиаста обдает меня крещенским холодом, и, я думаю,\n",
        "частые сношения с вялым флегматиком сделали бы из меня страстного мечтателя.\n",
        "\"\"\"\n",
        "list(sentenize(some_long_text2)) # работает!"
      ],
      "metadata": {
        "colab": {
          "base_uri": "https://localhost:8080/"
        },
        "id": "YmVXt-jcTUhZ",
        "outputId": "d8fdf259-5c67-41ab-9978-6b262845cb8e"
      },
      "execution_count": 35,
      "outputs": [
        {
          "output_type": "execute_result",
          "data": {
            "text/plain": [
              "[Substring(0, 37, 'Я лгал; но мне хотелось его побесить.'),\n",
              " Substring(38,\n",
              "           177,\n",
              "           'У меня врожденная страсть противоречить; целая моя жизнь была только цепь\\nгрустных и неудачных противоречий сердцу, рассудку и т.д. и т.п.!'),\n",
              " Substring(178,\n",
              "           321,\n",
              "           'Присутствие энтузиаста обдает меня крещенским холодом, и, я думаю,\\nчастые сношения с вялым флегматиком сделали бы из меня страстного мечтателя.')]"
            ]
          },
          "metadata": {},
          "execution_count": 35
        }
      ]
    },
    {
      "cell_type": "markdown",
      "source": [
        "Теперь будем делить на слова. Но вначале нужно научиться очищать текст от ненужных символов. В этом нам поможет метод `strip()`, которые удаляет определённые знаки по краям строк."
      ],
      "metadata": {
        "id": "B7AA5KJvTuip"
      }
    },
    {
      "cell_type": "code",
      "source": [
        "some_sentence.strip('!')"
      ],
      "metadata": {
        "colab": {
          "base_uri": "https://localhost:8080/",
          "height": 35
        },
        "id": "j4c4HhI1TuEy",
        "outputId": "c202ca3d-44ca-4cfe-c832-1a9f708e14a1"
      },
      "execution_count": 36,
      "outputs": [
        {
          "output_type": "execute_result",
          "data": {
            "text/plain": [
              "'Я нИчЕгО нЕ пОнИмАю!!!11'"
            ],
            "application/vnd.google.colaboratory.intrinsic+json": {
              "type": "string"
            }
          },
          "metadata": {},
          "execution_count": 36
        }
      ]
    },
    {
      "cell_type": "markdown",
      "source": [
        "Так, но мы же хотим от всех знаков..."
      ],
      "metadata": {
        "id": "I6kE-LibUp_U"
      }
    },
    {
      "cell_type": "code",
      "source": [
        "some_sentence.strip('!1') # можно перечислить нежеланные нам символы друг за другом в строке"
      ],
      "metadata": {
        "colab": {
          "base_uri": "https://localhost:8080/",
          "height": 35
        },
        "id": "bci7yh10UyZJ",
        "outputId": "432393e5-3ee7-45fc-f93f-bc93c8d9e636"
      },
      "execution_count": 37,
      "outputs": [
        {
          "output_type": "execute_result",
          "data": {
            "text/plain": [
              "'Я нИчЕгО нЕ пОнИмАю'"
            ],
            "application/vnd.google.colaboratory.intrinsic+json": {
              "type": "string"
            }
          },
          "metadata": {},
          "execution_count": 37
        }
      ]
    },
    {
      "cell_type": "markdown",
      "source": [
        "А что если ненужные символы не только в концах строки? Тогда сделаем небольшую петельку (loop): `for`."
      ],
      "metadata": {
        "id": "ASkrjDIHVYsD"
      }
    },
    {
      "cell_type": "code",
      "source": [
        "another_sentence = 'Но. зачем. писать. столько. точек. Ты!!1 разговариваешь просто,,,, возмутительно:('\n",
        "words = another_sentence.lower().split() # разделяем предложение на слова по пробелам\n",
        "print(words)\n",
        "for word in words:  # для каждого элемента (слова) в списке\n",
        "    print(word.strip('.!1,:(')) # перечисляем все знаки, которые мы не хотим видеть"
      ],
      "metadata": {
        "colab": {
          "base_uri": "https://localhost:8080/"
        },
        "id": "NRytcaqoVGj4",
        "outputId": "75ffab09-9178-4209-cb40-d50cfe60d124"
      },
      "execution_count": 38,
      "outputs": [
        {
          "output_type": "stream",
          "name": "stdout",
          "text": [
            "['но.', 'зачем.', 'писать.', 'столько.', 'точек.', 'ты!!1', 'разговариваешь', 'просто,,,,', 'возмутительно:(']\n",
            "но\n",
            "зачем\n",
            "писать\n",
            "столько\n",
            "точек\n",
            "ты\n",
            "разговариваешь\n",
            "просто\n",
            "возмутительно\n"
          ]
        }
      ]
    },
    {
      "cell_type": "markdown",
      "source": [
        "Нам что, перечислять все знаки? Не порядок... Мы программисты или кто..."
      ],
      "metadata": {
        "id": "kzIlGLqoU_At"
      }
    },
    {
      "cell_type": "code",
      "source": [
        "from razdel import tokenize"
      ],
      "metadata": {
        "id": "uFm1Tf1YU-Zx"
      },
      "execution_count": 41,
      "outputs": []
    },
    {
      "cell_type": "code",
      "source": [
        "list(tokenize(another_sentence))"
      ],
      "metadata": {
        "colab": {
          "base_uri": "https://localhost:8080/"
        },
        "id": "54PzgOBpWXxr",
        "outputId": "c2044329-4f4c-490d-eab9-f2f400b130ae"
      },
      "execution_count": 42,
      "outputs": [
        {
          "output_type": "execute_result",
          "data": {
            "text/plain": [
              "[Substring(0, 2, 'Но'),\n",
              " Substring(2, 3, '.'),\n",
              " Substring(4, 9, 'зачем'),\n",
              " Substring(9, 10, '.'),\n",
              " Substring(11, 17, 'писать'),\n",
              " Substring(17, 18, '.'),\n",
              " Substring(19, 26, 'столько'),\n",
              " Substring(26, 27, '.'),\n",
              " Substring(28, 33, 'точек'),\n",
              " Substring(33, 34, '.'),\n",
              " Substring(35, 37, 'Ты'),\n",
              " Substring(37, 39, '!!'),\n",
              " Substring(39, 40, '1'),\n",
              " Substring(41, 55, 'разговариваешь'),\n",
              " Substring(56, 62, 'просто'),\n",
              " Substring(62, 63, ','),\n",
              " Substring(63, 64, ','),\n",
              " Substring(64, 65, ','),\n",
              " Substring(65, 66, ','),\n",
              " Substring(67, 80, 'возмутительно'),\n",
              " Substring(80, 82, ':(')]"
            ]
          },
          "metadata": {},
          "execution_count": 42
        }
      ]
    },
    {
      "cell_type": "markdown",
      "source": [
        "По каким-то определённым символам он делит, а по другим - нет."
      ],
      "metadata": {
        "id": "2-eM2QDIWhcc"
      }
    },
    {
      "cell_type": "code",
      "source": [
        "list(tokenize('Мы проехали 5км.'))"
      ],
      "metadata": {
        "colab": {
          "base_uri": "https://localhost:8080/"
        },
        "id": "t2m7sJMHWmaO",
        "outputId": "f0642d77-bcbb-4d03-84a2-f3e5726a5f86"
      },
      "execution_count": 43,
      "outputs": [
        {
          "output_type": "execute_result",
          "data": {
            "text/plain": [
              "[Substring(0, 2, 'Мы'),\n",
              " Substring(3, 11, 'проехали'),\n",
              " Substring(12, 13, '5'),\n",
              " Substring(13, 15, 'км'),\n",
              " Substring(15, 16, '.')]"
            ]
          },
          "metadata": {},
          "execution_count": 43
        }
      ]
    },
    {
      "cell_type": "code",
      "source": [
        "list(tokenize('М.Ю.Лермонтов жил в Пятигорске....'))"
      ],
      "metadata": {
        "colab": {
          "base_uri": "https://localhost:8080/"
        },
        "id": "P6oaoga8Wx_X",
        "outputId": "6a12e0c3-3b21-47cf-aa7e-34735d983761"
      },
      "execution_count": 49,
      "outputs": [
        {
          "output_type": "execute_result",
          "data": {
            "text/plain": [
              "[Substring(0, 1, 'М'),\n",
              " Substring(1, 2, '.'),\n",
              " Substring(2, 3, 'Ю'),\n",
              " Substring(3, 4, '.'),\n",
              " Substring(4, 13, 'Лермонтов'),\n",
              " Substring(14, 17, 'жил'),\n",
              " Substring(18, 19, 'в'),\n",
              " Substring(20, 30, 'Пятигорске'),\n",
              " Substring(30, 34, '....')]"
            ]
          },
          "metadata": {},
          "execution_count": 49
        }
      ]
    },
    {
      "cell_type": "code",
      "source": [
        "list(tokenize('9-го числа мы поедем на шашлыки!'))"
      ],
      "metadata": {
        "colab": {
          "base_uri": "https://localhost:8080/"
        },
        "id": "BmTQ2HxyW64o",
        "outputId": "569cb657-04b7-4b78-d53a-792fe91ac48f"
      },
      "execution_count": 45,
      "outputs": [
        {
          "output_type": "execute_result",
          "data": {
            "text/plain": [
              "[Substring(0, 4, '9-го'),\n",
              " Substring(5, 10, 'числа'),\n",
              " Substring(11, 13, 'мы'),\n",
              " Substring(14, 20, 'поедем'),\n",
              " Substring(21, 23, 'на'),\n",
              " Substring(24, 31, 'шашлыки'),\n",
              " Substring(31, 32, '!')]"
            ]
          },
          "metadata": {},
          "execution_count": 45
        }
      ]
    },
    {
      "cell_type": "markdown",
      "source": [
        "А что если дать ему \"9го числа мы поедем на шашлыки!\"?"
      ],
      "metadata": {
        "id": "Tay-cI6YXGRy"
      }
    },
    {
      "cell_type": "code",
      "source": [
        "# здесь ваш код\n",
        "list(tokenize('9го числа мы поедем на шашлыки!'))"
      ],
      "metadata": {
        "id": "GPTtGv_8XChE"
      },
      "execution_count": 47,
      "outputs": []
    },
    {
      "cell_type": "markdown",
      "source": [
        "Так, а если теперь мы хотим убрать ненужные символы в выдаче `tokenize()`?\n",
        "Об этом потом. :)"
      ],
      "metadata": {
        "id": "UNHd6SahXWyP"
      }
    }
  ]
}