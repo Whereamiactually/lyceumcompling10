{
  "nbformat": 4,
  "nbformat_minor": 0,
  "metadata": {
    "colab": {
      "provenance": [],
      "authorship_tag": "ABX9TyNyHUTu1CGMDeSTMFX0vEjK",
      "include_colab_link": true
    },
    "kernelspec": {
      "name": "python3",
      "display_name": "Python 3"
    },
    "language_info": {
      "name": "python"
    }
  },
  "cells": [
    {
      "cell_type": "markdown",
      "metadata": {
        "id": "view-in-github",
        "colab_type": "text"
      },
      "source": [
        "<a href=\"https://colab.research.google.com/github/Whereamiactually/lyceumcompling10/blob/main/Acquaintance.ipynb\" target=\"_parent\"><img src=\"https://colab.research.google.com/assets/colab-badge.svg\" alt=\"Open In Colab\"/></a>"
      ]
    },
    {
      "cell_type": "markdown",
      "source": [
        "# **Знакомство с Python'ом**\n",
        "\n",
        "Integer - целое число.\n",
        "\n",
        "Функция `print()` выводит то, к чему применяется.\n",
        "\n",
        "Функция `type()` выдаёт тип того, к чему применяется."
      ],
      "metadata": {
        "id": "B4_0KRHefas0"
      }
    },
    {
      "cell_type": "code",
      "execution_count": null,
      "metadata": {
        "id": "Z1UgczusfQGS",
        "colab": {
          "base_uri": "https://localhost:8080/"
        },
        "outputId": "7e86373d-650d-4e6f-8c32-db240f53fdce"
      },
      "outputs": [
        {
          "output_type": "stream",
          "name": "stdout",
          "text": [
            "a = 402\n",
            "b = 220\n",
            "<class 'int'>\n"
          ]
        }
      ],
      "source": [
        "a = 345 + 57\n",
        "print('a =', a)\n",
        "b = 44 * 5\n",
        "print('b =', b)\n",
        "print(type(a))"
      ]
    },
    {
      "cell_type": "markdown",
      "source": [
        "Переменные типа `a` и `b` можно называть как угодно латинскими буками (за исключением сочетаний букв, которые являются служебными, типа `if`, `False` и `while`), но лучше всего называть так, чтобы было понятно, что скрывается за этой переменной."
      ],
      "metadata": {
        "id": "bDT6wtl3vikw"
      }
    },
    {
      "cell_type": "markdown",
      "source": [
        "Float - дробь, пишется через точку! (После `#` можно писать комментарий, который никак не влияет на код.)"
      ],
      "metadata": {
        "id": "243S_jg-kFBZ"
      }
    },
    {
      "cell_type": "code",
      "source": [
        "a = 44 / 5 # обычное деление (в результате всегда получается float)\n",
        "b = 44 // 5 # целая часть от деления\n",
        "c = 44 % 5 # остаток от деления\n",
        "d = 4 ** 3 # возведение в степень\n",
        "print(type(a))"
      ],
      "metadata": {
        "colab": {
          "base_uri": "https://localhost:8080/"
        },
        "id": "hIfBx5bOi6y1",
        "outputId": "3eb9c804-88fa-411a-a3e3-ace9a3672c28"
      },
      "execution_count": null,
      "outputs": [
        {
          "output_type": "stream",
          "name": "stdout",
          "text": [
            "<class 'float'>\n"
          ]
        }
      ]
    },
    {
      "cell_type": "markdown",
      "source": [
        "Значения переменных не выводятся, потому что мы лишь присвоили их, но не вывели на экран."
      ],
      "metadata": {
        "id": "p1fc1iJ9jQ_A"
      }
    },
    {
      "cell_type": "code",
      "source": [
        "print('a =', a)\n",
        "print('b =', b)\n",
        "print('c =', c)\n",
        "print('d =', d)\n",
        "print('b / c =', b / c)"
      ],
      "metadata": {
        "colab": {
          "base_uri": "https://localhost:8080/"
        },
        "id": "iywnV2aTjbbe",
        "outputId": "8949ce38-3a84-4bb3-f100-b2d1341b0356"
      },
      "execution_count": null,
      "outputs": [
        {
          "output_type": "stream",
          "name": "stdout",
          "text": [
            "a = 8.8\n",
            "b = 8\n",
            "c = 4\n",
            "d = 64\n",
            "b // c = 2.0\n"
          ]
        }
      ]
    },
    {
      "cell_type": "markdown",
      "source": [
        "String - строка, пишется либо в одинарных, либо в двойных кавычках."
      ],
      "metadata": {
        "id": "pckOrLE5lEVs"
      }
    },
    {
      "cell_type": "code",
      "source": [
        "print('Linguistics is cool!')\n",
        "print(\"Computers are also cool!\")\n",
        "print(type('Хочу кабачок.'))"
      ],
      "metadata": {
        "colab": {
          "base_uri": "https://localhost:8080/"
        },
        "id": "HVR94KdjlMPG",
        "outputId": "8d2c27f1-d2bd-4c55-f58a-207a65cf77a7"
      },
      "execution_count": null,
      "outputs": [
        {
          "output_type": "stream",
          "name": "stdout",
          "text": [
            "Linguistics is cool!\n",
            "Computers are also cool!\n",
            "<class 'str'>\n"
          ]
        }
      ]
    },
    {
      "cell_type": "markdown",
      "source": [
        "Над строками также можно выполнять операции сложения и умножения!\n",
        "\n",
        "Но нельзя вычетания и деления."
      ],
      "metadata": {
        "id": "UoSb_Nqfl61e"
      }
    },
    {
      "cell_type": "code",
      "source": [
        "print('computational ' + 'linguistics')\n",
        "print('земле' + 'трясение')\n",
        "print('пра' * 6 + 'бабушка')"
      ],
      "metadata": {
        "colab": {
          "base_uri": "https://localhost:8080/"
        },
        "id": "cZ5UZddQlvwf",
        "outputId": "1e544729-2aff-4d57-8037-908f58c56c00"
      },
      "execution_count": null,
      "outputs": [
        {
          "output_type": "stream",
          "name": "stdout",
          "text": [
            "computational linguistics\n",
            "землетрясение\n",
            "прапрапрапрапрапрабабушка\n"
          ]
        }
      ]
    },
    {
      "cell_type": "markdown",
      "source": [
        "**Задание**: используя операции сложения и умножения, а также функцию `print()`, напишите код, который выводит \"great-great-grandmother\"."
      ],
      "metadata": {
        "id": "Q2g7u_wrnHed"
      }
    },
    {
      "cell_type": "code",
      "source": [
        "# место для вашего кода"
      ],
      "metadata": {
        "id": "sBEEQ3hiqHvG"
      },
      "execution_count": null,
      "outputs": []
    },
    {
      "cell_type": "markdown",
      "source": [
        "Складывать друг с другом строки с числами и числа типа integer или float - не одно и то же!"
      ],
      "metadata": {
        "id": "FDPYJpATqZpq"
      }
    },
    {
      "cell_type": "code",
      "source": [
        "print(55 + 7)\n",
        "print('55' + '7')"
      ],
      "metadata": {
        "colab": {
          "base_uri": "https://localhost:8080/"
        },
        "id": "LgJjJ09iqYxi",
        "outputId": "219b30f6-56f6-43b3-aff2-cfad867ce383"
      },
      "execution_count": null,
      "outputs": [
        {
          "output_type": "stream",
          "name": "stdout",
          "text": [
            "62\n",
            "557\n"
          ]
        }
      ]
    },
    {
      "cell_type": "markdown",
      "source": [
        "Есть функции, которые (если у них получится), конвертируют один тип в другой."
      ],
      "metadata": {
        "id": "HU0Jp87vrMY5"
      }
    },
    {
      "cell_type": "code",
      "source": [
        "print(int('778')) # из строки в integer\n",
        "print(float('5.65')) # из строки в float\n",
        "print(str(55)) # из integer или float в строку"
      ],
      "metadata": {
        "colab": {
          "base_uri": "https://localhost:8080/"
        },
        "id": "VBqqZLUsrbiH",
        "outputId": "cd6e91b4-1e14-4d82-d8b1-8b79bd86207d"
      },
      "execution_count": null,
      "outputs": [
        {
          "output_type": "stream",
          "name": "stdout",
          "text": [
            "778\n",
            "5.65\n",
            "55\n"
          ]
        }
      ]
    },
    {
      "cell_type": "markdown",
      "source": [
        "Но нельзя, например, конвертировать из string в integer, если число в строке не целое.\n",
        "\n",
        "Что выдадут две следующие строчки кода? Как так получилось?"
      ],
      "metadata": {
        "id": "mmtU_ZQxsGM-"
      }
    },
    {
      "cell_type": "code",
      "source": [
        "print(str(float('7.8') + 4) + '77')\n",
        "print(int('80' + '7') + 2)"
      ],
      "metadata": {
        "colab": {
          "base_uri": "https://localhost:8080/"
        },
        "id": "oJOxe72auJ7f",
        "outputId": "571dae12-701d-4dec-f982-50fa4c601acb"
      },
      "execution_count": null,
      "outputs": [
        {
          "output_type": "stream",
          "name": "stdout",
          "text": [
            "11.877\n",
            "809\n"
          ]
        }
      ]
    },
    {
      "cell_type": "markdown",
      "source": [
        "Бывают ещё другие типы данных. Например, логический."
      ],
      "metadata": {
        "id": "lqagP3HCs9rI"
      }
    },
    {
      "cell_type": "code",
      "source": [
        "print(type(True)) # логический тип, имеет только два значения True и False\n",
        "print(True and False)\n",
        "print(True or False)\n",
        "print(4 == 4 * 3) # равенство"
      ],
      "metadata": {
        "colab": {
          "base_uri": "https://localhost:8080/"
        },
        "id": "sA31y7MtuolD",
        "outputId": "20cf9314-bd01-4a57-aa28-579b27676f4f"
      },
      "execution_count": null,
      "outputs": [
        {
          "output_type": "stream",
          "name": "stdout",
          "text": [
            "<class 'bool'>\n",
            "False\n",
            "True\n",
            "False\n"
          ]
        }
      ]
    },
    {
      "cell_type": "markdown",
      "source": [
        "Ещё можно сравнивать так."
      ],
      "metadata": {
        "id": "eD8wiTRdxEDa"
      }
    },
    {
      "cell_type": "code",
      "source": [
        "print(2 != 2) # неравенство\n",
        "print(4 > 5) # больше\n",
        "print(2 < 7) # меньше\n",
        "print(33 >= 33) # больше или равно\n",
        "print(33 <= 33) # меньше или равно"
      ],
      "metadata": {
        "colab": {
          "base_uri": "https://localhost:8080/"
        },
        "id": "L-Fm9YoNxT0Y",
        "outputId": "6cb01cb1-0a0f-48b1-969c-ac9940b4e458"
      },
      "execution_count": null,
      "outputs": [
        {
          "output_type": "stream",
          "name": "stdout",
          "text": [
            "False\n",
            "False\n",
            "True\n",
            "True\n",
            "True\n"
          ]
        }
      ]
    },
    {
      "cell_type": "markdown",
      "source": [
        "А ещё бывают списки (lists), кортежи (tuples) и словари (dictionaries)."
      ],
      "metadata": {
        "id": "T33ACKvAyAX8"
      }
    },
    {
      "cell_type": "code",
      "source": [
        "spisok = ['love', 'крокодил', 8, [5, 8.7], 3.4] # порядок элементов не фиксированный\n",
        "kortezh_1 = ('love', 'крокодил', 8) # порядок элементов фиксированный\n",
        "kortezh_2 = ('love', 8, 'крокодил')\n",
        "slovar_1 = {'house': 'дом', 'mouse': 'мышь', 'fountain': 'фонтан'}\n",
        "slovar_2 = {'house': '5', 'mouse': 5, 'fountain': 8}\n",
        "print(kortezh_1 == kortezh_2)\n",
        "print(type(spisok), type(kortezh_1), type(slovar_1))"
      ],
      "metadata": {
        "colab": {
          "base_uri": "https://localhost:8080/"
        },
        "id": "QZWgynsNyPuz",
        "outputId": "5bd5ac6d-74a9-4357-e1fa-b0127d5acc4a"
      },
      "execution_count": null,
      "outputs": [
        {
          "output_type": "stream",
          "name": "stdout",
          "text": [
            "False\n",
            "<class 'list'> <class 'tuple'> <class 'dict'>\n"
          ]
        }
      ]
    },
    {
      "cell_type": "markdown",
      "source": [
        "### Функции\n",
        "\n",
        "Теперь немного функций. Функция `input()` просит пользователя ввести текст (string!)."
      ],
      "metadata": {
        "id": "RMhVan8X1V3_"
      }
    },
    {
      "cell_type": "code",
      "source": [
        "words_of_user = input('Введите ваше любимое слово или число: ')\n",
        "print(type(words_of_user))"
      ],
      "metadata": {
        "colab": {
          "base_uri": "https://localhost:8080/"
        },
        "id": "fkMLDO1H1Vbn",
        "outputId": "51fbf942-f0e9-40af-c3b7-00e9efa85eb8"
      },
      "execution_count": null,
      "outputs": [
        {
          "output_type": "stream",
          "name": "stdout",
          "text": [
            "Введите ваше любимое слово или число: 88\n",
            "<class 'str'>\n"
          ]
        }
      ]
    },
    {
      "cell_type": "markdown",
      "source": [
        "Напишем небольшой код, который, используя функцию `input()`, запрашивает у пользователя существительное, прилагательное и глагол, а затем выдаёт из них предложение."
      ],
      "metadata": {
        "id": "CdxG9bi50eEh"
      }
    },
    {
      "cell_type": "code",
      "source": [
        "verb = input('Введите переходный глагол в ед. числе: ')\n",
        "noun_1 = input('Введите существительное в им. падеже в ед. числе: ')\n",
        "adj = input('Введите прилагательное того же рода и числа: ')\n",
        "noun_2 = input('Введите существительное в вин. падеже: ')\n",
        "print('Ура! Получилось.')\n",
        "print(adj.capitalize(), noun_1, verb, noun_2 + '.')"
      ],
      "metadata": {
        "colab": {
          "base_uri": "https://localhost:8080/"
        },
        "id": "IotryS5d2P-h",
        "outputId": "d70b8319-4bb9-4f12-ead6-34366ee36aab"
      },
      "execution_count": null,
      "outputs": [
        {
          "output_type": "stream",
          "name": "stdout",
          "text": [
            "Введите переходный глагол полюбил\n",
            "Введите существительное медведь\n",
            "Введите прилагательное красивый\n",
            "Введите существительное цветочек\n",
            "Красивый медведь полюбил цветочек.\n"
          ]
        }
      ]
    },
    {
      "cell_type": "markdown",
      "source": [
        "Ещё есть полезная функция `len()`. Она может измерять длину вообще всего, кроме чисел."
      ],
      "metadata": {
        "id": "dwlngb0_2PK4"
      }
    },
    {
      "cell_type": "code",
      "source": [
        "print(len(spisok))\n",
        "print(len(kortezh_1))\n",
        "print(len(slovar_2))\n",
        "print(len('Много букв, но мало смысла.'))\n",
        "print(len('Много букв но мало смысла'))\n",
        "print(len('Многобуквномалосмысла'))"
      ],
      "metadata": {
        "colab": {
          "base_uri": "https://localhost:8080/"
        },
        "id": "zz5fj44C32KX",
        "outputId": "f1c7420a-348c-44b6-813e-d718de4adfa7"
      },
      "execution_count": null,
      "outputs": [
        {
          "output_type": "stream",
          "name": "stdout",
          "text": [
            "5\n",
            "3\n",
            "3\n",
            "27\n",
            "25\n",
            "21\n"
          ]
        }
      ]
    },
    {
      "cell_type": "markdown",
      "source": [
        "### Методы для работы со строками\n",
        "\n",
        "Методы отличаются от функций тем, что применяются только к одному типу данных (в данном случае к строкам): `some_str.method()`."
      ],
      "metadata": {
        "id": "FO8V4RCC4ll3"
      }
    },
    {
      "cell_type": "code",
      "source": [
        "some_sentence = 'Я нИчЕгО нЕ пОнИмАю!!!11!'\n",
        "print(some_sentence.lower()) # делает все буквы маленькими\n",
        "print(some_sentence.upper()) # делает все буквы большими\n",
        "print(some_sentence.capitalize()) # делает первую букву заглавной"
      ],
      "metadata": {
        "id": "Q82FoIl14xmj",
        "colab": {
          "base_uri": "https://localhost:8080/"
        },
        "outputId": "8e550761-bd18-4c09-b354-1b8c18bf4979"
      },
      "execution_count": 34,
      "outputs": [
        {
          "output_type": "stream",
          "name": "stdout",
          "text": [
            "я ничего не понимаю!!!11!\n",
            "Я НИЧЕГО НЕ ПОНИМАЮ!!!11!\n",
            "Я ничего не понимаю!!!11!\n"
          ]
        }
      ]
    },
    {
      "cell_type": "code",
      "source": [
        "some_long_text = \"\"\"Я лгал; но мне хотелось его побесить. У меня врожденная страсть противоречить; целая моя жизнь была только цепь\n",
        "грустных и неудачных противоречий сердцу или рассудку! Присутствие энтузиаста обдает меня крещенским холодом, и, я думаю,\n",
        "частые сношения с вялым флегматиком сделали бы из меня страстного мечтателя.\n",
        "\"\"\" # так тоже можно оформлять строки, которые очень длинные\n",
        "print(some_long_text)\n",
        "some_long_text # \\n - символ переноса строки, который выводится, если не использовать функцию print()"
      ],
      "metadata": {
        "colab": {
          "base_uri": "https://localhost:8080/",
          "height": 122
        },
        "id": "Z8jfvysBOVJi",
        "outputId": "572f58d0-cc76-404e-e53e-fdbe323f3770"
      },
      "execution_count": 21,
      "outputs": [
        {
          "output_type": "stream",
          "name": "stdout",
          "text": [
            "Я лгал; но мне хотелось его побесить. У меня врожденная страсть противоречить; целая моя жизнь была только цепь\n",
            "грустных и неудачных противоречий сердцу или рассудку! Присутствие энтузиаста обдает меня крещенским холодом, и, я думаю,\n",
            "частые сношения с вялым флегматиком сделали бы из меня страстного мечтателя. \n",
            "\n"
          ]
        },
        {
          "output_type": "execute_result",
          "data": {
            "text/plain": [
              "'Я лгал; но мне хотелось его побесить. У меня врожденная страсть противоречить; целая моя жизнь была только цепь\\nгрустных и неудачных противоречий сердцу или рассудку! Присутствие энтузиаста обдает меня крещенским холодом, и, я думаю,\\nчастые сношения с вялым флегматиком сделали бы из меня страстного мечтателя. \\n'"
            ],
            "application/vnd.google.colaboratory.intrinsic+json": {
              "type": "string"
            }
          },
          "metadata": {},
          "execution_count": 21
        }
      ]
    },
    {
      "cell_type": "markdown",
      "source": [
        "Посчитайте количество символов в `some_sentence` и `some_long_text`."
      ],
      "metadata": {
        "id": "d8KdParBRLZm"
      }
    },
    {
      "cell_type": "code",
      "source": [
        "# здесь ваш код"
      ],
      "metadata": {
        "id": "PePgwxV-RRj4"
      },
      "execution_count": null,
      "outputs": []
    },
    {
      "cell_type": "markdown",
      "source": [
        "Очень полезно делить строки на слова."
      ],
      "metadata": {
        "id": "iVirg70UOXHl"
      }
    },
    {
      "cell_type": "code",
      "source": [
        "some_long_text.split() # делит по пробелам"
      ],
      "metadata": {
        "id": "0TL7s7_hQZEP"
      },
      "execution_count": null,
      "outputs": []
    },
    {
      "cell_type": "markdown",
      "source": [
        "Методы можно применять последовательно - слева направо."
      ],
      "metadata": {
        "id": "Hx_TmhL0QlTE"
      }
    },
    {
      "cell_type": "code",
      "source": [
        "some_sentence.lower().split()"
      ],
      "metadata": {
        "colab": {
          "base_uri": "https://localhost:8080/"
        },
        "id": "wueGopmoQg0R",
        "outputId": "7e427a74-cbfb-48cc-ec3c-ecdd1522bd12"
      },
      "execution_count": 18,
      "outputs": [
        {
          "output_type": "execute_result",
          "data": {
            "text/plain": [
              "['я', 'ничего', 'не', 'понимаю!!!11!']"
            ]
          },
          "metadata": {},
          "execution_count": 18
        }
      ]
    },
    {
      "cell_type": "markdown",
      "source": [
        "Нужно помнить, какой формат является результатом работы метода."
      ],
      "metadata": {
        "id": "U-6C6N8LQ3cv"
      }
    },
    {
      "cell_type": "code",
      "source": [
        "some_sentence.split().lower() # метод lower() не применяется к спискам"
      ],
      "metadata": {
        "colab": {
          "base_uri": "https://localhost:8080/",
          "height": 175
        },
        "id": "qlHxGjUJQ8rF",
        "outputId": "d791842b-f122-45f1-e3fd-c2aac187f3e2"
      },
      "execution_count": 19,
      "outputs": [
        {
          "output_type": "error",
          "ename": "AttributeError",
          "evalue": "ignored",
          "traceback": [
            "\u001b[0;31m---------------------------------------------------------------------------\u001b[0m",
            "\u001b[0;31mAttributeError\u001b[0m                            Traceback (most recent call last)",
            "\u001b[0;32m<ipython-input-19-41d51eb7c80c>\u001b[0m in \u001b[0;36m<cell line: 1>\u001b[0;34m()\u001b[0m\n\u001b[0;32m----> 1\u001b[0;31m \u001b[0msome_sentence\u001b[0m\u001b[0;34m.\u001b[0m\u001b[0msplit\u001b[0m\u001b[0;34m(\u001b[0m\u001b[0;34m)\u001b[0m\u001b[0;34m.\u001b[0m\u001b[0mlower\u001b[0m\u001b[0;34m(\u001b[0m\u001b[0;34m)\u001b[0m \u001b[0;31m# метод lower() не применяется к спискам\u001b[0m\u001b[0;34m\u001b[0m\u001b[0;34m\u001b[0m\u001b[0m\n\u001b[0m",
            "\u001b[0;31mAttributeError\u001b[0m: 'list' object has no attribute 'lower'"
          ]
        }
      ]
    },
    {
      "cell_type": "markdown",
      "source": [
        "Из строки можно вытаскивать определённые символы или последовательности символов."
      ],
      "metadata": {
        "id": "MIgbFCEiPaqY"
      }
    },
    {
      "cell_type": "code",
      "source": [
        "print(some_long_text[:6]) # python начинает считать с 0, по 6 включительно\n",
        "print(some_long_text[-11:-2]) # первая граница не включается\n",
        "print(some_long_text[6:-11]) # можно вытащить кусочек из серединки"
      ],
      "metadata": {
        "colab": {
          "base_uri": "https://localhost:8080/"
        },
        "id": "dFHazpzbPlG3",
        "outputId": "f48bd85b-4537-41c9-dda4-eaa2db250b81"
      },
      "execution_count": 13,
      "outputs": [
        {
          "output_type": "stream",
          "name": "stdout",
          "text": [
            "Я лгал\n",
            "мечтателя\n",
            "; но мне хотелось его побесить. У меня врожденная страсть противоречить; целая моя жизнь была только цепь\n",
            "грустных и неудачных противоречий сердцу или рассудку. Присутствие энтузиаста обдает меня крещенским холодом, и, я думаю,\n",
            "частые сношения с вялым флегматиком сделали бы из меня страстного \n"
          ]
        }
      ]
    },
    {
      "cell_type": "markdown",
      "source": [
        "Текст можно делить не только по словам (то есть по пробелам)."
      ],
      "metadata": {
        "id": "sXtkBIDVRbct"
      }
    },
    {
      "cell_type": "code",
      "source": [
        "some_long_text.split('.') # а как же восклицательные знаки и другие знаки завершения предложения?"
      ],
      "metadata": {
        "colab": {
          "base_uri": "https://localhost:8080/"
        },
        "id": "Ivv4ENuvRfi1",
        "outputId": "65a74960-9e12-4408-ed85-e2ff2361e29c"
      },
      "execution_count": 22,
      "outputs": [
        {
          "output_type": "execute_result",
          "data": {
            "text/plain": [
              "['Я лгал; но мне хотелось его побесить',\n",
              " ' У меня врожденная страсть противоречить; целая моя жизнь была только цепь\\nгрустных и неудачных противоречий сердцу или рассудку! Присутствие энтузиаста обдает меня крещенским холодом, и, я думаю,\\nчастые сношения с вялым флегматиком сделали бы из меня страстного мечтателя',\n",
              " ' \\n']"
            ]
          },
          "metadata": {},
          "execution_count": 22
        }
      ]
    },
    {
      "cell_type": "code",
      "source": [
        "some_long_text.split('!')"
      ],
      "metadata": {
        "colab": {
          "base_uri": "https://localhost:8080/"
        },
        "id": "0nU-qh-iR1An",
        "outputId": "acd85758-675d-41dc-e782-667ca92e4c63"
      },
      "execution_count": 23,
      "outputs": [
        {
          "output_type": "execute_result",
          "data": {
            "text/plain": [
              "['Я лгал; но мне хотелось его побесить. У меня врожденная страсть противоречить; целая моя жизнь была только цепь\\nгрустных и неудачных противоречий сердцу или рассудку',\n",
              " ' Присутствие энтузиаста обдает меня крещенским холодом, и, я думаю,\\nчастые сношения с вялым флегматиком сделали бы из меня страстного мечтателя. \\n']"
            ]
          },
          "metadata": {},
          "execution_count": 23
        }
      ]
    },
    {
      "cell_type": "markdown",
      "source": [
        "### Natasha\n",
        "\n",
        "Natasha - это набор библиотек для обработки текстов на русском языке. Мы будем использовать razdel. Это самые основы NLP (Natural Language Processing, Обработка естественного языка). NER - Named Entity Recognition.  "
      ],
      "metadata": {
        "id": "UjaaFws4SGUh"
      }
    },
    {
      "cell_type": "code",
      "source": [
        "pip install natasha  # вначале надо установить"
      ],
      "metadata": {
        "id": "UNQMAfKoSL8f"
      },
      "execution_count": null,
      "outputs": []
    },
    {
      "cell_type": "code",
      "source": [
        "from razdel import sentenize"
      ],
      "metadata": {
        "id": "WXKtz2MuSclm"
      },
      "execution_count": 25,
      "outputs": []
    },
    {
      "cell_type": "code",
      "source": [
        "sentenize(some_long_text)"
      ],
      "metadata": {
        "colab": {
          "base_uri": "https://localhost:8080/"
        },
        "id": "ZdngES1ySwie",
        "outputId": "2c91a6a9-3c23-418f-ced6-a9b5b49d4808"
      },
      "execution_count": 26,
      "outputs": [
        {
          "output_type": "execute_result",
          "data": {
            "text/plain": [
              "<generator object find_substrings at 0x79f5b75a4040>"
            ]
          },
          "metadata": {},
          "execution_count": 26
        }
      ]
    },
    {
      "cell_type": "code",
      "source": [
        "list(sentenize(some_long_text))"
      ],
      "metadata": {
        "colab": {
          "base_uri": "https://localhost:8080/"
        },
        "id": "wYfMmFsyS0Zf",
        "outputId": "a295abad-91e8-412e-da29-6cc4d5902c3c"
      },
      "execution_count": 27,
      "outputs": [
        {
          "output_type": "execute_result",
          "data": {
            "text/plain": [
              "[Substring(0, 37, 'Я лгал; но мне хотелось его побесить.'),\n",
              " Substring(38,\n",
              "           166,\n",
              "           'У меня врожденная страсть противоречить; целая моя жизнь была только цепь\\nгрустных и неудачных противоречий сердцу или рассудку!'),\n",
              " Substring(167,\n",
              "           310,\n",
              "           'Присутствие энтузиаста обдает меня крещенским холодом, и, я думаю,\\nчастые сношения с вялым флегматиком сделали бы из меня страстного мечтателя.')]"
            ]
          },
          "metadata": {},
          "execution_count": 27
        }
      ]
    },
    {
      "cell_type": "markdown",
      "source": [
        "Хорошо, а если у нас точка - это не конец предложения?"
      ],
      "metadata": {
        "id": "1bXSk3sDTCbu"
      }
    },
    {
      "cell_type": "code",
      "source": [
        "some_long_text2 = \"\"\"Я лгал; но мне хотелось его побесить. У меня врожденная страсть противоречить; целая моя жизнь была только цепь\n",
        "грустных и неудачных противоречий сердцу, рассудку и т.д. и т.п.! Присутствие энтузиаста обдает меня крещенским холодом, и, я думаю,\n",
        "частые сношения с вялым флегматиком сделали бы из меня страстного мечтателя.\n",
        "\"\"\"\n",
        "list(sentenize(some_long_text2))"
      ],
      "metadata": {
        "colab": {
          "base_uri": "https://localhost:8080/"
        },
        "id": "YmVXt-jcTUhZ",
        "outputId": "07b41566-4d9e-4034-b18d-8aade4f8970c"
      },
      "execution_count": 28,
      "outputs": [
        {
          "output_type": "execute_result",
          "data": {
            "text/plain": [
              "[Substring(0, 37, 'Я лгал; но мне хотелось его побесить.'),\n",
              " Substring(38,\n",
              "           177,\n",
              "           'У меня врожденная страсть противоречить; целая моя жизнь была только цепь\\nгрустных и неудачных противоречий сердцу, рассудку и т.д. и т.п.!'),\n",
              " Substring(178,\n",
              "           321,\n",
              "           'Присутствие энтузиаста обдает меня крещенским холодом, и, я думаю,\\nчастые сношения с вялым флегматиком сделали бы из меня страстного мечтателя.')]"
            ]
          },
          "metadata": {},
          "execution_count": 28
        }
      ]
    },
    {
      "cell_type": "markdown",
      "source": [
        "Теперь будем делить на слова. Но вначале нужно научиться очищать текст от ненужных символов. В этом нам поможет метод `strip()`, которые удаляет определённые знаки по краям строк."
      ],
      "metadata": {
        "id": "B7AA5KJvTuip"
      }
    },
    {
      "cell_type": "code",
      "source": [
        "some_sentence.strip('!')"
      ],
      "metadata": {
        "colab": {
          "base_uri": "https://localhost:8080/",
          "height": 35
        },
        "id": "j4c4HhI1TuEy",
        "outputId": "ceaeb825-02cb-4fd7-da58-8ed4f098fdcd"
      },
      "execution_count": 35,
      "outputs": [
        {
          "output_type": "execute_result",
          "data": {
            "text/plain": [
              "'Я нИчЕгО нЕ пОнИмАю!!!11'"
            ],
            "application/vnd.google.colaboratory.intrinsic+json": {
              "type": "string"
            }
          },
          "metadata": {},
          "execution_count": 35
        }
      ]
    },
    {
      "cell_type": "markdown",
      "source": [
        "Так, но мы же хотим от всех знаков..."
      ],
      "metadata": {
        "id": "I6kE-LibUp_U"
      }
    },
    {
      "cell_type": "code",
      "source": [
        "some_sentence.strip('!1') # можно перечислить нежеланные нам символы друг за другом в строке"
      ],
      "metadata": {
        "colab": {
          "base_uri": "https://localhost:8080/",
          "height": 35
        },
        "id": "bci7yh10UyZJ",
        "outputId": "df467d22-aadd-4dd7-ae9f-d951de0627d6"
      },
      "execution_count": 36,
      "outputs": [
        {
          "output_type": "execute_result",
          "data": {
            "text/plain": [
              "'Я нИчЕгО нЕ пОнИмАю'"
            ],
            "application/vnd.google.colaboratory.intrinsic+json": {
              "type": "string"
            }
          },
          "metadata": {},
          "execution_count": 36
        }
      ]
    },
    {
      "cell_type": "markdown",
      "source": [
        "А что если ненужные символы не только в концах строки? Тогда сделаем небольшую петельку (loop): `for`."
      ],
      "metadata": {
        "id": "ASkrjDIHVYsD"
      }
    },
    {
      "cell_type": "code",
      "source": [
        "another_sentence = 'Но. зачем. писать. столько. точек. Ты!!1 разговариваешь просто,,,, возмутительно:('\n",
        "words = another_sentence.lower().split() # разделяем предложение на слова по пробелам\n",
        "print(words)\n",
        "for word in words:  # для каждого элемента (слова) в списке\n",
        "    print(word.strip('.!1,:(')) # перечисляем все знаки, которые мы не хотим видеть"
      ],
      "metadata": {
        "colab": {
          "base_uri": "https://localhost:8080/"
        },
        "id": "NRytcaqoVGj4",
        "outputId": "7e3e5ff3-e956-44dd-e4c1-0f7d3ddffbcb"
      },
      "execution_count": 40,
      "outputs": [
        {
          "output_type": "stream",
          "name": "stdout",
          "text": [
            "['но.', 'зачем.', 'писать.', 'столько.', 'точек.', 'ты!!1', 'разговариваешь', 'просто,,,,', 'возмутительно:(']\n",
            "но\n",
            "зачем\n",
            "писать\n",
            "столько\n",
            "точек\n",
            "ты\n",
            "разговариваешь\n",
            "просто\n",
            "возмутительно\n"
          ]
        }
      ]
    },
    {
      "cell_type": "markdown",
      "source": [
        "Нам что, перечислять все знаки? Не порядок... Мы программисты или кто..."
      ],
      "metadata": {
        "id": "kzIlGLqoU_At"
      }
    },
    {
      "cell_type": "code",
      "source": [
        "from razdel import tokenize"
      ],
      "metadata": {
        "id": "uFm1Tf1YU-Zx"
      },
      "execution_count": 41,
      "outputs": []
    },
    {
      "cell_type": "code",
      "source": [
        "list(tokenize(another_sentence))"
      ],
      "metadata": {
        "colab": {
          "base_uri": "https://localhost:8080/"
        },
        "id": "54PzgOBpWXxr",
        "outputId": "c2044329-4f4c-490d-eab9-f2f400b130ae"
      },
      "execution_count": 42,
      "outputs": [
        {
          "output_type": "execute_result",
          "data": {
            "text/plain": [
              "[Substring(0, 2, 'Но'),\n",
              " Substring(2, 3, '.'),\n",
              " Substring(4, 9, 'зачем'),\n",
              " Substring(9, 10, '.'),\n",
              " Substring(11, 17, 'писать'),\n",
              " Substring(17, 18, '.'),\n",
              " Substring(19, 26, 'столько'),\n",
              " Substring(26, 27, '.'),\n",
              " Substring(28, 33, 'точек'),\n",
              " Substring(33, 34, '.'),\n",
              " Substring(35, 37, 'Ты'),\n",
              " Substring(37, 39, '!!'),\n",
              " Substring(39, 40, '1'),\n",
              " Substring(41, 55, 'разговариваешь'),\n",
              " Substring(56, 62, 'просто'),\n",
              " Substring(62, 63, ','),\n",
              " Substring(63, 64, ','),\n",
              " Substring(64, 65, ','),\n",
              " Substring(65, 66, ','),\n",
              " Substring(67, 80, 'возмутительно'),\n",
              " Substring(80, 82, ':(')]"
            ]
          },
          "metadata": {},
          "execution_count": 42
        }
      ]
    },
    {
      "cell_type": "markdown",
      "source": [
        "По каким-то определённым символам он делит, а по другим - нет."
      ],
      "metadata": {
        "id": "2-eM2QDIWhcc"
      }
    },
    {
      "cell_type": "code",
      "source": [
        "list(tokenize('Мы проехали 5км.'))"
      ],
      "metadata": {
        "colab": {
          "base_uri": "https://localhost:8080/"
        },
        "id": "t2m7sJMHWmaO",
        "outputId": "f0642d77-bcbb-4d03-84a2-f3e5726a5f86"
      },
      "execution_count": 43,
      "outputs": [
        {
          "output_type": "execute_result",
          "data": {
            "text/plain": [
              "[Substring(0, 2, 'Мы'),\n",
              " Substring(3, 11, 'проехали'),\n",
              " Substring(12, 13, '5'),\n",
              " Substring(13, 15, 'км'),\n",
              " Substring(15, 16, '.')]"
            ]
          },
          "metadata": {},
          "execution_count": 43
        }
      ]
    },
    {
      "cell_type": "code",
      "source": [
        "list(tokenize('М.Ю.Лермонтов жил в Пятигорске....'))"
      ],
      "metadata": {
        "colab": {
          "base_uri": "https://localhost:8080/"
        },
        "id": "P6oaoga8Wx_X",
        "outputId": "6a12e0c3-3b21-47cf-aa7e-34735d983761"
      },
      "execution_count": 49,
      "outputs": [
        {
          "output_type": "execute_result",
          "data": {
            "text/plain": [
              "[Substring(0, 1, 'М'),\n",
              " Substring(1, 2, '.'),\n",
              " Substring(2, 3, 'Ю'),\n",
              " Substring(3, 4, '.'),\n",
              " Substring(4, 13, 'Лермонтов'),\n",
              " Substring(14, 17, 'жил'),\n",
              " Substring(18, 19, 'в'),\n",
              " Substring(20, 30, 'Пятигорске'),\n",
              " Substring(30, 34, '....')]"
            ]
          },
          "metadata": {},
          "execution_count": 49
        }
      ]
    },
    {
      "cell_type": "code",
      "source": [
        "list(tokenize('9-го числа мы поедем на шашлыки!'))"
      ],
      "metadata": {
        "colab": {
          "base_uri": "https://localhost:8080/"
        },
        "id": "BmTQ2HxyW64o",
        "outputId": "569cb657-04b7-4b78-d53a-792fe91ac48f"
      },
      "execution_count": 45,
      "outputs": [
        {
          "output_type": "execute_result",
          "data": {
            "text/plain": [
              "[Substring(0, 4, '9-го'),\n",
              " Substring(5, 10, 'числа'),\n",
              " Substring(11, 13, 'мы'),\n",
              " Substring(14, 20, 'поедем'),\n",
              " Substring(21, 23, 'на'),\n",
              " Substring(24, 31, 'шашлыки'),\n",
              " Substring(31, 32, '!')]"
            ]
          },
          "metadata": {},
          "execution_count": 45
        }
      ]
    },
    {
      "cell_type": "markdown",
      "source": [
        "А что если дать ему \"9го числа мы поедем на шашлыки!\"?"
      ],
      "metadata": {
        "id": "Tay-cI6YXGRy"
      }
    },
    {
      "cell_type": "code",
      "source": [
        "# здесь ваш код"
      ],
      "metadata": {
        "id": "GPTtGv_8XChE"
      },
      "execution_count": 47,
      "outputs": []
    },
    {
      "cell_type": "markdown",
      "source": [
        "Так, а если теперь мы хотим убрать ненужные символы в выдаче `tokenize()`?\n",
        "Об этом потом. :)"
      ],
      "metadata": {
        "id": "UNHd6SahXWyP"
      }
    }
  ]
}