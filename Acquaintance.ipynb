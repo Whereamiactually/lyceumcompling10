{
  "nbformat": 4,
  "nbformat_minor": 0,
  "metadata": {
    "colab": {
      "provenance": [],
      "authorship_tag": "ABX9TyM3o3Aee/Du27JzCHkqPqOd",
      "include_colab_link": true
    },
    "kernelspec": {
      "name": "python3",
      "display_name": "Python 3"
    },
    "language_info": {
      "name": "python"
    }
  },
  "cells": [
    {
      "cell_type": "markdown",
      "metadata": {
        "id": "view-in-github",
        "colab_type": "text"
      },
      "source": [
        "<a href=\"https://colab.research.google.com/github/Whereamiactually/lyceumcompling10/blob/main/Acquaintance.ipynb\" target=\"_parent\"><img src=\"https://colab.research.google.com/assets/colab-badge.svg\" alt=\"Open In Colab\"/></a>"
      ]
    },
    {
      "cell_type": "markdown",
      "source": [
        "# **Знакомство с Python'ом**\n",
        "\n",
        "Integer - целое число.\n",
        "\n",
        "Функция `print()` выводит то, к чему применяется.\n",
        "\n",
        "Функция `type()` выдаёт тип того, к чему применяется."
      ],
      "metadata": {
        "id": "B4_0KRHefas0"
      }
    },
    {
      "cell_type": "code",
      "execution_count": 20,
      "metadata": {
        "id": "Z1UgczusfQGS",
        "colab": {
          "base_uri": "https://localhost:8080/"
        },
        "outputId": "8cbc1085-1605-4225-d35e-52b6567a9d92"
      },
      "outputs": [
        {
          "output_type": "stream",
          "name": "stdout",
          "text": [
            "a = 402\n",
            "b = 176\n",
            "<class 'int'>\n"
          ]
        }
      ],
      "source": [
        "a = 345 + 57\n",
        "print('a =', a)\n",
        "b = 44 * 4\n",
        "print('b =', b)\n",
        "print(type(a))"
      ]
    },
    {
      "cell_type": "markdown",
      "source": [
        "Переменные типа `a` и `b` можно называть как угодно латинскими буками (за исключением сочетаний букв, которые являются служебными, типа `if`, `False` и `while`), но лучше всего называть так, чтобы было понятно, что скрывается за этой переменной."
      ],
      "metadata": {
        "id": "bDT6wtl3vikw"
      }
    },
    {
      "cell_type": "markdown",
      "source": [
        "Float - дробь, пишется через точку! (После `#` можно писать комментарий, который никак не влияет на код.)"
      ],
      "metadata": {
        "id": "243S_jg-kFBZ"
      }
    },
    {
      "cell_type": "code",
      "source": [
        "a = 44 / 5 # обычное деление (в результате всегда получается float)\n",
        "b = 44 // 5 # целая часть от деления\n",
        "c = 44 % 5 # остаток от деления\n",
        "d = 4 ** 3 # возведение в степень\n",
        "print(type(a))"
      ],
      "metadata": {
        "colab": {
          "base_uri": "https://localhost:8080/"
        },
        "id": "hIfBx5bOi6y1",
        "outputId": "3eb9c804-88fa-411a-a3e3-ace9a3672c28"
      },
      "execution_count": 31,
      "outputs": [
        {
          "output_type": "stream",
          "name": "stdout",
          "text": [
            "<class 'float'>\n"
          ]
        }
      ]
    },
    {
      "cell_type": "markdown",
      "source": [
        "Значения переменных не выводятся, потому что мы лишь присвоили их, но не вывели на экран."
      ],
      "metadata": {
        "id": "p1fc1iJ9jQ_A"
      }
    },
    {
      "cell_type": "code",
      "source": [
        "print('a =', a)\n",
        "print('b =', b)\n",
        "print('c =', c)\n",
        "print('d =', d)\n",
        "print('b / c =', b / c)"
      ],
      "metadata": {
        "colab": {
          "base_uri": "https://localhost:8080/"
        },
        "id": "iywnV2aTjbbe",
        "outputId": "8949ce38-3a84-4bb3-f100-b2d1341b0356"
      },
      "execution_count": 35,
      "outputs": [
        {
          "output_type": "stream",
          "name": "stdout",
          "text": [
            "a = 8.8\n",
            "b = 8\n",
            "c = 4\n",
            "d = 64\n",
            "b // c = 2.0\n"
          ]
        }
      ]
    },
    {
      "cell_type": "markdown",
      "source": [
        "String - строка, пишется либо в одинарных, либо в двойных кавычках."
      ],
      "metadata": {
        "id": "pckOrLE5lEVs"
      }
    },
    {
      "cell_type": "code",
      "source": [
        "print('Linguistics is cool!')\n",
        "print(\"Computers are also cool!\")\n",
        "print(type('Хочу кабачок.'))"
      ],
      "metadata": {
        "colab": {
          "base_uri": "https://localhost:8080/"
        },
        "id": "HVR94KdjlMPG",
        "outputId": "8d2c27f1-d2bd-4c55-f58a-207a65cf77a7"
      },
      "execution_count": 21,
      "outputs": [
        {
          "output_type": "stream",
          "name": "stdout",
          "text": [
            "Linguistics is cool!\n",
            "Computers are also cool!\n",
            "<class 'str'>\n"
          ]
        }
      ]
    },
    {
      "cell_type": "markdown",
      "source": [
        "Над строками также можно выполнять операции сложения и умножения!\n",
        "\n",
        "Но нельзя вычетания и деления."
      ],
      "metadata": {
        "id": "UoSb_Nqfl61e"
      }
    },
    {
      "cell_type": "code",
      "source": [
        "print('computational ' + 'linguistics')\n",
        "print('земле' + 'трясение')\n",
        "print('пра' * 6 + 'бабушка')"
      ],
      "metadata": {
        "colab": {
          "base_uri": "https://localhost:8080/"
        },
        "id": "cZ5UZddQlvwf",
        "outputId": "1e544729-2aff-4d57-8037-908f58c56c00"
      },
      "execution_count": 17,
      "outputs": [
        {
          "output_type": "stream",
          "name": "stdout",
          "text": [
            "computational linguistics\n",
            "землетрясение\n",
            "прапрапрапрапрапрабабушка\n"
          ]
        }
      ]
    },
    {
      "cell_type": "markdown",
      "source": [
        "**Задание**: используя операции сложения и умножения, а также функцию `print()`, напишите код, который выводит \"great-great-grandmother\"."
      ],
      "metadata": {
        "id": "Q2g7u_wrnHed"
      }
    },
    {
      "cell_type": "code",
      "source": [
        "# место для вашего кода"
      ],
      "metadata": {
        "id": "sBEEQ3hiqHvG"
      },
      "execution_count": null,
      "outputs": []
    },
    {
      "cell_type": "markdown",
      "source": [
        "Складывать друг с другом строки с числами и числа типа integer или float - не одно и то же!"
      ],
      "metadata": {
        "id": "FDPYJpATqZpq"
      }
    },
    {
      "cell_type": "code",
      "source": [
        "print(55 + 7)\n",
        "print('55' + '7')"
      ],
      "metadata": {
        "colab": {
          "base_uri": "https://localhost:8080/"
        },
        "id": "LgJjJ09iqYxi",
        "outputId": "219b30f6-56f6-43b3-aff2-cfad867ce383"
      },
      "execution_count": 22,
      "outputs": [
        {
          "output_type": "stream",
          "name": "stdout",
          "text": [
            "62\n",
            "557\n"
          ]
        }
      ]
    },
    {
      "cell_type": "markdown",
      "source": [
        "Есть функции, которые (если у них получится), конвертируют один тип в другой."
      ],
      "metadata": {
        "id": "HU0Jp87vrMY5"
      }
    },
    {
      "cell_type": "code",
      "source": [
        "print(int('778')) # из строки в integer\n",
        "print(float('5.65')) # из строки в float\n",
        "print(str(55)) # из integer или float в строку"
      ],
      "metadata": {
        "colab": {
          "base_uri": "https://localhost:8080/"
        },
        "id": "VBqqZLUsrbiH",
        "outputId": "cd6e91b4-1e14-4d82-d8b1-8b79bd86207d"
      },
      "execution_count": 26,
      "outputs": [
        {
          "output_type": "stream",
          "name": "stdout",
          "text": [
            "778\n",
            "5.65\n",
            "55\n"
          ]
        }
      ]
    },
    {
      "cell_type": "markdown",
      "source": [
        "Но нельзя, например, конвертировать из string в integer, если число в строке не целое.\n",
        "\n",
        "Что выдадут две следующие строчки кода? Как так получилось?"
      ],
      "metadata": {
        "id": "mmtU_ZQxsGM-"
      }
    },
    {
      "cell_type": "code",
      "source": [
        "print(str(float('7.8') + 4) + '77')\n",
        "print(int('80' + '7') + 2)"
      ],
      "metadata": {
        "colab": {
          "base_uri": "https://localhost:8080/"
        },
        "id": "oJOxe72auJ7f",
        "outputId": "571dae12-701d-4dec-f982-50fa4c601acb"
      },
      "execution_count": 34,
      "outputs": [
        {
          "output_type": "stream",
          "name": "stdout",
          "text": [
            "11.877\n",
            "809\n"
          ]
        }
      ]
    },
    {
      "cell_type": "markdown",
      "source": [
        "Бывают ещё другие типы данных. Например, логический."
      ],
      "metadata": {
        "id": "lqagP3HCs9rI"
      }
    },
    {
      "cell_type": "code",
      "source": [
        "print(type(True)) # логический тип, имеет только два значения True и False\n",
        "print(True and False)\n",
        "print(True or False)\n",
        "print(4 == 4 * 3) # равенство"
      ],
      "metadata": {
        "colab": {
          "base_uri": "https://localhost:8080/"
        },
        "id": "sA31y7MtuolD",
        "outputId": "20cf9314-bd01-4a57-aa28-579b27676f4f"
      },
      "execution_count": 39,
      "outputs": [
        {
          "output_type": "stream",
          "name": "stdout",
          "text": [
            "<class 'bool'>\n",
            "False\n",
            "True\n",
            "False\n"
          ]
        }
      ]
    },
    {
      "cell_type": "markdown",
      "source": [
        "Ещё можно сравнивать так."
      ],
      "metadata": {
        "id": "eD8wiTRdxEDa"
      }
    },
    {
      "cell_type": "code",
      "source": [
        "print(2 != 2) # неравенство\n",
        "print(4 > 5) # больше\n",
        "print(2 < 7) # меньше\n",
        "print(33 >= 33) # больше или равно\n",
        "print(33 <= 33) # меньше или равно"
      ],
      "metadata": {
        "colab": {
          "base_uri": "https://localhost:8080/"
        },
        "id": "L-Fm9YoNxT0Y",
        "outputId": "6cb01cb1-0a0f-48b1-969c-ac9940b4e458"
      },
      "execution_count": 42,
      "outputs": [
        {
          "output_type": "stream",
          "name": "stdout",
          "text": [
            "False\n",
            "False\n",
            "True\n",
            "True\n",
            "True\n"
          ]
        }
      ]
    },
    {
      "cell_type": "markdown",
      "source": [
        "А ещё бывают списки (lists), кортежи (tuples) и словари (dictionaries)."
      ],
      "metadata": {
        "id": "T33ACKvAyAX8"
      }
    },
    {
      "cell_type": "code",
      "source": [
        "spisok = ['love', 'крокодил', 8, [5, 8.7], 3.4] # порядок элементов не фиксированный\n",
        "kortezh_1 = ('love', 'крокодил', 8) # порядок элементов фиксированный\n",
        "kortezh_2 = ('love', 8, 'крокодил')\n",
        "slovar_1 = {'house': 'дом', 'mouse': 'мышь', 'fountain': 'фонтан'}\n",
        "slovar_2 = {'house': '5', 'mouse': 5, 'fountain': 8}\n",
        "print(kortezh_1 == kortezh_2)\n",
        "print(type(spisok), type(kortezh_1), type(slovar_1))"
      ],
      "metadata": {
        "colab": {
          "base_uri": "https://localhost:8080/"
        },
        "id": "QZWgynsNyPuz",
        "outputId": "5bd5ac6d-74a9-4357-e1fa-b0127d5acc4a"
      },
      "execution_count": 46,
      "outputs": [
        {
          "output_type": "stream",
          "name": "stdout",
          "text": [
            "False\n",
            "<class 'list'> <class 'tuple'> <class 'dict'>\n"
          ]
        }
      ]
    },
    {
      "cell_type": "markdown",
      "source": [
        "### Функции\n",
        "\n",
        "Теперь немного функций. Функция `input()` просит пользователя ввести текст (string!)."
      ],
      "metadata": {
        "id": "RMhVan8X1V3_"
      }
    },
    {
      "cell_type": "code",
      "source": [
        "words_of_user = input('Введите ваше любимое слово или число: ')\n",
        "print(type(words_of_user))"
      ],
      "metadata": {
        "colab": {
          "base_uri": "https://localhost:8080/"
        },
        "id": "fkMLDO1H1Vbn",
        "outputId": "51fbf942-f0e9-40af-c3b7-00e9efa85eb8"
      },
      "execution_count": 49,
      "outputs": [
        {
          "output_type": "stream",
          "name": "stdout",
          "text": [
            "Введите ваше любимое слово или число: 88\n",
            "<class 'str'>\n"
          ]
        }
      ]
    },
    {
      "cell_type": "markdown",
      "source": [
        "Напишем небольшой код, который, используя функцию `input()`, запрашивает у пользователя существительное, прилагательное и глагол, а затем выдаёт из них предложение."
      ],
      "metadata": {
        "id": "CdxG9bi50eEh"
      }
    },
    {
      "cell_type": "code",
      "source": [
        "verb = input('Введите переходный глагол: ')\n",
        "noun_1 = input('Введите существительное в им. падеже: ')\n",
        "adj = input('Введите прилагательное того же рода: ')\n",
        "noun_2 = input('Введите существительное в вин. падеже: ')\n",
        "print('Ура! Получилось.')\n",
        "print(adj.capitalize(), noun_1, verb, noun_2 + '.')"
      ],
      "metadata": {
        "colab": {
          "base_uri": "https://localhost:8080/"
        },
        "id": "IotryS5d2P-h",
        "outputId": "d70b8319-4bb9-4f12-ead6-34366ee36aab"
      },
      "execution_count": 55,
      "outputs": [
        {
          "output_type": "stream",
          "name": "stdout",
          "text": [
            "Введите переходный глагол полюбил\n",
            "Введите существительное медведь\n",
            "Введите прилагательное красивый\n",
            "Введите существительное цветочек\n",
            "Красивый медведь полюбил цветочек.\n"
          ]
        }
      ]
    },
    {
      "cell_type": "markdown",
      "source": [
        "Ещё есть полезная функция `len()`. Она может измерять длину вообще всего, кроме чисел."
      ],
      "metadata": {
        "id": "dwlngb0_2PK4"
      }
    },
    {
      "cell_type": "code",
      "source": [
        "print(len(spisok))\n",
        "print(len(kortezh_1))\n",
        "print(len(slovar_2))\n",
        "print(len('Много букв, но мало смысла.'))\n",
        "print(len('Много букв но мало смысла'))\n",
        "print(len('Многобуквномалосмысла'))"
      ],
      "metadata": {
        "colab": {
          "base_uri": "https://localhost:8080/"
        },
        "id": "zz5fj44C32KX",
        "outputId": "f1c7420a-348c-44b6-813e-d718de4adfa7"
      },
      "execution_count": 60,
      "outputs": [
        {
          "output_type": "stream",
          "name": "stdout",
          "text": [
            "5\n",
            "3\n",
            "3\n",
            "27\n",
            "25\n",
            "21\n"
          ]
        }
      ]
    },
    {
      "cell_type": "markdown",
      "source": [
        "### Методы для работы со строками\n",
        "\n",
        "Методы отличаются от функций тем, что применяются только к одному типу данных."
      ],
      "metadata": {
        "id": "FO8V4RCC4ll3"
      }
    },
    {
      "cell_type": "code",
      "source": [],
      "metadata": {
        "id": "Q82FoIl14xmj"
      },
      "execution_count": null,
      "outputs": []
    }
  ]
}