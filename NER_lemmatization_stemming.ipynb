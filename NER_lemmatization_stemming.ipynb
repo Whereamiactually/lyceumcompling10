{
  "nbformat": 4,
  "nbformat_minor": 0,
  "metadata": {
    "colab": {
      "provenance": [],
      "authorship_tag": "ABX9TyPHo0P761o7qRKsFnJpCLt/",
      "include_colab_link": true
    },
    "kernelspec": {
      "name": "python3",
      "display_name": "Python 3"
    },
    "language_info": {
      "name": "python"
    },
    "widgets": {
      "application/vnd.jupyter.widget-state+json": {
        "2d1650cf26b44746844f9cd32be4092d": {
          "model_module": "@jupyter-widgets/controls",
          "model_name": "HBoxModel",
          "model_module_version": "1.5.0",
          "state": {
            "_dom_classes": [],
            "_model_module": "@jupyter-widgets/controls",
            "_model_module_version": "1.5.0",
            "_model_name": "HBoxModel",
            "_view_count": null,
            "_view_module": "@jupyter-widgets/controls",
            "_view_module_version": "1.5.0",
            "_view_name": "HBoxView",
            "box_style": "",
            "children": [
              "IPY_MODEL_caace876dad049dca0607d2ef83b4c28",
              "IPY_MODEL_67aa5aa79e644932be6923bfa4800d8e",
              "IPY_MODEL_09b88d823e6244cc99df239f13943558"
            ],
            "layout": "IPY_MODEL_f6d99029b4fb4b53a77187e07049fca6"
          }
        },
        "caace876dad049dca0607d2ef83b4c28": {
          "model_module": "@jupyter-widgets/controls",
          "model_name": "HTMLModel",
          "model_module_version": "1.5.0",
          "state": {
            "_dom_classes": [],
            "_model_module": "@jupyter-widgets/controls",
            "_model_module_version": "1.5.0",
            "_model_name": "HTMLModel",
            "_view_count": null,
            "_view_module": "@jupyter-widgets/controls",
            "_view_module_version": "1.5.0",
            "_view_name": "HTMLView",
            "description": "",
            "description_tooltip": null,
            "layout": "IPY_MODEL_ae89b5685b934558bb710e12b9064f98",
            "placeholder": "​",
            "style": "IPY_MODEL_981a9173b96b41bc80dc29f505d7c9bb",
            "value": "Downloading https://raw.githubusercontent.com/stanfordnlp/stanza-resources/main/resources_1.6.0.json: "
          }
        },
        "67aa5aa79e644932be6923bfa4800d8e": {
          "model_module": "@jupyter-widgets/controls",
          "model_name": "FloatProgressModel",
          "model_module_version": "1.5.0",
          "state": {
            "_dom_classes": [],
            "_model_module": "@jupyter-widgets/controls",
            "_model_module_version": "1.5.0",
            "_model_name": "FloatProgressModel",
            "_view_count": null,
            "_view_module": "@jupyter-widgets/controls",
            "_view_module_version": "1.5.0",
            "_view_name": "ProgressView",
            "bar_style": "success",
            "description": "",
            "description_tooltip": null,
            "layout": "IPY_MODEL_de9d880b869c4f1ca03ca28fe9a3ea24",
            "max": 45749,
            "min": 0,
            "orientation": "horizontal",
            "style": "IPY_MODEL_ee433f3deadc4f3caa247772132664e0",
            "value": 45749
          }
        },
        "09b88d823e6244cc99df239f13943558": {
          "model_module": "@jupyter-widgets/controls",
          "model_name": "HTMLModel",
          "model_module_version": "1.5.0",
          "state": {
            "_dom_classes": [],
            "_model_module": "@jupyter-widgets/controls",
            "_model_module_version": "1.5.0",
            "_model_name": "HTMLModel",
            "_view_count": null,
            "_view_module": "@jupyter-widgets/controls",
            "_view_module_version": "1.5.0",
            "_view_name": "HTMLView",
            "description": "",
            "description_tooltip": null,
            "layout": "IPY_MODEL_03a6e78a86d24d30b92a69cf0afba86f",
            "placeholder": "​",
            "style": "IPY_MODEL_7b199838be744485a26edcfb249c018c",
            "value": " 367k/? [00:00&lt;00:00, 9.34MB/s]"
          }
        },
        "f6d99029b4fb4b53a77187e07049fca6": {
          "model_module": "@jupyter-widgets/base",
          "model_name": "LayoutModel",
          "model_module_version": "1.2.0",
          "state": {
            "_model_module": "@jupyter-widgets/base",
            "_model_module_version": "1.2.0",
            "_model_name": "LayoutModel",
            "_view_count": null,
            "_view_module": "@jupyter-widgets/base",
            "_view_module_version": "1.2.0",
            "_view_name": "LayoutView",
            "align_content": null,
            "align_items": null,
            "align_self": null,
            "border": null,
            "bottom": null,
            "display": null,
            "flex": null,
            "flex_flow": null,
            "grid_area": null,
            "grid_auto_columns": null,
            "grid_auto_flow": null,
            "grid_auto_rows": null,
            "grid_column": null,
            "grid_gap": null,
            "grid_row": null,
            "grid_template_areas": null,
            "grid_template_columns": null,
            "grid_template_rows": null,
            "height": null,
            "justify_content": null,
            "justify_items": null,
            "left": null,
            "margin": null,
            "max_height": null,
            "max_width": null,
            "min_height": null,
            "min_width": null,
            "object_fit": null,
            "object_position": null,
            "order": null,
            "overflow": null,
            "overflow_x": null,
            "overflow_y": null,
            "padding": null,
            "right": null,
            "top": null,
            "visibility": null,
            "width": null
          }
        },
        "ae89b5685b934558bb710e12b9064f98": {
          "model_module": "@jupyter-widgets/base",
          "model_name": "LayoutModel",
          "model_module_version": "1.2.0",
          "state": {
            "_model_module": "@jupyter-widgets/base",
            "_model_module_version": "1.2.0",
            "_model_name": "LayoutModel",
            "_view_count": null,
            "_view_module": "@jupyter-widgets/base",
            "_view_module_version": "1.2.0",
            "_view_name": "LayoutView",
            "align_content": null,
            "align_items": null,
            "align_self": null,
            "border": null,
            "bottom": null,
            "display": null,
            "flex": null,
            "flex_flow": null,
            "grid_area": null,
            "grid_auto_columns": null,
            "grid_auto_flow": null,
            "grid_auto_rows": null,
            "grid_column": null,
            "grid_gap": null,
            "grid_row": null,
            "grid_template_areas": null,
            "grid_template_columns": null,
            "grid_template_rows": null,
            "height": null,
            "justify_content": null,
            "justify_items": null,
            "left": null,
            "margin": null,
            "max_height": null,
            "max_width": null,
            "min_height": null,
            "min_width": null,
            "object_fit": null,
            "object_position": null,
            "order": null,
            "overflow": null,
            "overflow_x": null,
            "overflow_y": null,
            "padding": null,
            "right": null,
            "top": null,
            "visibility": null,
            "width": null
          }
        },
        "981a9173b96b41bc80dc29f505d7c9bb": {
          "model_module": "@jupyter-widgets/controls",
          "model_name": "DescriptionStyleModel",
          "model_module_version": "1.5.0",
          "state": {
            "_model_module": "@jupyter-widgets/controls",
            "_model_module_version": "1.5.0",
            "_model_name": "DescriptionStyleModel",
            "_view_count": null,
            "_view_module": "@jupyter-widgets/base",
            "_view_module_version": "1.2.0",
            "_view_name": "StyleView",
            "description_width": ""
          }
        },
        "de9d880b869c4f1ca03ca28fe9a3ea24": {
          "model_module": "@jupyter-widgets/base",
          "model_name": "LayoutModel",
          "model_module_version": "1.2.0",
          "state": {
            "_model_module": "@jupyter-widgets/base",
            "_model_module_version": "1.2.0",
            "_model_name": "LayoutModel",
            "_view_count": null,
            "_view_module": "@jupyter-widgets/base",
            "_view_module_version": "1.2.0",
            "_view_name": "LayoutView",
            "align_content": null,
            "align_items": null,
            "align_self": null,
            "border": null,
            "bottom": null,
            "display": null,
            "flex": null,
            "flex_flow": null,
            "grid_area": null,
            "grid_auto_columns": null,
            "grid_auto_flow": null,
            "grid_auto_rows": null,
            "grid_column": null,
            "grid_gap": null,
            "grid_row": null,
            "grid_template_areas": null,
            "grid_template_columns": null,
            "grid_template_rows": null,
            "height": null,
            "justify_content": null,
            "justify_items": null,
            "left": null,
            "margin": null,
            "max_height": null,
            "max_width": null,
            "min_height": null,
            "min_width": null,
            "object_fit": null,
            "object_position": null,
            "order": null,
            "overflow": null,
            "overflow_x": null,
            "overflow_y": null,
            "padding": null,
            "right": null,
            "top": null,
            "visibility": null,
            "width": null
          }
        },
        "ee433f3deadc4f3caa247772132664e0": {
          "model_module": "@jupyter-widgets/controls",
          "model_name": "ProgressStyleModel",
          "model_module_version": "1.5.0",
          "state": {
            "_model_module": "@jupyter-widgets/controls",
            "_model_module_version": "1.5.0",
            "_model_name": "ProgressStyleModel",
            "_view_count": null,
            "_view_module": "@jupyter-widgets/base",
            "_view_module_version": "1.2.0",
            "_view_name": "StyleView",
            "bar_color": null,
            "description_width": ""
          }
        },
        "03a6e78a86d24d30b92a69cf0afba86f": {
          "model_module": "@jupyter-widgets/base",
          "model_name": "LayoutModel",
          "model_module_version": "1.2.0",
          "state": {
            "_model_module": "@jupyter-widgets/base",
            "_model_module_version": "1.2.0",
            "_model_name": "LayoutModel",
            "_view_count": null,
            "_view_module": "@jupyter-widgets/base",
            "_view_module_version": "1.2.0",
            "_view_name": "LayoutView",
            "align_content": null,
            "align_items": null,
            "align_self": null,
            "border": null,
            "bottom": null,
            "display": null,
            "flex": null,
            "flex_flow": null,
            "grid_area": null,
            "grid_auto_columns": null,
            "grid_auto_flow": null,
            "grid_auto_rows": null,
            "grid_column": null,
            "grid_gap": null,
            "grid_row": null,
            "grid_template_areas": null,
            "grid_template_columns": null,
            "grid_template_rows": null,
            "height": null,
            "justify_content": null,
            "justify_items": null,
            "left": null,
            "margin": null,
            "max_height": null,
            "max_width": null,
            "min_height": null,
            "min_width": null,
            "object_fit": null,
            "object_position": null,
            "order": null,
            "overflow": null,
            "overflow_x": null,
            "overflow_y": null,
            "padding": null,
            "right": null,
            "top": null,
            "visibility": null,
            "width": null
          }
        },
        "7b199838be744485a26edcfb249c018c": {
          "model_module": "@jupyter-widgets/controls",
          "model_name": "DescriptionStyleModel",
          "model_module_version": "1.5.0",
          "state": {
            "_model_module": "@jupyter-widgets/controls",
            "_model_module_version": "1.5.0",
            "_model_name": "DescriptionStyleModel",
            "_view_count": null,
            "_view_module": "@jupyter-widgets/base",
            "_view_module_version": "1.2.0",
            "_view_name": "StyleView",
            "description_width": ""
          }
        },
        "67753a5010e04c66bf188db6b82e51b4": {
          "model_module": "@jupyter-widgets/controls",
          "model_name": "HBoxModel",
          "model_module_version": "1.5.0",
          "state": {
            "_dom_classes": [],
            "_model_module": "@jupyter-widgets/controls",
            "_model_module_version": "1.5.0",
            "_model_name": "HBoxModel",
            "_view_count": null,
            "_view_module": "@jupyter-widgets/controls",
            "_view_module_version": "1.5.0",
            "_view_name": "HBoxView",
            "box_style": "",
            "children": [
              "IPY_MODEL_42c9fb1346654e31aced4ecfa997de57",
              "IPY_MODEL_ccdd05ea37b0469c92b2090381a8995c",
              "IPY_MODEL_dfa80bdcf0234062a304807ccd9000a2"
            ],
            "layout": "IPY_MODEL_dcc15330b4934484b10ec40d216e235f"
          }
        },
        "42c9fb1346654e31aced4ecfa997de57": {
          "model_module": "@jupyter-widgets/controls",
          "model_name": "HTMLModel",
          "model_module_version": "1.5.0",
          "state": {
            "_dom_classes": [],
            "_model_module": "@jupyter-widgets/controls",
            "_model_module_version": "1.5.0",
            "_model_name": "HTMLModel",
            "_view_count": null,
            "_view_module": "@jupyter-widgets/controls",
            "_view_module_version": "1.5.0",
            "_view_name": "HTMLView",
            "description": "",
            "description_tooltip": null,
            "layout": "IPY_MODEL_fd8477dc10e14d1682d6a138f1dfadca",
            "placeholder": "​",
            "style": "IPY_MODEL_dd119fbe380e4730b49b9c9a7adebd21",
            "value": "Downloading https://huggingface.co/stanfordnlp/stanza-en/resolve/v1.6.0/models/default.zip: 100%"
          }
        },
        "ccdd05ea37b0469c92b2090381a8995c": {
          "model_module": "@jupyter-widgets/controls",
          "model_name": "FloatProgressModel",
          "model_module_version": "1.5.0",
          "state": {
            "_dom_classes": [],
            "_model_module": "@jupyter-widgets/controls",
            "_model_module_version": "1.5.0",
            "_model_name": "FloatProgressModel",
            "_view_count": null,
            "_view_module": "@jupyter-widgets/controls",
            "_view_module_version": "1.5.0",
            "_view_name": "ProgressView",
            "bar_style": "success",
            "description": "",
            "description_tooltip": null,
            "layout": "IPY_MODEL_eeb96f346551471f80d71ce5d4d32f1a",
            "max": 594891014,
            "min": 0,
            "orientation": "horizontal",
            "style": "IPY_MODEL_19d0b6961f554763bd314b4b85ecbc6e",
            "value": 594891014
          }
        },
        "dfa80bdcf0234062a304807ccd9000a2": {
          "model_module": "@jupyter-widgets/controls",
          "model_name": "HTMLModel",
          "model_module_version": "1.5.0",
          "state": {
            "_dom_classes": [],
            "_model_module": "@jupyter-widgets/controls",
            "_model_module_version": "1.5.0",
            "_model_name": "HTMLModel",
            "_view_count": null,
            "_view_module": "@jupyter-widgets/controls",
            "_view_module_version": "1.5.0",
            "_view_name": "HTMLView",
            "description": "",
            "description_tooltip": null,
            "layout": "IPY_MODEL_4b978121d9794b1bbc387a10f5cfdd88",
            "placeholder": "​",
            "style": "IPY_MODEL_2becc7b858db4ff78fc0e4017e65f0f1",
            "value": " 595M/595M [00:07&lt;00:00, 77.6MB/s]"
          }
        },
        "dcc15330b4934484b10ec40d216e235f": {
          "model_module": "@jupyter-widgets/base",
          "model_name": "LayoutModel",
          "model_module_version": "1.2.0",
          "state": {
            "_model_module": "@jupyter-widgets/base",
            "_model_module_version": "1.2.0",
            "_model_name": "LayoutModel",
            "_view_count": null,
            "_view_module": "@jupyter-widgets/base",
            "_view_module_version": "1.2.0",
            "_view_name": "LayoutView",
            "align_content": null,
            "align_items": null,
            "align_self": null,
            "border": null,
            "bottom": null,
            "display": null,
            "flex": null,
            "flex_flow": null,
            "grid_area": null,
            "grid_auto_columns": null,
            "grid_auto_flow": null,
            "grid_auto_rows": null,
            "grid_column": null,
            "grid_gap": null,
            "grid_row": null,
            "grid_template_areas": null,
            "grid_template_columns": null,
            "grid_template_rows": null,
            "height": null,
            "justify_content": null,
            "justify_items": null,
            "left": null,
            "margin": null,
            "max_height": null,
            "max_width": null,
            "min_height": null,
            "min_width": null,
            "object_fit": null,
            "object_position": null,
            "order": null,
            "overflow": null,
            "overflow_x": null,
            "overflow_y": null,
            "padding": null,
            "right": null,
            "top": null,
            "visibility": null,
            "width": null
          }
        },
        "fd8477dc10e14d1682d6a138f1dfadca": {
          "model_module": "@jupyter-widgets/base",
          "model_name": "LayoutModel",
          "model_module_version": "1.2.0",
          "state": {
            "_model_module": "@jupyter-widgets/base",
            "_model_module_version": "1.2.0",
            "_model_name": "LayoutModel",
            "_view_count": null,
            "_view_module": "@jupyter-widgets/base",
            "_view_module_version": "1.2.0",
            "_view_name": "LayoutView",
            "align_content": null,
            "align_items": null,
            "align_self": null,
            "border": null,
            "bottom": null,
            "display": null,
            "flex": null,
            "flex_flow": null,
            "grid_area": null,
            "grid_auto_columns": null,
            "grid_auto_flow": null,
            "grid_auto_rows": null,
            "grid_column": null,
            "grid_gap": null,
            "grid_row": null,
            "grid_template_areas": null,
            "grid_template_columns": null,
            "grid_template_rows": null,
            "height": null,
            "justify_content": null,
            "justify_items": null,
            "left": null,
            "margin": null,
            "max_height": null,
            "max_width": null,
            "min_height": null,
            "min_width": null,
            "object_fit": null,
            "object_position": null,
            "order": null,
            "overflow": null,
            "overflow_x": null,
            "overflow_y": null,
            "padding": null,
            "right": null,
            "top": null,
            "visibility": null,
            "width": null
          }
        },
        "dd119fbe380e4730b49b9c9a7adebd21": {
          "model_module": "@jupyter-widgets/controls",
          "model_name": "DescriptionStyleModel",
          "model_module_version": "1.5.0",
          "state": {
            "_model_module": "@jupyter-widgets/controls",
            "_model_module_version": "1.5.0",
            "_model_name": "DescriptionStyleModel",
            "_view_count": null,
            "_view_module": "@jupyter-widgets/base",
            "_view_module_version": "1.2.0",
            "_view_name": "StyleView",
            "description_width": ""
          }
        },
        "eeb96f346551471f80d71ce5d4d32f1a": {
          "model_module": "@jupyter-widgets/base",
          "model_name": "LayoutModel",
          "model_module_version": "1.2.0",
          "state": {
            "_model_module": "@jupyter-widgets/base",
            "_model_module_version": "1.2.0",
            "_model_name": "LayoutModel",
            "_view_count": null,
            "_view_module": "@jupyter-widgets/base",
            "_view_module_version": "1.2.0",
            "_view_name": "LayoutView",
            "align_content": null,
            "align_items": null,
            "align_self": null,
            "border": null,
            "bottom": null,
            "display": null,
            "flex": null,
            "flex_flow": null,
            "grid_area": null,
            "grid_auto_columns": null,
            "grid_auto_flow": null,
            "grid_auto_rows": null,
            "grid_column": null,
            "grid_gap": null,
            "grid_row": null,
            "grid_template_areas": null,
            "grid_template_columns": null,
            "grid_template_rows": null,
            "height": null,
            "justify_content": null,
            "justify_items": null,
            "left": null,
            "margin": null,
            "max_height": null,
            "max_width": null,
            "min_height": null,
            "min_width": null,
            "object_fit": null,
            "object_position": null,
            "order": null,
            "overflow": null,
            "overflow_x": null,
            "overflow_y": null,
            "padding": null,
            "right": null,
            "top": null,
            "visibility": null,
            "width": null
          }
        },
        "19d0b6961f554763bd314b4b85ecbc6e": {
          "model_module": "@jupyter-widgets/controls",
          "model_name": "ProgressStyleModel",
          "model_module_version": "1.5.0",
          "state": {
            "_model_module": "@jupyter-widgets/controls",
            "_model_module_version": "1.5.0",
            "_model_name": "ProgressStyleModel",
            "_view_count": null,
            "_view_module": "@jupyter-widgets/base",
            "_view_module_version": "1.2.0",
            "_view_name": "StyleView",
            "bar_color": null,
            "description_width": ""
          }
        },
        "4b978121d9794b1bbc387a10f5cfdd88": {
          "model_module": "@jupyter-widgets/base",
          "model_name": "LayoutModel",
          "model_module_version": "1.2.0",
          "state": {
            "_model_module": "@jupyter-widgets/base",
            "_model_module_version": "1.2.0",
            "_model_name": "LayoutModel",
            "_view_count": null,
            "_view_module": "@jupyter-widgets/base",
            "_view_module_version": "1.2.0",
            "_view_name": "LayoutView",
            "align_content": null,
            "align_items": null,
            "align_self": null,
            "border": null,
            "bottom": null,
            "display": null,
            "flex": null,
            "flex_flow": null,
            "grid_area": null,
            "grid_auto_columns": null,
            "grid_auto_flow": null,
            "grid_auto_rows": null,
            "grid_column": null,
            "grid_gap": null,
            "grid_row": null,
            "grid_template_areas": null,
            "grid_template_columns": null,
            "grid_template_rows": null,
            "height": null,
            "justify_content": null,
            "justify_items": null,
            "left": null,
            "margin": null,
            "max_height": null,
            "max_width": null,
            "min_height": null,
            "min_width": null,
            "object_fit": null,
            "object_position": null,
            "order": null,
            "overflow": null,
            "overflow_x": null,
            "overflow_y": null,
            "padding": null,
            "right": null,
            "top": null,
            "visibility": null,
            "width": null
          }
        },
        "2becc7b858db4ff78fc0e4017e65f0f1": {
          "model_module": "@jupyter-widgets/controls",
          "model_name": "DescriptionStyleModel",
          "model_module_version": "1.5.0",
          "state": {
            "_model_module": "@jupyter-widgets/controls",
            "_model_module_version": "1.5.0",
            "_model_name": "DescriptionStyleModel",
            "_view_count": null,
            "_view_module": "@jupyter-widgets/base",
            "_view_module_version": "1.2.0",
            "_view_name": "StyleView",
            "description_width": ""
          }
        },
        "91ffe6fb122c4fc3b8f0b0669b1f9cb8": {
          "model_module": "@jupyter-widgets/controls",
          "model_name": "HBoxModel",
          "model_module_version": "1.5.0",
          "state": {
            "_dom_classes": [],
            "_model_module": "@jupyter-widgets/controls",
            "_model_module_version": "1.5.0",
            "_model_name": "HBoxModel",
            "_view_count": null,
            "_view_module": "@jupyter-widgets/controls",
            "_view_module_version": "1.5.0",
            "_view_name": "HBoxView",
            "box_style": "",
            "children": [
              "IPY_MODEL_fd5bdcf892274de2bc96078c722b0a10",
              "IPY_MODEL_f0609814dd0c436f82f32c40ff1d001d",
              "IPY_MODEL_ee267651217d4b3e844f669291dd7fa1"
            ],
            "layout": "IPY_MODEL_5f48a24453b547058bc1964a14a582b3"
          }
        },
        "fd5bdcf892274de2bc96078c722b0a10": {
          "model_module": "@jupyter-widgets/controls",
          "model_name": "HTMLModel",
          "model_module_version": "1.5.0",
          "state": {
            "_dom_classes": [],
            "_model_module": "@jupyter-widgets/controls",
            "_model_module_version": "1.5.0",
            "_model_name": "HTMLModel",
            "_view_count": null,
            "_view_module": "@jupyter-widgets/controls",
            "_view_module_version": "1.5.0",
            "_view_name": "HTMLView",
            "description": "",
            "description_tooltip": null,
            "layout": "IPY_MODEL_1cdeb5ec3d2f47f08c024a09778e5bea",
            "placeholder": "​",
            "style": "IPY_MODEL_800d908463f84a38ac5f6226a17b809e",
            "value": "Downloading https://raw.githubusercontent.com/stanfordnlp/stanza-resources/main/resources_1.6.0.json: "
          }
        },
        "f0609814dd0c436f82f32c40ff1d001d": {
          "model_module": "@jupyter-widgets/controls",
          "model_name": "FloatProgressModel",
          "model_module_version": "1.5.0",
          "state": {
            "_dom_classes": [],
            "_model_module": "@jupyter-widgets/controls",
            "_model_module_version": "1.5.0",
            "_model_name": "FloatProgressModel",
            "_view_count": null,
            "_view_module": "@jupyter-widgets/controls",
            "_view_module_version": "1.5.0",
            "_view_name": "ProgressView",
            "bar_style": "success",
            "description": "",
            "description_tooltip": null,
            "layout": "IPY_MODEL_27d8f61167634bb9b76ee2df87457a59",
            "max": 45749,
            "min": 0,
            "orientation": "horizontal",
            "style": "IPY_MODEL_baa6b4c83e85408c8bbedb4be076a871",
            "value": 45749
          }
        },
        "ee267651217d4b3e844f669291dd7fa1": {
          "model_module": "@jupyter-widgets/controls",
          "model_name": "HTMLModel",
          "model_module_version": "1.5.0",
          "state": {
            "_dom_classes": [],
            "_model_module": "@jupyter-widgets/controls",
            "_model_module_version": "1.5.0",
            "_model_name": "HTMLModel",
            "_view_count": null,
            "_view_module": "@jupyter-widgets/controls",
            "_view_module_version": "1.5.0",
            "_view_name": "HTMLView",
            "description": "",
            "description_tooltip": null,
            "layout": "IPY_MODEL_204f2f2f20b647659858ae68ea4e6d78",
            "placeholder": "​",
            "style": "IPY_MODEL_40e7a24167d54dfbab5e924930cecd11",
            "value": " 367k/? [00:00&lt;00:00, 9.27MB/s]"
          }
        },
        "5f48a24453b547058bc1964a14a582b3": {
          "model_module": "@jupyter-widgets/base",
          "model_name": "LayoutModel",
          "model_module_version": "1.2.0",
          "state": {
            "_model_module": "@jupyter-widgets/base",
            "_model_module_version": "1.2.0",
            "_model_name": "LayoutModel",
            "_view_count": null,
            "_view_module": "@jupyter-widgets/base",
            "_view_module_version": "1.2.0",
            "_view_name": "LayoutView",
            "align_content": null,
            "align_items": null,
            "align_self": null,
            "border": null,
            "bottom": null,
            "display": null,
            "flex": null,
            "flex_flow": null,
            "grid_area": null,
            "grid_auto_columns": null,
            "grid_auto_flow": null,
            "grid_auto_rows": null,
            "grid_column": null,
            "grid_gap": null,
            "grid_row": null,
            "grid_template_areas": null,
            "grid_template_columns": null,
            "grid_template_rows": null,
            "height": null,
            "justify_content": null,
            "justify_items": null,
            "left": null,
            "margin": null,
            "max_height": null,
            "max_width": null,
            "min_height": null,
            "min_width": null,
            "object_fit": null,
            "object_position": null,
            "order": null,
            "overflow": null,
            "overflow_x": null,
            "overflow_y": null,
            "padding": null,
            "right": null,
            "top": null,
            "visibility": null,
            "width": null
          }
        },
        "1cdeb5ec3d2f47f08c024a09778e5bea": {
          "model_module": "@jupyter-widgets/base",
          "model_name": "LayoutModel",
          "model_module_version": "1.2.0",
          "state": {
            "_model_module": "@jupyter-widgets/base",
            "_model_module_version": "1.2.0",
            "_model_name": "LayoutModel",
            "_view_count": null,
            "_view_module": "@jupyter-widgets/base",
            "_view_module_version": "1.2.0",
            "_view_name": "LayoutView",
            "align_content": null,
            "align_items": null,
            "align_self": null,
            "border": null,
            "bottom": null,
            "display": null,
            "flex": null,
            "flex_flow": null,
            "grid_area": null,
            "grid_auto_columns": null,
            "grid_auto_flow": null,
            "grid_auto_rows": null,
            "grid_column": null,
            "grid_gap": null,
            "grid_row": null,
            "grid_template_areas": null,
            "grid_template_columns": null,
            "grid_template_rows": null,
            "height": null,
            "justify_content": null,
            "justify_items": null,
            "left": null,
            "margin": null,
            "max_height": null,
            "max_width": null,
            "min_height": null,
            "min_width": null,
            "object_fit": null,
            "object_position": null,
            "order": null,
            "overflow": null,
            "overflow_x": null,
            "overflow_y": null,
            "padding": null,
            "right": null,
            "top": null,
            "visibility": null,
            "width": null
          }
        },
        "800d908463f84a38ac5f6226a17b809e": {
          "model_module": "@jupyter-widgets/controls",
          "model_name": "DescriptionStyleModel",
          "model_module_version": "1.5.0",
          "state": {
            "_model_module": "@jupyter-widgets/controls",
            "_model_module_version": "1.5.0",
            "_model_name": "DescriptionStyleModel",
            "_view_count": null,
            "_view_module": "@jupyter-widgets/base",
            "_view_module_version": "1.2.0",
            "_view_name": "StyleView",
            "description_width": ""
          }
        },
        "27d8f61167634bb9b76ee2df87457a59": {
          "model_module": "@jupyter-widgets/base",
          "model_name": "LayoutModel",
          "model_module_version": "1.2.0",
          "state": {
            "_model_module": "@jupyter-widgets/base",
            "_model_module_version": "1.2.0",
            "_model_name": "LayoutModel",
            "_view_count": null,
            "_view_module": "@jupyter-widgets/base",
            "_view_module_version": "1.2.0",
            "_view_name": "LayoutView",
            "align_content": null,
            "align_items": null,
            "align_self": null,
            "border": null,
            "bottom": null,
            "display": null,
            "flex": null,
            "flex_flow": null,
            "grid_area": null,
            "grid_auto_columns": null,
            "grid_auto_flow": null,
            "grid_auto_rows": null,
            "grid_column": null,
            "grid_gap": null,
            "grid_row": null,
            "grid_template_areas": null,
            "grid_template_columns": null,
            "grid_template_rows": null,
            "height": null,
            "justify_content": null,
            "justify_items": null,
            "left": null,
            "margin": null,
            "max_height": null,
            "max_width": null,
            "min_height": null,
            "min_width": null,
            "object_fit": null,
            "object_position": null,
            "order": null,
            "overflow": null,
            "overflow_x": null,
            "overflow_y": null,
            "padding": null,
            "right": null,
            "top": null,
            "visibility": null,
            "width": null
          }
        },
        "baa6b4c83e85408c8bbedb4be076a871": {
          "model_module": "@jupyter-widgets/controls",
          "model_name": "ProgressStyleModel",
          "model_module_version": "1.5.0",
          "state": {
            "_model_module": "@jupyter-widgets/controls",
            "_model_module_version": "1.5.0",
            "_model_name": "ProgressStyleModel",
            "_view_count": null,
            "_view_module": "@jupyter-widgets/base",
            "_view_module_version": "1.2.0",
            "_view_name": "StyleView",
            "bar_color": null,
            "description_width": ""
          }
        },
        "204f2f2f20b647659858ae68ea4e6d78": {
          "model_module": "@jupyter-widgets/base",
          "model_name": "LayoutModel",
          "model_module_version": "1.2.0",
          "state": {
            "_model_module": "@jupyter-widgets/base",
            "_model_module_version": "1.2.0",
            "_model_name": "LayoutModel",
            "_view_count": null,
            "_view_module": "@jupyter-widgets/base",
            "_view_module_version": "1.2.0",
            "_view_name": "LayoutView",
            "align_content": null,
            "align_items": null,
            "align_self": null,
            "border": null,
            "bottom": null,
            "display": null,
            "flex": null,
            "flex_flow": null,
            "grid_area": null,
            "grid_auto_columns": null,
            "grid_auto_flow": null,
            "grid_auto_rows": null,
            "grid_column": null,
            "grid_gap": null,
            "grid_row": null,
            "grid_template_areas": null,
            "grid_template_columns": null,
            "grid_template_rows": null,
            "height": null,
            "justify_content": null,
            "justify_items": null,
            "left": null,
            "margin": null,
            "max_height": null,
            "max_width": null,
            "min_height": null,
            "min_width": null,
            "object_fit": null,
            "object_position": null,
            "order": null,
            "overflow": null,
            "overflow_x": null,
            "overflow_y": null,
            "padding": null,
            "right": null,
            "top": null,
            "visibility": null,
            "width": null
          }
        },
        "40e7a24167d54dfbab5e924930cecd11": {
          "model_module": "@jupyter-widgets/controls",
          "model_name": "DescriptionStyleModel",
          "model_module_version": "1.5.0",
          "state": {
            "_model_module": "@jupyter-widgets/controls",
            "_model_module_version": "1.5.0",
            "_model_name": "DescriptionStyleModel",
            "_view_count": null,
            "_view_module": "@jupyter-widgets/base",
            "_view_module_version": "1.2.0",
            "_view_name": "StyleView",
            "description_width": ""
          }
        },
        "245db86ed72c4c7b9e2e3a0e1e108a87": {
          "model_module": "@jupyter-widgets/controls",
          "model_name": "HBoxModel",
          "model_module_version": "1.5.0",
          "state": {
            "_dom_classes": [],
            "_model_module": "@jupyter-widgets/controls",
            "_model_module_version": "1.5.0",
            "_model_name": "HBoxModel",
            "_view_count": null,
            "_view_module": "@jupyter-widgets/controls",
            "_view_module_version": "1.5.0",
            "_view_name": "HBoxView",
            "box_style": "",
            "children": [
              "IPY_MODEL_a18fbc7823a7441a81dac2f3cb8728bc",
              "IPY_MODEL_6c291581fdcb42a69af662e26d6fa958",
              "IPY_MODEL_755aa522b6c840c9bc65dd21e3699794"
            ],
            "layout": "IPY_MODEL_73b2e7cede1d42d6a681bd48c7986cb0"
          }
        },
        "a18fbc7823a7441a81dac2f3cb8728bc": {
          "model_module": "@jupyter-widgets/controls",
          "model_name": "HTMLModel",
          "model_module_version": "1.5.0",
          "state": {
            "_dom_classes": [],
            "_model_module": "@jupyter-widgets/controls",
            "_model_module_version": "1.5.0",
            "_model_name": "HTMLModel",
            "_view_count": null,
            "_view_module": "@jupyter-widgets/controls",
            "_view_module_version": "1.5.0",
            "_view_name": "HTMLView",
            "description": "",
            "description_tooltip": null,
            "layout": "IPY_MODEL_75cf51f685974af7ba57171288bd9416",
            "placeholder": "​",
            "style": "IPY_MODEL_639d545cd66e430299c8a654f3e79902",
            "value": "Downloading https://raw.githubusercontent.com/stanfordnlp/stanza-resources/main/resources_1.6.0.json: "
          }
        },
        "6c291581fdcb42a69af662e26d6fa958": {
          "model_module": "@jupyter-widgets/controls",
          "model_name": "FloatProgressModel",
          "model_module_version": "1.5.0",
          "state": {
            "_dom_classes": [],
            "_model_module": "@jupyter-widgets/controls",
            "_model_module_version": "1.5.0",
            "_model_name": "FloatProgressModel",
            "_view_count": null,
            "_view_module": "@jupyter-widgets/controls",
            "_view_module_version": "1.5.0",
            "_view_name": "ProgressView",
            "bar_style": "success",
            "description": "",
            "description_tooltip": null,
            "layout": "IPY_MODEL_ee6c4474a1f7496ca780d690a5a4740a",
            "max": 45749,
            "min": 0,
            "orientation": "horizontal",
            "style": "IPY_MODEL_ff9765ff70034d58817485854ff6e25a",
            "value": 45749
          }
        },
        "755aa522b6c840c9bc65dd21e3699794": {
          "model_module": "@jupyter-widgets/controls",
          "model_name": "HTMLModel",
          "model_module_version": "1.5.0",
          "state": {
            "_dom_classes": [],
            "_model_module": "@jupyter-widgets/controls",
            "_model_module_version": "1.5.0",
            "_model_name": "HTMLModel",
            "_view_count": null,
            "_view_module": "@jupyter-widgets/controls",
            "_view_module_version": "1.5.0",
            "_view_name": "HTMLView",
            "description": "",
            "description_tooltip": null,
            "layout": "IPY_MODEL_c5e0c81183f443a69f791be58ed2ef0c",
            "placeholder": "​",
            "style": "IPY_MODEL_a4111b4f5ce44f69a43afec6786bd25b",
            "value": " 367k/? [00:00&lt;00:00, 13.2MB/s]"
          }
        },
        "73b2e7cede1d42d6a681bd48c7986cb0": {
          "model_module": "@jupyter-widgets/base",
          "model_name": "LayoutModel",
          "model_module_version": "1.2.0",
          "state": {
            "_model_module": "@jupyter-widgets/base",
            "_model_module_version": "1.2.0",
            "_model_name": "LayoutModel",
            "_view_count": null,
            "_view_module": "@jupyter-widgets/base",
            "_view_module_version": "1.2.0",
            "_view_name": "LayoutView",
            "align_content": null,
            "align_items": null,
            "align_self": null,
            "border": null,
            "bottom": null,
            "display": null,
            "flex": null,
            "flex_flow": null,
            "grid_area": null,
            "grid_auto_columns": null,
            "grid_auto_flow": null,
            "grid_auto_rows": null,
            "grid_column": null,
            "grid_gap": null,
            "grid_row": null,
            "grid_template_areas": null,
            "grid_template_columns": null,
            "grid_template_rows": null,
            "height": null,
            "justify_content": null,
            "justify_items": null,
            "left": null,
            "margin": null,
            "max_height": null,
            "max_width": null,
            "min_height": null,
            "min_width": null,
            "object_fit": null,
            "object_position": null,
            "order": null,
            "overflow": null,
            "overflow_x": null,
            "overflow_y": null,
            "padding": null,
            "right": null,
            "top": null,
            "visibility": null,
            "width": null
          }
        },
        "75cf51f685974af7ba57171288bd9416": {
          "model_module": "@jupyter-widgets/base",
          "model_name": "LayoutModel",
          "model_module_version": "1.2.0",
          "state": {
            "_model_module": "@jupyter-widgets/base",
            "_model_module_version": "1.2.0",
            "_model_name": "LayoutModel",
            "_view_count": null,
            "_view_module": "@jupyter-widgets/base",
            "_view_module_version": "1.2.0",
            "_view_name": "LayoutView",
            "align_content": null,
            "align_items": null,
            "align_self": null,
            "border": null,
            "bottom": null,
            "display": null,
            "flex": null,
            "flex_flow": null,
            "grid_area": null,
            "grid_auto_columns": null,
            "grid_auto_flow": null,
            "grid_auto_rows": null,
            "grid_column": null,
            "grid_gap": null,
            "grid_row": null,
            "grid_template_areas": null,
            "grid_template_columns": null,
            "grid_template_rows": null,
            "height": null,
            "justify_content": null,
            "justify_items": null,
            "left": null,
            "margin": null,
            "max_height": null,
            "max_width": null,
            "min_height": null,
            "min_width": null,
            "object_fit": null,
            "object_position": null,
            "order": null,
            "overflow": null,
            "overflow_x": null,
            "overflow_y": null,
            "padding": null,
            "right": null,
            "top": null,
            "visibility": null,
            "width": null
          }
        },
        "639d545cd66e430299c8a654f3e79902": {
          "model_module": "@jupyter-widgets/controls",
          "model_name": "DescriptionStyleModel",
          "model_module_version": "1.5.0",
          "state": {
            "_model_module": "@jupyter-widgets/controls",
            "_model_module_version": "1.5.0",
            "_model_name": "DescriptionStyleModel",
            "_view_count": null,
            "_view_module": "@jupyter-widgets/base",
            "_view_module_version": "1.2.0",
            "_view_name": "StyleView",
            "description_width": ""
          }
        },
        "ee6c4474a1f7496ca780d690a5a4740a": {
          "model_module": "@jupyter-widgets/base",
          "model_name": "LayoutModel",
          "model_module_version": "1.2.0",
          "state": {
            "_model_module": "@jupyter-widgets/base",
            "_model_module_version": "1.2.0",
            "_model_name": "LayoutModel",
            "_view_count": null,
            "_view_module": "@jupyter-widgets/base",
            "_view_module_version": "1.2.0",
            "_view_name": "LayoutView",
            "align_content": null,
            "align_items": null,
            "align_self": null,
            "border": null,
            "bottom": null,
            "display": null,
            "flex": null,
            "flex_flow": null,
            "grid_area": null,
            "grid_auto_columns": null,
            "grid_auto_flow": null,
            "grid_auto_rows": null,
            "grid_column": null,
            "grid_gap": null,
            "grid_row": null,
            "grid_template_areas": null,
            "grid_template_columns": null,
            "grid_template_rows": null,
            "height": null,
            "justify_content": null,
            "justify_items": null,
            "left": null,
            "margin": null,
            "max_height": null,
            "max_width": null,
            "min_height": null,
            "min_width": null,
            "object_fit": null,
            "object_position": null,
            "order": null,
            "overflow": null,
            "overflow_x": null,
            "overflow_y": null,
            "padding": null,
            "right": null,
            "top": null,
            "visibility": null,
            "width": null
          }
        },
        "ff9765ff70034d58817485854ff6e25a": {
          "model_module": "@jupyter-widgets/controls",
          "model_name": "ProgressStyleModel",
          "model_module_version": "1.5.0",
          "state": {
            "_model_module": "@jupyter-widgets/controls",
            "_model_module_version": "1.5.0",
            "_model_name": "ProgressStyleModel",
            "_view_count": null,
            "_view_module": "@jupyter-widgets/base",
            "_view_module_version": "1.2.0",
            "_view_name": "StyleView",
            "bar_color": null,
            "description_width": ""
          }
        },
        "c5e0c81183f443a69f791be58ed2ef0c": {
          "model_module": "@jupyter-widgets/base",
          "model_name": "LayoutModel",
          "model_module_version": "1.2.0",
          "state": {
            "_model_module": "@jupyter-widgets/base",
            "_model_module_version": "1.2.0",
            "_model_name": "LayoutModel",
            "_view_count": null,
            "_view_module": "@jupyter-widgets/base",
            "_view_module_version": "1.2.0",
            "_view_name": "LayoutView",
            "align_content": null,
            "align_items": null,
            "align_self": null,
            "border": null,
            "bottom": null,
            "display": null,
            "flex": null,
            "flex_flow": null,
            "grid_area": null,
            "grid_auto_columns": null,
            "grid_auto_flow": null,
            "grid_auto_rows": null,
            "grid_column": null,
            "grid_gap": null,
            "grid_row": null,
            "grid_template_areas": null,
            "grid_template_columns": null,
            "grid_template_rows": null,
            "height": null,
            "justify_content": null,
            "justify_items": null,
            "left": null,
            "margin": null,
            "max_height": null,
            "max_width": null,
            "min_height": null,
            "min_width": null,
            "object_fit": null,
            "object_position": null,
            "order": null,
            "overflow": null,
            "overflow_x": null,
            "overflow_y": null,
            "padding": null,
            "right": null,
            "top": null,
            "visibility": null,
            "width": null
          }
        },
        "a4111b4f5ce44f69a43afec6786bd25b": {
          "model_module": "@jupyter-widgets/controls",
          "model_name": "DescriptionStyleModel",
          "model_module_version": "1.5.0",
          "state": {
            "_model_module": "@jupyter-widgets/controls",
            "_model_module_version": "1.5.0",
            "_model_name": "DescriptionStyleModel",
            "_view_count": null,
            "_view_module": "@jupyter-widgets/base",
            "_view_module_version": "1.2.0",
            "_view_name": "StyleView",
            "description_width": ""
          }
        },
        "6a32265f6ef24c63981a9545f2469553": {
          "model_module": "@jupyter-widgets/controls",
          "model_name": "HBoxModel",
          "model_module_version": "1.5.0",
          "state": {
            "_dom_classes": [],
            "_model_module": "@jupyter-widgets/controls",
            "_model_module_version": "1.5.0",
            "_model_name": "HBoxModel",
            "_view_count": null,
            "_view_module": "@jupyter-widgets/controls",
            "_view_module_version": "1.5.0",
            "_view_name": "HBoxView",
            "box_style": "",
            "children": [
              "IPY_MODEL_ad2336442665488faad3c64f93ed91d8",
              "IPY_MODEL_4c518633c7334023b68cdd959112a6d4",
              "IPY_MODEL_df05209b7cdc4d42bd1300f8621316d7"
            ],
            "layout": "IPY_MODEL_a62d4969ebba4fe096de5ef1feaa70e9"
          }
        },
        "ad2336442665488faad3c64f93ed91d8": {
          "model_module": "@jupyter-widgets/controls",
          "model_name": "HTMLModel",
          "model_module_version": "1.5.0",
          "state": {
            "_dom_classes": [],
            "_model_module": "@jupyter-widgets/controls",
            "_model_module_version": "1.5.0",
            "_model_name": "HTMLModel",
            "_view_count": null,
            "_view_module": "@jupyter-widgets/controls",
            "_view_module_version": "1.5.0",
            "_view_name": "HTMLView",
            "description": "",
            "description_tooltip": null,
            "layout": "IPY_MODEL_a3bfa1167cd94035b39a83273008f517",
            "placeholder": "​",
            "style": "IPY_MODEL_14e9495702494f44b888a792ee6989b5",
            "value": "Downloading https://huggingface.co/stanfordnlp/stanza-ru/resolve/v1.6.0/models/default.zip: 100%"
          }
        },
        "4c518633c7334023b68cdd959112a6d4": {
          "model_module": "@jupyter-widgets/controls",
          "model_name": "FloatProgressModel",
          "model_module_version": "1.5.0",
          "state": {
            "_dom_classes": [],
            "_model_module": "@jupyter-widgets/controls",
            "_model_module_version": "1.5.0",
            "_model_name": "FloatProgressModel",
            "_view_count": null,
            "_view_module": "@jupyter-widgets/controls",
            "_view_module_version": "1.5.0",
            "_view_name": "ProgressView",
            "bar_style": "success",
            "description": "",
            "description_tooltip": null,
            "layout": "IPY_MODEL_1ead2aae63604df488798625656c8fd1",
            "max": 629556121,
            "min": 0,
            "orientation": "horizontal",
            "style": "IPY_MODEL_5497c16e9084449686e275380d0b068b",
            "value": 629556121
          }
        },
        "df05209b7cdc4d42bd1300f8621316d7": {
          "model_module": "@jupyter-widgets/controls",
          "model_name": "HTMLModel",
          "model_module_version": "1.5.0",
          "state": {
            "_dom_classes": [],
            "_model_module": "@jupyter-widgets/controls",
            "_model_module_version": "1.5.0",
            "_model_name": "HTMLModel",
            "_view_count": null,
            "_view_module": "@jupyter-widgets/controls",
            "_view_module_version": "1.5.0",
            "_view_name": "HTMLView",
            "description": "",
            "description_tooltip": null,
            "layout": "IPY_MODEL_bd4bc54fdc0e4b6b8ebe45577be582ad",
            "placeholder": "​",
            "style": "IPY_MODEL_f96b02bc16d94e06943a0060974310ed",
            "value": " 630M/630M [00:08&lt;00:00, 137MB/s]"
          }
        },
        "a62d4969ebba4fe096de5ef1feaa70e9": {
          "model_module": "@jupyter-widgets/base",
          "model_name": "LayoutModel",
          "model_module_version": "1.2.0",
          "state": {
            "_model_module": "@jupyter-widgets/base",
            "_model_module_version": "1.2.0",
            "_model_name": "LayoutModel",
            "_view_count": null,
            "_view_module": "@jupyter-widgets/base",
            "_view_module_version": "1.2.0",
            "_view_name": "LayoutView",
            "align_content": null,
            "align_items": null,
            "align_self": null,
            "border": null,
            "bottom": null,
            "display": null,
            "flex": null,
            "flex_flow": null,
            "grid_area": null,
            "grid_auto_columns": null,
            "grid_auto_flow": null,
            "grid_auto_rows": null,
            "grid_column": null,
            "grid_gap": null,
            "grid_row": null,
            "grid_template_areas": null,
            "grid_template_columns": null,
            "grid_template_rows": null,
            "height": null,
            "justify_content": null,
            "justify_items": null,
            "left": null,
            "margin": null,
            "max_height": null,
            "max_width": null,
            "min_height": null,
            "min_width": null,
            "object_fit": null,
            "object_position": null,
            "order": null,
            "overflow": null,
            "overflow_x": null,
            "overflow_y": null,
            "padding": null,
            "right": null,
            "top": null,
            "visibility": null,
            "width": null
          }
        },
        "a3bfa1167cd94035b39a83273008f517": {
          "model_module": "@jupyter-widgets/base",
          "model_name": "LayoutModel",
          "model_module_version": "1.2.0",
          "state": {
            "_model_module": "@jupyter-widgets/base",
            "_model_module_version": "1.2.0",
            "_model_name": "LayoutModel",
            "_view_count": null,
            "_view_module": "@jupyter-widgets/base",
            "_view_module_version": "1.2.0",
            "_view_name": "LayoutView",
            "align_content": null,
            "align_items": null,
            "align_self": null,
            "border": null,
            "bottom": null,
            "display": null,
            "flex": null,
            "flex_flow": null,
            "grid_area": null,
            "grid_auto_columns": null,
            "grid_auto_flow": null,
            "grid_auto_rows": null,
            "grid_column": null,
            "grid_gap": null,
            "grid_row": null,
            "grid_template_areas": null,
            "grid_template_columns": null,
            "grid_template_rows": null,
            "height": null,
            "justify_content": null,
            "justify_items": null,
            "left": null,
            "margin": null,
            "max_height": null,
            "max_width": null,
            "min_height": null,
            "min_width": null,
            "object_fit": null,
            "object_position": null,
            "order": null,
            "overflow": null,
            "overflow_x": null,
            "overflow_y": null,
            "padding": null,
            "right": null,
            "top": null,
            "visibility": null,
            "width": null
          }
        },
        "14e9495702494f44b888a792ee6989b5": {
          "model_module": "@jupyter-widgets/controls",
          "model_name": "DescriptionStyleModel",
          "model_module_version": "1.5.0",
          "state": {
            "_model_module": "@jupyter-widgets/controls",
            "_model_module_version": "1.5.0",
            "_model_name": "DescriptionStyleModel",
            "_view_count": null,
            "_view_module": "@jupyter-widgets/base",
            "_view_module_version": "1.2.0",
            "_view_name": "StyleView",
            "description_width": ""
          }
        },
        "1ead2aae63604df488798625656c8fd1": {
          "model_module": "@jupyter-widgets/base",
          "model_name": "LayoutModel",
          "model_module_version": "1.2.0",
          "state": {
            "_model_module": "@jupyter-widgets/base",
            "_model_module_version": "1.2.0",
            "_model_name": "LayoutModel",
            "_view_count": null,
            "_view_module": "@jupyter-widgets/base",
            "_view_module_version": "1.2.0",
            "_view_name": "LayoutView",
            "align_content": null,
            "align_items": null,
            "align_self": null,
            "border": null,
            "bottom": null,
            "display": null,
            "flex": null,
            "flex_flow": null,
            "grid_area": null,
            "grid_auto_columns": null,
            "grid_auto_flow": null,
            "grid_auto_rows": null,
            "grid_column": null,
            "grid_gap": null,
            "grid_row": null,
            "grid_template_areas": null,
            "grid_template_columns": null,
            "grid_template_rows": null,
            "height": null,
            "justify_content": null,
            "justify_items": null,
            "left": null,
            "margin": null,
            "max_height": null,
            "max_width": null,
            "min_height": null,
            "min_width": null,
            "object_fit": null,
            "object_position": null,
            "order": null,
            "overflow": null,
            "overflow_x": null,
            "overflow_y": null,
            "padding": null,
            "right": null,
            "top": null,
            "visibility": null,
            "width": null
          }
        },
        "5497c16e9084449686e275380d0b068b": {
          "model_module": "@jupyter-widgets/controls",
          "model_name": "ProgressStyleModel",
          "model_module_version": "1.5.0",
          "state": {
            "_model_module": "@jupyter-widgets/controls",
            "_model_module_version": "1.5.0",
            "_model_name": "ProgressStyleModel",
            "_view_count": null,
            "_view_module": "@jupyter-widgets/base",
            "_view_module_version": "1.2.0",
            "_view_name": "StyleView",
            "bar_color": null,
            "description_width": ""
          }
        },
        "bd4bc54fdc0e4b6b8ebe45577be582ad": {
          "model_module": "@jupyter-widgets/base",
          "model_name": "LayoutModel",
          "model_module_version": "1.2.0",
          "state": {
            "_model_module": "@jupyter-widgets/base",
            "_model_module_version": "1.2.0",
            "_model_name": "LayoutModel",
            "_view_count": null,
            "_view_module": "@jupyter-widgets/base",
            "_view_module_version": "1.2.0",
            "_view_name": "LayoutView",
            "align_content": null,
            "align_items": null,
            "align_self": null,
            "border": null,
            "bottom": null,
            "display": null,
            "flex": null,
            "flex_flow": null,
            "grid_area": null,
            "grid_auto_columns": null,
            "grid_auto_flow": null,
            "grid_auto_rows": null,
            "grid_column": null,
            "grid_gap": null,
            "grid_row": null,
            "grid_template_areas": null,
            "grid_template_columns": null,
            "grid_template_rows": null,
            "height": null,
            "justify_content": null,
            "justify_items": null,
            "left": null,
            "margin": null,
            "max_height": null,
            "max_width": null,
            "min_height": null,
            "min_width": null,
            "object_fit": null,
            "object_position": null,
            "order": null,
            "overflow": null,
            "overflow_x": null,
            "overflow_y": null,
            "padding": null,
            "right": null,
            "top": null,
            "visibility": null,
            "width": null
          }
        },
        "f96b02bc16d94e06943a0060974310ed": {
          "model_module": "@jupyter-widgets/controls",
          "model_name": "DescriptionStyleModel",
          "model_module_version": "1.5.0",
          "state": {
            "_model_module": "@jupyter-widgets/controls",
            "_model_module_version": "1.5.0",
            "_model_name": "DescriptionStyleModel",
            "_view_count": null,
            "_view_module": "@jupyter-widgets/base",
            "_view_module_version": "1.2.0",
            "_view_name": "StyleView",
            "description_width": ""
          }
        },
        "fcbcfbc864224eb0b73a0aa46f9f5664": {
          "model_module": "@jupyter-widgets/controls",
          "model_name": "HBoxModel",
          "model_module_version": "1.5.0",
          "state": {
            "_dom_classes": [],
            "_model_module": "@jupyter-widgets/controls",
            "_model_module_version": "1.5.0",
            "_model_name": "HBoxModel",
            "_view_count": null,
            "_view_module": "@jupyter-widgets/controls",
            "_view_module_version": "1.5.0",
            "_view_name": "HBoxView",
            "box_style": "",
            "children": [
              "IPY_MODEL_e9850a9d3119407bb633770cddc5e328",
              "IPY_MODEL_47c1500ea9c84e64aaaace0d07ddd353",
              "IPY_MODEL_f8a37c4d357a4177bf0ab13d1c9a84b5"
            ],
            "layout": "IPY_MODEL_1ff3edcdcacf46909808cbec38e7fad6"
          }
        },
        "e9850a9d3119407bb633770cddc5e328": {
          "model_module": "@jupyter-widgets/controls",
          "model_name": "HTMLModel",
          "model_module_version": "1.5.0",
          "state": {
            "_dom_classes": [],
            "_model_module": "@jupyter-widgets/controls",
            "_model_module_version": "1.5.0",
            "_model_name": "HTMLModel",
            "_view_count": null,
            "_view_module": "@jupyter-widgets/controls",
            "_view_module_version": "1.5.0",
            "_view_name": "HTMLView",
            "description": "",
            "description_tooltip": null,
            "layout": "IPY_MODEL_553b9bf2946a465194dc6e7244b724f6",
            "placeholder": "​",
            "style": "IPY_MODEL_8d86df8056c144ac8efc5d653303ff48",
            "value": "Downloading https://raw.githubusercontent.com/stanfordnlp/stanza-resources/main/resources_1.6.0.json: "
          }
        },
        "47c1500ea9c84e64aaaace0d07ddd353": {
          "model_module": "@jupyter-widgets/controls",
          "model_name": "FloatProgressModel",
          "model_module_version": "1.5.0",
          "state": {
            "_dom_classes": [],
            "_model_module": "@jupyter-widgets/controls",
            "_model_module_version": "1.5.0",
            "_model_name": "FloatProgressModel",
            "_view_count": null,
            "_view_module": "@jupyter-widgets/controls",
            "_view_module_version": "1.5.0",
            "_view_name": "ProgressView",
            "bar_style": "success",
            "description": "",
            "description_tooltip": null,
            "layout": "IPY_MODEL_1572e958a25c4359bce6edc74a9d37ee",
            "max": 45749,
            "min": 0,
            "orientation": "horizontal",
            "style": "IPY_MODEL_e106d7990545494f8ae59e69017a623c",
            "value": 45749
          }
        },
        "f8a37c4d357a4177bf0ab13d1c9a84b5": {
          "model_module": "@jupyter-widgets/controls",
          "model_name": "HTMLModel",
          "model_module_version": "1.5.0",
          "state": {
            "_dom_classes": [],
            "_model_module": "@jupyter-widgets/controls",
            "_model_module_version": "1.5.0",
            "_model_name": "HTMLModel",
            "_view_count": null,
            "_view_module": "@jupyter-widgets/controls",
            "_view_module_version": "1.5.0",
            "_view_name": "HTMLView",
            "description": "",
            "description_tooltip": null,
            "layout": "IPY_MODEL_aa9711451b964b22a1019c24f69f512d",
            "placeholder": "​",
            "style": "IPY_MODEL_00c2e09720144c45bfaf5404e00bf03e",
            "value": " 367k/? [00:00&lt;00:00, 12.2MB/s]"
          }
        },
        "1ff3edcdcacf46909808cbec38e7fad6": {
          "model_module": "@jupyter-widgets/base",
          "model_name": "LayoutModel",
          "model_module_version": "1.2.0",
          "state": {
            "_model_module": "@jupyter-widgets/base",
            "_model_module_version": "1.2.0",
            "_model_name": "LayoutModel",
            "_view_count": null,
            "_view_module": "@jupyter-widgets/base",
            "_view_module_version": "1.2.0",
            "_view_name": "LayoutView",
            "align_content": null,
            "align_items": null,
            "align_self": null,
            "border": null,
            "bottom": null,
            "display": null,
            "flex": null,
            "flex_flow": null,
            "grid_area": null,
            "grid_auto_columns": null,
            "grid_auto_flow": null,
            "grid_auto_rows": null,
            "grid_column": null,
            "grid_gap": null,
            "grid_row": null,
            "grid_template_areas": null,
            "grid_template_columns": null,
            "grid_template_rows": null,
            "height": null,
            "justify_content": null,
            "justify_items": null,
            "left": null,
            "margin": null,
            "max_height": null,
            "max_width": null,
            "min_height": null,
            "min_width": null,
            "object_fit": null,
            "object_position": null,
            "order": null,
            "overflow": null,
            "overflow_x": null,
            "overflow_y": null,
            "padding": null,
            "right": null,
            "top": null,
            "visibility": null,
            "width": null
          }
        },
        "553b9bf2946a465194dc6e7244b724f6": {
          "model_module": "@jupyter-widgets/base",
          "model_name": "LayoutModel",
          "model_module_version": "1.2.0",
          "state": {
            "_model_module": "@jupyter-widgets/base",
            "_model_module_version": "1.2.0",
            "_model_name": "LayoutModel",
            "_view_count": null,
            "_view_module": "@jupyter-widgets/base",
            "_view_module_version": "1.2.0",
            "_view_name": "LayoutView",
            "align_content": null,
            "align_items": null,
            "align_self": null,
            "border": null,
            "bottom": null,
            "display": null,
            "flex": null,
            "flex_flow": null,
            "grid_area": null,
            "grid_auto_columns": null,
            "grid_auto_flow": null,
            "grid_auto_rows": null,
            "grid_column": null,
            "grid_gap": null,
            "grid_row": null,
            "grid_template_areas": null,
            "grid_template_columns": null,
            "grid_template_rows": null,
            "height": null,
            "justify_content": null,
            "justify_items": null,
            "left": null,
            "margin": null,
            "max_height": null,
            "max_width": null,
            "min_height": null,
            "min_width": null,
            "object_fit": null,
            "object_position": null,
            "order": null,
            "overflow": null,
            "overflow_x": null,
            "overflow_y": null,
            "padding": null,
            "right": null,
            "top": null,
            "visibility": null,
            "width": null
          }
        },
        "8d86df8056c144ac8efc5d653303ff48": {
          "model_module": "@jupyter-widgets/controls",
          "model_name": "DescriptionStyleModel",
          "model_module_version": "1.5.0",
          "state": {
            "_model_module": "@jupyter-widgets/controls",
            "_model_module_version": "1.5.0",
            "_model_name": "DescriptionStyleModel",
            "_view_count": null,
            "_view_module": "@jupyter-widgets/base",
            "_view_module_version": "1.2.0",
            "_view_name": "StyleView",
            "description_width": ""
          }
        },
        "1572e958a25c4359bce6edc74a9d37ee": {
          "model_module": "@jupyter-widgets/base",
          "model_name": "LayoutModel",
          "model_module_version": "1.2.0",
          "state": {
            "_model_module": "@jupyter-widgets/base",
            "_model_module_version": "1.2.0",
            "_model_name": "LayoutModel",
            "_view_count": null,
            "_view_module": "@jupyter-widgets/base",
            "_view_module_version": "1.2.0",
            "_view_name": "LayoutView",
            "align_content": null,
            "align_items": null,
            "align_self": null,
            "border": null,
            "bottom": null,
            "display": null,
            "flex": null,
            "flex_flow": null,
            "grid_area": null,
            "grid_auto_columns": null,
            "grid_auto_flow": null,
            "grid_auto_rows": null,
            "grid_column": null,
            "grid_gap": null,
            "grid_row": null,
            "grid_template_areas": null,
            "grid_template_columns": null,
            "grid_template_rows": null,
            "height": null,
            "justify_content": null,
            "justify_items": null,
            "left": null,
            "margin": null,
            "max_height": null,
            "max_width": null,
            "min_height": null,
            "min_width": null,
            "object_fit": null,
            "object_position": null,
            "order": null,
            "overflow": null,
            "overflow_x": null,
            "overflow_y": null,
            "padding": null,
            "right": null,
            "top": null,
            "visibility": null,
            "width": null
          }
        },
        "e106d7990545494f8ae59e69017a623c": {
          "model_module": "@jupyter-widgets/controls",
          "model_name": "ProgressStyleModel",
          "model_module_version": "1.5.0",
          "state": {
            "_model_module": "@jupyter-widgets/controls",
            "_model_module_version": "1.5.0",
            "_model_name": "ProgressStyleModel",
            "_view_count": null,
            "_view_module": "@jupyter-widgets/base",
            "_view_module_version": "1.2.0",
            "_view_name": "StyleView",
            "bar_color": null,
            "description_width": ""
          }
        },
        "aa9711451b964b22a1019c24f69f512d": {
          "model_module": "@jupyter-widgets/base",
          "model_name": "LayoutModel",
          "model_module_version": "1.2.0",
          "state": {
            "_model_module": "@jupyter-widgets/base",
            "_model_module_version": "1.2.0",
            "_model_name": "LayoutModel",
            "_view_count": null,
            "_view_module": "@jupyter-widgets/base",
            "_view_module_version": "1.2.0",
            "_view_name": "LayoutView",
            "align_content": null,
            "align_items": null,
            "align_self": null,
            "border": null,
            "bottom": null,
            "display": null,
            "flex": null,
            "flex_flow": null,
            "grid_area": null,
            "grid_auto_columns": null,
            "grid_auto_flow": null,
            "grid_auto_rows": null,
            "grid_column": null,
            "grid_gap": null,
            "grid_row": null,
            "grid_template_areas": null,
            "grid_template_columns": null,
            "grid_template_rows": null,
            "height": null,
            "justify_content": null,
            "justify_items": null,
            "left": null,
            "margin": null,
            "max_height": null,
            "max_width": null,
            "min_height": null,
            "min_width": null,
            "object_fit": null,
            "object_position": null,
            "order": null,
            "overflow": null,
            "overflow_x": null,
            "overflow_y": null,
            "padding": null,
            "right": null,
            "top": null,
            "visibility": null,
            "width": null
          }
        },
        "00c2e09720144c45bfaf5404e00bf03e": {
          "model_module": "@jupyter-widgets/controls",
          "model_name": "DescriptionStyleModel",
          "model_module_version": "1.5.0",
          "state": {
            "_model_module": "@jupyter-widgets/controls",
            "_model_module_version": "1.5.0",
            "_model_name": "DescriptionStyleModel",
            "_view_count": null,
            "_view_module": "@jupyter-widgets/base",
            "_view_module_version": "1.2.0",
            "_view_name": "StyleView",
            "description_width": ""
          }
        }
      }
    }
  },
  "cells": [
    {
      "cell_type": "markdown",
      "metadata": {
        "id": "view-in-github",
        "colab_type": "text"
      },
      "source": [
        "<a href=\"https://colab.research.google.com/github/Whereamiactually/lyceumcompling10/blob/main/NER_lemmatization_stemming.ipynb\" target=\"_parent\"><img src=\"https://colab.research.google.com/assets/colab-badge.svg\" alt=\"Open In Colab\"/></a>"
      ]
    },
    {
      "cell_type": "markdown",
      "source": [
        "# Распознавание именованных сущностей\n",
        "\n",
        "Natasha также умеет распознавать **именованные сущности** (NER - Named Entity Recognition): имена людей, названия организаций, книг, городов и другие имена собственные.\n",
        "\n",
        "За одной задачей NER, на самом деле, стоит две:\n",
        "1. обнаружить, что какая-то последовательность слов — это именованная сущность;\n",
        "2. понять, к какому классу (имя человека, название организации, город и т.п.) эта именованная сущность относится.\n",
        "\n",
        "Какие классы именованных сущностей обычно хотят найти? Практически всегда стараются извлекать **имена людей и названия мест и организаций**, а дальше все зависит от конкретных задач, которые нужно решать, или от возможностей предобученной системы, которую планируется использовать. Также к задаче NER относят **извлечение дат, денежных сумм (число + валюта)**.\n",
        "\n",
        "Всё это нужно, чтобы решать задачи референции, референциального выбора и кореференции и метонимии, которые являются центральными для поиска, вопросно-ответных систем, связности текста, синтаксического и морфологического парсинга и т.д.\n",
        "\n",
        "Многие именованные сущности могут в разных контекстах относиться к разным классам: слово «Чехов» может быть человеком, городом, названием клуба и т.д.\n",
        "\n",
        "Какие **проблемы** могут быть связаны с NER?\n",
        "\n",
        "1. Именованные сущности редко состоят из одного слова. Например, из предложения «Звонил доктор Владимир Бомгард» нужно извлечь, как минимум, имя и фамилию — «Владимир Бомгард», а для многих задач полезно уметь находить полное «наименование» человека, о котором говорится: «доктор Владимир Бомгард».\n",
        "2. Не всегда очевидны границы, например, словосочетание «Иван Васильевич и партнеры» может быть названием некоторой организации, а может подразумевать некоторого Ивана Васильевича и отдельно его партнеров.\n",
        "3. С большой буквы пишутся не только имена собственные. Это верно и для русского, и еще больше для английского, но особенно хорошо видно в немецком, где с большой буквы пишутся вообще все существительные.\n",
        "4. Не во всех языках вообще есть большие буквы (например, это верно для языков со слоговыми системами).\n",
        "\n",
        "Как **работают** с именованными сущностями?\n",
        "\n",
        "Хотя большинство именованных сущностей состоит из нескольких слов, при решении этой задачи обычно рассматривают отдельные слова и решают, является ли это слово частью именованной сущности или нет. При этом **различают начало, середину и конец именованной сущности**.\n",
        "\n",
        "При разметке именованных сущностей принято использовать префиксы **BIOES-схемы**:\n",
        "* **«B» (beginning, начало)** для обозначения первого слова,\n",
        "* **«E» (end, конец)** для обозначения последнего слова,\n",
        "* **«I» (intermediate, промежуточный)** для всех слов между первым и последним,\n",
        "* **«S» (single, одиночный)** для обозначения именованной сущности, состоящей из одного слова,\n",
        "* **«O» (outside, снаружи)** — слово не относится ни к какой сущности.\n",
        "\n",
        "Задача сводится к **пословной классификации**. Обычно тренируют **нейросетевую модель** на большом количестве текстов с разметкой именованных сущностей. В основе моделей обычно стоят модули, которые позволяют учитывать контекст с двух сторон от анализируемого слова.\n",
        "\n",
        "Хорошие результаты дают и **классические классификаторы**, работающие с предзаданным множеством признаков. Большие буквы или нестандартное использование больших и маленьких букв (iPhone), а также специфических символов (H&M) внутри слова — все это полезные признаки для выявления именованных сущностей.\n",
        "\n",
        "Также до сих пор используются **системы, основанные на правилах**: в них прописываются разные шаблонные схемы именованных сущностей. Например, шаблон **«Министерство + образования\\туризма\\здравоохранения + Название страны»** поможет найти «Министерство образования Италии» и «Министерство туризма Мексики». Шаблон **«однозначное\\двузначное число + название месяца + четырехзначное число»** — это дата. Основная проблема такого подхода: на подготовку правил требуется очень много времени, а малейшее отступление от паттерна (например, банальная опечатка) все сломает. Также набор правил пишется под определенный язык, поэтому набор правил, помогающий извлекать именованные сущности из текстов на русском языке никак не поможет при обработке другого языка.\n",
        "\n",
        "**Активно используемых именованных сущностей конечное количество**, многие из них уже собраны в списки (так называемые **газетиры**, gazetteers): географические названия, словари имен, реестры организаций и т.п. Всю эту информацию тоже стараются использовать для решения задачи NER."
      ],
      "metadata": {
        "id": "0UNiw4Hw985T"
      }
    },
    {
      "cell_type": "code",
      "source": [
        "pip install natasha"
      ],
      "metadata": {
        "colab": {
          "base_uri": "https://localhost:8080/"
        },
        "id": "L8f8fFDvBK4J",
        "outputId": "c346d3b3-ceed-4f12-e5a0-4612cd6f7e6f"
      },
      "execution_count": null,
      "outputs": [
        {
          "output_type": "stream",
          "name": "stdout",
          "text": [
            "Collecting natasha\n",
            "  Downloading natasha-1.6.0-py3-none-any.whl (34.4 MB)\n",
            "\u001b[2K     \u001b[90m━━━━━━━━━━━━━━━━━━━━━━━━━━━━━━━━━━━━━━━━\u001b[0m \u001b[32m34.4/34.4 MB\u001b[0m \u001b[31m45.0 MB/s\u001b[0m eta \u001b[36m0:00:00\u001b[0m\n",
            "\u001b[?25hCollecting pymorphy2 (from natasha)\n",
            "  Downloading pymorphy2-0.9.1-py3-none-any.whl (55 kB)\n",
            "\u001b[2K     \u001b[90m━━━━━━━━━━━━━━━━━━━━━━━━━━━━━━━━━━━━━━━━\u001b[0m \u001b[32m55.5/55.5 kB\u001b[0m \u001b[31m6.4 MB/s\u001b[0m eta \u001b[36m0:00:00\u001b[0m\n",
            "\u001b[?25hCollecting razdel>=0.5.0 (from natasha)\n",
            "  Downloading razdel-0.5.0-py3-none-any.whl (21 kB)\n",
            "Collecting navec>=0.9.0 (from natasha)\n",
            "  Downloading navec-0.10.0-py3-none-any.whl (23 kB)\n",
            "Collecting slovnet>=0.6.0 (from natasha)\n",
            "  Downloading slovnet-0.6.0-py3-none-any.whl (46 kB)\n",
            "\u001b[2K     \u001b[90m━━━━━━━━━━━━━━━━━━━━━━━━━━━━━━━━━━━━━━━━\u001b[0m \u001b[32m46.7/46.7 kB\u001b[0m \u001b[31m5.3 MB/s\u001b[0m eta \u001b[36m0:00:00\u001b[0m\n",
            "\u001b[?25hCollecting yargy>=0.16.0 (from natasha)\n",
            "  Downloading yargy-0.16.0-py3-none-any.whl (33 kB)\n",
            "Collecting ipymarkup>=0.8.0 (from natasha)\n",
            "  Downloading ipymarkup-0.9.0-py3-none-any.whl (14 kB)\n",
            "Collecting intervaltree>=3 (from ipymarkup>=0.8.0->natasha)\n",
            "  Downloading intervaltree-3.1.0.tar.gz (32 kB)\n",
            "  Preparing metadata (setup.py) ... \u001b[?25l\u001b[?25hdone\n",
            "Requirement already satisfied: numpy in /usr/local/lib/python3.10/dist-packages (from navec>=0.9.0->natasha) (1.23.5)\n",
            "Collecting dawg-python>=0.7.1 (from pymorphy2->natasha)\n",
            "  Downloading DAWG_Python-0.7.2-py2.py3-none-any.whl (11 kB)\n",
            "Collecting pymorphy2-dicts-ru<3.0,>=2.4 (from pymorphy2->natasha)\n",
            "  Downloading pymorphy2_dicts_ru-2.4.417127.4579844-py2.py3-none-any.whl (8.2 MB)\n",
            "\u001b[2K     \u001b[90m━━━━━━━━━━━━━━━━━━━━━━━━━━━━━━━━━━━━━━━━\u001b[0m \u001b[32m8.2/8.2 MB\u001b[0m \u001b[31m83.0 MB/s\u001b[0m eta \u001b[36m0:00:00\u001b[0m\n",
            "\u001b[?25hCollecting docopt>=0.6 (from pymorphy2->natasha)\n",
            "  Downloading docopt-0.6.2.tar.gz (25 kB)\n",
            "  Preparing metadata (setup.py) ... \u001b[?25l\u001b[?25hdone\n",
            "Requirement already satisfied: sortedcontainers<3.0,>=2.0 in /usr/local/lib/python3.10/dist-packages (from intervaltree>=3->ipymarkup>=0.8.0->natasha) (2.4.0)\n",
            "Building wheels for collected packages: docopt, intervaltree\n",
            "  Building wheel for docopt (setup.py) ... \u001b[?25l\u001b[?25hdone\n",
            "  Created wheel for docopt: filename=docopt-0.6.2-py2.py3-none-any.whl size=13705 sha256=321fe6a7e96f6743fff5f8780ccc05ff5804f420e2a0db3e4648324fe1fd4a83\n",
            "  Stored in directory: /root/.cache/pip/wheels/fc/ab/d4/5da2067ac95b36618c629a5f93f809425700506f72c9732fac\n",
            "  Building wheel for intervaltree (setup.py) ... \u001b[?25l\u001b[?25hdone\n",
            "  Created wheel for intervaltree: filename=intervaltree-3.1.0-py2.py3-none-any.whl size=26094 sha256=e196c18108f5e592dfe031e6c3326081a618e00c30bd7e246f3c4933135452ed\n",
            "  Stored in directory: /root/.cache/pip/wheels/fa/80/8c/43488a924a046b733b64de3fac99252674c892a4c3801c0a61\n",
            "Successfully built docopt intervaltree\n",
            "Installing collected packages: razdel, pymorphy2-dicts-ru, docopt, dawg-python, pymorphy2, navec, intervaltree, yargy, slovnet, ipymarkup, natasha\n",
            "Successfully installed dawg-python-0.7.2 docopt-0.6.2 intervaltree-3.1.0 ipymarkup-0.9.0 natasha-1.6.0 navec-0.10.0 pymorphy2-0.9.1 pymorphy2-dicts-ru-2.4.417127.4579844 razdel-0.5.0 slovnet-0.6.0 yargy-0.16.0\n"
          ]
        }
      ]
    },
    {
      "cell_type": "code",
      "source": [
        "from natasha import (\n",
        "  Segmenter,\n",
        "\n",
        "  NewsEmbedding,\n",
        "  NewsMorphTagger,\n",
        "  NewsSyntaxParser,\n",
        "\n",
        "  Doc\n",
        ")\n",
        "\n",
        "segmenter = Segmenter() # сегментирует текст, нужно для распознавания именованных сущностей\n",
        "emb = NewsEmbedding() # преобразует языковые сущности в числовой вектор\n",
        "morph_tagger = NewsMorphTagger(emb)\n",
        "syntax_parser = NewsSyntaxParser(emb)"
      ],
      "metadata": {
        "id": "ft5PI88uBRT2"
      },
      "execution_count": null,
      "outputs": []
    },
    {
      "cell_type": "code",
      "source": [
        "text = 'Киллиан Мёрфи участвовал в 2007 году в кампании Rock the Voteruen, ориентированной на молодых избирателей на всеобщих выборах, и проводил кампанию за права бездомных с организацией Focus Ireland. В 2011 году он стал патроном Исследовательского центра ЮНЕСКО по проблемам детей и семьи при Ирландском национальном университете в Голуэе. Он тесно связан с работой профессора Пэта Долана, директора UCFRC и кафедры ЮНЕСКО по вопросам детей, молодежи и гражданского участия. В феврале 2012 года он написал послание поддержки бывшим работникам Vita Cortexruen, участвовавшим в сидячей забастовке на их заводе. Какое это имеет отношение к Высшей Школе Экономики? Александр Сергеевич Пушкин не понимает.'\n",
        "doc = Doc(text) # текст нужно определённым образом преобразовать\n",
        "doc.segment(segmenter) # сегментируем тест\n",
        "doc.tag_morph(morph_tagger)\n",
        "doc.parse_syntax(syntax_parser)\n",
        "text"
      ],
      "metadata": {
        "id": "zszuXzjjBU_6",
        "colab": {
          "base_uri": "https://localhost:8080/",
          "height": 88
        },
        "outputId": "05882aed-7184-469b-9151-7a269f5fabc2"
      },
      "execution_count": null,
      "outputs": [
        {
          "output_type": "execute_result",
          "data": {
            "text/plain": [
              "'Киллиан Мёрфи участвовал в 2007 году в кампании Rock the Voteruen, ориентированной на молодых избирателей на всеобщих выборах, и проводил кампанию за права бездомных с организацией Focus Ireland. В 2011 году он стал патроном Исследовательского центра ЮНЕСКО по проблемам детей и семьи при Ирландском национальном университете в Голуэе. Он тесно связан с работой профессора Пэта Долана, директора UCFRC и кафедры ЮНЕСКО по вопросам детей, молодежи и гражданского участия. В феврале 2012 года он написал послание поддержки бывшим работникам Vita Cortexruen, участвовавшим в сидячей забастовке на их заводе. Какое это имеет отношение к Высшей Школе Экономики? Александр Сергеевич Пушкин не понимает.'"
            ],
            "application/vnd.google.colaboratory.intrinsic+json": {
              "type": "string"
            }
          },
          "metadata": {},
          "execution_count": 30
        }
      ]
    },
    {
      "cell_type": "code",
      "source": [
        "from natasha import NewsNERTagger\n",
        "ner_tagger = NewsNERTagger(emb) # инициализируем распознаватель именованных сущностей"
      ],
      "metadata": {
        "id": "FqfefXU1DHzG"
      },
      "execution_count": null,
      "outputs": []
    },
    {
      "cell_type": "code",
      "source": [
        "doc.tag_ner(ner_tagger)\n",
        "doc.ner.print()"
      ],
      "metadata": {
        "id": "D0g252qqDNgM",
        "colab": {
          "base_uri": "https://localhost:8080/"
        },
        "outputId": "c02b115c-5763-4f17-91a1-97242ca96504"
      },
      "execution_count": null,
      "outputs": [
        {
          "output_type": "stream",
          "name": "stdout",
          "text": [
            "Киллиан Мёрфи участвовал в 2007 году в кампании Rock the Voteruen, \n",
            "PER──────────                                                      \n",
            "ориентированной на молодых избирателей на всеобщих выборах, и проводил\n",
            " кампанию за права бездомных с организацией Focus Ireland. В 2011 году\n",
            "                                            ORG──────────             \n",
            " он стал патроном Исследовательского центра ЮНЕСКО по проблемам детей \n",
            "                  ORG────────────────────── ORG───                    \n",
            "и семьи при Ирландском национальном университете в Голуэе. Он тесно \n",
            "            ORG─────────────────────────────────   LOC───           \n",
            "связан с работой профессора Пэта Долана, директора UCFRC и кафедры \n",
            "                            PER────────            ORG──           \n",
            "ЮНЕСКО по вопросам детей, молодежи и гражданского участия. В феврале \n",
            "ORG───                                                               \n",
            "2012 года он написал послание поддержки бывшим работникам Vita \n",
            "                                                          ORG──\n",
            "Cortexruen, участвовавшим в сидячей забастовке на их заводе. Какое это\n",
            "──────────                                                            \n",
            " имеет отношение к Высшей Школе Экономики? Александр Сергеевич Пушкин \n",
            "                   ORG───────────────────  PER─────────────────────── \n",
            "не понимает.\n"
          ]
        }
      ]
    },
    {
      "cell_type": "code",
      "source": [
        "from natasha import (\n",
        "  MorphVocab,\n",
        "  PER,\n",
        "  NamesExtractor,\n",
        ")\n",
        "\n",
        "morph_vocab = MorphVocab()\n",
        "names_extractor = NamesExtractor(morph_vocab)"
      ],
      "metadata": {
        "id": "SOuj3PDSSWXc"
      },
      "execution_count": null,
      "outputs": []
    },
    {
      "cell_type": "markdown",
      "source": [
        "Мы можем вывести нормализованные именованные сущности."
      ],
      "metadata": {
        "id": "3o1ROnlOLYxx"
      }
    },
    {
      "cell_type": "code",
      "source": [
        "for span in doc.spans: # проходимся по всем именованным сущностям и добавляет к ним нормализацию\n",
        "  span.normalize(morph_vocab)\n",
        "{_.text: _.normal for _ in doc.spans if _.text != _.normal}"
      ],
      "metadata": {
        "colab": {
          "base_uri": "https://localhost:8080/"
        },
        "id": "sBKqXOKgKH1f",
        "outputId": "01abd23e-6eca-4895-8217-c3d7b1d1d97d"
      },
      "execution_count": null,
      "outputs": [
        {
          "output_type": "execute_result",
          "data": {
            "text/plain": [
              "{'Киллиан Мёрфи': 'Киллиан Мерфи',\n",
              " 'Исследовательского центра': 'Исследовательский центр',\n",
              " 'Ирландском национальном университете': 'Ирландский национальный университет',\n",
              " 'Голуэе': 'Голуэй',\n",
              " 'Пэта Долана': 'Пэта Долан',\n",
              " 'Высшей Школе Экономики': 'Высочайшая Школа Экономики'}"
            ]
          },
          "metadata": {},
          "execution_count": 10
        }
      ]
    },
    {
      "cell_type": "markdown",
      "source": [
        "Мы можем отдельно выцеплять имена людей, причем мы можем их ФИ(О) поделить на имя и фамилию (и отчество). Но для этого нам нужно знать, в каком формате записано имя (например, ФИО или ИФ)."
      ],
      "metadata": {
        "id": "-s07hb_pRJoc"
      }
    },
    {
      "cell_type": "code",
      "source": [
        "for span in doc.spans:\n",
        "  if span.type == PER:\n",
        "    span.extract_fact(names_extractor)\n",
        "\n",
        "{_.normal: _.fact.as_dict for _ in doc.spans if _.type == PER}"
      ],
      "metadata": {
        "id": "TpKSo1FMQ5-e",
        "colab": {
          "base_uri": "https://localhost:8080/"
        },
        "outputId": "cf7a8809-1622-4f08-97ea-db5ecc37cfa3"
      },
      "execution_count": null,
      "outputs": [
        {
          "output_type": "execute_result",
          "data": {
            "text/plain": [
              "{'Киллиан Мерфи': {'first': 'Киллиан', 'last': 'Мерфи'},\n",
              " 'Пэта Долан': {'first': 'Пэта', 'last': 'Долан'},\n",
              " 'Александр Сергеевич Пушкин': {'first': 'Александр',\n",
              "  'last': 'Пушкин',\n",
              "  'middle': 'Сергеевич'}}"
            ]
          },
          "metadata": {},
          "execution_count": 11
        }
      ]
    },
    {
      "cell_type": "code",
      "source": [
        "from natasha import (\n",
        "  DatesExtractor, # для дат\n",
        "  MoneyExtractor, # для денежных сумм\n",
        "  AddrExtractor # для адресов\n",
        ")\n",
        "\n",
        "dates_extractor = DatesExtractor(morph_vocab)\n",
        "money_extractor = MoneyExtractor(morph_vocab)\n",
        "address_extractor = AddrExtractor(morph_vocab)"
      ],
      "metadata": {
        "id": "kCS5d8avPlsl"
      },
      "execution_count": null,
      "outputs": []
    },
    {
      "cell_type": "code",
      "source": [
        "list(dates_extractor(text))"
      ],
      "metadata": {
        "colab": {
          "base_uri": "https://localhost:8080/"
        },
        "id": "cyoEDHvXQQX2",
        "outputId": "ac318349-b356-4039-c477-fdb7b508cb0c"
      },
      "execution_count": null,
      "outputs": [
        {
          "output_type": "execute_result",
          "data": {
            "text/plain": [
              "[Match(\n",
              "     start=27,\n",
              "     stop=36,\n",
              "     fact=Date(\n",
              "         year=2007,\n",
              "         month=None,\n",
              "         day=None\n",
              "     )\n",
              " ),\n",
              " Match(\n",
              "     start=198,\n",
              "     stop=207,\n",
              "     fact=Date(\n",
              "         year=2011,\n",
              "         month=None,\n",
              "         day=None\n",
              "     )\n",
              " ),\n",
              " Match(\n",
              "     start=473,\n",
              "     stop=490,\n",
              "     fact=Date(\n",
              "         year=2012,\n",
              "         month=2,\n",
              "         day=None\n",
              "     )\n",
              " )]"
            ]
          },
          "metadata": {},
          "execution_count": 13
        }
      ]
    },
    {
      "cell_type": "markdown",
      "source": [
        "### Stanza\n",
        "\n",
        "Это библиотека для обработки естественных языков (как и Natasha). Выполнять она может практически всё то же самое, что и Natasha (например, токенизация, лемматизация, морфологический анализ), только с большим количеством языков (66 языков, включая русский). Список языков, для которых возможно распознавание именованных сущностей, можно найти вот [тут](https://stanfordnlp.github.io/stanza/ner_models.html)."
      ],
      "metadata": {
        "id": "RSQL6oLKEKrv"
      }
    },
    {
      "cell_type": "code",
      "source": [
        "pip install stanza"
      ],
      "metadata": {
        "colab": {
          "base_uri": "https://localhost:8080/"
        },
        "id": "qjpJRjkXFGZB",
        "outputId": "a67c85fa-7b7c-4621-8201-ac3f0de2106d"
      },
      "execution_count": null,
      "outputs": [
        {
          "output_type": "stream",
          "name": "stdout",
          "text": [
            "Collecting stanza\n",
            "  Downloading stanza-1.6.1-py3-none-any.whl (881 kB)\n",
            "\u001b[2K     \u001b[90m━━━━━━━━━━━━━━━━━━━━━━━━━━━━━━━━━━━━━━\u001b[0m \u001b[32m881.2/881.2 kB\u001b[0m \u001b[31m11.2 MB/s\u001b[0m eta \u001b[36m0:00:00\u001b[0m\n",
            "\u001b[?25hCollecting emoji (from stanza)\n",
            "  Downloading emoji-2.8.0-py2.py3-none-any.whl (358 kB)\n",
            "\u001b[2K     \u001b[90m━━━━━━━━━━━━━━━━━━━━━━━━━━━━━━━━━━━━━━\u001b[0m \u001b[32m358.9/358.9 kB\u001b[0m \u001b[31m29.4 MB/s\u001b[0m eta \u001b[36m0:00:00\u001b[0m\n",
            "\u001b[?25hRequirement already satisfied: numpy in /usr/local/lib/python3.10/dist-packages (from stanza) (1.23.5)\n",
            "Requirement already satisfied: protobuf>=3.15.0 in /usr/local/lib/python3.10/dist-packages (from stanza) (3.20.3)\n",
            "Requirement already satisfied: requests in /usr/local/lib/python3.10/dist-packages (from stanza) (2.31.0)\n",
            "Requirement already satisfied: torch>=1.3.0 in /usr/local/lib/python3.10/dist-packages (from stanza) (2.0.1+cu118)\n",
            "Requirement already satisfied: tqdm in /usr/local/lib/python3.10/dist-packages (from stanza) (4.66.1)\n",
            "Requirement already satisfied: filelock in /usr/local/lib/python3.10/dist-packages (from torch>=1.3.0->stanza) (3.12.4)\n",
            "Requirement already satisfied: typing-extensions in /usr/local/lib/python3.10/dist-packages (from torch>=1.3.0->stanza) (4.5.0)\n",
            "Requirement already satisfied: sympy in /usr/local/lib/python3.10/dist-packages (from torch>=1.3.0->stanza) (1.12)\n",
            "Requirement already satisfied: networkx in /usr/local/lib/python3.10/dist-packages (from torch>=1.3.0->stanza) (3.1)\n",
            "Requirement already satisfied: jinja2 in /usr/local/lib/python3.10/dist-packages (from torch>=1.3.0->stanza) (3.1.2)\n",
            "Requirement already satisfied: triton==2.0.0 in /usr/local/lib/python3.10/dist-packages (from torch>=1.3.0->stanza) (2.0.0)\n",
            "Requirement already satisfied: cmake in /usr/local/lib/python3.10/dist-packages (from triton==2.0.0->torch>=1.3.0->stanza) (3.27.6)\n",
            "Requirement already satisfied: lit in /usr/local/lib/python3.10/dist-packages (from triton==2.0.0->torch>=1.3.0->stanza) (17.0.2)\n",
            "Requirement already satisfied: charset-normalizer<4,>=2 in /usr/local/lib/python3.10/dist-packages (from requests->stanza) (3.3.0)\n",
            "Requirement already satisfied: idna<4,>=2.5 in /usr/local/lib/python3.10/dist-packages (from requests->stanza) (3.4)\n",
            "Requirement already satisfied: urllib3<3,>=1.21.1 in /usr/local/lib/python3.10/dist-packages (from requests->stanza) (2.0.6)\n",
            "Requirement already satisfied: certifi>=2017.4.17 in /usr/local/lib/python3.10/dist-packages (from requests->stanza) (2023.7.22)\n",
            "Requirement already satisfied: MarkupSafe>=2.0 in /usr/local/lib/python3.10/dist-packages (from jinja2->torch>=1.3.0->stanza) (2.1.3)\n",
            "Requirement already satisfied: mpmath>=0.19 in /usr/local/lib/python3.10/dist-packages (from sympy->torch>=1.3.0->stanza) (1.3.0)\n",
            "Installing collected packages: emoji, stanza\n",
            "Successfully installed emoji-2.8.0 stanza-1.6.1\n"
          ]
        }
      ]
    },
    {
      "cell_type": "code",
      "source": [
        "import stanza\n",
        "stanza.download('en') # загружаем язык, с которым мы хотим работать"
      ],
      "metadata": {
        "colab": {
          "base_uri": "https://localhost:8080/",
          "height": 116,
          "referenced_widgets": [
            "2d1650cf26b44746844f9cd32be4092d",
            "caace876dad049dca0607d2ef83b4c28",
            "67aa5aa79e644932be6923bfa4800d8e",
            "09b88d823e6244cc99df239f13943558",
            "f6d99029b4fb4b53a77187e07049fca6",
            "ae89b5685b934558bb710e12b9064f98",
            "981a9173b96b41bc80dc29f505d7c9bb",
            "de9d880b869c4f1ca03ca28fe9a3ea24",
            "ee433f3deadc4f3caa247772132664e0",
            "03a6e78a86d24d30b92a69cf0afba86f",
            "7b199838be744485a26edcfb249c018c",
            "67753a5010e04c66bf188db6b82e51b4",
            "42c9fb1346654e31aced4ecfa997de57",
            "ccdd05ea37b0469c92b2090381a8995c",
            "dfa80bdcf0234062a304807ccd9000a2",
            "dcc15330b4934484b10ec40d216e235f",
            "fd8477dc10e14d1682d6a138f1dfadca",
            "dd119fbe380e4730b49b9c9a7adebd21",
            "eeb96f346551471f80d71ce5d4d32f1a",
            "19d0b6961f554763bd314b4b85ecbc6e",
            "4b978121d9794b1bbc387a10f5cfdd88",
            "2becc7b858db4ff78fc0e4017e65f0f1"
          ]
        },
        "id": "3fF1XBMcFKoM",
        "outputId": "6021df1b-c88e-426f-d6d6-274f6600827e"
      },
      "execution_count": null,
      "outputs": [
        {
          "output_type": "display_data",
          "data": {
            "text/plain": [
              "Downloading https://raw.githubusercontent.com/stanfordnlp/stanza-resources/main/resources_1.6.0.json:   0%|   …"
            ],
            "application/vnd.jupyter.widget-view+json": {
              "version_major": 2,
              "version_minor": 0,
              "model_id": "2d1650cf26b44746844f9cd32be4092d"
            }
          },
          "metadata": {}
        },
        {
          "output_type": "stream",
          "name": "stderr",
          "text": [
            "INFO:stanza:Downloading default packages for language: en (English) ...\n"
          ]
        },
        {
          "output_type": "display_data",
          "data": {
            "text/plain": [
              "Downloading https://huggingface.co/stanfordnlp/stanza-en/resolve/v1.6.0/models/default.zip:   0%|          | 0…"
            ],
            "application/vnd.jupyter.widget-view+json": {
              "version_major": 2,
              "version_minor": 0,
              "model_id": "67753a5010e04c66bf188db6b82e51b4"
            }
          },
          "metadata": {}
        },
        {
          "output_type": "stream",
          "name": "stderr",
          "text": [
            "INFO:stanza:Finished downloading models and saved to /root/stanza_resources.\n"
          ]
        }
      ]
    },
    {
      "cell_type": "markdown",
      "source": [
        "Нам нужно задать процессоры, с которыми мы хотим работать. В данном случае, **чтобы распознать именованные сущности, нам надо вначале токенизировать текст**, а затем уже попытаться их найти. Список других процессов можно найти [тут](https://stanfordnlp.github.io/stanza/)."
      ],
      "metadata": {
        "id": "whJH98JgGBcm"
      }
    },
    {
      "cell_type": "code",
      "source": [
        "nlp = stanza.Pipeline(lang = 'en', processors = 'tokenize, ner')"
      ],
      "metadata": {
        "colab": {
          "base_uri": "https://localhost:8080/",
          "height": 295,
          "referenced_widgets": [
            "91ffe6fb122c4fc3b8f0b0669b1f9cb8",
            "fd5bdcf892274de2bc96078c722b0a10",
            "f0609814dd0c436f82f32c40ff1d001d",
            "ee267651217d4b3e844f669291dd7fa1",
            "5f48a24453b547058bc1964a14a582b3",
            "1cdeb5ec3d2f47f08c024a09778e5bea",
            "800d908463f84a38ac5f6226a17b809e",
            "27d8f61167634bb9b76ee2df87457a59",
            "baa6b4c83e85408c8bbedb4be076a871",
            "204f2f2f20b647659858ae68ea4e6d78",
            "40e7a24167d54dfbab5e924930cecd11"
          ]
        },
        "id": "IeOixyucF1Mr",
        "outputId": "dac3f9ed-96ec-4f69-f196-066c696a8c3f"
      },
      "execution_count": null,
      "outputs": [
        {
          "output_type": "stream",
          "name": "stderr",
          "text": [
            "INFO:stanza:Checking for updates to resources.json in case models have been updated.  Note: this behavior can be turned off with download_method=None or download_method=DownloadMethod.REUSE_RESOURCES\n"
          ]
        },
        {
          "output_type": "display_data",
          "data": {
            "text/plain": [
              "Downloading https://raw.githubusercontent.com/stanfordnlp/stanza-resources/main/resources_1.6.0.json:   0%|   …"
            ],
            "application/vnd.jupyter.widget-view+json": {
              "version_major": 2,
              "version_minor": 0,
              "model_id": "91ffe6fb122c4fc3b8f0b0669b1f9cb8"
            }
          },
          "metadata": {}
        },
        {
          "output_type": "stream",
          "name": "stderr",
          "text": [
            "INFO:stanza:Loading these models for language: en (English):\n",
            "================================\n",
            "| Processor | Package          |\n",
            "--------------------------------\n",
            "| tokenize  | combined         |\n",
            "| ner       | ontonotes_charlm |\n",
            "================================\n",
            "\n",
            "INFO:stanza:Using device: cpu\n",
            "INFO:stanza:Loading: tokenize\n",
            "INFO:stanza:Loading: ner\n",
            "INFO:stanza:Done loading processors!\n"
          ]
        }
      ]
    },
    {
      "cell_type": "markdown",
      "source": [
        "Попробуем на тексте на английском языке. Список тегов можно найти [тут](https://stanfordnlp.github.io/stanza/ner_models.html) (для разных языков он разный)."
      ],
      "metadata": {
        "id": "S4dn_DrDNC-a"
      }
    },
    {
      "cell_type": "code",
      "source": [
        "eng_text = 'Cillian Murphy participated in the 2007 Rock the Vote Ireland campaign, targeting young voters for the general election, and campaigning for the rights of the homeless with the organisation Focus Ireland. In 2011, he became a patron of the UNESCO Child and Family Research Centre at the National University of Ireland Galway. He is closely associated with the work of Professor Pat Dolan Director UCFRC and UNESCO Chair in Children, Youth and Civic Engagement. In February 2012, he wrote a message of support to the former Vita Cortex workers involved in a sit-in at their plant, congratulating them for \"highlighting [what] is hugely important to us all as a nation\". Murphy was a supporter of the 2018 Irish referendum to repeal the eighth amendment of the constitution that restricted access to abortions.'\n",
        "doc = nlp(eng_text)\n",
        "print(*[f'entity: {ent.text}\\ttype: {ent.type}' for sent in doc.sentences for ent in sent.ents], sep = '\\n')"
      ],
      "metadata": {
        "colab": {
          "base_uri": "https://localhost:8080/"
        },
        "id": "_o4E_sd5GqjU",
        "outputId": "cf33825f-1ed0-406b-9611-5da2f75bacf1"
      },
      "execution_count": null,
      "outputs": [
        {
          "output_type": "stream",
          "name": "stdout",
          "text": [
            "entity: Cillian Murphy\ttype: PERSON\n",
            "entity: 2007\ttype: DATE\n",
            "entity: Rock the Vote Ireland\ttype: ORG\n",
            "entity: Focus Ireland\ttype: ORG\n",
            "entity: 2011\ttype: DATE\n",
            "entity: the UNESCO Child and Family Research Centre\ttype: ORG\n",
            "entity: the National University of Ireland Galway\ttype: ORG\n",
            "entity: Pat Dolan\ttype: PERSON\n",
            "entity: UCFRC\ttype: ORG\n",
            "entity: UNESCO\ttype: ORG\n",
            "entity: Youth and Civic Engagement\ttype: ORG\n",
            "entity: February 2012\ttype: DATE\n",
            "entity: Vita Cortex\ttype: ORG\n",
            "entity: Murphy\ttype: PERSON\n",
            "entity: 2018\ttype: DATE\n",
            "entity: Irish\ttype: NORP\n",
            "entity: eighth\ttype: ORDINAL\n"
          ]
        }
      ]
    },
    {
      "cell_type": "markdown",
      "source": [
        "Мы можем выводить BIOES NER теги для каждого токена, чтобы посмотреть, не упустила ли что-то наша программа."
      ],
      "metadata": {
        "id": "TGOBOAWsOQqW"
      }
    },
    {
      "cell_type": "code",
      "source": [
        "print(*[f'token: {token.text}\\tner: {token.ner}' for sent in doc.sentences for token in sent.tokens], sep = '\\n')"
      ],
      "metadata": {
        "colab": {
          "base_uri": "https://localhost:8080/"
        },
        "id": "tYyqAyxXOPYG",
        "outputId": "9ebadfed-fc43-4372-9286-21466e5a68b5"
      },
      "execution_count": null,
      "outputs": [
        {
          "output_type": "stream",
          "name": "stdout",
          "text": [
            "token: Cillian\tner: B-PERSON\n",
            "token: Murphy\tner: E-PERSON\n",
            "token: participated\tner: O\n",
            "token: in\tner: O\n",
            "token: the\tner: O\n",
            "token: 2007\tner: S-DATE\n",
            "token: Rock\tner: B-ORG\n",
            "token: the\tner: I-ORG\n",
            "token: Vote\tner: I-ORG\n",
            "token: Ireland\tner: E-ORG\n",
            "token: campaign\tner: O\n",
            "token: ,\tner: O\n",
            "token: targeting\tner: O\n",
            "token: young\tner: O\n",
            "token: voters\tner: O\n",
            "token: for\tner: O\n",
            "token: the\tner: O\n",
            "token: general\tner: O\n",
            "token: election\tner: O\n",
            "token: ,\tner: O\n",
            "token: and\tner: O\n",
            "token: campaigning\tner: O\n",
            "token: for\tner: O\n",
            "token: the\tner: O\n",
            "token: rights\tner: O\n",
            "token: of\tner: O\n",
            "token: the\tner: O\n",
            "token: homeless\tner: O\n",
            "token: with\tner: O\n",
            "token: the\tner: O\n",
            "token: organisation\tner: O\n",
            "token: Focus\tner: B-ORG\n",
            "token: Ireland\tner: E-ORG\n",
            "token: .\tner: O\n",
            "token: In\tner: O\n",
            "token: 2011\tner: S-DATE\n",
            "token: ,\tner: O\n",
            "token: he\tner: O\n",
            "token: became\tner: O\n",
            "token: a\tner: O\n",
            "token: patron\tner: O\n",
            "token: of\tner: O\n",
            "token: the\tner: B-ORG\n",
            "token: UNESCO\tner: I-ORG\n",
            "token: Child\tner: I-ORG\n",
            "token: and\tner: I-ORG\n",
            "token: Family\tner: I-ORG\n",
            "token: Research\tner: I-ORG\n",
            "token: Centre\tner: E-ORG\n",
            "token: at\tner: O\n",
            "token: the\tner: B-ORG\n",
            "token: National\tner: I-ORG\n",
            "token: University\tner: I-ORG\n",
            "token: of\tner: I-ORG\n",
            "token: Ireland\tner: I-ORG\n",
            "token: Galway\tner: E-ORG\n",
            "token: .\tner: O\n",
            "token: He\tner: O\n",
            "token: is\tner: O\n",
            "token: closely\tner: O\n",
            "token: associated\tner: O\n",
            "token: with\tner: O\n",
            "token: the\tner: O\n",
            "token: work\tner: O\n",
            "token: of\tner: O\n",
            "token: Professor\tner: O\n",
            "token: Pat\tner: B-PERSON\n",
            "token: Dolan\tner: E-PERSON\n",
            "token: Director\tner: O\n",
            "token: UCFRC\tner: S-ORG\n",
            "token: and\tner: O\n",
            "token: UNESCO\tner: S-ORG\n",
            "token: Chair\tner: O\n",
            "token: in\tner: O\n",
            "token: Children\tner: O\n",
            "token: ,\tner: O\n",
            "token: Youth\tner: B-ORG\n",
            "token: and\tner: I-ORG\n",
            "token: Civic\tner: I-ORG\n",
            "token: Engagement\tner: E-ORG\n",
            "token: .\tner: O\n",
            "token: In\tner: O\n",
            "token: February\tner: B-DATE\n",
            "token: 2012\tner: E-DATE\n",
            "token: ,\tner: O\n",
            "token: he\tner: O\n",
            "token: wrote\tner: O\n",
            "token: a\tner: O\n",
            "token: message\tner: O\n",
            "token: of\tner: O\n",
            "token: support\tner: O\n",
            "token: to\tner: O\n",
            "token: the\tner: O\n",
            "token: former\tner: O\n",
            "token: Vita\tner: B-ORG\n",
            "token: Cortex\tner: E-ORG\n",
            "token: workers\tner: O\n",
            "token: involved\tner: O\n",
            "token: in\tner: O\n",
            "token: a\tner: O\n",
            "token: sit\tner: O\n",
            "token: -\tner: O\n",
            "token: in\tner: O\n",
            "token: at\tner: O\n",
            "token: their\tner: O\n",
            "token: plant\tner: O\n",
            "token: ,\tner: O\n",
            "token: congratulating\tner: O\n",
            "token: them\tner: O\n",
            "token: for\tner: O\n",
            "token: \"\tner: O\n",
            "token: highlighting\tner: O\n",
            "token: [\tner: O\n",
            "token: what\tner: O\n",
            "token: ]\tner: O\n",
            "token: is\tner: O\n",
            "token: hugely\tner: O\n",
            "token: important\tner: O\n",
            "token: to\tner: O\n",
            "token: us\tner: O\n",
            "token: all\tner: O\n",
            "token: as\tner: O\n",
            "token: a\tner: O\n",
            "token: nation\tner: O\n",
            "token: \"\tner: O\n",
            "token: .\tner: O\n",
            "token: Murphy\tner: S-PERSON\n",
            "token: was\tner: O\n",
            "token: a\tner: O\n",
            "token: supporter\tner: O\n",
            "token: of\tner: O\n",
            "token: the\tner: O\n",
            "token: 2018\tner: S-DATE\n",
            "token: Irish\tner: S-NORP\n",
            "token: referendum\tner: O\n",
            "token: to\tner: O\n",
            "token: repeal\tner: O\n",
            "token: the\tner: O\n",
            "token: eighth\tner: S-ORDINAL\n",
            "token: amendment\tner: O\n",
            "token: of\tner: O\n",
            "token: the\tner: O\n",
            "token: constitution\tner: O\n",
            "token: that\tner: O\n",
            "token: restricted\tner: O\n",
            "token: access\tner: O\n",
            "token: to\tner: O\n",
            "token: abortions\tner: O\n",
            "token: .\tner: O\n"
          ]
        }
      ]
    },
    {
      "cell_type": "markdown",
      "source": [
        "Теперь проверим на русском!"
      ],
      "metadata": {
        "id": "QJvc1EWDO4SY"
      }
    },
    {
      "cell_type": "code",
      "source": [
        "stanza.download('ru')\n",
        "nlp = stanza.Pipeline(lang = 'ru', processors = 'tokenize,ner')\n",
        "doc = nlp(text)"
      ],
      "metadata": {
        "colab": {
          "base_uri": "https://localhost:8080/",
          "height": 393,
          "referenced_widgets": [
            "245db86ed72c4c7b9e2e3a0e1e108a87",
            "a18fbc7823a7441a81dac2f3cb8728bc",
            "6c291581fdcb42a69af662e26d6fa958",
            "755aa522b6c840c9bc65dd21e3699794",
            "73b2e7cede1d42d6a681bd48c7986cb0",
            "75cf51f685974af7ba57171288bd9416",
            "639d545cd66e430299c8a654f3e79902",
            "ee6c4474a1f7496ca780d690a5a4740a",
            "ff9765ff70034d58817485854ff6e25a",
            "c5e0c81183f443a69f791be58ed2ef0c",
            "a4111b4f5ce44f69a43afec6786bd25b",
            "6a32265f6ef24c63981a9545f2469553",
            "ad2336442665488faad3c64f93ed91d8",
            "4c518633c7334023b68cdd959112a6d4",
            "df05209b7cdc4d42bd1300f8621316d7",
            "a62d4969ebba4fe096de5ef1feaa70e9",
            "a3bfa1167cd94035b39a83273008f517",
            "14e9495702494f44b888a792ee6989b5",
            "1ead2aae63604df488798625656c8fd1",
            "5497c16e9084449686e275380d0b068b",
            "bd4bc54fdc0e4b6b8ebe45577be582ad",
            "f96b02bc16d94e06943a0060974310ed",
            "fcbcfbc864224eb0b73a0aa46f9f5664",
            "e9850a9d3119407bb633770cddc5e328",
            "47c1500ea9c84e64aaaace0d07ddd353",
            "f8a37c4d357a4177bf0ab13d1c9a84b5",
            "1ff3edcdcacf46909808cbec38e7fad6",
            "553b9bf2946a465194dc6e7244b724f6",
            "8d86df8056c144ac8efc5d653303ff48",
            "1572e958a25c4359bce6edc74a9d37ee",
            "e106d7990545494f8ae59e69017a623c",
            "aa9711451b964b22a1019c24f69f512d",
            "00c2e09720144c45bfaf5404e00bf03e"
          ]
        },
        "id": "0C0rehxNO6xG",
        "outputId": "d7067870-6317-4a54-b81f-9617d69388c1"
      },
      "execution_count": null,
      "outputs": [
        {
          "output_type": "display_data",
          "data": {
            "text/plain": [
              "Downloading https://raw.githubusercontent.com/stanfordnlp/stanza-resources/main/resources_1.6.0.json:   0%|   …"
            ],
            "application/vnd.jupyter.widget-view+json": {
              "version_major": 2,
              "version_minor": 0,
              "model_id": "245db86ed72c4c7b9e2e3a0e1e108a87"
            }
          },
          "metadata": {}
        },
        {
          "output_type": "stream",
          "name": "stderr",
          "text": [
            "INFO:stanza:Downloading default packages for language: ru (Russian) ...\n"
          ]
        },
        {
          "output_type": "display_data",
          "data": {
            "text/plain": [
              "Downloading https://huggingface.co/stanfordnlp/stanza-ru/resolve/v1.6.0/models/default.zip:   0%|          | 0…"
            ],
            "application/vnd.jupyter.widget-view+json": {
              "version_major": 2,
              "version_minor": 0,
              "model_id": "6a32265f6ef24c63981a9545f2469553"
            }
          },
          "metadata": {}
        },
        {
          "output_type": "stream",
          "name": "stderr",
          "text": [
            "INFO:stanza:Finished downloading models and saved to /root/stanza_resources.\n",
            "INFO:stanza:Checking for updates to resources.json in case models have been updated.  Note: this behavior can be turned off with download_method=None or download_method=DownloadMethod.REUSE_RESOURCES\n"
          ]
        },
        {
          "output_type": "display_data",
          "data": {
            "text/plain": [
              "Downloading https://raw.githubusercontent.com/stanfordnlp/stanza-resources/main/resources_1.6.0.json:   0%|   …"
            ],
            "application/vnd.jupyter.widget-view+json": {
              "version_major": 2,
              "version_minor": 0,
              "model_id": "fcbcfbc864224eb0b73a0aa46f9f5664"
            }
          },
          "metadata": {}
        },
        {
          "output_type": "stream",
          "name": "stderr",
          "text": [
            "INFO:stanza:Loading these models for language: ru (Russian):\n",
            "=========================\n",
            "| Processor | Package   |\n",
            "-------------------------\n",
            "| tokenize  | syntagrus |\n",
            "| ner       | wikiner   |\n",
            "=========================\n",
            "\n",
            "INFO:stanza:Using device: cpu\n",
            "INFO:stanza:Loading: tokenize\n",
            "INFO:stanza:Loading: ner\n",
            "INFO:stanza:Done loading processors!\n"
          ]
        }
      ]
    },
    {
      "cell_type": "code",
      "source": [
        "print(*[f'entity: {ent.text}\\ttype: {ent.type}' for sent in doc.sentences for ent in sent.ents], sep = '\\n')"
      ],
      "metadata": {
        "colab": {
          "base_uri": "https://localhost:8080/"
        },
        "id": "RBh5hmDsPH_F",
        "outputId": "0832c346-61f1-4286-d86d-b3437e614b07"
      },
      "execution_count": null,
      "outputs": [
        {
          "output_type": "stream",
          "name": "stdout",
          "text": [
            "entity: Киллиан Мёрфи\ttype: PER\n",
            "entity: Rock the Voteruen\ttype: ORG\n",
            "entity: Focus Ireland\ttype: ORG\n",
            "entity: Исследовательского центра ЮНЕСКО\ttype: ORG\n",
            "entity: Ирландском национальном университете в Голуэе\ttype: LOC\n",
            "entity: Пэта Долана\ttype: PER\n",
            "entity: UCFRC\ttype: ORG\n",
            "entity: ЮНЕСКО\ttype: ORG\n",
            "entity: Vita Cortexruen\ttype: ORG\n",
            "entity: Высшей Школе Экономики\ttype: ORG\n",
            "entity: Александр Сергеевич Пушкин\ttype: PER\n"
          ]
        }
      ]
    },
    {
      "cell_type": "markdown",
      "source": [
        "### Ещё один распознаватель ИС\n",
        "\n",
        "SpaCy - ещё одна библиотека для обработки естественных языков. [Здесь](https://spacy.io/usage) можно найти подробную информацию, в том числе посмотреть, какие языки поддерживает эта библиотека.\n",
        "\n",
        "Посмотрим вначале на то, как она справляется с английским языком."
      ],
      "metadata": {
        "id": "C5ycVe9ATV1D"
      }
    },
    {
      "cell_type": "code",
      "source": [
        "!pip install -U pip setuptools wheel\n",
        "!pip install -U spacy\n",
        "!python -m spacy download en_core_web_sm"
      ],
      "metadata": {
        "colab": {
          "base_uri": "https://localhost:8080/",
          "height": 1000
        },
        "id": "n4Mz83gXTwWL",
        "outputId": "eacb67aa-9119-49b5-fd1e-13ea0ee4f3cb"
      },
      "execution_count": null,
      "outputs": [
        {
          "output_type": "stream",
          "name": "stdout",
          "text": [
            "Requirement already satisfied: pip in /usr/local/lib/python3.10/dist-packages (23.1.2)\n",
            "Collecting pip\n",
            "  Downloading pip-23.2.1-py3-none-any.whl (2.1 MB)\n",
            "\u001b[2K     \u001b[90m━━━━━━━━━━━━━━━━━━━━━━━━━━━━━━━━━━━━━━━━\u001b[0m \u001b[32m2.1/2.1 MB\u001b[0m \u001b[31m21.5 MB/s\u001b[0m eta \u001b[36m0:00:00\u001b[0m\n",
            "\u001b[?25hRequirement already satisfied: setuptools in /usr/local/lib/python3.10/dist-packages (67.7.2)\n",
            "Collecting setuptools\n",
            "  Downloading setuptools-68.2.2-py3-none-any.whl (807 kB)\n",
            "\u001b[2K     \u001b[90m━━━━━━━━━━━━━━━━━━━━━━━━━━━━━━━━━━━━━━\u001b[0m \u001b[32m807.9/807.9 kB\u001b[0m \u001b[31m54.2 MB/s\u001b[0m eta \u001b[36m0:00:00\u001b[0m\n",
            "\u001b[?25hRequirement already satisfied: wheel in /usr/local/lib/python3.10/dist-packages (0.41.2)\n",
            "Installing collected packages: setuptools, pip\n",
            "  Attempting uninstall: setuptools\n",
            "    Found existing installation: setuptools 67.7.2\n",
            "    Uninstalling setuptools-67.7.2:\n",
            "      Successfully uninstalled setuptools-67.7.2\n",
            "  Attempting uninstall: pip\n",
            "    Found existing installation: pip 23.1.2\n",
            "    Uninstalling pip-23.1.2:\n",
            "      Successfully uninstalled pip-23.1.2\n",
            "\u001b[31mERROR: pip's dependency resolver does not currently take into account all the packages that are installed. This behaviour is the source of the following dependency conflicts.\n",
            "ipython 7.34.0 requires jedi>=0.16, which is not installed.\u001b[0m\u001b[31m\n",
            "\u001b[0mSuccessfully installed pip-23.2.1 setuptools-68.2.2\n"
          ]
        },
        {
          "output_type": "display_data",
          "data": {
            "application/vnd.colab-display-data+json": {
              "pip_warning": {
                "packages": [
                  "_distutils_hack",
                  "pkg_resources",
                  "setuptools"
                ]
              }
            }
          },
          "metadata": {}
        },
        {
          "output_type": "stream",
          "name": "stdout",
          "text": [
            "Requirement already satisfied: spacy in /usr/local/lib/python3.10/dist-packages (3.6.1)\n",
            "Collecting spacy\n",
            "  Obtaining dependency information for spacy from https://files.pythonhosted.org/packages/fa/7c/8518799f3fc85e4c2538c0b4fc2306de90696f00c1a8286c943f9414292a/spacy-3.7.1-cp310-cp310-manylinux_2_17_x86_64.manylinux2014_x86_64.whl.metadata\n",
            "  Downloading spacy-3.7.1-cp310-cp310-manylinux_2_17_x86_64.manylinux2014_x86_64.whl.metadata (25 kB)\n",
            "Requirement already satisfied: spacy-legacy<3.1.0,>=3.0.11 in /usr/local/lib/python3.10/dist-packages (from spacy) (3.0.12)\n",
            "Requirement already satisfied: spacy-loggers<2.0.0,>=1.0.0 in /usr/local/lib/python3.10/dist-packages (from spacy) (1.0.5)\n",
            "Requirement already satisfied: murmurhash<1.1.0,>=0.28.0 in /usr/local/lib/python3.10/dist-packages (from spacy) (1.0.10)\n",
            "Requirement already satisfied: cymem<2.1.0,>=2.0.2 in /usr/local/lib/python3.10/dist-packages (from spacy) (2.0.8)\n",
            "Requirement already satisfied: preshed<3.1.0,>=3.0.2 in /usr/local/lib/python3.10/dist-packages (from spacy) (3.0.9)\n",
            "Requirement already satisfied: thinc<8.3.0,>=8.1.8 in /usr/local/lib/python3.10/dist-packages (from spacy) (8.1.12)\n",
            "Requirement already satisfied: wasabi<1.2.0,>=0.9.1 in /usr/local/lib/python3.10/dist-packages (from spacy) (1.1.2)\n",
            "Requirement already satisfied: srsly<3.0.0,>=2.4.3 in /usr/local/lib/python3.10/dist-packages (from spacy) (2.4.8)\n",
            "Requirement already satisfied: catalogue<2.1.0,>=2.0.6 in /usr/local/lib/python3.10/dist-packages (from spacy) (2.0.10)\n",
            "Collecting weasel<0.4.0,>=0.1.0 (from spacy)\n",
            "  Obtaining dependency information for weasel<0.4.0,>=0.1.0 from https://files.pythonhosted.org/packages/de/f5/6786a5fd1ab6a38511f3772c9002f312a2d509c1237ae514631adf145ad4/weasel-0.3.2-py3-none-any.whl.metadata\n",
            "  Downloading weasel-0.3.2-py3-none-any.whl.metadata (4.7 kB)\n",
            "Requirement already satisfied: typer<0.10.0,>=0.3.0 in /usr/local/lib/python3.10/dist-packages (from spacy) (0.9.0)\n",
            "Requirement already satisfied: pathy>=0.10.0 in /usr/local/lib/python3.10/dist-packages (from spacy) (0.10.2)\n",
            "Requirement already satisfied: smart-open<7.0.0,>=5.2.1 in /usr/local/lib/python3.10/dist-packages (from spacy) (6.4.0)\n",
            "Requirement already satisfied: tqdm<5.0.0,>=4.38.0 in /usr/local/lib/python3.10/dist-packages (from spacy) (4.66.1)\n",
            "Requirement already satisfied: requests<3.0.0,>=2.13.0 in /usr/local/lib/python3.10/dist-packages (from spacy) (2.31.0)\n",
            "Requirement already satisfied: pydantic!=1.8,!=1.8.1,<3.0.0,>=1.7.4 in /usr/local/lib/python3.10/dist-packages (from spacy) (1.10.13)\n",
            "Requirement already satisfied: jinja2 in /usr/local/lib/python3.10/dist-packages (from spacy) (3.1.2)\n",
            "Requirement already satisfied: setuptools in /usr/local/lib/python3.10/dist-packages (from spacy) (68.2.2)\n",
            "Requirement already satisfied: packaging>=20.0 in /usr/local/lib/python3.10/dist-packages (from spacy) (23.2)\n",
            "Requirement already satisfied: langcodes<4.0.0,>=3.2.0 in /usr/local/lib/python3.10/dist-packages (from spacy) (3.3.0)\n",
            "Requirement already satisfied: numpy>=1.19.0 in /usr/local/lib/python3.10/dist-packages (from spacy) (1.23.5)\n",
            "Requirement already satisfied: typing-extensions>=4.2.0 in /usr/local/lib/python3.10/dist-packages (from pydantic!=1.8,!=1.8.1,<3.0.0,>=1.7.4->spacy) (4.5.0)\n",
            "Requirement already satisfied: charset-normalizer<4,>=2 in /usr/local/lib/python3.10/dist-packages (from requests<3.0.0,>=2.13.0->spacy) (3.3.0)\n",
            "Requirement already satisfied: idna<4,>=2.5 in /usr/local/lib/python3.10/dist-packages (from requests<3.0.0,>=2.13.0->spacy) (3.4)\n",
            "Requirement already satisfied: urllib3<3,>=1.21.1 in /usr/local/lib/python3.10/dist-packages (from requests<3.0.0,>=2.13.0->spacy) (2.0.6)\n",
            "Requirement already satisfied: certifi>=2017.4.17 in /usr/local/lib/python3.10/dist-packages (from requests<3.0.0,>=2.13.0->spacy) (2023.7.22)\n",
            "Requirement already satisfied: blis<0.8.0,>=0.7.8 in /usr/local/lib/python3.10/dist-packages (from thinc<8.3.0,>=8.1.8->spacy) (0.7.11)\n",
            "Requirement already satisfied: confection<1.0.0,>=0.0.1 in /usr/local/lib/python3.10/dist-packages (from thinc<8.3.0,>=8.1.8->spacy) (0.1.3)\n",
            "Requirement already satisfied: click<9.0.0,>=7.1.1 in /usr/local/lib/python3.10/dist-packages (from typer<0.10.0,>=0.3.0->spacy) (8.1.7)\n",
            "Collecting cloudpathlib<0.16.0,>=0.7.0 (from weasel<0.4.0,>=0.1.0->spacy)\n",
            "  Obtaining dependency information for cloudpathlib<0.16.0,>=0.7.0 from https://files.pythonhosted.org/packages/97/a2/e9a5bd762cccefc92a98c87354a65a8b75c280ab187a05e6d5851adbdae6/cloudpathlib-0.15.1-py3-none-any.whl.metadata\n",
            "  Downloading cloudpathlib-0.15.1-py3-none-any.whl.metadata (13 kB)\n",
            "Requirement already satisfied: MarkupSafe>=2.0 in /usr/local/lib/python3.10/dist-packages (from jinja2->spacy) (2.1.3)\n",
            "Downloading spacy-3.7.1-cp310-cp310-manylinux_2_17_x86_64.manylinux2014_x86_64.whl (6.6 MB)\n",
            "\u001b[2K   \u001b[90m━━━━━━━━━━━━━━━━━━━━━━━━━━━━━━━━━━━━━━━━\u001b[0m \u001b[32m6.6/6.6 MB\u001b[0m \u001b[31m52.6 MB/s\u001b[0m eta \u001b[36m0:00:00\u001b[0m\n",
            "\u001b[?25hDownloading weasel-0.3.2-py3-none-any.whl (50 kB)\n",
            "\u001b[2K   \u001b[90m━━━━━━━━━━━━━━━━━━━━━━━━━━━━━━━━━━━━━━━━\u001b[0m \u001b[32m50.0/50.0 kB\u001b[0m \u001b[31m6.1 MB/s\u001b[0m eta \u001b[36m0:00:00\u001b[0m\n",
            "\u001b[?25hDownloading cloudpathlib-0.15.1-py3-none-any.whl (43 kB)\n",
            "\u001b[2K   \u001b[90m━━━━━━━━━━━━━━━━━━━━━━━━━━━━━━━━━━━━━━━━\u001b[0m \u001b[32m43.9/43.9 kB\u001b[0m \u001b[31m5.3 MB/s\u001b[0m eta \u001b[36m0:00:00\u001b[0m\n",
            "\u001b[?25hInstalling collected packages: cloudpathlib, weasel, spacy\n",
            "  Attempting uninstall: spacy\n",
            "    Found existing installation: spacy 3.6.1\n",
            "    Uninstalling spacy-3.6.1:\n",
            "      Successfully uninstalled spacy-3.6.1\n",
            "\u001b[31mERROR: pip's dependency resolver does not currently take into account all the packages that are installed. This behaviour is the source of the following dependency conflicts.\n",
            "en-core-web-sm 3.6.0 requires spacy<3.7.0,>=3.6.0, but you have spacy 3.7.1 which is incompatible.\u001b[0m\u001b[31m\n",
            "\u001b[0mSuccessfully installed cloudpathlib-0.15.1 spacy-3.7.1 weasel-0.3.2\n",
            "\u001b[33mWARNING: Running pip as the 'root' user can result in broken permissions and conflicting behaviour with the system package manager. It is recommended to use a virtual environment instead: https://pip.pypa.io/warnings/venv\u001b[0m\u001b[33m\n",
            "\u001b[0m2023-10-09 14:25:59.816577: I tensorflow/core/platform/cpu_feature_guard.cc:182] This TensorFlow binary is optimized to use available CPU instructions in performance-critical operations.\n",
            "To enable the following instructions: AVX2 FMA, in other operations, rebuild TensorFlow with the appropriate compiler flags.\n",
            "2023-10-09 14:26:01.080886: W tensorflow/compiler/tf2tensorrt/utils/py_utils.cc:38] TF-TRT Warning: Could not find TensorRT\n",
            "Collecting en-core-web-sm==3.7.0\n",
            "  Downloading https://github.com/explosion/spacy-models/releases/download/en_core_web_sm-3.7.0/en_core_web_sm-3.7.0-py3-none-any.whl (12.8 MB)\n",
            "\u001b[2K     \u001b[90m━━━━━━━━━━━━━━━━━━━━━━━━━━━━━━━━━━━━━━━━\u001b[0m \u001b[32m12.8/12.8 MB\u001b[0m \u001b[31m22.6 MB/s\u001b[0m eta \u001b[36m0:00:00\u001b[0m\n",
            "\u001b[?25hRequirement already satisfied: spacy<3.8.0,>=3.7.0 in /usr/local/lib/python3.10/dist-packages (from en-core-web-sm==3.7.0) (3.7.1)\n",
            "Requirement already satisfied: spacy-legacy<3.1.0,>=3.0.11 in /usr/local/lib/python3.10/dist-packages (from spacy<3.8.0,>=3.7.0->en-core-web-sm==3.7.0) (3.0.12)\n",
            "Requirement already satisfied: spacy-loggers<2.0.0,>=1.0.0 in /usr/local/lib/python3.10/dist-packages (from spacy<3.8.0,>=3.7.0->en-core-web-sm==3.7.0) (1.0.5)\n",
            "Requirement already satisfied: murmurhash<1.1.0,>=0.28.0 in /usr/local/lib/python3.10/dist-packages (from spacy<3.8.0,>=3.7.0->en-core-web-sm==3.7.0) (1.0.10)\n",
            "Requirement already satisfied: cymem<2.1.0,>=2.0.2 in /usr/local/lib/python3.10/dist-packages (from spacy<3.8.0,>=3.7.0->en-core-web-sm==3.7.0) (2.0.8)\n",
            "Requirement already satisfied: preshed<3.1.0,>=3.0.2 in /usr/local/lib/python3.10/dist-packages (from spacy<3.8.0,>=3.7.0->en-core-web-sm==3.7.0) (3.0.9)\n",
            "Requirement already satisfied: thinc<8.3.0,>=8.1.8 in /usr/local/lib/python3.10/dist-packages (from spacy<3.8.0,>=3.7.0->en-core-web-sm==3.7.0) (8.1.12)\n",
            "Requirement already satisfied: wasabi<1.2.0,>=0.9.1 in /usr/local/lib/python3.10/dist-packages (from spacy<3.8.0,>=3.7.0->en-core-web-sm==3.7.0) (1.1.2)\n",
            "Requirement already satisfied: srsly<3.0.0,>=2.4.3 in /usr/local/lib/python3.10/dist-packages (from spacy<3.8.0,>=3.7.0->en-core-web-sm==3.7.0) (2.4.8)\n",
            "Requirement already satisfied: catalogue<2.1.0,>=2.0.6 in /usr/local/lib/python3.10/dist-packages (from spacy<3.8.0,>=3.7.0->en-core-web-sm==3.7.0) (2.0.10)\n",
            "Requirement already satisfied: weasel<0.4.0,>=0.1.0 in /usr/local/lib/python3.10/dist-packages (from spacy<3.8.0,>=3.7.0->en-core-web-sm==3.7.0) (0.3.2)\n",
            "Requirement already satisfied: typer<0.10.0,>=0.3.0 in /usr/local/lib/python3.10/dist-packages (from spacy<3.8.0,>=3.7.0->en-core-web-sm==3.7.0) (0.9.0)\n",
            "Requirement already satisfied: pathy>=0.10.0 in /usr/local/lib/python3.10/dist-packages (from spacy<3.8.0,>=3.7.0->en-core-web-sm==3.7.0) (0.10.2)\n",
            "Requirement already satisfied: smart-open<7.0.0,>=5.2.1 in /usr/local/lib/python3.10/dist-packages (from spacy<3.8.0,>=3.7.0->en-core-web-sm==3.7.0) (6.4.0)\n",
            "Requirement already satisfied: tqdm<5.0.0,>=4.38.0 in /usr/local/lib/python3.10/dist-packages (from spacy<3.8.0,>=3.7.0->en-core-web-sm==3.7.0) (4.66.1)\n",
            "Requirement already satisfied: requests<3.0.0,>=2.13.0 in /usr/local/lib/python3.10/dist-packages (from spacy<3.8.0,>=3.7.0->en-core-web-sm==3.7.0) (2.31.0)\n",
            "Requirement already satisfied: pydantic!=1.8,!=1.8.1,<3.0.0,>=1.7.4 in /usr/local/lib/python3.10/dist-packages (from spacy<3.8.0,>=3.7.0->en-core-web-sm==3.7.0) (1.10.13)\n",
            "Requirement already satisfied: jinja2 in /usr/local/lib/python3.10/dist-packages (from spacy<3.8.0,>=3.7.0->en-core-web-sm==3.7.0) (3.1.2)\n",
            "Requirement already satisfied: setuptools in /usr/local/lib/python3.10/dist-packages (from spacy<3.8.0,>=3.7.0->en-core-web-sm==3.7.0) (68.2.2)\n",
            "Requirement already satisfied: packaging>=20.0 in /usr/local/lib/python3.10/dist-packages (from spacy<3.8.0,>=3.7.0->en-core-web-sm==3.7.0) (23.2)\n",
            "Requirement already satisfied: langcodes<4.0.0,>=3.2.0 in /usr/local/lib/python3.10/dist-packages (from spacy<3.8.0,>=3.7.0->en-core-web-sm==3.7.0) (3.3.0)\n",
            "Requirement already satisfied: numpy>=1.19.0 in /usr/local/lib/python3.10/dist-packages (from spacy<3.8.0,>=3.7.0->en-core-web-sm==3.7.0) (1.23.5)\n",
            "Requirement already satisfied: typing-extensions>=4.2.0 in /usr/local/lib/python3.10/dist-packages (from pydantic!=1.8,!=1.8.1,<3.0.0,>=1.7.4->spacy<3.8.0,>=3.7.0->en-core-web-sm==3.7.0) (4.5.0)\n",
            "Requirement already satisfied: charset-normalizer<4,>=2 in /usr/local/lib/python3.10/dist-packages (from requests<3.0.0,>=2.13.0->spacy<3.8.0,>=3.7.0->en-core-web-sm==3.7.0) (3.3.0)\n",
            "Requirement already satisfied: idna<4,>=2.5 in /usr/local/lib/python3.10/dist-packages (from requests<3.0.0,>=2.13.0->spacy<3.8.0,>=3.7.0->en-core-web-sm==3.7.0) (3.4)\n",
            "Requirement already satisfied: urllib3<3,>=1.21.1 in /usr/local/lib/python3.10/dist-packages (from requests<3.0.0,>=2.13.0->spacy<3.8.0,>=3.7.0->en-core-web-sm==3.7.0) (2.0.6)\n",
            "Requirement already satisfied: certifi>=2017.4.17 in /usr/local/lib/python3.10/dist-packages (from requests<3.0.0,>=2.13.0->spacy<3.8.0,>=3.7.0->en-core-web-sm==3.7.0) (2023.7.22)\n",
            "Requirement already satisfied: blis<0.8.0,>=0.7.8 in /usr/local/lib/python3.10/dist-packages (from thinc<8.3.0,>=8.1.8->spacy<3.8.0,>=3.7.0->en-core-web-sm==3.7.0) (0.7.11)\n",
            "Requirement already satisfied: confection<1.0.0,>=0.0.1 in /usr/local/lib/python3.10/dist-packages (from thinc<8.3.0,>=8.1.8->spacy<3.8.0,>=3.7.0->en-core-web-sm==3.7.0) (0.1.3)\n",
            "Requirement already satisfied: click<9.0.0,>=7.1.1 in /usr/local/lib/python3.10/dist-packages (from typer<0.10.0,>=0.3.0->spacy<3.8.0,>=3.7.0->en-core-web-sm==3.7.0) (8.1.7)\n",
            "Requirement already satisfied: cloudpathlib<0.16.0,>=0.7.0 in /usr/local/lib/python3.10/dist-packages (from weasel<0.4.0,>=0.1.0->spacy<3.8.0,>=3.7.0->en-core-web-sm==3.7.0) (0.15.1)\n",
            "Requirement already satisfied: MarkupSafe>=2.0 in /usr/local/lib/python3.10/dist-packages (from jinja2->spacy<3.8.0,>=3.7.0->en-core-web-sm==3.7.0) (2.1.3)\n",
            "Installing collected packages: en-core-web-sm\n",
            "  Attempting uninstall: en-core-web-sm\n",
            "    Found existing installation: en-core-web-sm 3.6.0\n",
            "    Uninstalling en-core-web-sm-3.6.0:\n",
            "      Successfully uninstalled en-core-web-sm-3.6.0\n",
            "Successfully installed en-core-web-sm-3.7.0\n",
            "\u001b[33mWARNING: Running pip as the 'root' user can result in broken permissions and conflicting behaviour with the system package manager. It is recommended to use a virtual environment instead: https://pip.pypa.io/warnings/venv\u001b[0m\u001b[33m\n",
            "\u001b[0m\u001b[38;5;2m✔ Download and installation successful\u001b[0m\n",
            "You can now load the package via spacy.load('en_core_web_sm')\n"
          ]
        }
      ]
    },
    {
      "cell_type": "code",
      "source": [
        "import spacy\n",
        "nlp = spacy.load(\"en_core_web_sm\")"
      ],
      "metadata": {
        "id": "oR1utFIxT3qk"
      },
      "execution_count": null,
      "outputs": []
    },
    {
      "cell_type": "code",
      "source": [
        "doc = nlp(eng_text)\n",
        "\n",
        "for ent in doc.ents:\n",
        "    print(ent.text, ent.start_char, ent.end_char, ent.label_)"
      ],
      "metadata": {
        "colab": {
          "base_uri": "https://localhost:8080/"
        },
        "id": "pd4OoOvmUAIA",
        "outputId": "16e5a1f7-d161-4976-82a8-fa8604282430"
      },
      "execution_count": null,
      "outputs": [
        {
          "output_type": "stream",
          "name": "stdout",
          "text": [
            "Cillian Murphy 0 14 PERSON\n",
            "Rock the 40 48 EVENT\n",
            "Vote Ireland 49 61 GPE\n",
            "Focus Ireland 190 203 GPE\n",
            "2011 208 212 DATE\n",
            "the National University of Ireland Galway 283 324 ORG\n",
            "Pat Dolan 378 387 PERSON\n",
            "UCFRC 397 402 PERSON\n",
            "UNESCO Chair 407 419 ORG\n",
            "Children 423 431 GPE\n",
            "February 2012 464 477 DATE\n",
            "Vita Cortex 523 534 ORG\n",
            "Murphy 669 675 PERSON\n",
            "2018 699 703 DATE\n",
            "Irish 704 709 NORP\n",
            "eighth 735 741 ORDINAL\n"
          ]
        }
      ]
    },
    {
      "cell_type": "markdown",
      "source": [
        "Мы можем вручную задать новые теги и соотнести определенные именованные сущности с ними."
      ],
      "metadata": {
        "id": "gkSusLypUk-Z"
      }
    },
    {
      "cell_type": "code",
      "source": [
        "from spacy.tokens import Span\n",
        "\n",
        "ents = [(e.text, e.start_char, e.end_char, e.label_) for e in doc.ents]\n",
        "print('До:', ents)\n",
        "\n",
        "rvi_ent = Span(doc, 16, 19, label = \"ELECT\") # создаем новый спан для слов 16-18\n",
        "doc.ents = list(doc.ents) + [rvi_ent]\n",
        "\n",
        "ents = [(e.text, e.start_char, e.end_char, e.label_) for e in doc.ents]\n",
        "print('После:', ents)"
      ],
      "metadata": {
        "colab": {
          "base_uri": "https://localhost:8080/"
        },
        "id": "bMk8wC9RUkhG",
        "outputId": "a23625d0-7aff-4728-8330-418fffd28128"
      },
      "execution_count": null,
      "outputs": [
        {
          "output_type": "stream",
          "name": "stdout",
          "text": [
            "До: [('Cillian Murphy', 0, 14, 'PERSON'), ('Rock the', 40, 48, 'EVENT'), ('Vote Ireland', 49, 61, 'GPE'), ('Focus Ireland', 190, 203, 'GPE'), ('2011', 208, 212, 'DATE'), ('the National University of Ireland Galway', 283, 324, 'ORG'), ('Pat Dolan', 378, 387, 'PERSON'), ('UCFRC', 397, 402, 'PERSON'), ('UNESCO Chair', 407, 419, 'ORG'), ('Children', 423, 431, 'GPE'), ('February 2012', 464, 477, 'DATE'), ('Vita Cortex', 523, 534, 'ORG'), ('Murphy', 669, 675, 'PERSON'), ('2018', 699, 703, 'DATE'), ('Irish', 704, 709, 'NORP'), ('eighth', 735, 741, 'ORDINAL')]\n",
            "После: [('Cillian Murphy', 0, 14, 'PERSON'), ('Rock the', 40, 48, 'EVENT'), ('Vote Ireland', 49, 61, 'GPE'), ('the general election', 99, 119, 'ELECT'), ('Focus Ireland', 190, 203, 'GPE'), ('2011', 208, 212, 'DATE'), ('the National University of Ireland Galway', 283, 324, 'ORG'), ('Pat Dolan', 378, 387, 'PERSON'), ('UCFRC', 397, 402, 'PERSON'), ('UNESCO Chair', 407, 419, 'ORG'), ('Children', 423, 431, 'GPE'), ('February 2012', 464, 477, 'DATE'), ('Vita Cortex', 523, 534, 'ORG'), ('Murphy', 669, 675, 'PERSON'), ('2018', 699, 703, 'DATE'), ('Irish', 704, 709, 'NORP'), ('eighth', 735, 741, 'ORDINAL')]\n"
          ]
        }
      ]
    },
    {
      "cell_type": "markdown",
      "source": [
        "Можем красиво отобразить!"
      ],
      "metadata": {
        "id": "oVCvVWe9Y0jv"
      }
    },
    {
      "cell_type": "code",
      "source": [
        "from spacy import displacy"
      ],
      "metadata": {
        "id": "KWvjYx95YxOL"
      },
      "execution_count": null,
      "outputs": []
    },
    {
      "cell_type": "code",
      "source": [
        "displacy.render(doc,style = \"ent\",jupyter = True)"
      ],
      "metadata": {
        "colab": {
          "base_uri": "https://localhost:8080/",
          "height": 192
        },
        "id": "n6j8Gp_SY4sL",
        "outputId": "aecf8072-0c34-401b-b65c-b72f86e3733d"
      },
      "execution_count": null,
      "outputs": [
        {
          "output_type": "display_data",
          "data": {
            "text/plain": [
              "<IPython.core.display.HTML object>"
            ],
            "text/html": [
              "<span class=\"tex2jax_ignore\"><div class=\"entities\" style=\"line-height: 2.5; direction: ltr\">\n",
              "<mark class=\"entity\" style=\"background: #aa9cfc; padding: 0.45em 0.6em; margin: 0 0.25em; line-height: 1; border-radius: 0.35em;\">\n",
              "    Cillian Murphy\n",
              "    <span style=\"font-size: 0.8em; font-weight: bold; line-height: 1; border-radius: 0.35em; vertical-align: middle; margin-left: 0.5rem\">PERSON</span>\n",
              "</mark>\n",
              " participated in the 2007 \n",
              "<mark class=\"entity\" style=\"background: #ffeb80; padding: 0.45em 0.6em; margin: 0 0.25em; line-height: 1; border-radius: 0.35em;\">\n",
              "    Rock the\n",
              "    <span style=\"font-size: 0.8em; font-weight: bold; line-height: 1; border-radius: 0.35em; vertical-align: middle; margin-left: 0.5rem\">EVENT</span>\n",
              "</mark>\n",
              " \n",
              "<mark class=\"entity\" style=\"background: #feca74; padding: 0.45em 0.6em; margin: 0 0.25em; line-height: 1; border-radius: 0.35em;\">\n",
              "    Vote Ireland\n",
              "    <span style=\"font-size: 0.8em; font-weight: bold; line-height: 1; border-radius: 0.35em; vertical-align: middle; margin-left: 0.5rem\">GPE</span>\n",
              "</mark>\n",
              " campaign, targeting young voters for \n",
              "<mark class=\"entity\" style=\"background: #ddd; padding: 0.45em 0.6em; margin: 0 0.25em; line-height: 1; border-radius: 0.35em;\">\n",
              "    the general election\n",
              "    <span style=\"font-size: 0.8em; font-weight: bold; line-height: 1; border-radius: 0.35em; vertical-align: middle; margin-left: 0.5rem\">ELECT</span>\n",
              "</mark>\n",
              ", and campaigning for the rights of the homeless with the organisation \n",
              "<mark class=\"entity\" style=\"background: #feca74; padding: 0.45em 0.6em; margin: 0 0.25em; line-height: 1; border-radius: 0.35em;\">\n",
              "    Focus Ireland\n",
              "    <span style=\"font-size: 0.8em; font-weight: bold; line-height: 1; border-radius: 0.35em; vertical-align: middle; margin-left: 0.5rem\">GPE</span>\n",
              "</mark>\n",
              ". In \n",
              "<mark class=\"entity\" style=\"background: #bfe1d9; padding: 0.45em 0.6em; margin: 0 0.25em; line-height: 1; border-radius: 0.35em;\">\n",
              "    2011\n",
              "    <span style=\"font-size: 0.8em; font-weight: bold; line-height: 1; border-radius: 0.35em; vertical-align: middle; margin-left: 0.5rem\">DATE</span>\n",
              "</mark>\n",
              ", he became a patron of the UNESCO Child and Family Research Centre at \n",
              "<mark class=\"entity\" style=\"background: #7aecec; padding: 0.45em 0.6em; margin: 0 0.25em; line-height: 1; border-radius: 0.35em;\">\n",
              "    the National University of Ireland Galway\n",
              "    <span style=\"font-size: 0.8em; font-weight: bold; line-height: 1; border-radius: 0.35em; vertical-align: middle; margin-left: 0.5rem\">ORG</span>\n",
              "</mark>\n",
              ". He is closely associated with the work of Professor \n",
              "<mark class=\"entity\" style=\"background: #aa9cfc; padding: 0.45em 0.6em; margin: 0 0.25em; line-height: 1; border-radius: 0.35em;\">\n",
              "    Pat Dolan\n",
              "    <span style=\"font-size: 0.8em; font-weight: bold; line-height: 1; border-radius: 0.35em; vertical-align: middle; margin-left: 0.5rem\">PERSON</span>\n",
              "</mark>\n",
              " Director \n",
              "<mark class=\"entity\" style=\"background: #aa9cfc; padding: 0.45em 0.6em; margin: 0 0.25em; line-height: 1; border-radius: 0.35em;\">\n",
              "    UCFRC\n",
              "    <span style=\"font-size: 0.8em; font-weight: bold; line-height: 1; border-radius: 0.35em; vertical-align: middle; margin-left: 0.5rem\">PERSON</span>\n",
              "</mark>\n",
              " and \n",
              "<mark class=\"entity\" style=\"background: #7aecec; padding: 0.45em 0.6em; margin: 0 0.25em; line-height: 1; border-radius: 0.35em;\">\n",
              "    UNESCO Chair\n",
              "    <span style=\"font-size: 0.8em; font-weight: bold; line-height: 1; border-radius: 0.35em; vertical-align: middle; margin-left: 0.5rem\">ORG</span>\n",
              "</mark>\n",
              " in \n",
              "<mark class=\"entity\" style=\"background: #feca74; padding: 0.45em 0.6em; margin: 0 0.25em; line-height: 1; border-radius: 0.35em;\">\n",
              "    Children\n",
              "    <span style=\"font-size: 0.8em; font-weight: bold; line-height: 1; border-radius: 0.35em; vertical-align: middle; margin-left: 0.5rem\">GPE</span>\n",
              "</mark>\n",
              ", Youth and Civic Engagement. In \n",
              "<mark class=\"entity\" style=\"background: #bfe1d9; padding: 0.45em 0.6em; margin: 0 0.25em; line-height: 1; border-radius: 0.35em;\">\n",
              "    February 2012\n",
              "    <span style=\"font-size: 0.8em; font-weight: bold; line-height: 1; border-radius: 0.35em; vertical-align: middle; margin-left: 0.5rem\">DATE</span>\n",
              "</mark>\n",
              ", he wrote a message of support to the former \n",
              "<mark class=\"entity\" style=\"background: #7aecec; padding: 0.45em 0.6em; margin: 0 0.25em; line-height: 1; border-radius: 0.35em;\">\n",
              "    Vita Cortex\n",
              "    <span style=\"font-size: 0.8em; font-weight: bold; line-height: 1; border-radius: 0.35em; vertical-align: middle; margin-left: 0.5rem\">ORG</span>\n",
              "</mark>\n",
              " workers involved in a sit-in at their plant, congratulating them for &quot;highlighting [what] is hugely important to us all as a nation&quot;. \n",
              "<mark class=\"entity\" style=\"background: #aa9cfc; padding: 0.45em 0.6em; margin: 0 0.25em; line-height: 1; border-radius: 0.35em;\">\n",
              "    Murphy\n",
              "    <span style=\"font-size: 0.8em; font-weight: bold; line-height: 1; border-radius: 0.35em; vertical-align: middle; margin-left: 0.5rem\">PERSON</span>\n",
              "</mark>\n",
              " was a supporter of the \n",
              "<mark class=\"entity\" style=\"background: #bfe1d9; padding: 0.45em 0.6em; margin: 0 0.25em; line-height: 1; border-radius: 0.35em;\">\n",
              "    2018\n",
              "    <span style=\"font-size: 0.8em; font-weight: bold; line-height: 1; border-radius: 0.35em; vertical-align: middle; margin-left: 0.5rem\">DATE</span>\n",
              "</mark>\n",
              " \n",
              "<mark class=\"entity\" style=\"background: #c887fb; padding: 0.45em 0.6em; margin: 0 0.25em; line-height: 1; border-radius: 0.35em;\">\n",
              "    Irish\n",
              "    <span style=\"font-size: 0.8em; font-weight: bold; line-height: 1; border-radius: 0.35em; vertical-align: middle; margin-left: 0.5rem\">NORP</span>\n",
              "</mark>\n",
              " referendum to repeal the \n",
              "<mark class=\"entity\" style=\"background: #e4e7d2; padding: 0.45em 0.6em; margin: 0 0.25em; line-height: 1; border-radius: 0.35em;\">\n",
              "    eighth\n",
              "    <span style=\"font-size: 0.8em; font-weight: bold; line-height: 1; border-radius: 0.35em; vertical-align: middle; margin-left: 0.5rem\">ORDINAL</span>\n",
              "</mark>\n",
              " amendment of the constitution that restricted access to abortions.</div></span>"
            ]
          },
          "metadata": {}
        }
      ]
    },
    {
      "cell_type": "markdown",
      "source": [
        "Либо что-то только одно!"
      ],
      "metadata": {
        "id": "F9asnx1AZsil"
      }
    },
    {
      "cell_type": "code",
      "source": [
        "opts = {'ents': ['PERSON']}\n",
        "displacy.render(doc, style = \"ent\", jupyter = True, options = opts)"
      ],
      "metadata": {
        "colab": {
          "base_uri": "https://localhost:8080/",
          "height": 157
        },
        "id": "UydWktarZuw2",
        "outputId": "930ce21a-2271-4a25-dfbc-04bb21d2a05b"
      },
      "execution_count": null,
      "outputs": [
        {
          "output_type": "display_data",
          "data": {
            "text/plain": [
              "<IPython.core.display.HTML object>"
            ],
            "text/html": [
              "<span class=\"tex2jax_ignore\"><div class=\"entities\" style=\"line-height: 2.5; direction: ltr\">\n",
              "<mark class=\"entity\" style=\"background: #aa9cfc; padding: 0.45em 0.6em; margin: 0 0.25em; line-height: 1; border-radius: 0.35em;\">\n",
              "    Cillian Murphy\n",
              "    <span style=\"font-size: 0.8em; font-weight: bold; line-height: 1; border-radius: 0.35em; vertical-align: middle; margin-left: 0.5rem\">PERSON</span>\n",
              "</mark>\n",
              " participated in the 2007 Rock the Vote Ireland campaign, targeting young voters for the general election, and campaigning for the rights of the homeless with the organisation Focus Ireland. In 2011, he became a patron of the UNESCO Child and Family Research Centre at the National University of Ireland Galway. He is closely associated with the work of Professor \n",
              "<mark class=\"entity\" style=\"background: #aa9cfc; padding: 0.45em 0.6em; margin: 0 0.25em; line-height: 1; border-radius: 0.35em;\">\n",
              "    Pat Dolan\n",
              "    <span style=\"font-size: 0.8em; font-weight: bold; line-height: 1; border-radius: 0.35em; vertical-align: middle; margin-left: 0.5rem\">PERSON</span>\n",
              "</mark>\n",
              " Director \n",
              "<mark class=\"entity\" style=\"background: #aa9cfc; padding: 0.45em 0.6em; margin: 0 0.25em; line-height: 1; border-radius: 0.35em;\">\n",
              "    UCFRC\n",
              "    <span style=\"font-size: 0.8em; font-weight: bold; line-height: 1; border-radius: 0.35em; vertical-align: middle; margin-left: 0.5rem\">PERSON</span>\n",
              "</mark>\n",
              " and UNESCO Chair in Children, Youth and Civic Engagement. In February 2012, he wrote a message of support to the former Vita Cortex workers involved in a sit-in at their plant, congratulating them for &quot;highlighting [what] is hugely important to us all as a nation&quot;. \n",
              "<mark class=\"entity\" style=\"background: #aa9cfc; padding: 0.45em 0.6em; margin: 0 0.25em; line-height: 1; border-radius: 0.35em;\">\n",
              "    Murphy\n",
              "    <span style=\"font-size: 0.8em; font-weight: bold; line-height: 1; border-radius: 0.35em; vertical-align: middle; margin-left: 0.5rem\">PERSON</span>\n",
              "</mark>\n",
              " was a supporter of the 2018 Irish referendum to repeal the eighth amendment of the constitution that restricted access to abortions.</div></span>"
            ]
          },
          "metadata": {}
        }
      ]
    },
    {
      "cell_type": "markdown",
      "source": [
        "Ну и все то же самое для русского языка."
      ],
      "metadata": {
        "id": "98z4lpdKaOw-"
      }
    },
    {
      "cell_type": "code",
      "source": [
        "! python -m spacy download ru_core_news_sm"
      ],
      "metadata": {
        "colab": {
          "base_uri": "https://localhost:8080/"
        },
        "id": "WRSUsFR7aOXO",
        "outputId": "6e7d69a7-cd76-4030-d979-f80feffb02f1"
      },
      "execution_count": null,
      "outputs": [
        {
          "output_type": "stream",
          "name": "stdout",
          "text": [
            "2023-10-08 13:10:55.518551: W tensorflow/compiler/tf2tensorrt/utils/py_utils.cc:38] TF-TRT Warning: Could not find TensorRT\n",
            "Collecting ru-core-news-sm==3.7.0\n",
            "  Downloading https://github.com/explosion/spacy-models/releases/download/ru_core_news_sm-3.7.0/ru_core_news_sm-3.7.0-py3-none-any.whl (15.3 MB)\n",
            "\u001b[2K     \u001b[90m━━━━━━━━━━━━━━━━━━━━━━━━━━━━━━━━━━━━━━━━\u001b[0m \u001b[32m15.3/15.3 MB\u001b[0m \u001b[31m26.2 MB/s\u001b[0m eta \u001b[36m0:00:00\u001b[0m\n",
            "\u001b[?25hRequirement already satisfied: spacy<3.8.0,>=3.7.0 in /usr/local/lib/python3.10/dist-packages (from ru-core-news-sm==3.7.0) (3.7.1)\n",
            "Collecting pymorphy3>=1.0.0 (from ru-core-news-sm==3.7.0)\n",
            "  Obtaining dependency information for pymorphy3>=1.0.0 from https://files.pythonhosted.org/packages/d7/f9/ffb9afde503dc6bb2361ea79ceaea18138fbcee32aec4c5d8efa49180753/pymorphy3-1.2.1-py3-none-any.whl.metadata\n",
            "  Downloading pymorphy3-1.2.1-py3-none-any.whl.metadata (1.6 kB)\n",
            "Requirement already satisfied: dawg-python>=0.7.1 in /usr/local/lib/python3.10/dist-packages (from pymorphy3>=1.0.0->ru-core-news-sm==3.7.0) (0.7.2)\n",
            "Collecting docopt-ng>=0.6 (from pymorphy3>=1.0.0->ru-core-news-sm==3.7.0)\n",
            "  Obtaining dependency information for docopt-ng>=0.6 from https://files.pythonhosted.org/packages/6c/4a/c3b77fc1a24510b08918b43a473410c0168f6e657118807015f1f1edceea/docopt_ng-0.9.0-py3-none-any.whl.metadata\n",
            "  Downloading docopt_ng-0.9.0-py3-none-any.whl.metadata (13 kB)\n",
            "Collecting pymorphy3-dicts-ru (from pymorphy3>=1.0.0->ru-core-news-sm==3.7.0)\n",
            "  Downloading pymorphy3_dicts_ru-2.4.417150.4580142-py2.py3-none-any.whl (8.4 MB)\n",
            "\u001b[2K     \u001b[90m━━━━━━━━━━━━━━━━━━━━━━━━━━━━━━━━━━━━━━━━\u001b[0m \u001b[32m8.4/8.4 MB\u001b[0m \u001b[31m13.8 MB/s\u001b[0m eta \u001b[36m0:00:00\u001b[0m\n",
            "\u001b[?25hRequirement already satisfied: spacy-legacy<3.1.0,>=3.0.11 in /usr/local/lib/python3.10/dist-packages (from spacy<3.8.0,>=3.7.0->ru-core-news-sm==3.7.0) (3.0.12)\n",
            "Requirement already satisfied: spacy-loggers<2.0.0,>=1.0.0 in /usr/local/lib/python3.10/dist-packages (from spacy<3.8.0,>=3.7.0->ru-core-news-sm==3.7.0) (1.0.5)\n",
            "Requirement already satisfied: murmurhash<1.1.0,>=0.28.0 in /usr/local/lib/python3.10/dist-packages (from spacy<3.8.0,>=3.7.0->ru-core-news-sm==3.7.0) (1.0.10)\n",
            "Requirement already satisfied: cymem<2.1.0,>=2.0.2 in /usr/local/lib/python3.10/dist-packages (from spacy<3.8.0,>=3.7.0->ru-core-news-sm==3.7.0) (2.0.8)\n",
            "Requirement already satisfied: preshed<3.1.0,>=3.0.2 in /usr/local/lib/python3.10/dist-packages (from spacy<3.8.0,>=3.7.0->ru-core-news-sm==3.7.0) (3.0.9)\n",
            "Requirement already satisfied: thinc<8.3.0,>=8.1.8 in /usr/local/lib/python3.10/dist-packages (from spacy<3.8.0,>=3.7.0->ru-core-news-sm==3.7.0) (8.1.12)\n",
            "Requirement already satisfied: wasabi<1.2.0,>=0.9.1 in /usr/local/lib/python3.10/dist-packages (from spacy<3.8.0,>=3.7.0->ru-core-news-sm==3.7.0) (1.1.2)\n",
            "Requirement already satisfied: srsly<3.0.0,>=2.4.3 in /usr/local/lib/python3.10/dist-packages (from spacy<3.8.0,>=3.7.0->ru-core-news-sm==3.7.0) (2.4.8)\n",
            "Requirement already satisfied: catalogue<2.1.0,>=2.0.6 in /usr/local/lib/python3.10/dist-packages (from spacy<3.8.0,>=3.7.0->ru-core-news-sm==3.7.0) (2.0.10)\n",
            "Requirement already satisfied: weasel<0.4.0,>=0.1.0 in /usr/local/lib/python3.10/dist-packages (from spacy<3.8.0,>=3.7.0->ru-core-news-sm==3.7.0) (0.3.2)\n",
            "Requirement already satisfied: typer<0.10.0,>=0.3.0 in /usr/local/lib/python3.10/dist-packages (from spacy<3.8.0,>=3.7.0->ru-core-news-sm==3.7.0) (0.9.0)\n",
            "Requirement already satisfied: pathy>=0.10.0 in /usr/local/lib/python3.10/dist-packages (from spacy<3.8.0,>=3.7.0->ru-core-news-sm==3.7.0) (0.10.2)\n",
            "Requirement already satisfied: smart-open<7.0.0,>=5.2.1 in /usr/local/lib/python3.10/dist-packages (from spacy<3.8.0,>=3.7.0->ru-core-news-sm==3.7.0) (6.4.0)\n",
            "Requirement already satisfied: tqdm<5.0.0,>=4.38.0 in /usr/local/lib/python3.10/dist-packages (from spacy<3.8.0,>=3.7.0->ru-core-news-sm==3.7.0) (4.66.1)\n",
            "Requirement already satisfied: requests<3.0.0,>=2.13.0 in /usr/local/lib/python3.10/dist-packages (from spacy<3.8.0,>=3.7.0->ru-core-news-sm==3.7.0) (2.31.0)\n",
            "Requirement already satisfied: pydantic!=1.8,!=1.8.1,<3.0.0,>=1.7.4 in /usr/local/lib/python3.10/dist-packages (from spacy<3.8.0,>=3.7.0->ru-core-news-sm==3.7.0) (1.10.13)\n",
            "Requirement already satisfied: jinja2 in /usr/local/lib/python3.10/dist-packages (from spacy<3.8.0,>=3.7.0->ru-core-news-sm==3.7.0) (3.1.2)\n",
            "Requirement already satisfied: setuptools in /usr/local/lib/python3.10/dist-packages (from spacy<3.8.0,>=3.7.0->ru-core-news-sm==3.7.0) (68.2.2)\n",
            "Requirement already satisfied: packaging>=20.0 in /usr/local/lib/python3.10/dist-packages (from spacy<3.8.0,>=3.7.0->ru-core-news-sm==3.7.0) (23.2)\n",
            "Requirement already satisfied: langcodes<4.0.0,>=3.2.0 in /usr/local/lib/python3.10/dist-packages (from spacy<3.8.0,>=3.7.0->ru-core-news-sm==3.7.0) (3.3.0)\n",
            "Requirement already satisfied: numpy>=1.19.0 in /usr/local/lib/python3.10/dist-packages (from spacy<3.8.0,>=3.7.0->ru-core-news-sm==3.7.0) (1.23.5)\n",
            "Requirement already satisfied: typing-extensions>=4.2.0 in /usr/local/lib/python3.10/dist-packages (from pydantic!=1.8,!=1.8.1,<3.0.0,>=1.7.4->spacy<3.8.0,>=3.7.0->ru-core-news-sm==3.7.0) (4.5.0)\n",
            "Requirement already satisfied: charset-normalizer<4,>=2 in /usr/local/lib/python3.10/dist-packages (from requests<3.0.0,>=2.13.0->spacy<3.8.0,>=3.7.0->ru-core-news-sm==3.7.0) (3.3.0)\n",
            "Requirement already satisfied: idna<4,>=2.5 in /usr/local/lib/python3.10/dist-packages (from requests<3.0.0,>=2.13.0->spacy<3.8.0,>=3.7.0->ru-core-news-sm==3.7.0) (3.4)\n",
            "Requirement already satisfied: urllib3<3,>=1.21.1 in /usr/local/lib/python3.10/dist-packages (from requests<3.0.0,>=2.13.0->spacy<3.8.0,>=3.7.0->ru-core-news-sm==3.7.0) (2.0.6)\n",
            "Requirement already satisfied: certifi>=2017.4.17 in /usr/local/lib/python3.10/dist-packages (from requests<3.0.0,>=2.13.0->spacy<3.8.0,>=3.7.0->ru-core-news-sm==3.7.0) (2023.7.22)\n",
            "Requirement already satisfied: blis<0.8.0,>=0.7.8 in /usr/local/lib/python3.10/dist-packages (from thinc<8.3.0,>=8.1.8->spacy<3.8.0,>=3.7.0->ru-core-news-sm==3.7.0) (0.7.11)\n",
            "Requirement already satisfied: confection<1.0.0,>=0.0.1 in /usr/local/lib/python3.10/dist-packages (from thinc<8.3.0,>=8.1.8->spacy<3.8.0,>=3.7.0->ru-core-news-sm==3.7.0) (0.1.3)\n",
            "Requirement already satisfied: click<9.0.0,>=7.1.1 in /usr/local/lib/python3.10/dist-packages (from typer<0.10.0,>=0.3.0->spacy<3.8.0,>=3.7.0->ru-core-news-sm==3.7.0) (8.1.7)\n",
            "Requirement already satisfied: cloudpathlib<0.16.0,>=0.7.0 in /usr/local/lib/python3.10/dist-packages (from weasel<0.4.0,>=0.1.0->spacy<3.8.0,>=3.7.0->ru-core-news-sm==3.7.0) (0.15.1)\n",
            "Requirement already satisfied: MarkupSafe>=2.0 in /usr/local/lib/python3.10/dist-packages (from jinja2->spacy<3.8.0,>=3.7.0->ru-core-news-sm==3.7.0) (2.1.3)\n",
            "Downloading pymorphy3-1.2.1-py3-none-any.whl (55 kB)\n",
            "\u001b[2K   \u001b[90m━━━━━━━━━━━━━━━━━━━━━━━━━━━━━━━━━━━━━━━━\u001b[0m \u001b[32m55.4/55.4 kB\u001b[0m \u001b[31m6.5 MB/s\u001b[0m eta \u001b[36m0:00:00\u001b[0m\n",
            "\u001b[?25hDownloading docopt_ng-0.9.0-py3-none-any.whl (16 kB)\n",
            "Installing collected packages: pymorphy3-dicts-ru, docopt-ng, pymorphy3, ru-core-news-sm\n",
            "Successfully installed docopt-ng-0.9.0 pymorphy3-1.2.1 pymorphy3-dicts-ru-2.4.417150.4580142 ru-core-news-sm-3.7.0\n",
            "\u001b[33mWARNING: Running pip as the 'root' user can result in broken permissions and conflicting behaviour with the system package manager. It is recommended to use a virtual environment instead: https://pip.pypa.io/warnings/venv\u001b[0m\u001b[33m\n",
            "\u001b[0m\u001b[38;5;2m✔ Download and installation successful\u001b[0m\n",
            "You can now load the package via spacy.load('ru_core_news_sm')\n"
          ]
        }
      ]
    },
    {
      "cell_type": "code",
      "source": [
        "nlp = spacy.load(\"ru_core_news_sm\")"
      ],
      "metadata": {
        "id": "aAUDFwEkaW0F"
      },
      "execution_count": null,
      "outputs": []
    },
    {
      "cell_type": "code",
      "source": [
        "doc = nlp(text)\n",
        "\n",
        "for ent in doc.ents:\n",
        "  print(ent.text, ent.start_char, ent.end_char, ent.label_)"
      ],
      "metadata": {
        "colab": {
          "base_uri": "https://localhost:8080/"
        },
        "id": "8Ly0ltMQaZRB",
        "outputId": "4cb0f4d9-a3fc-4697-f7f5-f09c19a58c5e"
      },
      "execution_count": null,
      "outputs": [
        {
          "output_type": "stream",
          "name": "stdout",
          "text": [
            "Киллиан Мёрфи 0 13 PER\n",
            "Rock the Voteruen 48 65 ORG\n",
            "Focus Ireland 181 194 ORG\n",
            "Исследовательского центра 225 250 ORG\n",
            "ЮНЕСКО 251 257 ORG\n",
            "Ирландском национальном университете 289 325 ORG\n",
            "Голуэе 328 334 LOC\n",
            "Пэта Долана 373 384 PER\n",
            "UCFRC 396 401 ORG\n",
            "ЮНЕСКО 412 418 ORG\n",
            "Vita Cortexruen 539 554 ORG\n",
            "Высшей Школе Экономики 633 655 ORG\n",
            "Александр Сергеевич Пушкин 657 683 PER\n"
          ]
        }
      ]
    },
    {
      "cell_type": "code",
      "source": [
        "displacy.render(doc, style = \"ent\", jupyter = True)"
      ],
      "metadata": {
        "colab": {
          "base_uri": "https://localhost:8080/",
          "height": 157
        },
        "id": "SyuKDNjaae2s",
        "outputId": "e194c474-5eda-4968-9277-b84f48500863"
      },
      "execution_count": null,
      "outputs": [
        {
          "output_type": "display_data",
          "data": {
            "text/plain": [
              "<IPython.core.display.HTML object>"
            ],
            "text/html": [
              "<span class=\"tex2jax_ignore\"><div class=\"entities\" style=\"line-height: 2.5; direction: ltr\">\n",
              "<mark class=\"entity\" style=\"background: #ddd; padding: 0.45em 0.6em; margin: 0 0.25em; line-height: 1; border-radius: 0.35em;\">\n",
              "    Киллиан Мёрфи\n",
              "    <span style=\"font-size: 0.8em; font-weight: bold; line-height: 1; border-radius: 0.35em; vertical-align: middle; margin-left: 0.5rem\">PER</span>\n",
              "</mark>\n",
              " участвовал в 2007 году в кампании \n",
              "<mark class=\"entity\" style=\"background: #7aecec; padding: 0.45em 0.6em; margin: 0 0.25em; line-height: 1; border-radius: 0.35em;\">\n",
              "    Rock the Voteruen\n",
              "    <span style=\"font-size: 0.8em; font-weight: bold; line-height: 1; border-radius: 0.35em; vertical-align: middle; margin-left: 0.5rem\">ORG</span>\n",
              "</mark>\n",
              ", ориентированной на молодых избирателей на всеобщих выборах, и проводил кампанию за права бездомных с организацией \n",
              "<mark class=\"entity\" style=\"background: #7aecec; padding: 0.45em 0.6em; margin: 0 0.25em; line-height: 1; border-radius: 0.35em;\">\n",
              "    Focus Ireland\n",
              "    <span style=\"font-size: 0.8em; font-weight: bold; line-height: 1; border-radius: 0.35em; vertical-align: middle; margin-left: 0.5rem\">ORG</span>\n",
              "</mark>\n",
              ". В 2011 году он стал патроном \n",
              "<mark class=\"entity\" style=\"background: #7aecec; padding: 0.45em 0.6em; margin: 0 0.25em; line-height: 1; border-radius: 0.35em;\">\n",
              "    Исследовательского центра\n",
              "    <span style=\"font-size: 0.8em; font-weight: bold; line-height: 1; border-radius: 0.35em; vertical-align: middle; margin-left: 0.5rem\">ORG</span>\n",
              "</mark>\n",
              " \n",
              "<mark class=\"entity\" style=\"background: #7aecec; padding: 0.45em 0.6em; margin: 0 0.25em; line-height: 1; border-radius: 0.35em;\">\n",
              "    ЮНЕСКО\n",
              "    <span style=\"font-size: 0.8em; font-weight: bold; line-height: 1; border-radius: 0.35em; vertical-align: middle; margin-left: 0.5rem\">ORG</span>\n",
              "</mark>\n",
              " по проблемам детей и семьи при \n",
              "<mark class=\"entity\" style=\"background: #7aecec; padding: 0.45em 0.6em; margin: 0 0.25em; line-height: 1; border-radius: 0.35em;\">\n",
              "    Ирландском национальном университете\n",
              "    <span style=\"font-size: 0.8em; font-weight: bold; line-height: 1; border-radius: 0.35em; vertical-align: middle; margin-left: 0.5rem\">ORG</span>\n",
              "</mark>\n",
              " в \n",
              "<mark class=\"entity\" style=\"background: #ff9561; padding: 0.45em 0.6em; margin: 0 0.25em; line-height: 1; border-radius: 0.35em;\">\n",
              "    Голуэе\n",
              "    <span style=\"font-size: 0.8em; font-weight: bold; line-height: 1; border-radius: 0.35em; vertical-align: middle; margin-left: 0.5rem\">LOC</span>\n",
              "</mark>\n",
              ". Он тесно связан с работой профессора \n",
              "<mark class=\"entity\" style=\"background: #ddd; padding: 0.45em 0.6em; margin: 0 0.25em; line-height: 1; border-radius: 0.35em;\">\n",
              "    Пэта Долана\n",
              "    <span style=\"font-size: 0.8em; font-weight: bold; line-height: 1; border-radius: 0.35em; vertical-align: middle; margin-left: 0.5rem\">PER</span>\n",
              "</mark>\n",
              ", директора \n",
              "<mark class=\"entity\" style=\"background: #7aecec; padding: 0.45em 0.6em; margin: 0 0.25em; line-height: 1; border-radius: 0.35em;\">\n",
              "    UCFRC\n",
              "    <span style=\"font-size: 0.8em; font-weight: bold; line-height: 1; border-radius: 0.35em; vertical-align: middle; margin-left: 0.5rem\">ORG</span>\n",
              "</mark>\n",
              " и кафедры \n",
              "<mark class=\"entity\" style=\"background: #7aecec; padding: 0.45em 0.6em; margin: 0 0.25em; line-height: 1; border-radius: 0.35em;\">\n",
              "    ЮНЕСКО\n",
              "    <span style=\"font-size: 0.8em; font-weight: bold; line-height: 1; border-radius: 0.35em; vertical-align: middle; margin-left: 0.5rem\">ORG</span>\n",
              "</mark>\n",
              " по вопросам детей, молодежи и гражданского участия. В феврале 2012 года он написал послание поддержки бывшим работникам \n",
              "<mark class=\"entity\" style=\"background: #7aecec; padding: 0.45em 0.6em; margin: 0 0.25em; line-height: 1; border-radius: 0.35em;\">\n",
              "    Vita Cortexruen\n",
              "    <span style=\"font-size: 0.8em; font-weight: bold; line-height: 1; border-radius: 0.35em; vertical-align: middle; margin-left: 0.5rem\">ORG</span>\n",
              "</mark>\n",
              ", участвовавшим в сидячей забастовке на их заводе. Какое это имеет отношение к \n",
              "<mark class=\"entity\" style=\"background: #7aecec; padding: 0.45em 0.6em; margin: 0 0.25em; line-height: 1; border-radius: 0.35em;\">\n",
              "    Высшей Школе Экономики\n",
              "    <span style=\"font-size: 0.8em; font-weight: bold; line-height: 1; border-radius: 0.35em; vertical-align: middle; margin-left: 0.5rem\">ORG</span>\n",
              "</mark>\n",
              "? \n",
              "<mark class=\"entity\" style=\"background: #ddd; padding: 0.45em 0.6em; margin: 0 0.25em; line-height: 1; border-radius: 0.35em;\">\n",
              "    Александр Сергеевич Пушкин\n",
              "    <span style=\"font-size: 0.8em; font-weight: bold; line-height: 1; border-radius: 0.35em; vertical-align: middle; margin-left: 0.5rem\">PER</span>\n",
              "</mark>\n",
              " не понимает.</div></span>"
            ]
          },
          "metadata": {}
        }
      ]
    },
    {
      "cell_type": "markdown",
      "source": [
        "### Лемматизация и стемминг\n",
        "\n",
        "Стемминг vs лемматизация: что это такое и в чём разница?\n",
        "\n",
        "Это всё способы нормализации.\n",
        "\n",
        "**Лемма** - словарная форма слова. **Лемматизация** учитывает морфологический анализ слов и использует словарь для **нахождения словарной формы** слова:\n",
        "\n",
        "* для существительных — именительный падеж, единственное число;\n",
        "* для прилагательных — именительный падеж, единственное число, мужской род;\n",
        "* для глаголов, причастий, деепричастий — глагол в инфинитиве несовершенного вида.\n",
        "\n",
        "**Стемминг** работает, не учитывая контекст и морфологические характеристики слова, Стемминг позволяет привести слово к его основной форме. Суть подхода **в нахождении основы слова, для этого с конца и начала слова последовательно отрезаются его части**. Правила отсекания для стеммера создаются заранее, и чаще всего представляют из себя регулярные выражения, что делает данный подход трудоемким. Вторым недостатком подхода является возможная потеря информации при отрезании частей, например, мы можем потерять информацию о части речи.\n",
        "\n",
        "Natasha умеет решать задачу лемматизации. Для этого она использует другой морфологический анализатор **Pymorphy2**, с которым мы в полной мере познакомимся чуть попозже.\n",
        "\n",
        "Чтобы посмотреть, как работает **стемминг**, мы посмотрим на SnowballStemmer из встроенной питоновской библиотеки **NLTK**.\n",
        "\n",
        "**Natural Language Toolkit** (набор инструментов для естественной обработки языка) - пакет библиотек и программ для обработки естественного языка (токенизация, стемминг, лемматизация, POS-тэггинг, графическое представление структуры, семантические рассуждения, ...). Подробнее мы с ней тоже познакомимся позже."
      ],
      "metadata": {
        "id": "u8BlYG3_EwbI"
      }
    },
    {
      "cell_type": "code",
      "source": [
        "import nltk\n",
        "from nltk.stem import SnowballStemmer\n",
        "snowball = SnowballStemmer(language = \"russian\")"
      ],
      "metadata": {
        "id": "FLJ6_l4xngp9"
      },
      "execution_count": null,
      "outputs": []
    },
    {
      "cell_type": "code",
      "source": [
        "stems = {}\n",
        "for token in doc.tokens:\n",
        "  stem = snowball.stem(token.text)\n",
        "  stems[token.text] = stem\n",
        "\n",
        "stems"
      ],
      "metadata": {
        "colab": {
          "base_uri": "https://localhost:8080/"
        },
        "id": "jex9j_JunpRw",
        "outputId": "35e25653-e2a2-477f-e5c9-2796ae87122e"
      },
      "execution_count": null,
      "outputs": [
        {
          "output_type": "execute_result",
          "data": {
            "text/plain": [
              "{'Киллиан': 'киллиа',\n",
              " 'Мёрфи': 'мерф',\n",
              " 'участвовал': 'участвова',\n",
              " 'в': 'в',\n",
              " '2007': '2007',\n",
              " 'году': 'год',\n",
              " 'кампании': 'кампан',\n",
              " 'Rock': 'Rock',\n",
              " 'the': 'the',\n",
              " 'Voteruen': 'Voteruen',\n",
              " ',': ',',\n",
              " 'ориентированной': 'ориентирова',\n",
              " 'на': 'на',\n",
              " 'молодых': 'молод',\n",
              " 'избирателей': 'избирател',\n",
              " 'всеобщих': 'всеобщ',\n",
              " 'выборах': 'выбор',\n",
              " 'и': 'и',\n",
              " 'проводил': 'провод',\n",
              " 'кампанию': 'кампан',\n",
              " 'за': 'за',\n",
              " 'права': 'прав',\n",
              " 'бездомных': 'бездомн',\n",
              " 'с': 'с',\n",
              " 'организацией': 'организац',\n",
              " 'Focus': 'Focus',\n",
              " 'Ireland': 'Ireland',\n",
              " '.': '.',\n",
              " 'В': 'в',\n",
              " '2011': '2011',\n",
              " 'он': 'он',\n",
              " 'стал': 'стал',\n",
              " 'патроном': 'патрон',\n",
              " 'Исследовательского': 'исследовательск',\n",
              " 'центра': 'центр',\n",
              " 'ЮНЕСКО': 'юнеск',\n",
              " 'по': 'по',\n",
              " 'проблемам': 'проблем',\n",
              " 'детей': 'дет',\n",
              " 'семьи': 'сем',\n",
              " 'при': 'при',\n",
              " 'Ирландском': 'ирландск',\n",
              " 'национальном': 'национальн',\n",
              " 'университете': 'университет',\n",
              " 'Голуэе': 'голуэ',\n",
              " 'Он': 'он',\n",
              " 'тесно': 'тесн',\n",
              " 'связан': 'связа',\n",
              " 'работой': 'работ',\n",
              " 'профессора': 'профессор',\n",
              " 'Пэта': 'пэт',\n",
              " 'Долана': 'дола',\n",
              " 'директора': 'директор',\n",
              " 'UCFRC': 'UCFRC',\n",
              " 'кафедры': 'кафедр',\n",
              " 'вопросам': 'вопрос',\n",
              " 'молодежи': 'молодеж',\n",
              " 'гражданского': 'гражданск',\n",
              " 'участия': 'участ',\n",
              " 'феврале': 'феврал',\n",
              " '2012': '2012',\n",
              " 'года': 'год',\n",
              " 'написал': 'написа',\n",
              " 'послание': 'послан',\n",
              " 'поддержки': 'поддержк',\n",
              " 'бывшим': 'бывш',\n",
              " 'работникам': 'работник',\n",
              " 'Vita': 'Vita',\n",
              " 'Cortexruen': 'Cortexruen',\n",
              " 'участвовавшим': 'участвова',\n",
              " 'сидячей': 'сидяч',\n",
              " 'забастовке': 'забастовк',\n",
              " 'их': 'их',\n",
              " 'заводе': 'завод',\n",
              " 'Какое': 'как',\n",
              " 'это': 'эт',\n",
              " 'имеет': 'имеет',\n",
              " 'отношение': 'отношен',\n",
              " 'к': 'к',\n",
              " 'Высшей': 'высш',\n",
              " 'Школе': 'школ',\n",
              " 'Экономики': 'экономик',\n",
              " '?': '?',\n",
              " 'Александр': 'александр',\n",
              " 'Сергеевич': 'сергеевич',\n",
              " 'Пушкин': 'пушкин',\n",
              " 'не': 'не',\n",
              " 'понимает': 'понима'}"
            ]
          },
          "metadata": {},
          "execution_count": 31
        }
      ]
    },
    {
      "cell_type": "code",
      "source": [
        "from natasha import MorphVocab\n",
        "\n",
        "morph_vocab = MorphVocab()\n",
        "\n",
        "text = 'Киллиан Мёрфи участвовал в 2007 году в кампании Rock the Voteruen, ориентированной на молодых избирателей на всеобщих выборах, и проводил кампанию за права бездомных с организацией Focus Ireland. В 2011 году он стал патроном Исследовательского центра ЮНЕСКО по проблемам детей и семьи при Ирландском национальном университете в Голуэе. Он тесно связан с работой профессора Пэта Долана, директора UCFRC и кафедры ЮНЕСКО по вопросам детей, молодежи и гражданского участия. В феврале 2012 года он написал послание поддержки бывшим работникам Vita Cortexruen, участвовавшим в сидячей забастовке на их заводе. Какое это имеет отношение к Высшей Школе Экономики? Александр Сергеевич Пушкин не понимает.'\n",
        "doc = Doc(text)\n",
        "doc.segment(segmenter)\n",
        "doc.tag_morph(morph_tagger)\n",
        "\n",
        "for token in doc.tokens:\n",
        "  token.lemmatize(morph_vocab)\n",
        "\n",
        "{word.text: word.lemma for word in doc.tokens} # создаёт для каждого токена вхождение в словаре и соотносит его с словарной формой"
      ],
      "metadata": {
        "id": "exsC-_J3N4PH",
        "colab": {
          "base_uri": "https://localhost:8080/"
        },
        "outputId": "37c53319-52fc-4be7-f947-d98e121ceb4e"
      },
      "execution_count": null,
      "outputs": [
        {
          "output_type": "execute_result",
          "data": {
            "text/plain": [
              "{'Киллиан': 'киллиан',\n",
              " 'Мёрфи': 'мерфь',\n",
              " 'участвовал': 'участвовать',\n",
              " 'в': 'в',\n",
              " '2007': '2007',\n",
              " 'году': 'год',\n",
              " 'кампании': 'кампания',\n",
              " 'Rock': 'rock',\n",
              " 'the': 'the',\n",
              " 'Voteruen': 'voteruen',\n",
              " ',': ',',\n",
              " 'ориентированной': 'ориентировать',\n",
              " 'на': 'на',\n",
              " 'молодых': 'молодой',\n",
              " 'избирателей': 'избиратель',\n",
              " 'всеобщих': 'всеобщий',\n",
              " 'выборах': 'выбор',\n",
              " 'и': 'и',\n",
              " 'проводил': 'проводить',\n",
              " 'кампанию': 'кампания',\n",
              " 'за': 'за',\n",
              " 'права': 'право',\n",
              " 'бездомных': 'бездомный',\n",
              " 'с': 'с',\n",
              " 'организацией': 'организация',\n",
              " 'Focus': 'focus',\n",
              " 'Ireland': 'ireland',\n",
              " '.': '.',\n",
              " 'В': 'в',\n",
              " '2011': '2011',\n",
              " 'он': 'он',\n",
              " 'стал': 'стать',\n",
              " 'патроном': 'патрон',\n",
              " 'Исследовательского': 'исследовательский',\n",
              " 'центра': 'центр',\n",
              " 'ЮНЕСКО': 'юнеско',\n",
              " 'по': 'по',\n",
              " 'проблемам': 'проблема',\n",
              " 'детей': 'ребенок',\n",
              " 'семьи': 'семья',\n",
              " 'при': 'при',\n",
              " 'Ирландском': 'ирландский',\n",
              " 'национальном': 'национальный',\n",
              " 'университете': 'университет',\n",
              " 'Голуэе': 'голуэй',\n",
              " 'Он': 'он',\n",
              " 'тесно': 'тесно',\n",
              " 'связан': 'связать',\n",
              " 'работой': 'работа',\n",
              " 'профессора': 'профессор',\n",
              " 'Пэта': 'пэта',\n",
              " 'Долана': 'долан',\n",
              " 'директора': 'директор',\n",
              " 'UCFRC': 'ucfrc',\n",
              " 'кафедры': 'кафедра',\n",
              " 'вопросам': 'вопрос',\n",
              " 'молодежи': 'молодежь',\n",
              " 'гражданского': 'гражданский',\n",
              " 'участия': 'участие',\n",
              " 'феврале': 'февраль',\n",
              " '2012': '2012',\n",
              " 'года': 'год',\n",
              " 'написал': 'написать',\n",
              " 'послание': 'послание',\n",
              " 'поддержки': 'поддержка',\n",
              " 'бывшим': 'бывший',\n",
              " 'работникам': 'работник',\n",
              " 'Vita': 'vita',\n",
              " 'Cortexruen': 'cortexruen',\n",
              " 'участвовавшим': 'участвовать',\n",
              " 'сидячей': 'сидячий',\n",
              " 'забастовке': 'забастовка',\n",
              " 'их': 'они',\n",
              " 'заводе': 'завод',\n",
              " 'Какое': 'какой',\n",
              " 'это': 'это',\n",
              " 'имеет': 'иметь',\n",
              " 'отношение': 'отношение',\n",
              " 'к': 'к',\n",
              " 'Высшей': 'высокий',\n",
              " 'Школе': 'школа',\n",
              " 'Экономики': 'экономика',\n",
              " '?': '?',\n",
              " 'Александр': 'александр',\n",
              " 'Сергеевич': 'сергеевич',\n",
              " 'Пушкин': 'пушкин',\n",
              " 'не': 'не',\n",
              " 'понимает': 'понимать'}"
            ]
          },
          "metadata": {},
          "execution_count": 32
        }
      ]
    },
    {
      "cell_type": "markdown",
      "source": [
        "Лемматизиация не очень хорошо справляется с названиями именованных сущностей, потому что она их делит пословно. Но это можно исправить (мы уже делали то же самое выше)."
      ],
      "metadata": {
        "id": "ek8h_QvAPohQ"
      }
    },
    {
      "cell_type": "code",
      "source": [
        "from natasha import NewsNERTagger\n",
        "\n",
        "ner_tagger = NewsNERTagger(emb) # инициализируем распознаватель именованных сущностей\n",
        "doc.tag_ner(ner_tagger)\n",
        "\n",
        "for span in doc.spans: # эта функция опирается на морфологический и синатаксический анализ, а также на NER\n",
        "  span.normalize(morph_vocab)\n",
        "{span.text: span.normal for span in doc.spans}"
      ],
      "metadata": {
        "colab": {
          "base_uri": "https://localhost:8080/"
        },
        "id": "uRjc_Up0Pn70",
        "outputId": "c2570e74-dce9-4758-e09c-7441cdf2fc62"
      },
      "execution_count": null,
      "outputs": [
        {
          "output_type": "execute_result",
          "data": {
            "text/plain": [
              "{'Киллиан Мёрфи': 'Киллиан Мерфи',\n",
              " 'Focus Ireland': 'Focus Ireland',\n",
              " 'Исследовательского центра': 'Исследовательский центр',\n",
              " 'ЮНЕСКО': 'ЮНЕСКО',\n",
              " 'Ирландском национальном университете': 'Ирландский национальный университет',\n",
              " 'Голуэе': 'Голуэй',\n",
              " 'Пэта Долана': 'Пэта Долан',\n",
              " 'UCFRC': 'UCFRC',\n",
              " 'Vita Cortexruen': 'Vita Cortexruen',\n",
              " 'Высшей Школе Экономики': 'Высочайшая Школа Экономика',\n",
              " 'Александр Сергеевич Пушкин': 'Александр Сергеевич Пушкин'}"
            ]
          },
          "metadata": {},
          "execution_count": 33
        }
      ]
    },
    {
      "cell_type": "markdown",
      "source": [
        "# Домашка\n",
        "\n",
        "Можете делать домашку, где хотите. Её можно прислать через эту [форму](https://forms.gle/X7CjDZxk5r5M6aqC7) в формате .py или .ipynb (либо ссылкой на тетрадку, но тогда не забудьте дать доступ). Дедлайн домашки: 06.11.2023 23:59.\n",
        "\n",
        "### Времена\n",
        "\n",
        "Посчитайте, глаголы в каком времени чаще всего встречаются в тексте. У вас должен получиться словарь, ключами которого являются времена, а их значениями - их количества в тексте. Используйте морфологический анализатор из библиотеки Natasha. Подсказка: вначале нужно создать список, куда включить время каждого глагола в тексте. Ещё подсказка: время находится в атрибуте 'Tense'. Ещё подсказка: вам поможет использовать `try: ... except: continue`."
      ],
      "metadata": {
        "id": "mjRvvQoAtD3F"
      }
    },
    {
      "cell_type": "code",
      "source": [
        "albert_text = \"\"\"Работы 1905 года принесли Эйнштейну, хотя и не сразу, всемирную славу. 30 апреля 1905 он направил в университет Цюриха текст своей докторской диссертации на тему «Новое определение размеров молекул». Рецензентами были профессора Кляйнер и Буркхард. 15 января 1906 года он получил степень доктора наук по физике. Он переписывается и встречается с самыми знаменитыми физиками мира, а Планк в Берлине включает теорию относительности в свой учебный курс. В письмах его называют «г-н профессор», однако ещё четыре года (до октября 1909 года) Эйнштейн продолжает службу в Бюро патентов; в 1906 году его повысили в должности (он стал экспертом II класса с ежегодным окладом 4500 франков). В октябре 1908 года Эйнштейна пригласили читать факультатив в Бернский университет, однако без всякой оплаты. В 1909 году он побывал на съезде натуралистов в Зальцбурге, где собралась элита немецкой физики, и впервые встретился с Планком; за 3 года переписки они быстро стали близкими друзьями. После съезда Эйнштейн наконец получил оплачиваемую должность экстраординарного профессора в Цюрихском университете (декабрь 1909 года), где преподавал геометрию его старый друг Марсель Гроссман. Оплата была небольшой, особенно для семьи с двумя детьми, и в 1911 году Эйнштейн без колебаний принял приглашение возглавить кафедру физики в пражском Немецком университете. В этот период Эйнштейн продолжает публикацию серии статей по термодинамике, теории относительности и квантовой теории. В Праге он активизирует исследования по теории тяготения, поставив целью создать релятивистскую теорию гравитации и осуществить давнюю мечту физиков — исключить из этой области ньютоновское дальнодействие. В 1911 году Эйнштейн участвовал в Первом Сольвеевском конгрессе (Брюссель), посвящённом квантовой физике. Там произошла его единственная встреча с Пуанкаре, который не поддержал теорию относительности, хотя лично к Эйнштейну относился с большим уважением. Эйнштейн провёл в Праге почти два года (с января 1911 по октябрь 1912), в этот период он считался гражданином Австро-Венгрии. Затем он вернулся в Цюрих, где стал профессором родного Политехникума и читал там лекции по физике. В 1913 году он посетил Конгресс естествоиспытателей в Вене, навестил там 75-летнего Эрнста Маха; когда-то критика Махом ньютоновской механики произвела на Эйнштейна огромное впечатление и идейно подготовила к новациям теории относительности. В мае 1914 года пришло приглашение от Петербургской академии наук, подписанное физиком П. П. Лазаревым. Однако впечатления от погромов и «дела Бейлиса» были ещё свежи, и Эйнштейн отказался: «Я нахожу отвратительным ехать без надобности в страну, где так жестоко преследуют моих соплеменников». В конце 1913 года, по рекомендации Планка и Нернста, Эйнштейн получил приглашение возглавить создаваемый в Берлине физический исследовательский институт; он зачислен также профессором Прусской академии. Помимо близости к другу Планку, эта должность имела то преимущество, что не обязывала отвлекаться на преподавание. Он принял приглашение, и в предвоенный 1914 год убеждённый пацифист Эйнштейн прибыл в Берлин. Милева с детьми осталась в Цюрихе, их семья распалась. Гражданство Швейцарии, нейтральной страны, помогало Эйнштейну выдерживать милитаристское давление после начала войны. Он не подписывал никаких «патриотических» воззваний, напротив — в соавторстве с физиологом Георгом Фридрихом Николаи составил антивоенное «Воззвание к европейцам» в противовес шовинистическому «манифесту девяносто трёх», а в письме Ромену Роллану писал: «Поблагодарят ли будущие поколения нашу Европу, в которой три столетия самой напряжённой культурной работы привели лишь к тому, что религиозное безумие сменилось безумием националистическим? Даже учёные разных стран ведут себя так, словно у них ампутировали мозги».\"\"\"\n",
        "albert_text"
      ],
      "metadata": {
        "colab": {
          "base_uri": "https://localhost:8080/",
          "height": 313
        },
        "id": "iGXaUroStDd0",
        "outputId": "af254c97-2ad1-4fd2-effd-1228a9f0cb66"
      },
      "execution_count": null,
      "outputs": [
        {
          "output_type": "execute_result",
          "data": {
            "text/plain": [
              "'Работы 1905 года принесли Эйнштейну, хотя и не сразу, всемирную славу. 30 апреля 1905 он направил в университет Цюриха текст своей докторской диссертации на тему «Новое определение размеров молекул». Рецензентами были профессора Кляйнер и Буркхард. 15 января 1906 года он получил степень доктора наук по физике. Он переписывается и встречается с самыми знаменитыми физиками мира, а Планк в Берлине включает теорию относительности в свой учебный курс. В письмах его называют «г-н профессор», однако ещё четыре года (до октября 1909 года) Эйнштейн продолжает службу в Бюро патентов; в 1906 году его повысили в должности (он стал экспертом II класса с ежегодным окладом 4500 франков). В октябре 1908 года Эйнштейна пригласили читать факультатив в Бернский университет, однако без всякой оплаты. В 1909 году он побывал на съезде натуралистов в Зальцбурге, где собралась элита немецкой физики, и впервые встретился с Планком; за 3 года переписки они быстро стали близкими друзьями. После съезда Эйнштейн наконец получил оплачиваемую должность экстраординарного профессора в Цюрихском университете (декабрь 1909 года), где преподавал геометрию его старый друг Марсель Гроссман. Оплата была небольшой, особенно для семьи с двумя детьми, и в 1911 году Эйнштейн без колебаний принял приглашение возглавить кафедру физики в пражском Немецком университете. В этот период Эйнштейн продолжает публикацию серии статей по термодинамике, теории относительности и квантовой теории. В Праге он активизирует исследования по теории тяготения, поставив целью создать релятивистскую теорию гравитации и осуществить давнюю мечту физиков — исключить из этой области ньютоновское дальнодействие. В 1911 году Эйнштейн участвовал в Первом Сольвеевском конгрессе (Брюссель), посвящённом квантовой физике. Там произошла его единственная встреча с Пуанкаре, который не поддержал теорию относительности, хотя лично к Эйнштейну относился с большим уважением. Эйнштейн провёл в Праге почти два года (с января 1911 по октябрь 1912), в этот период он считался гражданином Австро-Венгрии. Затем он вернулся в Цюрих, где стал профессором родного Политехникума и читал там лекции по физике. В 1913 году он посетил Конгресс естествоиспытателей в Вене, навестил там 75-летнего Эрнста Маха; когда-то критика Махом ньютоновской механики произвела на Эйнштейна огромное впечатление и идейно подготовила к новациям теории относительности. В мае 1914 года пришло приглашение от Петербургской академии наук, подписанное физиком П. П. Лазаревым. Однако впечатления от погромов и «дела Бейлиса» были ещё свежи, и Эйнштейн отказался: «Я нахожу отвратительным ехать без надобности в страну, где так жестоко преследуют моих соплеменников». В конце 1913 года, по рекомендации Планка и Нернста, Эйнштейн получил приглашение возглавить создаваемый в Берлине физический исследовательский институт; он зачислен также профессором Прусской академии. Помимо близости к другу Планку, эта должность имела то преимущество, что не обязывала отвлекаться на преподавание. Он принял приглашение, и в предвоенный 1914 год убеждённый пацифист Эйнштейн прибыл в Берлин. Милева с детьми осталась в Цюрихе, их семья распалась. Гражданство Швейцарии, нейтральной страны, помогало Эйнштейну выдерживать милитаристское давление после начала войны. Он не подписывал никаких «патриотических» воззваний, напротив — в соавторстве с физиологом Георгом Фридрихом Николаи составил антивоенное «Воззвание к европейцам» в противовес шовинистическому «манифесту девяносто трёх», а в письме Ромену Роллану писал: «Поблагодарят ли будущие поколения нашу Европу, в которой три столетия самой напряжённой культурной работы привели лишь к тому, что религиозное безумие сменилось безумием националистическим? Даже учёные разных стран ведут себя так, словно у них ампутировали мозги».'"
            ],
            "application/vnd.google.colaboratory.intrinsic+json": {
              "type": "string"
            }
          },
          "metadata": {},
          "execution_count": 141
        }
      ]
    },
    {
      "cell_type": "code",
      "source": [
        "# для выполнения каждого задания нужно выполнить этот кусок кода (но можно это сделать единожды в самом начале)\n",
        "from natasha import (\n",
        "  Segmenter,\n",
        "\n",
        "  NewsEmbedding,\n",
        "  NewsMorphTagger,\n",
        "  NewsSyntaxParser,\n",
        "\n",
        "  Doc\n",
        ")\n",
        "\n",
        "segmenter = Segmenter()\n",
        "\n",
        "emb = NewsEmbedding()\n",
        "morph_tagger = NewsMorphTagger(emb)\n",
        "syntax_parser = NewsSyntaxParser(emb)\n",
        "doc = Doc(albert_text)\n",
        "\n",
        "doc.segment(segmenter)\n",
        "doc.tag_morph(morph_tagger)\n",
        "doc.parse_syntax(syntax_parser)"
      ],
      "metadata": {
        "id": "1ITvyhB-yVLk"
      },
      "execution_count": null,
      "outputs": []
    },
    {
      "cell_type": "code",
      "source": [
        "tenses = []\n",
        "count_tense = {}\n",
        "# здесь ваш код"
      ],
      "metadata": {
        "id": "Bpr9m1pzyiI6"
      },
      "execution_count": null,
      "outputs": []
    },
    {
      "cell_type": "markdown",
      "source": [
        "### Дерево зависимостей\n",
        "\n",
        "Постройте дерево зависимостей для любого из предложений (как было у нас на занятии)."
      ],
      "metadata": {
        "id": "z9h3GKwbz79G"
      }
    },
    {
      "cell_type": "code",
      "source": [
        "# здесь ваш код"
      ],
      "metadata": {
        "id": "noM3l1uE0_aV"
      },
      "execution_count": null,
      "outputs": []
    },
    {
      "cell_type": "markdown",
      "source": [
        "### Количество слов\n",
        "\n",
        "Посчитайте количество уникальных слов (то есть \"теория\" и \"теории\" должны считаться одним словом) для текста из предыдущего задания (должен получиться словарь, где ключ это слово, а значение - количество). Программа может допускать ошибки, от этого никуда не деться, поэтому если идеального результата не получится, не переживайте. В вашей программе должно быть как минимум два цикла `for` (с одним циклом не сработает, но можно и больше).\n",
        "\n",
        "Программа не должна считать пунктуацию как отдельные слова. Когда будете добавлять в словарь, проверяйте, не является ли это слово знаком препинения. Список всех знаков препинения - `list(string.punctuation) + ['«', '—', '»']`, вначале нужно импортировать `string`.\n",
        "\n",
        "Отсортируйте словарь по количеству вхождений слов (то есть по значению). Для этого используйте функцию `sorted()`, в качестве объекта для сортировки `lemmas.items()` (эта штука даёт кортежи ключ:значение), а в качестве ключа для сортировки `key = lambda item: item[1]`."
      ],
      "metadata": {
        "id": "D4VmVWkf1E0S"
      }
    },
    {
      "cell_type": "code",
      "source": [
        "from natasha import MorphVocab\n",
        "morph_vocab = MorphVocab()"
      ],
      "metadata": {
        "id": "mAOrFbsg1xAw"
      },
      "execution_count": null,
      "outputs": []
    },
    {
      "cell_type": "code",
      "source": [
        "import string\n",
        "punct = list(string.punctuation) + ['«', '—', '»'] # эти знаки есть в тексте, но их нет в списке\n",
        "\n",
        "lemmas = {}\n",
        "# здесь ваш код"
      ],
      "metadata": {
        "id": "y8OHTFCL1vvl"
      },
      "execution_count": null,
      "outputs": []
    },
    {
      "cell_type": "markdown",
      "source": [
        "### Распознавание имён\n",
        "\n",
        "Выведите весь текст, где обозначаются типы именованных сущностей (как мы делали на занятии). Для каждого человека выведите его имя, фамилию и отчество, если они есть (тоже делали на занятии). Должен получиться словарь, где неразделённые имена - ключи, а разделённые - значения."
      ],
      "metadata": {
        "id": "PK30UWYA75zy"
      }
    },
    {
      "cell_type": "code",
      "source": [
        "# здесь ваш код"
      ],
      "metadata": {
        "id": "jDeUPCiF3Prp"
      },
      "execution_count": null,
      "outputs": []
    },
    {
      "cell_type": "code",
      "source": [
        "# эти штуки надо выполнить перед следующим код\n",
        "from natasha import (\n",
        "  MorphVocab,\n",
        "  PER,\n",
        "  NamesExtractor,\n",
        ")\n",
        "\n",
        "morph_vocab = MorphVocab()\n",
        "names_extractor = NamesExtractor(morph_vocab)"
      ],
      "metadata": {
        "id": "_JWcKkaz8c7Y"
      },
      "execution_count": null,
      "outputs": []
    },
    {
      "cell_type": "code",
      "source": [
        "for span in doc.spans: # перед выполнением задания нужно нормализовать каждую именованную сущность (в этой ячейке ничего менять не надо)\n",
        "  span.normalize(morph_vocab)"
      ],
      "metadata": {
        "id": "UzuRxF-q8jJt"
      },
      "execution_count": null,
      "outputs": []
    },
    {
      "cell_type": "markdown",
      "source": [
        "Обратите внимание, что программа не все именованные сущности распознает правильно. Какие-то места она считает людьми. Если мы попробуем применить код для извлечения имен и фамилий к местам, то он нам выдаст ошибку. Поэтому нужно воспользоваться `try: ... except: continue`.\n",
        "В вашей программе должно быть как минимум два цикла `for` (с одним циклом не сработает, но можно и больше)."
      ],
      "metadata": {
        "id": "pza9DNFaBfwj"
      }
    },
    {
      "cell_type": "code",
      "source": [
        "people = {}\n",
        "# здесь ваш код"
      ],
      "metadata": {
        "id": "5G_dqbCz8mHT"
      },
      "execution_count": null,
      "outputs": []
    }
  ]
}