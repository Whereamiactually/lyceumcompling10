{
  "nbformat": 4,
  "nbformat_minor": 0,
  "metadata": {
    "colab": {
      "provenance": [],
      "authorship_tag": "ABX9TyM3GoN9yPWi+eDb+EB7UYCr",
      "include_colab_link": true
    },
    "kernelspec": {
      "name": "python3",
      "display_name": "Python 3"
    },
    "language_info": {
      "name": "python"
    }
  },
  "cells": [
    {
      "cell_type": "markdown",
      "metadata": {
        "id": "view-in-github",
        "colab_type": "text"
      },
      "source": [
        "<a href=\"https://colab.research.google.com/github/Whereamiactually/lyceumcompling10/blob/main/Natasha_regexp.ipynb\" target=\"_parent\"><img src=\"https://colab.research.google.com/assets/colab-badge.svg\" alt=\"Open In Colab\"/></a>"
      ]
    },
    {
      "cell_type": "markdown",
      "source": [
        "# Natasha\n",
        "\n",
        "Natasha - это набор библиотек для обработки текстов на русском языке. Сегодня мы будем использовать Razdel, который умеет делить текст на слова и предложения. NLP - Natural Language Processing (Обработка Естественного Языка). NER - Named Entity Recognition (Распознавание Именованных Сущностей)."
      ],
      "metadata": {
        "id": "nB3tZVqhnf-l"
      }
    },
    {
      "cell_type": "code",
      "execution_count": null,
      "metadata": {
        "colab": {
          "base_uri": "https://localhost:8080/"
        },
        "id": "72iDXQTfnGLA",
        "outputId": "8e4640af-c153-4b6b-c4b0-cd2c1fe17950"
      },
      "outputs": [
        {
          "output_type": "stream",
          "name": "stdout",
          "text": [
            "Requirement already satisfied: natasha in /usr/local/lib/python3.10/dist-packages (1.6.0)\n",
            "Requirement already satisfied: pymorphy2 in /usr/local/lib/python3.10/dist-packages (from natasha) (0.9.1)\n",
            "Requirement already satisfied: razdel>=0.5.0 in /usr/local/lib/python3.10/dist-packages (from natasha) (0.5.0)\n",
            "Requirement already satisfied: navec>=0.9.0 in /usr/local/lib/python3.10/dist-packages (from natasha) (0.10.0)\n",
            "Requirement already satisfied: slovnet>=0.6.0 in /usr/local/lib/python3.10/dist-packages (from natasha) (0.6.0)\n",
            "Requirement already satisfied: yargy>=0.16.0 in /usr/local/lib/python3.10/dist-packages (from natasha) (0.16.0)\n",
            "Requirement already satisfied: ipymarkup>=0.8.0 in /usr/local/lib/python3.10/dist-packages (from natasha) (0.9.0)\n",
            "Requirement already satisfied: intervaltree>=3 in /usr/local/lib/python3.10/dist-packages (from ipymarkup>=0.8.0->natasha) (3.1.0)\n",
            "Requirement already satisfied: numpy in /usr/local/lib/python3.10/dist-packages (from navec>=0.9.0->natasha) (1.23.5)\n",
            "Requirement already satisfied: dawg-python>=0.7.1 in /usr/local/lib/python3.10/dist-packages (from pymorphy2->natasha) (0.7.2)\n",
            "Requirement already satisfied: pymorphy2-dicts-ru<3.0,>=2.4 in /usr/local/lib/python3.10/dist-packages (from pymorphy2->natasha) (2.4.417127.4579844)\n",
            "Requirement already satisfied: docopt>=0.6 in /usr/local/lib/python3.10/dist-packages (from pymorphy2->natasha) (0.6.2)\n",
            "Requirement already satisfied: sortedcontainers<3.0,>=2.0 in /usr/local/lib/python3.10/dist-packages (from intervaltree>=3->ipymarkup>=0.8.0->natasha) (2.4.0)\n"
          ]
        }
      ],
      "source": [
        "pip install natasha"
      ]
    },
    {
      "cell_type": "code",
      "source": [
        "from razdel import sentenize\n",
        "from razdel import tokenize"
      ],
      "metadata": {
        "id": "6wGOk8srpqPl"
      },
      "execution_count": null,
      "outputs": []
    },
    {
      "cell_type": "markdown",
      "source": [
        "Поделим текст на предложения."
      ],
      "metadata": {
        "id": "FN_thA9dpwwy"
      }
    },
    {
      "cell_type": "code",
      "source": [
        "text = \"\"\"Мы пошли в театр им. А. С. Пушкина. Билеты нам достал мой товарищ, сказал, мол,\n",
        "\"идите просветитесь хоть\". Бесит же он меня, но я с ним общаюсь с 1990-х по двум причинам:\n",
        "1. с ним интересно и 2. он всегда находит интересные развлечения. \"Ваня, ты что, не знаешь?\n",
        "Там же дегустация швейцарского сыра! 0,25 кг дают бесплатно!\" И пулей туда :) Эх, хорошо быть таким вольным человеком...\n",
        "\"\"\"\n",
        "sentences = list(sentenize(text))\n",
        "sentences"
      ],
      "metadata": {
        "colab": {
          "base_uri": "https://localhost:8080/"
        },
        "id": "Rd1tmXiHpvrJ",
        "outputId": "821e79bd-62b1-4bc3-8eed-d913b0d74873"
      },
      "execution_count": null,
      "outputs": [
        {
          "output_type": "execute_result",
          "data": {
            "text/plain": [
              "[Substring(0, 35, 'Мы пошли в театр им. А. С. Пушкина.'),\n",
              " Substring(36,\n",
              "           106,\n",
              "           'Билеты нам достал мой товарищ, сказал, мол,\\n\"идите просветитесь хоть\".'),\n",
              " Substring(107,\n",
              "           236,\n",
              "           'Бесит же он меня, но я с ним общаюсь с 1990-х по двум причинам:\\n1. с ним интересно и 2. он всегда находит интересные развлечения.'),\n",
              " Substring(237, 262, '\"Ваня, ты что, не знаешь?'),\n",
              " Substring(263, 299, 'Там же дегустация швейцарского сыра!'),\n",
              " Substring(300, 324, '0,25 кг дают бесплатно!\"'),\n",
              " Substring(325, 340, 'И пулей туда :)'),\n",
              " Substring(341, 383, 'Эх, хорошо быть таким вольным человеком...')]"
            ]
          },
          "metadata": {},
          "execution_count": 138
        }
      ]
    },
    {
      "cell_type": "markdown",
      "source": [
        "А теперь поделим на слова (токены). Можно это сделать отдельно для каждого предложения, как тут."
      ],
      "metadata": {
        "id": "-FgklR6ir7Ra"
      }
    },
    {
      "cell_type": "code",
      "source": [
        "for sentence in list(sentences):\n",
        "  print(list(tokenize(list(sentence)[2])))"
      ],
      "metadata": {
        "colab": {
          "base_uri": "https://localhost:8080/"
        },
        "id": "-4HxFE4mr93U",
        "outputId": "0a567025-7d35-42a7-f656-25e2df354cdf"
      },
      "execution_count": null,
      "outputs": [
        {
          "output_type": "stream",
          "name": "stdout",
          "text": [
            "[Substring(0, 2, 'Мы'), Substring(3, 8, 'пошли'), Substring(9, 10, 'в'), Substring(11, 16, 'театр'), Substring(17, 19, 'им'), Substring(19, 20, '.'), Substring(21, 22, 'А'), Substring(22, 23, '.'), Substring(24, 25, 'С'), Substring(25, 26, '.'), Substring(27, 34, 'Пушкина'), Substring(34, 35, '.')]\n",
            "[Substring(0, 6, 'Билеты'), Substring(7, 10, 'нам'), Substring(11, 17, 'достал'), Substring(18, 21, 'мой'), Substring(22, 29, 'товарищ'), Substring(29, 30, ','), Substring(31, 37, 'сказал'), Substring(37, 38, ','), Substring(39, 42, 'мол'), Substring(42, 43, ','), Substring(44, 45, '\"'), Substring(45, 50, 'идите'), Substring(51, 63, 'просветитесь'), Substring(64, 68, 'хоть'), Substring(68, 69, '\"'), Substring(69, 70, '.')]\n",
            "[Substring(0, 5, 'Бесит'), Substring(6, 8, 'же'), Substring(9, 11, 'он'), Substring(12, 16, 'меня'), Substring(16, 17, ','), Substring(18, 20, 'но'), Substring(21, 22, 'я'), Substring(23, 24, 'с'), Substring(25, 28, 'ним'), Substring(29, 36, 'общаюсь'), Substring(37, 38, 'с'), Substring(39, 45, '1990-х'), Substring(46, 48, 'по'), Substring(49, 53, 'двум'), Substring(54, 62, 'причинам'), Substring(62, 63, ':'), Substring(64, 65, '1'), Substring(65, 66, '.'), Substring(67, 68, 'с'), Substring(69, 72, 'ним'), Substring(73, 82, 'интересно'), Substring(83, 84, 'и'), Substring(85, 86, '2'), Substring(86, 87, '.'), Substring(88, 90, 'он'), Substring(91, 97, 'всегда'), Substring(98, 105, 'находит'), Substring(106, 116, 'интересные'), Substring(117, 128, 'развлечения'), Substring(128, 129, '.')]\n",
            "[Substring(0, 1, '\"'), Substring(1, 5, 'Ваня'), Substring(5, 6, ','), Substring(7, 9, 'ты'), Substring(10, 13, 'что'), Substring(13, 14, ','), Substring(15, 17, 'не'), Substring(18, 24, 'знаешь'), Substring(24, 25, '?')]\n",
            "[Substring(0, 3, 'Там'), Substring(4, 6, 'же'), Substring(7, 17, 'дегустация'), Substring(18, 30, 'швейцарского'), Substring(31, 35, 'сыра'), Substring(35, 36, '!')]\n",
            "[Substring(0, 4, '0,25'), Substring(5, 7, 'кг'), Substring(8, 12, 'дают'), Substring(13, 22, 'бесплатно'), Substring(22, 23, '!'), Substring(23, 24, '\"')]\n",
            "[Substring(0, 1, 'И'), Substring(2, 7, 'пулей'), Substring(8, 12, 'туда'), Substring(13, 15, ':)')]\n",
            "[Substring(0, 2, 'Эх'), Substring(2, 3, ','), Substring(4, 10, 'хорошо'), Substring(11, 15, 'быть'), Substring(16, 21, 'таким'), Substring(22, 29, 'вольным'), Substring(30, 39, 'человеком'), Substring(39, 42, '...')]\n"
          ]
        }
      ]
    },
    {
      "cell_type": "markdown",
      "source": [
        "А можно для всего текста."
      ],
      "metadata": {
        "id": "02Jne04Lt1r6"
      }
    },
    {
      "cell_type": "code",
      "source": [
        "list(tokenize(text))"
      ],
      "metadata": {
        "id": "52isUPyXt4AB"
      },
      "execution_count": null,
      "outputs": []
    },
    {
      "cell_type": "markdown",
      "source": [
        "А теперь давайте попробуем сделать то же самое с помощью регулярных выражений... И посмотрим, как далеко мы можем зайти."
      ],
      "metadata": {
        "id": "LmD83a4buH4P"
      }
    },
    {
      "cell_type": "markdown",
      "source": [
        "# Регулярные выражения\n",
        "\n",
        "Помогают находить и/или заменять текст. Также с помощью них можно разбивать текст по определённым символам. В дальнешем они нам могут понадобиться для удаления тегов.\n",
        "\n",
        "Можно потренироваться вот тут: [задачки](https://regexone.com/lesson/introduction_abcs)."
      ],
      "metadata": {
        "id": "I6wzKkPWup0_"
      }
    },
    {
      "cell_type": "code",
      "source": [
        "import re"
      ],
      "metadata": {
        "id": "R8qgDtiZuoV3"
      },
      "execution_count": null,
      "outputs": []
    },
    {
      "cell_type": "markdown",
      "source": [
        "У re несколько основных функций:\n",
        "\n",
        "* `re.findall()` (возвращает все совпадения списком),\n",
        "* `re.match()` (сравнивает паттерн со строкой, начиная с начала),\n",
        "* `re.search()` (ищет во всей строке совпадения с паттерном),\n",
        "* `re.sub()` (заменяет в строке совпадения с паттерном на что-то еще),\n",
        "* `re.split()` (делит строку по совпадению с паттерном).\n"
      ],
      "metadata": {
        "id": "5rBh8j8Fvr1S"
      }
    },
    {
      "cell_type": "code",
      "source": [
        "sentence = 'Но. зачем. писать. столько. точек. Ты!!1 разговариваешь просто,,,, возмутительно:('"
      ],
      "metadata": {
        "id": "d1xY8JkQwKSV"
      },
      "execution_count": null,
      "outputs": []
    },
    {
      "cell_type": "code",
      "source": [
        "print(re.findall('п', sentence)) # находит все 'п' в строке\n",
        "print(re.findall('П', sentence)) # регистр имеет значение"
      ],
      "metadata": {
        "colab": {
          "base_uri": "https://localhost:8080/"
        },
        "id": "DjFxYuKTyKqZ",
        "outputId": "82069e24-57d5-45d7-b401-36b1a2ccc519"
      },
      "execution_count": null,
      "outputs": [
        {
          "output_type": "stream",
          "name": "stdout",
          "text": [
            "['п', 'п']\n",
            "[]\n"
          ]
        }
      ]
    },
    {
      "cell_type": "code",
      "source": [
        "letter = input('Введите любую строчную кириллическую букву: ')\n",
        "print(\"В предложении {} букв '{}'\".format(len(re.findall(letter, sentence)), letter))"
      ],
      "metadata": {
        "colab": {
          "base_uri": "https://localhost:8080/"
        },
        "id": "qaemi1_Hwbu2",
        "outputId": "ebe8aeba-4e78-4b52-9a2f-a5d8b1dd7d81"
      },
      "execution_count": null,
      "outputs": [
        {
          "output_type": "stream",
          "name": "stdout",
          "text": [
            "Введите любую строчную кириллическую букву: ж\n",
            "В предложении 0 букв 'ж'\n"
          ]
        }
      ]
    },
    {
      "cell_type": "code",
      "source": [
        "re.sub('а', 'ы', sentence) # заменяет все 'а' на 'ы'"
      ],
      "metadata": {
        "colab": {
          "base_uri": "https://localhost:8080/",
          "height": 35
        },
        "id": "l8DWIbzWydnn",
        "outputId": "6662034e-8406-4e8f-add0-a7dff4851840"
      },
      "execution_count": null,
      "outputs": [
        {
          "output_type": "execute_result",
          "data": {
            "text/plain": [
              "'Но. зычем. писыть. столько. точек. Ты!!1 рызговыривыешь просто,,,, возмутительно:('"
            ],
            "application/vnd.google.colaboratory.intrinsic+json": {
              "type": "string"
            }
          },
          "metadata": {},
          "execution_count": 35
        }
      ]
    },
    {
      "cell_type": "markdown",
      "source": [
        "Если мы хотим что-то сделать не только с одним символом, то все необходимые символы можно перечислить с квадратных скобках."
      ],
      "metadata": {
        "id": "9kbwOzHty3w-"
      }
    },
    {
      "cell_type": "code",
      "source": [
        "print(re.findall('[ао]', sentence)) # находит все 'а' и 'о' в строке\n",
        "print(re.sub('[ао]', 'ы', sentence)) # заменяет все 'а' и 'о' на 'ы'\n",
        "print(re.findall('ао', sentence)) # находит все подстроки с подряд идущими символами 'а' и 'о'"
      ],
      "metadata": {
        "colab": {
          "base_uri": "https://localhost:8080/"
        },
        "id": "2cLpjIUEy_z7",
        "outputId": "1053c109-51b0-4d7d-9379-62c17bf64078"
      },
      "execution_count": null,
      "outputs": [
        {
          "output_type": "stream",
          "name": "stdout",
          "text": [
            "['о', 'а', 'а', 'о', 'о', 'о', 'а', 'о', 'а', 'а', 'о', 'о', 'о', 'о']\n",
            "Ны. зычем. писыть. стылькы. тычек. Ты!!1 рызгывыривыешь прысты,,,, вызмутительны:(\n",
            "[]\n"
          ]
        }
      ]
    },
    {
      "cell_type": "markdown",
      "source": [
        "Также можно использовать интервалы, чтобы не перечислять, например, все русские буквы или все цифры.\n",
        "\n",
        "Основные интервалы:\n",
        "\n",
        "* `[а-яА-ЯЁё]` - все русские буквы (заглавные и маленькие),\n",
        "* `[a-zА-Z]` - все английские буквы (заглавные и маленькие),\n",
        "* `[0-9]` все цифры.\n",
        "\n",
        "`[A-я]` (от английского 'A' до русского 'я') лучше никогда не писать. Ошибки не будет, но в интервал попадет много лишнего, т.к. интервалы считываются по таблице и между английскими и русскими буквами есть еще другие символы."
      ],
      "metadata": {
        "id": "5ybxXoUkziMz"
      }
    },
    {
      "cell_type": "code",
      "source": [
        "print(re.sub('[А-я]', 'ы', sentence)) # ищет все буквы кириллического алфавита, кроме 'Ё' и 'ё'\n",
        "print(re.sub('[А-Я]', 'ы', sentence)) # ищет все прописные буквы"
      ],
      "metadata": {
        "colab": {
          "base_uri": "https://localhost:8080/"
        },
        "id": "8BThNzj0z9yu",
        "outputId": "7a3e80ac-03bb-425b-c0a4-8cf61e0ab153"
      },
      "execution_count": null,
      "outputs": [
        {
          "output_type": "stream",
          "name": "stdout",
          "text": [
            "ыы. ыыыыы. ыыыыыы. ыыыыыыы. ыыыыы. ыы!!1 ыыыыыыыыыыыыыы ыыыыыы,,,, ыыыыыыыыыыыыы:(\n",
            "ыо. зачем. писать. столько. точек. ыы!!1 разговариваешь просто,,,, возмутительно:(\n"
          ]
        }
      ]
    },
    {
      "cell_type": "markdown",
      "source": [
        "Символ `^` внутри квадратных скобочек означает отрицание всего, что находится в скобочках."
      ],
      "metadata": {
        "id": "N5f3RaKJ1BJt"
      }
    },
    {
      "cell_type": "code",
      "source": [
        "print(re.sub('[^о]', '', sentence))\n",
        "print(re.sub('[^а-я]', 'ы', sentence))\n",
        "print(re.findall('[^п-я]', sentence))"
      ],
      "metadata": {
        "colab": {
          "base_uri": "https://localhost:8080/"
        },
        "id": "ArSU65QB1Pg2",
        "outputId": "b4aafa48-0845-4127-87c0-756f473d740e"
      },
      "execution_count": null,
      "outputs": [
        {
          "output_type": "stream",
          "name": "stdout",
          "text": [
            "ооооооооо\n",
            "ыоыызачемыыписатьыыстолькоыыточекыыыыыыыыразговариваешьыпростоыыыыывозмутительноыы\n",
            "['Н', 'о', '.', ' ', 'з', 'а', 'е', 'м', '.', ' ', 'и', 'а', '.', ' ', 'о', 'л', 'к', 'о', '.', ' ', 'о', 'е', 'к', '.', ' ', 'Т', '!', '!', '1', ' ', 'а', 'з', 'г', 'о', 'в', 'а', 'и', 'в', 'а', 'е', ' ', 'о', 'о', ',', ',', ',', ',', ' ', 'в', 'о', 'з', 'м', 'и', 'е', 'л', 'н', 'о', ':', '(']\n"
          ]
        }
      ]
    },
    {
      "cell_type": "markdown",
      "source": [
        "Есть абстрактные операторы, которыми можно указывать еще больше вариантов.\n",
        "\n",
        "Основные операторы такие:\n",
        "\n",
        "* `.` - один любой символ, кроме новой строки,\n",
        "* `\\w` - любая буква или цифра,\n",
        "* `\\d` - любая цифра,\n",
        "* `\\s` - пробельный символ.\n",
        "\n",
        "Если после обратного слеша буква прописная, то тогда к тому, что ищется после обратного слеша, добавляется 'не'. Например, `\\W` - не буква и не цифра."
      ],
      "metadata": {
        "id": "OWcROoQy1J-e"
      }
    },
    {
      "cell_type": "code",
      "source": [
        "print(re.sub('\\w', '', sentence)) # останутся только пробелы и знаки препинания\n",
        "print(re.sub('\\W', '', sentence)) # останутся только буквы цифры"
      ],
      "metadata": {
        "colab": {
          "base_uri": "https://localhost:8080/"
        },
        "id": "EfGn8RVQ2_mZ",
        "outputId": "d2b2f13a-e93e-4b5f-e19d-bf2aa6b74d5f"
      },
      "execution_count": null,
      "outputs": [
        {
          "output_type": "stream",
          "name": "stdout",
          "text": [
            ". . . . . !!  ,,,, :(\n",
            "НозачемписатьстолькоточекТы1разговариваешьпростовозмутительно\n"
          ]
        }
      ]
    },
    {
      "cell_type": "code",
      "source": [
        "print(re.findall('\\d', sentence)) # находит все цифры\n",
        "print(re.sub('\\D', '_', sentence)) # всё, кроме цифр, превращается в нижнее подчёркивание"
      ],
      "metadata": {
        "colab": {
          "base_uri": "https://localhost:8080/"
        },
        "id": "KhNgp4eF3NhO",
        "outputId": "caea1884-6a59-4824-967b-53b43f9b771d"
      },
      "execution_count": null,
      "outputs": [
        {
          "output_type": "stream",
          "name": "stdout",
          "text": [
            "['1']\n",
            "_______________________________________1__________________________________________\n"
          ]
        }
      ]
    },
    {
      "cell_type": "code",
      "source": [
        "print(re.split(\"\\s\",  text)) # делит текст по пробелам, очень простой токенайзер\n",
        "print(re.sub(\".\", ')', sentence)) # все символы меняются на закрывающую скобочку"
      ],
      "metadata": {
        "colab": {
          "base_uri": "https://localhost:8080/"
        },
        "id": "nr7a-DeS371v",
        "outputId": "4cf3c3a5-5060-4ad5-aa2b-d4a0b4677651"
      },
      "execution_count": null,
      "outputs": [
        {
          "output_type": "stream",
          "name": "stdout",
          "text": [
            "['Мы', 'пошли', 'в', 'театр', 'им.', 'А.', 'С.', 'Пушкина.', 'Билеты', 'нам', 'достал', 'мой', 'товарищ,', 'сказал,', 'мол,', '\"идите', 'просветитесь', 'хоть\".', 'Бесит', 'же', 'он', 'меня,', 'но', 'я', 'с', 'ним', 'общаюсь', 'с', '1990-х', 'по', 'двум', 'причинам:', '1.', 'с', 'ним', 'интересно', 'и', '2.', 'он', 'всегда', 'находит', 'интересные', 'развлечения.', '\"Ваня,', 'ты', 'что,', 'не', 'знаешь?', 'Там', 'же', 'дегустация', 'швейцарского', 'сыра!', '0,25', 'кг', 'дают', 'бесплатно!\"', 'И', 'пулей', 'туда', ':)', 'Эх,', 'хорошо', 'быть', 'таким', 'вольным', 'человеком...', '', '', '', '']\n",
            "))))))))))))))))))))))))))))))))))))))))))))))))))))))))))))))))))))))))))))))))))\n"
          ]
        }
      ]
    },
    {
      "cell_type": "markdown",
      "source": [
        "Чтобы повторить один и тот же символ, можно поставить после него `+` (1 и больше повторений) или `*` (0 и больше повторений). С помощью `{}` можно уточнить число повторений (или диапазон повторений - например, `{1,3}`, от одного до трёх включительно)."
      ],
      "metadata": {
        "id": "ZXmVGgk64nu_"
      }
    },
    {
      "cell_type": "code",
      "source": [
        "print(re.findall('\\w+', sentence)) # тоже бюджетный токенайзер\n",
        "print(re.findall('\\w*', sentence)) # пустая строка также найдётся, потому что символ любой буквы или цифры необязательный"
      ],
      "metadata": {
        "colab": {
          "base_uri": "https://localhost:8080/"
        },
        "id": "apbGc7T64wEI",
        "outputId": "31074088-a370-4030-84c0-c8b711081fb9"
      },
      "execution_count": null,
      "outputs": [
        {
          "output_type": "stream",
          "name": "stdout",
          "text": [
            "['Но', 'зачем', 'писать', 'столько', 'точек', 'Ты', '1', 'разговариваешь', 'просто', 'возмутительно']\n",
            "['Но', '', '', 'зачем', '', '', 'писать', '', '', 'столько', '', '', 'точек', '', '', 'Ты', '', '', '1', '', 'разговариваешь', '', 'просто', '', '', '', '', '', 'возмутительно', '', '', '']\n"
          ]
        }
      ]
    },
    {
      "cell_type": "code",
      "source": [
        "print(re.findall('\\w{2}', sentence)) # находит две цифры или буквы, идущих подряд\n",
        "print(re.findall('\\w{3}', sentence))\n",
        "print(re.findall('\\w{7}', sentence))\n",
        "print(re.findall('\\w{3,5}', sentence))\n",
        "# предпочтительно находит последовательности из пяти букв или цифр\n",
        "# если такая не находится, то из четырёх, и далее - из трёх"
      ],
      "metadata": {
        "colab": {
          "base_uri": "https://localhost:8080/"
        },
        "id": "DCZH0gOI-WNA",
        "outputId": "a389a89d-9f6a-4de9-a6b9-a678fcb28073"
      },
      "execution_count": null,
      "outputs": [
        {
          "output_type": "stream",
          "name": "stdout",
          "text": [
            "['Но', 'за', 'че', 'пи', 'са', 'ть', 'ст', 'ол', 'ьк', 'то', 'че', 'Ты', 'ра', 'зг', 'ов', 'ар', 'ив', 'ае', 'шь', 'пр', 'ос', 'то', 'во', 'зм', 'ут', 'ит', 'ел', 'ьн']\n",
            "['зач', 'пис', 'ать', 'сто', 'льк', 'точ', 'раз', 'гов', 'ари', 'вае', 'про', 'сто', 'воз', 'мут', 'ите', 'льн']\n",
            "['столько', 'разгова', 'риваешь', 'возмути']\n",
            "['зачем', 'писат', 'столь', 'точек', 'разго', 'варив', 'аешь', 'прост', 'возму', 'тител', 'ьно']\n"
          ]
        }
      ]
    },
    {
      "cell_type": "markdown",
      "source": [
        " Если символ необязательный, то можно поставить `?`."
      ],
      "metadata": {
        "id": "KLSmeKMa6CIq"
      }
    },
    {
      "cell_type": "code",
      "source": [
        "print(re.findall('\\w+,', text)) # запятая в конце обязательна\n",
        "print(re.findall('\\w+,?', text)) # а тут нет"
      ],
      "metadata": {
        "colab": {
          "base_uri": "https://localhost:8080/"
        },
        "id": "DF-0c8X46AIM",
        "outputId": "6102875f-5d68-4fa7-9be9-f9d50ab1ac4e"
      },
      "execution_count": null,
      "outputs": [
        {
          "output_type": "stream",
          "name": "stdout",
          "text": [
            "['товарищ,', 'сказал,', 'мол,', 'меня,', 'Ваня,', 'что,', '0,', 'Эх,']\n",
            "['Мы', 'пошли', 'в', 'театр', 'им', 'А', 'С', 'Пушкина', 'Билеты', 'нам', 'достал', 'мой', 'товарищ,', 'сказал,', 'мол,', 'идите', 'просветитесь', 'хоть', 'Бесит', 'же', 'он', 'меня,', 'но', 'я', 'с', 'ним', 'общаюсь', 'с', '1990', 'х', 'по', 'двум', 'причинам', '1', 'с', 'ним', 'интересно', 'и', '2', 'он', 'всегда', 'находит', 'интересные', 'развлечения', 'Ваня,', 'ты', 'что,', 'не', 'знаешь', 'Там', 'же', 'дегустация', 'швейцарского', 'сыра', '0,', '25', 'кг', 'дают', 'бесплатно', 'И', 'пулей', 'туда', 'Эх,', 'хорошо', 'быть', 'таким', 'вольным', 'человеком']\n"
          ]
        }
      ]
    },
    {
      "cell_type": "markdown",
      "source": [
        "Ставя `+` или `*`, мы создаём так называемые 'жадный алгоритм', который находит (или, например, заменяет) максимально возможную строку, которая соответствует паттерну.\n",
        "\n",
        "Если мы хотим, чтобы алгоритм находил минимально возможную стороку, то можно ограничить его с помошью `?`."
      ],
      "metadata": {
        "id": "kdBBloPV6Ply"
      }
    },
    {
      "cell_type": "code",
      "source": [
        "print(re.findall('\\s.+\\s', sentence)) # находит всё от первого до последнего пробела\n",
        "print(re.findall('\\s.+?\\s', sentence)) # находит все подстроки между пробелами"
      ],
      "metadata": {
        "colab": {
          "base_uri": "https://localhost:8080/"
        },
        "id": "F_rHVx-H7D9S",
        "outputId": "211ae9c4-1d21-432f-fc3c-618ad5a45b59"
      },
      "execution_count": null,
      "outputs": [
        {
          "output_type": "stream",
          "name": "stdout",
          "text": [
            "[' зачем. писать. столько. точек. Ты!!1 разговариваешь просто,,,, ']\n",
            "[' зачем. ', ' столько. ', ' Ты!!1 ', ' просто,,,, ']\n"
          ]
        }
      ]
    },
    {
      "cell_type": "code",
      "source": [
        "print(re.sub('\\s.+\\s', ' ой ', sentence))\n",
        "print(re.sub('\\s.+?\\s', ' ой ', sentence))"
      ],
      "metadata": {
        "colab": {
          "base_uri": "https://localhost:8080/"
        },
        "id": "iyyNe_kY7m7i",
        "outputId": "bb6c9f81-fb26-46c6-f880-0993bc0d0cfc"
      },
      "execution_count": null,
      "outputs": [
        {
          "output_type": "stream",
          "name": "stdout",
          "text": [
            "Но. ой возмутительно:(\n",
            "Но. ой писать. ой точек. ой разговариваешь ой возмутительно:(\n"
          ]
        }
      ]
    },
    {
      "cell_type": "markdown",
      "source": [
        "Давайте попробуем вытащить из следующего текста все даты формата ДД.ММ.ГГГГ и все телефонные номера."
      ],
      "metadata": {
        "id": "Dhy1Jj2M_97b"
      }
    },
    {
      "cell_type": "code",
      "source": [
        "sentence_2 = '12.08.1245 +79264458185 +792644581858 12.09.2003 12.12.2199 +7333658987225 +79859653858'\n",
        "print(re.findall('\\+79\\d{9}[^\\d]|\\+79\\d{9}$', sentence_2))\n",
        "print(re.findall('\\d{2}\\.\\d{2}\\.\\d{4}', sentence_2))"
      ],
      "metadata": {
        "colab": {
          "base_uri": "https://localhost:8080/"
        },
        "id": "_c2P3r9mAWRm",
        "outputId": "4d2a3627-d843-4d38-bf13-78bd0cfd158b"
      },
      "execution_count": null,
      "outputs": [
        {
          "output_type": "stream",
          "name": "stdout",
          "text": [
            "['+79264458185 ', '+79859653858']\n",
            "['12.08.1245', '12.09.2003', '12.12.2199']\n"
          ]
        }
      ]
    },
    {
      "cell_type": "markdown",
      "source": [
        "Если мы не хотим, чтобы, например, `+` или `.`  считывались в паттерне как специальные символы, то нужно поставить перед ними обратный слеш. Без него они всегда буду читаться как специальные.\n",
        "\n",
        "Знак `|` означает 'или'. Находится всё, что соответствует либо одному, либо другому варианту.\n",
        "\n",
        "Есди мы хотим задать альтернативы в определённом месте паттерна, то их надо заключить в круглые скобки с `?:` в начале."
      ],
      "metadata": {
        "id": "-IPkimtCDDk4"
      }
    },
    {
      "cell_type": "code",
      "source": [
        "print(re.findall('(?:\\s|^).+?(?:\\s|$)', sentence)) # находит все подстроки между пробелами, либо те, которые находятся в начале и конце строки"
      ],
      "metadata": {
        "colab": {
          "base_uri": "https://localhost:8080/"
        },
        "id": "qLvIQbAFH1YO",
        "outputId": "ea878147-4c53-4cf4-f3ad-190c0d8dcc00"
      },
      "execution_count": null,
      "outputs": [
        {
          "output_type": "stream",
          "name": "stdout",
          "text": [
            "['Но. ', ' писать. ', ' точек. ', ' разговариваешь ', ' возмутительно:(']\n"
          ]
        }
      ]
    },
    {
      "cell_type": "markdown",
      "source": [
        "А как это сделать для телефонных номеров?"
      ],
      "metadata": {
        "id": "GAXYVv85IxyC"
      }
    },
    {
      "cell_type": "code",
      "source": [
        "print(re.findall('\\+79\\d{9}(?:[^\\d]|$)', sentence_2))"
      ],
      "metadata": {
        "colab": {
          "base_uri": "https://localhost:8080/"
        },
        "id": "EDmL7jW5I08i",
        "outputId": "cc1144ca-8a83-473d-ba6c-4c2afb407994"
      },
      "execution_count": null,
      "outputs": [
        {
          "output_type": "stream",
          "name": "stdout",
          "text": [
            "['+79264458185 ', '+79859653858']\n"
          ]
        }
      ]
    },
    {
      "cell_type": "markdown",
      "source": [
        "Если мы хотим выбрать только часть паттерна, то то, что нам нужно, необходимо заключить в круглые скобки."
      ],
      "metadata": {
        "id": "gIYrljQaIKlW"
      }
    },
    {
      "cell_type": "code",
      "source": [
        "print(re.findall('\\s(.+?)\\s', sentence)) # паттерн ищет подстроку с пробелами, но выбирается только то, что между пробелов\n",
        "print(re.search('\\s(.+?)\\s', sentence)) # достаёт первое, что попало в скобки\n",
        "found_str = re.search('\\s(.+?)\\s', sentence)\n",
        "found_str.group(1)"
      ],
      "metadata": {
        "colab": {
          "base_uri": "https://localhost:8080/",
          "height": 70
        },
        "id": "lEZWoDa3DY6x",
        "outputId": "f4334ffc-ec41-4ad8-ec83-9493802ab1b2"
      },
      "execution_count": null,
      "outputs": [
        {
          "output_type": "stream",
          "name": "stdout",
          "text": [
            "['зачем.', 'столько.', 'Ты!!1', 'просто,,,,']\n",
            "<re.Match object; span=(3, 11), match=' зачем. '>\n"
          ]
        },
        {
          "output_type": "execute_result",
          "data": {
            "text/plain": [
              "'зачем.'"
            ],
            "application/vnd.google.colaboratory.intrinsic+json": {
              "type": "string"
            }
          },
          "metadata": {},
          "execution_count": 110
        }
      ]
    },
    {
      "cell_type": "code",
      "source": [
        "print(re.findall('\\d{2}\\.\\d{2}\\.(\\d{4})', sentence_2)) # находит все даты и выдаёт года"
      ],
      "metadata": {
        "colab": {
          "base_uri": "https://localhost:8080/"
        },
        "id": "i2s3v_TPHIJV",
        "outputId": "a98add58-f371-4291-8542-4ed65eb0bd38"
      },
      "execution_count": null,
      "outputs": [
        {
          "output_type": "stream",
          "name": "stdout",
          "text": [
            "['1245', '2003', '2199']\n"
          ]
        }
      ]
    },
    {
      "cell_type": "markdown",
      "source": [
        "Попробуем поделить текст на предложения с помощью регулярных выражений. Как это будет?"
      ],
      "metadata": {
        "id": "EeMZPj21J0ow"
      }
    },
    {
      "cell_type": "code",
      "source": [
        "text_2 = \"\"\"Какой чудесный день! Просто умопомрачительный. Хоть бы вся жизнь была такой... Хочется\n",
        "кабачков, апельсинов, немного любви и тепла. Хм, где бы это найти? Не знаю, не знаю...\"\"\"\n",
        "# здесь ваш код"
      ],
      "metadata": {
        "colab": {
          "base_uri": "https://localhost:8080/"
        },
        "id": "rGP0AyOmJ6aw",
        "outputId": "42ad97c0-8cbe-4ed6-9718-4dee7faf5e36"
      },
      "execution_count": null,
      "outputs": [
        {
          "output_type": "execute_result",
          "data": {
            "text/plain": [
              "['Какой чудесный день',\n",
              " 'Просто умопомрачительный',\n",
              " 'Хоть бы вся жизнь была такой..',\n",
              " 'Хочется\\nкабачков, апельсинов, немного любви и тепла',\n",
              " 'Хм, где бы это найти',\n",
              " 'Не знаю, не знаю...']"
            ]
          },
          "metadata": {},
          "execution_count": 118
        }
      ]
    },
    {
      "cell_type": "markdown",
      "source": [
        "А сработает ли это с текстом из самого начала тетрадки?"
      ],
      "metadata": {
        "id": "LogadVTyK7Mk"
      }
    },
    {
      "cell_type": "code",
      "source": [
        "# здесь ваш код"
      ],
      "metadata": {
        "colab": {
          "base_uri": "https://localhost:8080/"
        },
        "id": "QgapdLh-K679",
        "outputId": "b27168fd-caff-4b9e-a743-68368e4a9ae6"
      },
      "execution_count": null,
      "outputs": [
        {
          "output_type": "execute_result",
          "data": {
            "text/plain": [
              "['Мы пошли в театр им',\n",
              " 'А',\n",
              " 'С',\n",
              " 'Пушкина',\n",
              " 'Билеты нам достал мой товарищ, сказал, мол,\\n\"идите просветитесь хоть\"',\n",
              " 'Бесит же он меня, но я с ним общаюсь с 1990-х по двум причинам:\\n1',\n",
              " 'с ним интересно и 2',\n",
              " 'он всегда находит интересные развлечения',\n",
              " '\"Ваня, ты что, не знаешь',\n",
              " 'Там же дегустация швейцарского сыра',\n",
              " '0,25 кг дают бесплатно!\" И пулей туда :) Эх, хорошо быть таким вольным человеком..',\n",
              " '']"
            ]
          },
          "metadata": {},
          "execution_count": 119
        }
      ]
    },
    {
      "cell_type": "markdown",
      "source": [
        "Теперь попробуем поделить на слова с помощью регулярок..."
      ],
      "metadata": {
        "id": "4a8G6Xm6LIML"
      }
    },
    {
      "cell_type": "code",
      "source": [
        "re.findall('(?:[А-яЁё]+|[0-9]+)[^А-яЁё0-9]', text_2)"
      ],
      "metadata": {
        "id": "25y53E64LNHW"
      },
      "execution_count": null,
      "outputs": []
    },
    {
      "cell_type": "code",
      "source": [
        "re.findall('(?:[А-яЁё]+|[0-9]+)[^А-яЁё0-9]', text)"
      ],
      "metadata": {
        "id": "_OoVECc9MiBu"
      },
      "execution_count": null,
      "outputs": []
    },
    {
      "cell_type": "markdown",
      "source": [
        "Поэтому будем пользоваться Razdel'ом!\n",
        "Давайте теперь уберём знаки препинания.\n",
        "\n",
        "Вначале имеет смысл поделить текст на предложения. А затем уже убирать знаки препинания. Как это сделать с помощью регулярных выражений?"
      ],
      "metadata": {
        "id": "LKxFP0eOM8BM"
      }
    },
    {
      "cell_type": "code",
      "source": [
        "text = \"\"\"Мы пошли в театр им. А. С. Пушкина. Билеты нам достал мой товарищ, сказал, мол,\n",
        "\"идите просветитесь хоть\". Бесит же он меня, но я с ним общаюсь с 1990-х по двум причинам:\n",
        "1. с ним интересно и 2. он всегда находит интересные развлечения. \"Ваня, ты что, не знаешь?\n",
        "Там же дегустация швейцарского сыра! 0,25 кг дают бесплатно!\" И пулей туда :) Эх, хорошо быть таким вольным человеком...\n",
        "\"\"\"\n",
        "words_by_sentences = [] # создаём пустой список, куда потом будем прикреплять списки слов\n",
        "sentences = list(sentenize(text)) # создаём список предложений\n",
        "for sentence in sentences: # для каждого предложения делаем следующее\n",
        "  sentence_wo_punct = re.sub('[^\\w\\s]', '', list(sentence)[2]) # заменяем регулярками все знаки препинания на пустоту\n",
        "  words_by_sentences.append(list(tokenize(sentence_wo_punct))) # делим по словам и добавляем получившийся список слов в список\n",
        "words_by_sentences"
      ],
      "metadata": {
        "id": "E2FE_H2rPD0T"
      },
      "execution_count": null,
      "outputs": []
    },
    {
      "cell_type": "markdown",
      "source": [
        "Случайно убрали нужные знаки препинания... Попробуем тогда вначале поделить на слова, а затем уже уберём ненужное."
      ],
      "metadata": {
        "id": "zEgrNabQaI8w"
      }
    },
    {
      "cell_type": "code",
      "source": [
        "import string\n",
        "punct = list(string.punctuation) # создаём список всех знаков препинания"
      ],
      "metadata": {
        "id": "Jy74HJqSP2Ll"
      },
      "execution_count": null,
      "outputs": []
    },
    {
      "cell_type": "code",
      "source": [
        "words_by_sentences = []\n",
        "sentences = list(sentenize(text))\n",
        "for sentence in sentences:\n",
        "  new_sentence = list(tokenize(list(sentence)[2]))\n",
        "  sentence_wo_punct = []\n",
        "  for word in new_sentence:\n",
        "    if list(word)[2] not in punct:\n",
        "      sentence_wo_punct.append(list(word)[2])\n",
        "  words_by_sentences.append(sentence_wo_punct)\n",
        "words_by_sentences"
      ],
      "metadata": {
        "id": "ic8eJ8zOaPbN"
      },
      "execution_count": null,
      "outputs": []
    },
    {
      "cell_type": "markdown",
      "source": [
        "# Домашка\n",
        "\n",
        "Можете делать домашку, где хотите. Её можно прислать через эту [форму](https://forms.gle/tD7x6WUuesk6jSru9) в формате .py или .ipynb (либо ссылкой на тетрадку).\n",
        "\n",
        "### 1. Удаление тэгов\n",
        "Часто в данных, с которыми нам нужно работать, помимо текста присутствует ещё какая-то лишняя информация: тэги, ссылки, код, разметка. Она, конечно, не всегда лишняя, но обычно от неё лучше избавиться.\n",
        "\n",
        "Возьмем в качестве примера статью \"Ножа\". Она скачана автоматически и там остались некоторые тэги."
      ],
      "metadata": {
        "id": "m9XQEXgFgEeI"
      }
    },
    {
      "cell_type": "code",
      "source": [
        "article_drakula = \"\"\"Ученые из Италии и Румынии <a href=\"https://www.thetimes.co.uk/article/it-sounds-batty-but-was-dracula-really-a-bleeding-vegetarian-zj6f536md\" rel=\"noopener\" target=\"_blank\">заявили</a>, что Влад III Басараб, он же Влад Цепеш и прототип графа Дракулы, мог придерживаться растительной диеты. К такому выводу исследователи пришли, когда изучили его биохимические следы.</p>\n",
        "<figure class=\"figure figure--inner\"><img decoding=\"async\" fetchpriority=\"high\" class=\"figure__image\" src=\"https://knife.media/wp-content/uploads/2023/08/Vlad_Tepes_002-640x775.jpg\" alt=\"\" width=\"640\" height=\"775\" /><figcaption class=\"figure__caption\"></figcaption></figure>\n",
        "<p>С поверхности трех писем, написанных лично Владом III, извлекли тысячи фрагментов белка, и среди них не нашлось ни одного, который бы содержался в животной пище.</p>\n",
        "<figure class=\"figure figure--quote\">\n",
        "<blockquote><p>«Обнаруженные на письмах пищевые белки встречаются только в пище растительного происхождения. Прототип вампира мог быть веганом», — говорят ученые.</p></blockquote>\n",
        "</figure>\n",
        "<p>При этом они отмечают, что вряд ли правитель Валахии придерживался растительного питания по этическим соображениям. Скорее всего, рацион зависел от сурового климата, в котором он жил.</p>\n",
        "<figure class=\"figure figure--remark\">\n",
        "<blockquote><p>🩸 Ранее изучение тех же писем помогло выяснить, что у Влада III было редкое заболевание, из-за которого он <a href=\"https://knife.media/bloody-tears-dracula/\" rel=\"noopener\" target=\"_blank\">плакал</a> кровавыми слезами.</p></blockquote>\n",
        "\"\"\""
      ],
      "metadata": {
        "id": "-T9r9gWshfn-"
      },
      "execution_count": null,
      "outputs": []
    },
    {
      "cell_type": "markdown",
      "source": [
        "С помощью регулярных выражений очистите текст от тэгов (метаинформацию внутри тэгов тоже удалите). В получившемся тексте точки не должны слипаться с началом следующего предложений, также не должно быть лишних пробелов.\n",
        "\n",
        "Затем поделите текст на предложения и сделайте список с вложенными списками слов для каждого предложения, используя цикл `for` (как мы делали на уроке, это есть в этой тетрадке). Также уберите знаки препинения (вы можете это сделать на любом этапе и с помощью любого метода)."
      ],
      "metadata": {
        "id": "Xgax5ABjhxq7"
      }
    },
    {
      "cell_type": "code",
      "source": [
        "# здесь ваш код"
      ],
      "metadata": {
        "id": "zkZlFVcXh1Gr"
      },
      "execution_count": null,
      "outputs": []
    },
    {
      "cell_type": "markdown",
      "source": [
        "### 2. Замена с помощью регулярок\n",
        "Удалите теги из следующего текста. Также замените все числительные в тексте на 0. Даже если число многозначное, его нужно записать только одним нулем."
      ],
      "metadata": {
        "id": "rJfCHkZojc_s"
      }
    },
    {
      "cell_type": "code",
      "source": [
        "article_activity = \"\"\"Сегодняшняя заметка будет о сервисе отслеживания активности пользователя — <a href=\"http://www.crazyegg.com\" title=\"Сумасшедшие яйца\">CrazyEgg</a>. Я не знаю кому обязан сервис таким говорящим именем, но оно работает, и хорошо. Запоминается? Отлично!<br><br><img src=\"http://img172.imageshack.us/img172/8434/18274658kc4.png\" alt=\"Сумасшедшее яйцо\"><br><br><blockquote><h3>Что это такое?</h3><br>\n",
        "Как уже сказано выше это сервис для отслеживания перемещения пользователей по сайту — кто куда кликнул, какие ссылки наиболее популярные и тому подобная, разнородная информация для юзабилистов.<br>\n",
        "Сервис позволяет отслеживать активность определенных пользователей, и выводить эти данные в различных формах: «инфракрасная» — где чем активнее область, тем она «теплее», салюты (чем активнее область, тем больше конфети), простой список с сортировкой по активности, колбы (чем заполненнее колба, тем активнее область), облака (на мой взгляд наиболее удобный вариант — совмещает в себе все остальные вместе взятые).<br><br><img src=\"https://habrastorage.org/getpro/habr/post_images/7c7/298/33c/7c729833cd942cc493e68833e3e0f12d.jpg\" alt=\"Тепловое отслеживание популярности\"><br></blockquote><br><br><a name=\"habracut\"></a><br><br><blockquote><h3>Для кого это?</h3><br>\n",
        "Разумеется сервис изначально планировался как первый помощник для юзабилистов, но пользоваться им может каждый, у кого есть деньги — интуитивный интерфейс, и хороший дизайн дает о себе знать — сервис массово популяризировался пол года-год назад. Относительно недорогой, но уж точно не из дешевых — сервис предполагает собой 4 платных линии и одну бесплатную. Дабы написать этот обзор я не поленился заплатить 19 долларов (в месяц) выбрав средний вариант — для нескольких проектов с включенными дополнительными функциями.<br><br><img src=\"https://habrastorage.org/getpro/habr/post_images/0b0/0a0/b16/0b00a0b16b1eda28e35f39487dcd2545.jpg\" alt=\"Отслеживание ссылок\"></blockquote><br><blockquote><img src=\"https://habrastorage.org/getpro/habr/post_images/0b5/433/892/0b54338921665ffb5a90930147296f5b.jpg\" alt=\"Список по популярности\"><br><br>\n",
        "Да-да, сервис не бесплатен. Точнее бесплатная возможность потестировать есть, но она немного обрезана (можно отслеживать только 5000 посетителей и всего 4 страницы на сайте (внимание — 4 страницы, а не сайтов), т.е. вполне хватает для того, чтобы понять полезность сервиса). Зачем это?</h3><br>\n",
        "С помощью этого сервиса можно тасовать блоки на сайте, которые полезны пользователям больше всего. Больше не нужно спорить создателям — какой блок где расположить. В этом им поможет <a href=\"http://ttp://www.crazyegg.com\" title=\"Сумасшедшие яйца\">Сумасшедшее яйцо</a>.<br><br><img src=\"https://habrastorage.org/getpro/habr/post_images/38c/af8/e75/38caf8e753782a01dc6419d3902edd57.jpg\" alt=\"Добавление проекта\"></blockquote><br><blockquote>Также этот сервис поможет вам понять — в какой зоне сайта лучше всего располагать рекламу, когда в вашем сервисе речь зайдет о монетизации. Ведь альтруизм это хорошо, а деньги на содержание сервиса нужны, и не лишним будет вычислить зоны где реклама будет приносить наибольшую отдачу, и наименьшее раздражение у пользователей.<br><br><img src=\"https://habrastorage.org/getpro/habr/post_images/0dd/3fb/b34/0dd3fbb34709e77f3fbcd6523c7eac77.jpg\" alt=\"еще полезности\"></blockquote><br><blockquote><h3>Как это работает?</h3><br>\n",
        "Никаких километровых скриптов вставлять не нужно, достаточно вставиь 2 строчки яваскрипта, и сервис начнет отслеживание. Насколько я понял — исполнительный скрипт работает на сервере <a href=\"http://www.crazyegg.com\" title=\"Сумасшедшие яйца\">CrazyEgg</a>, поэтому ваш сайт от этого в производительности не потеряет ни секунды, а полезность довольно таки большая.<br><br><img src=\"https://habrastorage.org/getpro/habr/post_images/a90/e4e/e67/a90e4ee6760978463e6306a2f5982e24.jpg\" alt=\"управление популярностью\"></blockquote><br><blockquote><h3>Сколько это стоит?</h3><br>\n",
        "Как я уже упоминал — сервис далеко не бесплатен, хоть и имеет тестовую-бесплатную версию. Расскажу подробнее о тарификации.</blockquote><br><blockquote>1. Бесплатная тестовая версия. Включает в себя возможность отслеживания 5 000 посещений, 4 страницы на сайте.<br><br>\n",
        "2. Базовая версия. В этой версии можно отследить 10 000 посещений, и 10 страниц, что вполне достаточно для среднего корпоративного сайта. Стоит базовый комплект — 9 долларов в месяц. В этот комплект включены все дополнительные функции.<br><br>\n",
        "3. Версия «Стандарт». В неё входит возможность отслеживания 25 000 посещений на 20 страницах. Вполне подходит для тестирования нового стартапа. Стоит она 19 долларов в месяц, именно её я купил для тестирования сервиса, и написания этого обзора.<br><br>\n",
        "4. Версия «Плюс». Отличается от предыдущей возможностью отслеживания 100 000 посещений, 50 страниц. Очень хороший тариф для крупных сервисов. Стоит 49 долларов в месяц. Довольно большие деньги за сервис, но они обычно с лихвой окупаются.<br><br>\n",
        "5. Версия «Про». Стоит почти 100 долларов, имеет возможность отследить 250 000 посещений на ста страницах. Тариф подходит для монстров с большой посещаемостью и большим количеством страниц.<br><br><img src=\"https://habrastorage.org/getpro/habr/post_images/f73/fb2/62d/f73fb262da4618a8dde67690cfd191ea.jpg\" alt=\"Отслеживание статистики\"></blockquote><br><blockquote><h3>Есть и аналоги</h3><br>\n",
        "Я не поленился, и собрал еще пару ссылок с аналогами, которые предлагают такие же услуги, но немного дешевле.</blockquote><br><blockquote> 1. <a href=\"https://www.google.com/analytics/home/?hl=en\" title=\"Шикарный сбор и анализ статистики\">Google Analytics</a> — бесплатный сервис для сбора и анализа статистики, вывод статистики в наиболее наглядной форме, и без разнообразных рейтингов, счетчиков. Очень подробная и полезная вещь. Рекомендую, т.к. сам пользуюсь им для этого блога.<br><br>\n",
        "2. <a href=\"http://www.mapsurface.com/\" title=\"Сервис для отслеживания популярности блоков на сайте\">MapSurface</a> — сам еще не использовал (т.к. предпочел CrazyEgg), но врядли будучи плохим сервис собрал бы множество положительных отзывов. К сожалению он сейчас находится в статусе закрытой беты.</blockquote><br><blockquote><h3>Вывод</h3><br>\n",
        "Использовать можно, и нужно. Вот только тарифы довольно больно кусаются, но обычно эти деньги потом с лихвой отбиваются на повышении конвертации посетителей в деньги. Использовать сервис нужно для тестирования рекламных мест и удобства отдельных страниц, что помогает опять же повысить конвертацию. В общем и целом — <a href=\"http://ttp://www.crazyegg.com\">полезная вещь</a> для каждого владельца сайтов, а для юзабилиста вообще практически обязательна. К счастью для людей, которые поиздержались деньгами в этом месяце — есть полезные аналоги.<br><br><img src=\"http://img241.imageshack.us/img241/2346/confettitnml5.jpg\" alt=\"Интересная идея визуализации популярности - конфети\"></blockquote><br><br>\n",
        "Автор: <a href=\"http://www.birzool.com/\" title=\"Я пишу о юзабилити веб интерфейсов\">Ярослав Бирзул</a> (DezmASter).<br>\n",
        "Источник: <a href=\"http://www.birzool.com/crazyegg/\" title=\"Сумасшедшие яйца, первоисточник\">Блог о юзабилити веб интерфейсов</a>.<br><br>\n",
        "PS: Всех с прошедшим Новым годом! От всей души желаю вам всего самого-самого лучшего, чего вы желаете только в\n",
        "\"\"\"\n",
        "clear_article_activity = re.sub('<.+?>', '', article_activity)"
      ],
      "metadata": {
        "id": "VypS2wSrjBTG"
      },
      "execution_count": null,
      "outputs": []
    },
    {
      "cell_type": "code",
      "source": [
        "# здесь ваш код"
      ],
      "metadata": {
        "id": "KIfHrfPtkaZe"
      },
      "execution_count": null,
      "outputs": []
    },
    {
      "cell_type": "markdown",
      "source": [
        "### 3. Имена и фамилии\n",
        "\n",
        "Извлеките из строки все имена и фамилии людей."
      ],
      "metadata": {
        "id": "9wuuMMytlQlc"
      }
    },
    {
      "cell_type": "code",
      "source": [
        "people = 'На встрече присутствовали: профессор Владимир Успенский, физик-ядерщик Сергей Ковалев, президент клуба Владимир Медведев и космонавт Юрий Титов.'\n",
        "# здесь ваш код"
      ],
      "metadata": {
        "colab": {
          "base_uri": "https://localhost:8080/"
        },
        "id": "dWqBFJD6lbwv",
        "outputId": "02f28d99-3f81-477f-b462-79eee5885de4"
      },
      "execution_count": null,
      "outputs": [
        {
          "output_type": "execute_result",
          "data": {
            "text/plain": [
              "[('Владимир', 'Успенский'),\n",
              " ('Сергей', 'Ковалев'),\n",
              " ('Владимир', 'Медведев'),\n",
              " ('Юрий', 'Титов')]"
            ]
          },
          "metadata": {},
          "execution_count": 184
        }
      ]
    },
    {
      "cell_type": "markdown",
      "source": [
        "### 4. Мини-задачки\n",
        "\n",
        "Порешайте задачки с [сайта](https://regexone.com/lesson/introduction_abcs). Их не нужно присылать в файле с предыдущими заданиями, но они будут входить в контрольную."
      ],
      "metadata": {
        "id": "dSSDdOlVXL-Q"
      }
    }
  ]
}