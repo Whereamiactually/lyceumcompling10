{
  "cells": [
    {
      "cell_type": "markdown",
      "metadata": {
        "id": "view-in-github",
        "colab_type": "text"
      },
      "source": [
        "<a href=\"https://colab.research.google.com/github/Whereamiactually/lyceumcompling10/blob/main/WordsAsVectors_part2.ipynb\" target=\"_parent\"><img src=\"https://colab.research.google.com/assets/colab-badge.svg\" alt=\"Open In Colab\"/></a>"
      ]
    },
    {
      "cell_type": "markdown",
      "metadata": {
        "id": "x5XbF-IWafXF"
      },
      "source": [
        "# Векторное представление слов\n",
        "\n",
        "Что такое русское слово \"мутовка\" из примеров ниже (примеры взяты из НКРЯ)?\n",
        "\n",
        "1. *Без **мутовки**, само собою сбивается оно над огнем, набухает, словно на опаре, осыпая в огонь желтью отруби.* [Виктор Астафьев. Царь-рыба (1974)]\n",
        "2. *...и все такое, что перешло еще от отцов и дедов, что позарез нужно было каждую минуту здесь и что там сразу оказывалось без надобности. Ухваты, сковородник, квашня, **мутовки**, чугуны, туеса, кринки, ушаты, кадки, лагуны, щипцы, кросна...* [Валентин Распутин. Прощание с Матёрой (1976)]\n",
        "3. *Бабушка объявила, что овес кишит, взяла **мутовку** и начала взбалтывать ею содержимое дежи.* [Н. С. Арапова. Овсяный кисель // «Химия и жизнь», 1985]\n",
        "4. *Отец, услышав, как Антон, шкуря **мутовку**, это мурлычет, заставил пропеть до конца...* [Александр Чудаков. Ложится мгла на старые ступени (1987-2000) // «Знамя», 2000]\n",
        "5. *А Ермилка, тряхнув чубом и облизнув **мутовку** широким, как у коня, языком, подумал: «Ну до чего приятственно царем быть!»* [В. Я. Шишков. Емельян Пугачев. Книга вторая. Ч. 1-2 (1939-1945)]\n",
        "6. *Зайдет на погреб — там девчонки под навесом сидят, горшки со сметаной между коленами держат, чухонское масло **мутовками** бьют.* [М. Е. Салтыков-Щедрин. Пошехонская старина. Житие Никанора Затрапезного, пошехонского дворянина (1887-1889)]\n",
        "\n",
        "В качестве продолжения предлагаю посмотреть на [материалы](https://habr.com/ru/articles/446530/) за авторством m1rko."
      ]
    },
    {
      "cell_type": "markdown",
      "metadata": {
        "id": "4inlqp-jg2vG"
      },
      "source": [
        "# Word2Vec\n",
        "\n",
        "Для того, чтобы рассмотреть на практике, как работают программы с векторными представлениями слов (или эмбеддингами от англ. *embeddings*), мы воспользуемся библиотекой **Gensim** ([здесь](https://pythonru.com/biblioteki/gensim) есть полное руководство по этой библиотеке, сейчас мы будем смотреть только на модель **Word2Vec**, а на остальное - в следующем полугодии), которая работает с самой известной дистрибутивной моделью **Word2Vec**, основанной на нейрнной сети, которая предсказывает вероятность появления заданного слова в заданном контексте.\n",
        "\n",
        "**Word2Vec** состоит из двух двух алгоритмов: **Skip-Gram** и **Continuous Bag-of-Words** (CBOW). **Skip-Gram** предсказывает близлежащие слова на основании одного слова. **CBOW** (или мешок слов) предсказывает слово на основании контекста."
      ]
    },
    {
      "cell_type": "code",
      "execution_count": 1,
      "metadata": {
        "colab": {
          "base_uri": "https://localhost:8080/"
        },
        "id": "rBpaOhfaaXmY",
        "outputId": "fba3cc18-0147-4fc2-c0f1-b3dc5560d739"
      },
      "outputs": [
        {
          "output_type": "stream",
          "name": "stdout",
          "text": [
            "Requirement already satisfied: gensim in /usr/local/lib/python3.10/dist-packages (4.3.2)\n",
            "Requirement already satisfied: numpy>=1.18.5 in /usr/local/lib/python3.10/dist-packages (from gensim) (1.23.5)\n",
            "Requirement already satisfied: scipy>=1.7.0 in /usr/local/lib/python3.10/dist-packages (from gensim) (1.11.3)\n",
            "Requirement already satisfied: smart-open>=1.8.1 in /usr/local/lib/python3.10/dist-packages (from gensim) (6.4.0)\n"
          ]
        }
      ],
      "source": [
        "pip install gensim"
      ]
    },
    {
      "cell_type": "markdown",
      "metadata": {
        "id": "YxxlI2hij3xC"
      },
      "source": [
        "### Модель\n",
        "\n",
        "Модель вначале нужно натренировать на каком-то корпусе текстов. На тренировку модели мы посмотрим довольно кратко (более полное погружение в машинное обучение и нейронные сети нас ждет позже). Наша задача - посмотреть, как работает обученная модель.\n",
        "\n",
        "Для того, чтобы натренировать модель, тренировочные данные должны быть представлены в определенном формате, иначе модель просто не сможет их распознать.\n",
        "\n",
        "Для того, чтобы натренировать модель **Word2Vec**, ей нужно дать на вход текстовый файл, в котором каждое предложение начинается с новой строки. В тексте должны **отсутствовать знаки препинания**, он должен быть приведен **к нижнему регистру** и **лемматизирован**. Также он должен быть **размечен по частям речи** (хотя это скорее опционально).\n",
        "\n",
        "Но мы пока что пойдем по пути наименьшего сопротивления и будем использовать уже предобученную модель.\n",
        "\n",
        "На [этом сайте](http://vectors.nlpl.eu/repository/) можно найти некоторое количество моделей, предобученных на русском, английском и других языках. Для других языков можно использовать [fastText или GloVe](https://proglib.io/p/obzor-chetyreh-populyarnyh-nlp-modeley-2020-04-21)."
      ]
    },
    {
      "cell_type": "code",
      "execution_count": null,
      "metadata": {
        "id": "cetGOq__tSTy"
      },
      "outputs": [],
      "source": [
        "#pip install wget"
      ]
    },
    {
      "cell_type": "code",
      "execution_count": 16,
      "metadata": {
        "id": "eu8byMwM5hHY"
      },
      "outputs": [],
      "source": [
        "import zipfile # для разархивирования файла из неработающего кода\n",
        "import wget # для загрузки файла из кусочка неработающего кода\n",
        "import gensim\n",
        "from gensim.models import word2vec\n",
        "import gensim.downloader"
      ]
    },
    {
      "cell_type": "markdown",
      "metadata": {
        "id": "nFnVxbVC31vj"
      },
      "source": [
        "Мы бы посмотрели на модель, обученную на данных из Национального корпуса русского языка и Википедии (по 2021 год). Размер словаря довольно большой - почти 250 тыс. эмбеддингов. Но мы не посмотрим, потому что с новым обновлением Gensim появилось очень много багов и следующий код не работает! :( ~3 часа жизни коту под хвост.~"
      ]
    },
    {
      "cell_type": "code",
      "execution_count": null,
      "metadata": {
        "id": "IewBVKX9sw5S"
      },
      "outputs": [],
      "source": [
        "#model_url = 'http://vectors.nlpl.eu/repository/20/220.zip'\n",
        "#m = wget.download(model_url)\n",
        "#model_file = model_url.split('/')[-1]\n",
        "#with zipfile.ZipFile(model_file, 'r') as archive:\n",
        "  #stream = archive.open('model.bin')\n",
        "  #model = gensim.models.KeyedVectors.load_word2vec_format(stream, binary = True)"
      ]
    },
    {
      "cell_type": "markdown",
      "source": [
        "Но мы можем попробовать скачать встроенные словари... И молиться."
      ],
      "metadata": {
        "id": "0-7uwaB-StsR"
      }
    },
    {
      "cell_type": "code",
      "source": [
        "print(list(gensim.downloader.info()['models'].keys()))"
      ],
      "metadata": {
        "colab": {
          "base_uri": "https://localhost:8080/"
        },
        "id": "x33JUP67SVhf",
        "outputId": "95956c9d-3422-4ed9-e9dc-a157c5dd61ce"
      },
      "execution_count": 49,
      "outputs": [
        {
          "output_type": "stream",
          "name": "stdout",
          "text": [
            "['fasttext-wiki-news-subwords-300', 'conceptnet-numberbatch-17-06-300', 'word2vec-ruscorpora-300', 'word2vec-google-news-300', 'glove-wiki-gigaword-50', 'glove-wiki-gigaword-100', 'glove-wiki-gigaword-200', 'glove-wiki-gigaword-300', 'glove-twitter-25', 'glove-twitter-50', 'glove-twitter-100', 'glove-twitter-200', '__testing_word2vec-matrix-synopsis']\n"
          ]
        }
      ]
    },
    {
      "cell_type": "markdown",
      "source": [
        "Ого, здесь есть даже встроенный Национальный корпус русского языка! [Тут](https://github.com/piskvorky/gensim-data) можно посмотреть поподробнее про другие модели."
      ],
      "metadata": {
        "id": "j7FdKIFsWB8w"
      }
    },
    {
      "cell_type": "code",
      "source": [
        "rus_vectors = gensim.downloader.load('word2vec-ruscorpora-300')"
      ],
      "metadata": {
        "id": "rVtXuIB4StN6"
      },
      "execution_count": null,
      "outputs": []
    },
    {
      "cell_type": "markdown",
      "source": [
        "Мы должны прописывать часть речи через подчеркивание, потому что эта модель была натренирована на текстах, размеченных по частям речи. [Здесь](https://universaldependencies.org/u/pos/) можно посмотреть, какие сокращения за что отвечают. К сожалению, на английском. :(\n",
        "\n",
        "Если модель не найдет в словаре запрашиваемого слова, то она выдаст ошибку."
      ],
      "metadata": {
        "id": "p4X731-uYT_C"
      }
    },
    {
      "cell_type": "code",
      "source": [
        "rus_vectors.most_similar('зависть_NOUN') # находит самые близкие слова для заданного слова"
      ],
      "metadata": {
        "id": "xNWcQas-S--2"
      },
      "execution_count": null,
      "outputs": []
    },
    {
      "cell_type": "code",
      "source": [
        "rus_vectors.most_similar('день_NOUN') # находит самые близкие слова для заданного слова"
      ],
      "metadata": {
        "id": "RZCVnI-CZU3Q"
      },
      "execution_count": null,
      "outputs": []
    },
    {
      "cell_type": "code",
      "source": [
        "rus_vectors.most_similar('лингвистика_NOUN') # находит самые близкие слова для заданного слова"
      ],
      "metadata": {
        "id": "GUy3mm-iZXaQ"
      },
      "execution_count": null,
      "outputs": []
    },
    {
      "cell_type": "code",
      "source": [
        "rus_vectors.most_similar('самобытный_ADJ') # находит самые близкие слова для заданного слова"
      ],
      "metadata": {
        "id": "4vJ7kvgMZbmR"
      },
      "execution_count": null,
      "outputs": []
    },
    {
      "cell_type": "markdown",
      "source": [
        "Находит косинусную близость двух слов."
      ],
      "metadata": {
        "id": "tvf3auoMaUsU"
      }
    },
    {
      "cell_type": "code",
      "source": [
        "rus_vectors.similarity('зависть_NOUN', 'любовь_NOUN')"
      ],
      "metadata": {
        "id": "h18ilIVfY2Vd"
      },
      "execution_count": null,
      "outputs": []
    },
    {
      "cell_type": "code",
      "source": [
        "rus_vectors.similarity('обезьяна_NOUN', 'человек_NOUN')"
      ],
      "metadata": {
        "id": "cRAwUZnmamPz"
      },
      "execution_count": null,
      "outputs": []
    },
    {
      "cell_type": "code",
      "source": [
        "rus_vectors.similarity('лингвистика_NOUN', 'компьютерный_ADJ')"
      ],
      "metadata": {
        "id": "-nDLInURasou"
      },
      "execution_count": null,
      "outputs": []
    },
    {
      "cell_type": "code",
      "source": [
        "rus_vectors.similarity('малина_NOUN', 'ежевика_NOUN')"
      ],
      "metadata": {
        "id": "6EKo1CqNaz6z"
      },
      "execution_count": null,
      "outputs": []
    },
    {
      "cell_type": "markdown",
      "source": [
        "Мы можем просить модель решить пропорции. *Positive* - векторы, которые мы добавляем. *Negative* - векторы, которые мы вычитаем."
      ],
      "metadata": {
        "id": "zlubEgtGbF4L"
      }
    },
    {
      "cell_type": "code",
      "source": [
        "rus_vectors.most_similar(positive = ['король_NOUN', 'женщина_NOUN'], negative = ['мужчина_NOUN'])"
      ],
      "metadata": {
        "id": "0bPLUo9KbFY6"
      },
      "execution_count": null,
      "outputs": []
    },
    {
      "cell_type": "code",
      "source": [
        "rus_vectors.most_similar(positive = ['лежать_VERB', 'бегать_VERB'], negative = ['спать_VERB'])"
      ],
      "metadata": {
        "id": "NmlMHWqsb4ZQ"
      },
      "execution_count": null,
      "outputs": []
    },
    {
      "cell_type": "code",
      "source": [
        "rus_vectors.most_similar(positive = ['водка_NOUN', 'китай_NOUN'], negative = ['россия_NOUN'])"
      ],
      "metadata": {
        "id": "RVjJVG7Ndbty"
      },
      "execution_count": null,
      "outputs": []
    },
    {
      "cell_type": "markdown",
      "source": [
        "Также можно попросить модель найти лишнее слово из списка слов. Таким словом будет то слово, вектор которого наиболее удален от всех остальных."
      ],
      "metadata": {
        "id": "prOOuSF5dzQ6"
      }
    },
    {
      "cell_type": "code",
      "source": [
        "rus_vectors.doesnt_match('лингвистика_NOUN физика_NOUN философия_NOUN биология_NOUN химия_NOUN'.split())"
      ],
      "metadata": {
        "id": "01JbKMnedy06"
      },
      "execution_count": null,
      "outputs": []
    },
    {
      "cell_type": "code",
      "source": [
        "rus_vectors.doesnt_match('синий_ADJ желтый_ADJ красный_ADJ зеленый_ADJ серый_ADJ'.split())"
      ],
      "metadata": {
        "id": "dfBoBG5IeXTf"
      },
      "execution_count": null,
      "outputs": []
    },
    {
      "cell_type": "code",
      "source": [
        "rus_vectors.doesnt_match('россия_NOUN англия_NOUN лондон_NOUN америка_NOUN германия_NOUN китай_NOUN'.split())"
      ],
      "metadata": {
        "id": "JMJsY0wQe012"
      },
      "execution_count": null,
      "outputs": []
    },
    {
      "cell_type": "code",
      "source": [
        "rus_vectors.doesnt_match('россия_NOUN англия_NOUN лондон_NOUN америка_NOUN германия_NOUN'.split())"
      ],
      "metadata": {
        "id": "J0eSx5yzfETA"
      },
      "execution_count": null,
      "outputs": []
    },
    {
      "cell_type": "markdown",
      "source": [
        "Также мы можем просто попросить модель дать нам вектор определенного слова. Здесь также можно проводить операции сложения и вычетания."
      ],
      "metadata": {
        "id": "y6zlSGF_f5fm"
      }
    },
    {
      "cell_type": "code",
      "source": [
        "rus_vectors.word_vec('сова_NOUN')"
      ],
      "metadata": {
        "id": "1kg4QF85fwBv"
      },
      "execution_count": null,
      "outputs": []
    },
    {
      "cell_type": "markdown",
      "source": [
        "### Можем ради интереса глянуть на Twitter"
      ],
      "metadata": {
        "id": "Akhrx1xXgdmy"
      }
    },
    {
      "cell_type": "code",
      "source": [
        "twit_vectors = gensim.downloader.load('glove-twitter-50') # число в конце отвечает за длину эмбеддинга"
      ],
      "metadata": {
        "id": "ArPHs66fghaA"
      },
      "execution_count": null,
      "outputs": []
    },
    {
      "cell_type": "markdown",
      "source": [
        "Этот словарь не размечен по частям речи. И данные были собраны не только с англоязычного Твиттера, но и, например, с русского, испанского, немецкого. Хотя, конечно, их объемы могут быть не сопоставимы."
      ],
      "metadata": {
        "id": "vFpRm7Mahpc-"
      }
    },
    {
      "cell_type": "code",
      "source": [
        "twit_vectors.most_similar('sein') # на немецком"
      ],
      "metadata": {
        "id": "_6StLrqohIY_"
      },
      "execution_count": null,
      "outputs": []
    },
    {
      "cell_type": "code",
      "source": [
        "twit_vectors.most_similar('тролль')"
      ],
      "metadata": {
        "id": "W5pGjQORipFW"
      },
      "execution_count": null,
      "outputs": []
    },
    {
      "cell_type": "code",
      "source": [
        "twit_vectors.most_similar('casa') # на испанском"
      ],
      "metadata": {
        "id": "zrJADjixjDtd"
      },
      "execution_count": null,
      "outputs": []
    },
    {
      "cell_type": "code",
      "source": [
        "twit_vectors.most_similar(positive = ['холод', 'туман'], negative = ['жара'])"
      ],
      "metadata": {
        "id": "vCA1Tu1BkCV1"
      },
      "execution_count": null,
      "outputs": []
    }
  ],
  "metadata": {
    "colab": {
      "provenance": [],
      "authorship_tag": "ABX9TyMsNwO3dRRxceEI3CLMQLyq",
      "include_colab_link": true
    },
    "kernelspec": {
      "display_name": "Python 3",
      "name": "python3"
    },
    "language_info": {
      "name": "python"
    }
  },
  "nbformat": 4,
  "nbformat_minor": 0
}