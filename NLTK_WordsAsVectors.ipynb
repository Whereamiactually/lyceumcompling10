{
  "nbformat": 4,
  "nbformat_minor": 0,
  "metadata": {
    "colab": {
      "provenance": [],
      "authorship_tag": "ABX9TyNThBhzzJ3Q+i8ms3V+Wfxq",
      "include_colab_link": true
    },
    "kernelspec": {
      "name": "python3",
      "display_name": "Python 3"
    },
    "language_info": {
      "name": "python"
    }
  },
  "cells": [
    {
      "cell_type": "markdown",
      "metadata": {
        "id": "view-in-github",
        "colab_type": "text"
      },
      "source": [
        "<a href=\"https://colab.research.google.com/github/Whereamiactually/lyceumcompling10/blob/main/NLTK_WordsAsVectors.ipynb\" target=\"_parent\"><img src=\"https://colab.research.google.com/assets/colab-badge.svg\" alt=\"Open In Colab\"/></a>"
      ]
    },
    {
      "cell_type": "markdown",
      "source": [
        "# NLTK\n",
        "\n",
        "**Natural Language Toolkit** (набор инструментов для естественной обработки языка) - *встроенный* пакет библиотек и программ для обработки естественного языка (токенизация, стемминг, лемматизация, POS-тэггинг, графическое представление структуры, ...).\n",
        "\n",
        "Сейчас мы посмотрим на некоторое из того, что этот набор библиотек умеет.\n"
      ],
      "metadata": {
        "id": "htoh9a70S56L"
      }
    },
    {
      "cell_type": "code",
      "source": [
        "import nltk\n",
        "nltk.download('punkt') # для word_tokenize\n",
        "nltk.download('averaged_perceptron_tagger') # для pos_tag"
      ],
      "metadata": {
        "colab": {
          "base_uri": "https://localhost:8080/"
        },
        "id": "b43EsGeSULYX",
        "outputId": "5d9b00a0-a784-48da-c9ef-f219d15b0c2b"
      },
      "execution_count": 2,
      "outputs": [
        {
          "output_type": "stream",
          "name": "stderr",
          "text": [
            "[nltk_data] Downloading package punkt to /root/nltk_data...\n",
            "[nltk_data]   Unzipping tokenizers/punkt.zip.\n",
            "[nltk_data] Downloading package averaged_perceptron_tagger to\n",
            "[nltk_data]     /root/nltk_data...\n",
            "[nltk_data]   Unzipping taggers/averaged_perceptron_tagger.zip.\n"
          ]
        },
        {
          "output_type": "execute_result",
          "data": {
            "text/plain": [
              "True"
            ]
          },
          "metadata": {},
          "execution_count": 2
        }
      ]
    },
    {
      "cell_type": "markdown",
      "source": [
        "### Найдём частотность слов\n",
        "\n",
        "**Brown University Standard Corpus of Present-Day American English** (Brown Corpus) - корпус текстов на американском английском, первый структурированный корпус текстов разных жанров (1967)."
      ],
      "metadata": {
        "id": "u5zqJ9tvwYTY"
      }
    },
    {
      "cell_type": "code",
      "source": [
        "nltk.download('brown') # скачиваем корпус\n",
        "brown = nltk.corpus.brown\n",
        "brown.words()"
      ],
      "metadata": {
        "colab": {
          "base_uri": "https://localhost:8080/"
        },
        "id": "-vRF9UmWwwNV",
        "outputId": "0dbf4ba1-2385-4075-e920-533339bd506d"
      },
      "execution_count": 3,
      "outputs": [
        {
          "output_type": "stream",
          "name": "stderr",
          "text": [
            "[nltk_data] Downloading package brown to /root/nltk_data...\n",
            "[nltk_data]   Unzipping corpora/brown.zip.\n"
          ]
        },
        {
          "output_type": "execute_result",
          "data": {
            "text/plain": [
              "['The', 'Fulton', 'County', 'Grand', 'Jury', 'said', ...]"
            ]
          },
          "metadata": {},
          "execution_count": 3
        }
      ]
    },
    {
      "cell_type": "code",
      "source": [
        "frequency = nltk.FreqDist(brown.words()) # находим абсолютную частотность слов"
      ],
      "metadata": {
        "id": "TQc9KtPexOIk"
      },
      "execution_count": 4,
      "outputs": []
    },
    {
      "cell_type": "code",
      "source": [
        "frequency.most_common(30) # выводим самые часто встречающиеся слова"
      ],
      "metadata": {
        "id": "EesvbPxNxS4b"
      },
      "execution_count": null,
      "outputs": []
    },
    {
      "cell_type": "markdown",
      "source": [
        "Ну такое. Суть потерялась по дороге. Напишем код, который убирает самые частотные бессмысленные слова (**stopwords / стоп-слова**) и пунктуацию.\n",
        "\n",
        "[Здесь](https://www.nltk.org/book/ch02.html) можно найти другие прикольные корпуса, которыми можно пользоваться. На некоторые из них мы посмотрим позже."
      ],
      "metadata": {
        "id": "AR5PxLJqxZHh"
      }
    },
    {
      "cell_type": "code",
      "source": [
        "nltk.download(\"stopwords\")\n",
        "stops = list(set(nltk.corpus.stopwords.words(\"russian\")))\n",
        "stops.sort()\n",
        "stops"
      ],
      "metadata": {
        "id": "EZGnD5gtWWWZ"
      },
      "execution_count": null,
      "outputs": []
    },
    {
      "cell_type": "code",
      "source": [
        "nltk.download(\"stopwords\")\n",
        "stops = list(set(nltk.corpus.stopwords.words(\"english\")))"
      ],
      "metadata": {
        "colab": {
          "base_uri": "https://localhost:8080/"
        },
        "id": "ObqiSajjxh6P",
        "outputId": "606fd22a-8ec0-4b01-d2b8-52b059e0e17c"
      },
      "execution_count": 12,
      "outputs": [
        {
          "output_type": "stream",
          "name": "stderr",
          "text": [
            "[nltk_data] Downloading package stopwords to /root/nltk_data...\n",
            "[nltk_data]   Package stopwords is already up-to-date!\n"
          ]
        }
      ]
    },
    {
      "cell_type": "code",
      "source": [
        "stops.sort()\n",
        "stops"
      ],
      "metadata": {
        "id": "19UQ2GZszfym"
      },
      "execution_count": null,
      "outputs": []
    },
    {
      "cell_type": "code",
      "source": [
        "import string\n",
        "punct = list(string.punctuation)\n",
        "punct"
      ],
      "metadata": {
        "id": "P_EqfoyRyXsw"
      },
      "execution_count": null,
      "outputs": []
    },
    {
      "cell_type": "code",
      "source": [
        "frequency = nltk.FreqDist([w for w in brown.words() if w.lower() not in list(stops) + punct + ['``', \"''\", '--']])\n",
        "frequency.most_common(25)"
      ],
      "metadata": {
        "id": "Y50msyxCxywC"
      },
      "execution_count": null,
      "outputs": []
    },
    {
      "cell_type": "markdown",
      "source": [
        "Посмотрим на примере одного текста."
      ],
      "metadata": {
        "id": "2z6sBxLSa8un"
      }
    },
    {
      "cell_type": "code",
      "source": [
        "eng_text = 'Cillian Murphy participated in the 2007 Rock the Vote Ireland campaign, targeting young voters for the general election, and campaigning for the rights of the homeless with the organisation Focus Ireland. In 2011, he became a patron of the UNESCO Child and Family Research Centre at the National University of Ireland Galway. He is closely associated with the work of Professor Pat Dolan Director UCFRC and UNESCO Chair in Children, Youth and Civic Engagement. In February 2012, he wrote a message of support to the former Vita Cortex workers involved in a sit-in at their plant, congratulating them for \"highlighting [what] is hugely important to us all as a nation\". Murphy was a supporter of the 2018 Irish referendum to repeal the eighth amendment of the constitution that restricted access to abortions.'\n",
        "text_wo_punct = eng_text.translate(str.maketrans('', '', string.punctuation)) # заменяет ''(1) на ''(2) и убирает пунктуацию\n",
        "text_wo_punct"
      ],
      "metadata": {
        "id": "x1ydnxPeYo9O"
      },
      "execution_count": 20,
      "outputs": []
    },
    {
      "cell_type": "code",
      "source": [
        "tokens = nltk.word_tokenize(text_wo_punct)\n",
        "tokens"
      ],
      "metadata": {
        "id": "NFO_zRE3ZFsG"
      },
      "execution_count": null,
      "outputs": []
    },
    {
      "cell_type": "markdown",
      "source": [
        "Разметим части речи у выделенных нами слов. На этой [картинке](https://github.com/Whereamiactually/lyceumcompling11/blob/main/POS%20tags%20(NLTK).png) дана расшифровка всех условных сокращений с примерами из английского языка.\n",
        "\n"
      ],
      "metadata": {
        "id": "8zsyM8sXZy-M"
      }
    },
    {
      "cell_type": "code",
      "source": [
        "tagged_tokens = nltk.pos_tag(tokens)\n",
        "tagged_tokens"
      ],
      "metadata": {
        "id": "n4SMh6sWZsPR"
      },
      "execution_count": null,
      "outputs": []
    },
    {
      "cell_type": "markdown",
      "source": [
        "Подсчитаем количество слов каждый части речи."
      ],
      "metadata": {
        "id": "BhHuBD_6Z6x6"
      }
    },
    {
      "cell_type": "code",
      "source": [
        "number_pos = {}\n",
        "for pair in tagged_tokens:\n",
        "  if pair[1] in number_pos:\n",
        "    number_pos[pair[1]] += 1\n",
        "  else:\n",
        "    number_pos[pair[1]] = 1\n",
        "number_pos"
      ],
      "metadata": {
        "colab": {
          "base_uri": "https://localhost:8080/"
        },
        "id": "28mLpZPqZ6B0",
        "outputId": "3d903eb8-afee-4970-8ec1-fbe7b4797782"
      },
      "execution_count": 24,
      "outputs": [
        {
          "output_type": "execute_result",
          "data": {
            "text/plain": [
              "{'JJ': 6,\n",
              " 'NNP': 31,\n",
              " 'VBD': 5,\n",
              " 'IN': 20,\n",
              " 'DT': 19,\n",
              " 'CD': 4,\n",
              " 'NN': 17,\n",
              " 'VBG': 3,\n",
              " 'NNS': 4,\n",
              " 'CC': 4,\n",
              " 'PRP': 5,\n",
              " 'VBZ': 2,\n",
              " 'RB': 2,\n",
              " 'VBN': 2,\n",
              " 'TO': 4,\n",
              " 'PRP$': 1,\n",
              " 'WP': 1,\n",
              " 'VB': 1,\n",
              " 'WDT': 1}"
            ]
          },
          "metadata": {},
          "execution_count": 24
        }
      ]
    },
    {
      "cell_type": "code",
      "source": [
        "frequency_cm = nltk.FreqDist([w for w in tokens if w.lower() not in punct + ['``', \"''\", '--']])\n",
        "frequency_cm.most_common(25)"
      ],
      "metadata": {
        "colab": {
          "base_uri": "https://localhost:8080/"
        },
        "id": "ZSHeCnWAb_-9",
        "outputId": "d93efe7e-0155-4a60-8f59-0c950afeb15d"
      },
      "execution_count": 31,
      "outputs": [
        {
          "output_type": "execute_result",
          "data": {
            "text/plain": [
              "[('the', 13),\n",
              " ('of', 7),\n",
              " ('a', 5),\n",
              " ('and', 4),\n",
              " ('to', 4),\n",
              " ('in', 3),\n",
              " ('Ireland', 3),\n",
              " ('for', 3),\n",
              " ('Murphy', 2),\n",
              " ('with', 2),\n",
              " ('In', 2),\n",
              " ('he', 2),\n",
              " ('UNESCO', 2),\n",
              " ('at', 2),\n",
              " ('is', 2),\n",
              " ('Cillian', 1),\n",
              " ('participated', 1),\n",
              " ('2007', 1),\n",
              " ('Rock', 1),\n",
              " ('Vote', 1),\n",
              " ('campaign', 1),\n",
              " ('targeting', 1),\n",
              " ('young', 1),\n",
              " ('voters', 1),\n",
              " ('general', 1)]"
            ]
          },
          "metadata": {},
          "execution_count": 31
        }
      ]
    },
    {
      "cell_type": "markdown",
      "source": [
        "Удалим из нашего текста стоп-слова."
      ],
      "metadata": {
        "id": "_nxRn1Esb7Aw"
      }
    },
    {
      "cell_type": "code",
      "source": [
        "frequency_cm = nltk.FreqDist([w for w in tokens if w.lower() not in list(stops) + punct + ['``', \"''\", '--']])\n",
        "frequency_cm.most_common(25)"
      ],
      "metadata": {
        "colab": {
          "base_uri": "https://localhost:8080/"
        },
        "id": "UYzca7MXb5yZ",
        "outputId": "39f7a431-1287-47e8-ca8c-6d0163d222c4"
      },
      "execution_count": 32,
      "outputs": [
        {
          "output_type": "execute_result",
          "data": {
            "text/plain": [
              "[('Ireland', 3),\n",
              " ('Murphy', 2),\n",
              " ('UNESCO', 2),\n",
              " ('Cillian', 1),\n",
              " ('participated', 1),\n",
              " ('2007', 1),\n",
              " ('Rock', 1),\n",
              " ('Vote', 1),\n",
              " ('campaign', 1),\n",
              " ('targeting', 1),\n",
              " ('young', 1),\n",
              " ('voters', 1),\n",
              " ('general', 1),\n",
              " ('election', 1),\n",
              " ('campaigning', 1),\n",
              " ('rights', 1),\n",
              " ('homeless', 1),\n",
              " ('organisation', 1),\n",
              " ('Focus', 1),\n",
              " ('2011', 1),\n",
              " ('became', 1),\n",
              " ('patron', 1),\n",
              " ('Child', 1),\n",
              " ('Family', 1),\n",
              " ('Research', 1)]"
            ]
          },
          "metadata": {},
          "execution_count": 32
        }
      ]
    },
    {
      "cell_type": "markdown",
      "source": [
        "Распознаем именованные сущности."
      ],
      "metadata": {
        "id": "TDYJ8Ow2aHbd"
      }
    },
    {
      "cell_type": "code",
      "source": [
        "nltk.download('maxent_ne_chunker')\n",
        "nltk.download('words')"
      ],
      "metadata": {
        "colab": {
          "base_uri": "https://localhost:8080/"
        },
        "id": "rAQAj2SVaOL2",
        "outputId": "3e216ae2-c9d8-4397-bd77-8c101d13e7bf"
      },
      "execution_count": 25,
      "outputs": [
        {
          "output_type": "stream",
          "name": "stderr",
          "text": [
            "[nltk_data] Downloading package maxent_ne_chunker to\n",
            "[nltk_data]     /root/nltk_data...\n",
            "[nltk_data]   Unzipping chunkers/maxent_ne_chunker.zip.\n",
            "[nltk_data] Downloading package words to /root/nltk_data...\n",
            "[nltk_data]   Unzipping corpora/words.zip.\n"
          ]
        },
        {
          "output_type": "execute_result",
          "data": {
            "text/plain": [
              "True"
            ]
          },
          "metadata": {},
          "execution_count": 25
        }
      ]
    },
    {
      "cell_type": "code",
      "source": [
        "pip install svgling # понадобится для NER"
      ],
      "metadata": {
        "colab": {
          "base_uri": "https://localhost:8080/"
        },
        "id": "XXH5gGftabzd",
        "outputId": "cda9e1f0-b666-4f8b-d76c-81c5583962e4"
      },
      "execution_count": 27,
      "outputs": [
        {
          "output_type": "stream",
          "name": "stdout",
          "text": [
            "Collecting svgling\n",
            "  Downloading svgling-0.4.0-py3-none-any.whl (23 kB)\n",
            "Collecting svgwrite (from svgling)\n",
            "  Downloading svgwrite-1.4.3-py3-none-any.whl (67 kB)\n",
            "\u001b[2K     \u001b[90m━━━━━━━━━━━━━━━━━━━━━━━━━━━━━━━━━━━━━━━━\u001b[0m \u001b[32m67.1/67.1 kB\u001b[0m \u001b[31m4.5 MB/s\u001b[0m eta \u001b[36m0:00:00\u001b[0m\n",
            "\u001b[?25hInstalling collected packages: svgwrite, svgling\n",
            "Successfully installed svgling-0.4.0 svgwrite-1.4.3\n"
          ]
        }
      ]
    },
    {
      "cell_type": "code",
      "source": [
        "entities = nltk.chunk.ne_chunk(tagged_tokens[:31])\n",
        "entities"
      ],
      "metadata": {
        "colab": {
          "base_uri": "https://localhost:8080/",
          "height": 209
        },
        "id": "p8wGesSSaPtp",
        "outputId": "0e69a8ad-e332-4e73-c571-512c9e785295"
      },
      "execution_count": 29,
      "outputs": [
        {
          "output_type": "execute_result",
          "data": {
            "text/plain": [
              "Tree('S', [Tree('GPE', [('Cillian', 'JJ')]), Tree('PERSON', [('Murphy', 'NNP')]), ('participated', 'VBD'), ('in', 'IN'), ('the', 'DT'), ('2007', 'CD'), ('Rock', 'NNP'), ('the', 'DT'), Tree('ORGANIZATION', [('Vote', 'NNP'), ('Ireland', 'NNP')]), ('campaign', 'NN'), ('targeting', 'VBG'), ('young', 'JJ'), ('voters', 'NNS'), ('for', 'IN'), ('the', 'DT'), ('general', 'JJ'), ('election', 'NN'), ('and', 'CC'), ('campaigning', 'NN'), ('for', 'IN'), ('the', 'DT'), ('rights', 'NNS'), ('of', 'IN'), ('the', 'DT'), ('homeless', 'NN'), ('with', 'IN'), ('the', 'DT'), ('organisation', 'NN'), Tree('PERSON', [('Focus', 'NNP'), ('Ireland', 'NNP')])])"
            ],
            "image/svg+xml": "<svg baseProfile=\"full\" height=\"168px\" preserveAspectRatio=\"xMidYMid meet\" style=\"font-family: times, serif; font-weight: normal; font-style: normal; font-size: 16px;\" version=\"1.1\" viewBox=\"0,0,1864.0,168.0\" width=\"1864px\" xmlns=\"http://www.w3.org/2000/svg\" xmlns:ev=\"http://www.w3.org/2001/xml-events\" xmlns:xlink=\"http://www.w3.org/1999/xlink\"><defs /><svg width=\"100%\" x=\"0\" y=\"0px\"><defs /><text text-anchor=\"middle\" x=\"50%\" y=\"16px\">S</text></svg><svg width=\"3.86266%\" x=\"0%\" y=\"48px\"><defs /><svg width=\"100%\" x=\"0\" y=\"0px\"><defs /><text text-anchor=\"middle\" x=\"50%\" y=\"16px\">GPE</text></svg><svg width=\"100%\" x=\"0%\" y=\"48px\"><defs /><svg width=\"100%\" x=\"0\" y=\"0px\"><defs /><text text-anchor=\"middle\" x=\"50%\" y=\"16px\">Cillian</text></svg><svg width=\"100%\" x=\"0%\" y=\"48px\"><defs /><svg width=\"100%\" x=\"0\" y=\"0px\"><defs /><text text-anchor=\"middle\" x=\"50%\" y=\"16px\">JJ</text></svg></svg><line stroke=\"black\" x1=\"50%\" x2=\"50%\" y1=\"19.2px\" y2=\"48px\" /></svg><line stroke=\"black\" x1=\"50%\" x2=\"50%\" y1=\"19.2px\" y2=\"48px\" /></svg><line stroke=\"black\" x1=\"50%\" x2=\"1.93133%\" y1=\"19.2px\" y2=\"48px\" /><svg width=\"3.43348%\" x=\"3.86266%\" y=\"48px\"><defs /><svg width=\"100%\" x=\"0\" y=\"0px\"><defs /><text text-anchor=\"middle\" x=\"50%\" y=\"16px\">PERSON</text></svg><svg width=\"100%\" x=\"0%\" y=\"48px\"><defs /><svg width=\"100%\" x=\"0\" y=\"0px\"><defs /><text text-anchor=\"middle\" x=\"50%\" y=\"16px\">Murphy</text></svg><svg width=\"100%\" x=\"0%\" y=\"48px\"><defs /><svg width=\"100%\" x=\"0\" y=\"0px\"><defs /><text text-anchor=\"middle\" x=\"50%\" y=\"16px\">NNP</text></svg></svg><line stroke=\"black\" x1=\"50%\" x2=\"50%\" y1=\"19.2px\" y2=\"48px\" /></svg><line stroke=\"black\" x1=\"50%\" x2=\"50%\" y1=\"19.2px\" y2=\"48px\" /></svg><line stroke=\"black\" x1=\"50%\" x2=\"5.5794%\" y1=\"19.2px\" y2=\"48px\" /><svg width=\"6.00858%\" x=\"7.29614%\" y=\"48px\"><defs /><svg width=\"100%\" x=\"0\" y=\"0px\"><defs /><text text-anchor=\"middle\" x=\"50%\" y=\"16px\">participated</text></svg><svg width=\"100%\" x=\"0%\" y=\"48px\"><defs /><svg width=\"100%\" x=\"0\" y=\"0px\"><defs /><text text-anchor=\"middle\" x=\"50%\" y=\"16px\">VBD</text></svg></svg><line stroke=\"black\" x1=\"50%\" x2=\"50%\" y1=\"19.2px\" y2=\"48px\" /></svg><line stroke=\"black\" x1=\"50%\" x2=\"10.3004%\" y1=\"19.2px\" y2=\"48px\" /><svg width=\"1.71674%\" x=\"13.3047%\" y=\"48px\"><defs /><svg width=\"100%\" x=\"0\" y=\"0px\"><defs /><text text-anchor=\"middle\" x=\"50%\" y=\"16px\">in</text></svg><svg width=\"100%\" x=\"0%\" y=\"48px\"><defs /><svg width=\"100%\" x=\"0\" y=\"0px\"><defs /><text text-anchor=\"middle\" x=\"50%\" y=\"16px\">IN</text></svg></svg><line stroke=\"black\" x1=\"50%\" x2=\"50%\" y1=\"19.2px\" y2=\"48px\" /></svg><line stroke=\"black\" x1=\"50%\" x2=\"14.1631%\" y1=\"19.2px\" y2=\"48px\" /><svg width=\"2.14592%\" x=\"15.0215%\" y=\"48px\"><defs /><svg width=\"100%\" x=\"0\" y=\"0px\"><defs /><text text-anchor=\"middle\" x=\"50%\" y=\"16px\">the</text></svg><svg width=\"100%\" x=\"0%\" y=\"48px\"><defs /><svg width=\"100%\" x=\"0\" y=\"0px\"><defs /><text text-anchor=\"middle\" x=\"50%\" y=\"16px\">DT</text></svg></svg><line stroke=\"black\" x1=\"50%\" x2=\"50%\" y1=\"19.2px\" y2=\"48px\" /></svg><line stroke=\"black\" x1=\"50%\" x2=\"16.0944%\" y1=\"19.2px\" y2=\"48px\" /><svg width=\"2.57511%\" x=\"17.1674%\" y=\"48px\"><defs /><svg width=\"100%\" x=\"0\" y=\"0px\"><defs /><text text-anchor=\"middle\" x=\"50%\" y=\"16px\">2007</text></svg><svg width=\"100%\" x=\"0%\" y=\"48px\"><defs /><svg width=\"100%\" x=\"0\" y=\"0px\"><defs /><text text-anchor=\"middle\" x=\"50%\" y=\"16px\">CD</text></svg></svg><line stroke=\"black\" x1=\"50%\" x2=\"50%\" y1=\"19.2px\" y2=\"48px\" /></svg><line stroke=\"black\" x1=\"50%\" x2=\"18.4549%\" y1=\"19.2px\" y2=\"48px\" /><svg width=\"2.57511%\" x=\"19.7425%\" y=\"48px\"><defs /><svg width=\"100%\" x=\"0\" y=\"0px\"><defs /><text text-anchor=\"middle\" x=\"50%\" y=\"16px\">Rock</text></svg><svg width=\"100%\" x=\"0%\" y=\"48px\"><defs /><svg width=\"100%\" x=\"0\" y=\"0px\"><defs /><text text-anchor=\"middle\" x=\"50%\" y=\"16px\">NNP</text></svg></svg><line stroke=\"black\" x1=\"50%\" x2=\"50%\" y1=\"19.2px\" y2=\"48px\" /></svg><line stroke=\"black\" x1=\"50%\" x2=\"21.03%\" y1=\"19.2px\" y2=\"48px\" /><svg width=\"2.14592%\" x=\"22.3176%\" y=\"48px\"><defs /><svg width=\"100%\" x=\"0\" y=\"0px\"><defs /><text text-anchor=\"middle\" x=\"50%\" y=\"16px\">the</text></svg><svg width=\"100%\" x=\"0%\" y=\"48px\"><defs /><svg width=\"100%\" x=\"0\" y=\"0px\"><defs /><text text-anchor=\"middle\" x=\"50%\" y=\"16px\">DT</text></svg></svg><line stroke=\"black\" x1=\"50%\" x2=\"50%\" y1=\"19.2px\" y2=\"48px\" /></svg><line stroke=\"black\" x1=\"50%\" x2=\"23.3906%\" y1=\"19.2px\" y2=\"48px\" /><svg width=\"6.43777%\" x=\"24.4635%\" y=\"48px\"><defs /><svg width=\"100%\" x=\"0\" y=\"0px\"><defs /><text text-anchor=\"middle\" x=\"50%\" y=\"16px\">ORGANIZATION</text></svg><svg width=\"40%\" x=\"0%\" y=\"48px\"><defs /><svg width=\"100%\" x=\"0\" y=\"0px\"><defs /><text text-anchor=\"middle\" x=\"50%\" y=\"16px\">Vote</text></svg><svg width=\"100%\" x=\"0%\" y=\"48px\"><defs /><svg width=\"100%\" x=\"0\" y=\"0px\"><defs /><text text-anchor=\"middle\" x=\"50%\" y=\"16px\">NNP</text></svg></svg><line stroke=\"black\" x1=\"50%\" x2=\"50%\" y1=\"19.2px\" y2=\"48px\" /></svg><line stroke=\"black\" x1=\"50%\" x2=\"20%\" y1=\"19.2px\" y2=\"48px\" /><svg width=\"60%\" x=\"40%\" y=\"48px\"><defs /><svg width=\"100%\" x=\"0\" y=\"0px\"><defs /><text text-anchor=\"middle\" x=\"50%\" y=\"16px\">Ireland</text></svg><svg width=\"100%\" x=\"0%\" y=\"48px\"><defs /><svg width=\"100%\" x=\"0\" y=\"0px\"><defs /><text text-anchor=\"middle\" x=\"50%\" y=\"16px\">NNP</text></svg></svg><line stroke=\"black\" x1=\"50%\" x2=\"50%\" y1=\"19.2px\" y2=\"48px\" /></svg><line stroke=\"black\" x1=\"50%\" x2=\"70%\" y1=\"19.2px\" y2=\"48px\" /></svg><line stroke=\"black\" x1=\"50%\" x2=\"27.6824%\" y1=\"19.2px\" y2=\"48px\" /><svg width=\"4.29185%\" x=\"30.9013%\" y=\"48px\"><defs /><svg width=\"100%\" x=\"0\" y=\"0px\"><defs /><text text-anchor=\"middle\" x=\"50%\" y=\"16px\">campaign</text></svg><svg width=\"100%\" x=\"0%\" y=\"48px\"><defs /><svg width=\"100%\" x=\"0\" y=\"0px\"><defs /><text text-anchor=\"middle\" x=\"50%\" y=\"16px\">NN</text></svg></svg><line stroke=\"black\" x1=\"50%\" x2=\"50%\" y1=\"19.2px\" y2=\"48px\" /></svg><line stroke=\"black\" x1=\"50%\" x2=\"33.0472%\" y1=\"19.2px\" y2=\"48px\" /><svg width=\"4.72103%\" x=\"35.1931%\" y=\"48px\"><defs /><svg width=\"100%\" x=\"0\" y=\"0px\"><defs /><text text-anchor=\"middle\" x=\"50%\" y=\"16px\">targeting</text></svg><svg width=\"100%\" x=\"0%\" y=\"48px\"><defs /><svg width=\"100%\" x=\"0\" y=\"0px\"><defs /><text text-anchor=\"middle\" x=\"50%\" y=\"16px\">VBG</text></svg></svg><line stroke=\"black\" x1=\"50%\" x2=\"50%\" y1=\"19.2px\" y2=\"48px\" /></svg><line stroke=\"black\" x1=\"50%\" x2=\"37.5536%\" y1=\"19.2px\" y2=\"48px\" /><svg width=\"3.00429%\" x=\"39.9142%\" y=\"48px\"><defs /><svg width=\"100%\" x=\"0\" y=\"0px\"><defs /><text text-anchor=\"middle\" x=\"50%\" y=\"16px\">young</text></svg><svg width=\"100%\" x=\"0%\" y=\"48px\"><defs /><svg width=\"100%\" x=\"0\" y=\"0px\"><defs /><text text-anchor=\"middle\" x=\"50%\" y=\"16px\">JJ</text></svg></svg><line stroke=\"black\" x1=\"50%\" x2=\"50%\" y1=\"19.2px\" y2=\"48px\" /></svg><line stroke=\"black\" x1=\"50%\" x2=\"41.4163%\" y1=\"19.2px\" y2=\"48px\" /><svg width=\"3.43348%\" x=\"42.9185%\" y=\"48px\"><defs /><svg width=\"100%\" x=\"0\" y=\"0px\"><defs /><text text-anchor=\"middle\" x=\"50%\" y=\"16px\">voters</text></svg><svg width=\"100%\" x=\"0%\" y=\"48px\"><defs /><svg width=\"100%\" x=\"0\" y=\"0px\"><defs /><text text-anchor=\"middle\" x=\"50%\" y=\"16px\">NNS</text></svg></svg><line stroke=\"black\" x1=\"50%\" x2=\"50%\" y1=\"19.2px\" y2=\"48px\" /></svg><line stroke=\"black\" x1=\"50%\" x2=\"44.6352%\" y1=\"19.2px\" y2=\"48px\" /><svg width=\"2.14592%\" x=\"46.3519%\" y=\"48px\"><defs /><svg width=\"100%\" x=\"0\" y=\"0px\"><defs /><text text-anchor=\"middle\" x=\"50%\" y=\"16px\">for</text></svg><svg width=\"100%\" x=\"0%\" y=\"48px\"><defs /><svg width=\"100%\" x=\"0\" y=\"0px\"><defs /><text text-anchor=\"middle\" x=\"50%\" y=\"16px\">IN</text></svg></svg><line stroke=\"black\" x1=\"50%\" x2=\"50%\" y1=\"19.2px\" y2=\"48px\" /></svg><line stroke=\"black\" x1=\"50%\" x2=\"47.4249%\" y1=\"19.2px\" y2=\"48px\" /><svg width=\"2.14592%\" x=\"48.4979%\" y=\"48px\"><defs /><svg width=\"100%\" x=\"0\" y=\"0px\"><defs /><text text-anchor=\"middle\" x=\"50%\" y=\"16px\">the</text></svg><svg width=\"100%\" x=\"0%\" y=\"48px\"><defs /><svg width=\"100%\" x=\"0\" y=\"0px\"><defs /><text text-anchor=\"middle\" x=\"50%\" y=\"16px\">DT</text></svg></svg><line stroke=\"black\" x1=\"50%\" x2=\"50%\" y1=\"19.2px\" y2=\"48px\" /></svg><line stroke=\"black\" x1=\"50%\" x2=\"49.5708%\" y1=\"19.2px\" y2=\"48px\" /><svg width=\"3.86266%\" x=\"50.6438%\" y=\"48px\"><defs /><svg width=\"100%\" x=\"0\" y=\"0px\"><defs /><text text-anchor=\"middle\" x=\"50%\" y=\"16px\">general</text></svg><svg width=\"100%\" x=\"0%\" y=\"48px\"><defs /><svg width=\"100%\" x=\"0\" y=\"0px\"><defs /><text text-anchor=\"middle\" x=\"50%\" y=\"16px\">JJ</text></svg></svg><line stroke=\"black\" x1=\"50%\" x2=\"50%\" y1=\"19.2px\" y2=\"48px\" /></svg><line stroke=\"black\" x1=\"50%\" x2=\"52.5751%\" y1=\"19.2px\" y2=\"48px\" /><svg width=\"4.29185%\" x=\"54.5064%\" y=\"48px\"><defs /><svg width=\"100%\" x=\"0\" y=\"0px\"><defs /><text text-anchor=\"middle\" x=\"50%\" y=\"16px\">election</text></svg><svg width=\"100%\" x=\"0%\" y=\"48px\"><defs /><svg width=\"100%\" x=\"0\" y=\"0px\"><defs /><text text-anchor=\"middle\" x=\"50%\" y=\"16px\">NN</text></svg></svg><line stroke=\"black\" x1=\"50%\" x2=\"50%\" y1=\"19.2px\" y2=\"48px\" /></svg><line stroke=\"black\" x1=\"50%\" x2=\"56.6524%\" y1=\"19.2px\" y2=\"48px\" /><svg width=\"2.14592%\" x=\"58.7983%\" y=\"48px\"><defs /><svg width=\"100%\" x=\"0\" y=\"0px\"><defs /><text text-anchor=\"middle\" x=\"50%\" y=\"16px\">and</text></svg><svg width=\"100%\" x=\"0%\" y=\"48px\"><defs /><svg width=\"100%\" x=\"0\" y=\"0px\"><defs /><text text-anchor=\"middle\" x=\"50%\" y=\"16px\">CC</text></svg></svg><line stroke=\"black\" x1=\"50%\" x2=\"50%\" y1=\"19.2px\" y2=\"48px\" /></svg><line stroke=\"black\" x1=\"50%\" x2=\"59.8712%\" y1=\"19.2px\" y2=\"48px\" /><svg width=\"5.5794%\" x=\"60.9442%\" y=\"48px\"><defs /><svg width=\"100%\" x=\"0\" y=\"0px\"><defs /><text text-anchor=\"middle\" x=\"50%\" y=\"16px\">campaigning</text></svg><svg width=\"100%\" x=\"0%\" y=\"48px\"><defs /><svg width=\"100%\" x=\"0\" y=\"0px\"><defs /><text text-anchor=\"middle\" x=\"50%\" y=\"16px\">NN</text></svg></svg><line stroke=\"black\" x1=\"50%\" x2=\"50%\" y1=\"19.2px\" y2=\"48px\" /></svg><line stroke=\"black\" x1=\"50%\" x2=\"63.7339%\" y1=\"19.2px\" y2=\"48px\" /><svg width=\"2.14592%\" x=\"66.5236%\" y=\"48px\"><defs /><svg width=\"100%\" x=\"0\" y=\"0px\"><defs /><text text-anchor=\"middle\" x=\"50%\" y=\"16px\">for</text></svg><svg width=\"100%\" x=\"0%\" y=\"48px\"><defs /><svg width=\"100%\" x=\"0\" y=\"0px\"><defs /><text text-anchor=\"middle\" x=\"50%\" y=\"16px\">IN</text></svg></svg><line stroke=\"black\" x1=\"50%\" x2=\"50%\" y1=\"19.2px\" y2=\"48px\" /></svg><line stroke=\"black\" x1=\"50%\" x2=\"67.5966%\" y1=\"19.2px\" y2=\"48px\" /><svg width=\"2.14592%\" x=\"68.6695%\" y=\"48px\"><defs /><svg width=\"100%\" x=\"0\" y=\"0px\"><defs /><text text-anchor=\"middle\" x=\"50%\" y=\"16px\">the</text></svg><svg width=\"100%\" x=\"0%\" y=\"48px\"><defs /><svg width=\"100%\" x=\"0\" y=\"0px\"><defs /><text text-anchor=\"middle\" x=\"50%\" y=\"16px\">DT</text></svg></svg><line stroke=\"black\" x1=\"50%\" x2=\"50%\" y1=\"19.2px\" y2=\"48px\" /></svg><line stroke=\"black\" x1=\"50%\" x2=\"69.7425%\" y1=\"19.2px\" y2=\"48px\" /><svg width=\"3.43348%\" x=\"70.8155%\" y=\"48px\"><defs /><svg width=\"100%\" x=\"0\" y=\"0px\"><defs /><text text-anchor=\"middle\" x=\"50%\" y=\"16px\">rights</text></svg><svg width=\"100%\" x=\"0%\" y=\"48px\"><defs /><svg width=\"100%\" x=\"0\" y=\"0px\"><defs /><text text-anchor=\"middle\" x=\"50%\" y=\"16px\">NNS</text></svg></svg><line stroke=\"black\" x1=\"50%\" x2=\"50%\" y1=\"19.2px\" y2=\"48px\" /></svg><line stroke=\"black\" x1=\"50%\" x2=\"72.5322%\" y1=\"19.2px\" y2=\"48px\" /><svg width=\"1.71674%\" x=\"74.2489%\" y=\"48px\"><defs /><svg width=\"100%\" x=\"0\" y=\"0px\"><defs /><text text-anchor=\"middle\" x=\"50%\" y=\"16px\">of</text></svg><svg width=\"100%\" x=\"0%\" y=\"48px\"><defs /><svg width=\"100%\" x=\"0\" y=\"0px\"><defs /><text text-anchor=\"middle\" x=\"50%\" y=\"16px\">IN</text></svg></svg><line stroke=\"black\" x1=\"50%\" x2=\"50%\" y1=\"19.2px\" y2=\"48px\" /></svg><line stroke=\"black\" x1=\"50%\" x2=\"75.1073%\" y1=\"19.2px\" y2=\"48px\" /><svg width=\"2.14592%\" x=\"75.9657%\" y=\"48px\"><defs /><svg width=\"100%\" x=\"0\" y=\"0px\"><defs /><text text-anchor=\"middle\" x=\"50%\" y=\"16px\">the</text></svg><svg width=\"100%\" x=\"0%\" y=\"48px\"><defs /><svg width=\"100%\" x=\"0\" y=\"0px\"><defs /><text text-anchor=\"middle\" x=\"50%\" y=\"16px\">DT</text></svg></svg><line stroke=\"black\" x1=\"50%\" x2=\"50%\" y1=\"19.2px\" y2=\"48px\" /></svg><line stroke=\"black\" x1=\"50%\" x2=\"77.0386%\" y1=\"19.2px\" y2=\"48px\" /><svg width=\"4.29185%\" x=\"78.1116%\" y=\"48px\"><defs /><svg width=\"100%\" x=\"0\" y=\"0px\"><defs /><text text-anchor=\"middle\" x=\"50%\" y=\"16px\">homeless</text></svg><svg width=\"100%\" x=\"0%\" y=\"48px\"><defs /><svg width=\"100%\" x=\"0\" y=\"0px\"><defs /><text text-anchor=\"middle\" x=\"50%\" y=\"16px\">NN</text></svg></svg><line stroke=\"black\" x1=\"50%\" x2=\"50%\" y1=\"19.2px\" y2=\"48px\" /></svg><line stroke=\"black\" x1=\"50%\" x2=\"80.2575%\" y1=\"19.2px\" y2=\"48px\" /><svg width=\"2.57511%\" x=\"82.4034%\" y=\"48px\"><defs /><svg width=\"100%\" x=\"0\" y=\"0px\"><defs /><text text-anchor=\"middle\" x=\"50%\" y=\"16px\">with</text></svg><svg width=\"100%\" x=\"0%\" y=\"48px\"><defs /><svg width=\"100%\" x=\"0\" y=\"0px\"><defs /><text text-anchor=\"middle\" x=\"50%\" y=\"16px\">IN</text></svg></svg><line stroke=\"black\" x1=\"50%\" x2=\"50%\" y1=\"19.2px\" y2=\"48px\" /></svg><line stroke=\"black\" x1=\"50%\" x2=\"83.691%\" y1=\"19.2px\" y2=\"48px\" /><svg width=\"2.14592%\" x=\"84.9785%\" y=\"48px\"><defs /><svg width=\"100%\" x=\"0\" y=\"0px\"><defs /><text text-anchor=\"middle\" x=\"50%\" y=\"16px\">the</text></svg><svg width=\"100%\" x=\"0%\" y=\"48px\"><defs /><svg width=\"100%\" x=\"0\" y=\"0px\"><defs /><text text-anchor=\"middle\" x=\"50%\" y=\"16px\">DT</text></svg></svg><line stroke=\"black\" x1=\"50%\" x2=\"50%\" y1=\"19.2px\" y2=\"48px\" /></svg><line stroke=\"black\" x1=\"50%\" x2=\"86.0515%\" y1=\"19.2px\" y2=\"48px\" /><svg width=\"6.00858%\" x=\"87.1245%\" y=\"48px\"><defs /><svg width=\"100%\" x=\"0\" y=\"0px\"><defs /><text text-anchor=\"middle\" x=\"50%\" y=\"16px\">organisation</text></svg><svg width=\"100%\" x=\"0%\" y=\"48px\"><defs /><svg width=\"100%\" x=\"0\" y=\"0px\"><defs /><text text-anchor=\"middle\" x=\"50%\" y=\"16px\">NN</text></svg></svg><line stroke=\"black\" x1=\"50%\" x2=\"50%\" y1=\"19.2px\" y2=\"48px\" /></svg><line stroke=\"black\" x1=\"50%\" x2=\"90.1288%\" y1=\"19.2px\" y2=\"48px\" /><svg width=\"6.86695%\" x=\"93.133%\" y=\"48px\"><defs /><svg width=\"100%\" x=\"0\" y=\"0px\"><defs /><text text-anchor=\"middle\" x=\"50%\" y=\"16px\">PERSON</text></svg><svg width=\"43.75%\" x=\"0%\" y=\"48px\"><defs /><svg width=\"100%\" x=\"0\" y=\"0px\"><defs /><text text-anchor=\"middle\" x=\"50%\" y=\"16px\">Focus</text></svg><svg width=\"100%\" x=\"0%\" y=\"48px\"><defs /><svg width=\"100%\" x=\"0\" y=\"0px\"><defs /><text text-anchor=\"middle\" x=\"50%\" y=\"16px\">NNP</text></svg></svg><line stroke=\"black\" x1=\"50%\" x2=\"50%\" y1=\"19.2px\" y2=\"48px\" /></svg><line stroke=\"black\" x1=\"50%\" x2=\"21.875%\" y1=\"19.2px\" y2=\"48px\" /><svg width=\"56.25%\" x=\"43.75%\" y=\"48px\"><defs /><svg width=\"100%\" x=\"0\" y=\"0px\"><defs /><text text-anchor=\"middle\" x=\"50%\" y=\"16px\">Ireland</text></svg><svg width=\"100%\" x=\"0%\" y=\"48px\"><defs /><svg width=\"100%\" x=\"0\" y=\"0px\"><defs /><text text-anchor=\"middle\" x=\"50%\" y=\"16px\">NNP</text></svg></svg><line stroke=\"black\" x1=\"50%\" x2=\"50%\" y1=\"19.2px\" y2=\"48px\" /></svg><line stroke=\"black\" x1=\"50%\" x2=\"71.875%\" y1=\"19.2px\" y2=\"48px\" /></svg><line stroke=\"black\" x1=\"50%\" x2=\"96.5665%\" y1=\"19.2px\" y2=\"48px\" /></svg>"
          },
          "metadata": {},
          "execution_count": 29
        }
      ]
    },
    {
      "cell_type": "code",
      "source": [
        "from nltk.corpus import opinion_lexicon\n",
        "nltk.download('opinion_lexicon')\n",
        "pos_list = set(opinion_lexicon.positive())\n",
        "neg_list = set(opinion_lexicon.negative())\n",
        "print(pos_list)\n",
        "print(neg_list)"
      ],
      "metadata": {
        "colab": {
          "base_uri": "https://localhost:8080/"
        },
        "id": "U3gY9kYRhPY9",
        "outputId": "86d81b0d-4a13-4cf4-dea4-03dccc6dd3cc"
      },
      "execution_count": 50,
      "outputs": [
        {
          "output_type": "stream",
          "name": "stdout",
          "text": [
            "{'rejuvenating', 'well-positioned', 'purposeful', 'trumpet', 'geeky', 'enchanted', 'applaud', 'beckoned', 'outdo', 'work', 'heartening', 'stunning', 'qualified', 'achievible', 'refresh', 'adventuresome', 'tempt', 'conciliate', 'invaluable', 'handier', 'selective', 'unbound', 'steadfastly', 'illuminati', 'alluringly', 'jaw-droping', 'upgradeable', 'cheery', 'pre-eminent', 'gratified', 'impressive', 'benefactor', 'simplifying', 'whoa', 'conciliatory', 'adorer', 'cornerstone', 'consistent', 'congratulation', 'overtook', 'renaissance', 'rockstar', 'reverent', 'cozy', 'heartwarming', 'miraculously', 'masterful', 'trump', 'shimmeringly', 'improves', 'memorable', 'unfazed', 'afordable', 'lead', 'magnificent', 'outperforms', 'gentlest', 'acclamation', 'promptly', 'pleases', 'gaiety', 'reforming', 'neatly', 'blessing', 'inspire', 'worth', 'rewarding', 'exquisite', 'admirable', 'cure', 'saintly', 'daringly', 'immaculate', 'prospros', 'awesome', 'satisfying', 'exhilarate', 'prestige', 'courageous', 'well-informed', 'swank', 'mercy', 'peerless', 'dreamland', 'earnest', 'extraordinarily', 'healthful', 'thrifty', 'futurestic', 'genial', 'humor', 'impressiveness', 'suffices', 'adventurous', 'supremely', 'rejoicingly', 'replaceable', 'balanced', 'authentic', 'cuteness', 'sleek', 'inventive', 'law-abiding', 'dazzling', 'wonderfully', 'festive', 'beneficial', 'trust', 'eloquent', 'stylish', 'invulnerable', 'groundbreaking', 'enticing', 'enchant', 'spellbind', 'raptureously', 'unparalleled', 'keenness', 'virtuous', 'excels', 'stylized', 'elevate', 'qualify', 'benifits', 'impeccable', 'valiant', 'irreproachable', 'astonish', 'peppy', 'gracious', 'twinkly', 'mercifully', 'notably', 'lover', 'low-priced', 'convenient', 'straightforward', 'saintliness', 'enjoy', 'maturity', 'booming', 'humourous', 'renewed', 'assuredly', 'preeminent', 'agreeableness', 'tough', 'richly', 'gold', 'nourishment', 'supreme', 'heartily', 'individualized', 'maneuverable', 'courageousness', 'love', 'articulate', 'infallibility', 'consistently', 'smiles', 'elation', 'extol', 'charm', 'eloquently', 'dominated', 'complements', 'appealing', 'comfortable', 'responsibly', 'pep', 'popular', 'judicious', 'succeeded', 'right', 'reasonable', 'exaltation', 'privilege', 'wieldy', 'assuring', 'hotcakes', 'cooperative', 'succeeds', 'prompt', 'illuminating', 'recommendation', 'satisfied', 'altruistically', 'instantly', 'top-quality', 'outstanding', 'satisfies', 'clearer', 'bright', 'laudable', 'prodigious', 'adoringly', 'workable', 'securely', 'peacekeepers', 'incredible', 'danke', 'happy', 'stunningly', 'proactive', 'willingly', 'sensationally', 'opulent', 'aspirations', 'approval', 'respectfully', 'righteousness', 'elite', 'subsidizing', 'improved', 'well-bred', 'impartiality', 'ebullient', 'low-price', 'priceless', 'lighter', 'empower', 'compliant', 'overture', 'cleverly', 'glowing', 'plusses', 'glad', 'progressive', 'freedom', 'perfectly', 'sweet', 'perseverance', 'upliftment', 'capably', 'galore', 'logical', 'interests', 'top-notch', 'goodwill', 'great', 'brilliantly', 'willing', 'integral', 'truthfully', 'progress', 'spellbound', 'mind-blowing', 'reputable', 'meaningful', 'rightly', 'pardon', 'glimmer', 'marvelled', 'compatible', 'properly', 'steady', 'reclaim', 'champ', 'golden', 'dignify', 'toughest', 'swankier', 'dependable', 'fans', 'healthy', 'smoothest', 'adequate', 'boom', 'industrious', 'doubtless', 'benevolence', 'polished', 'beckons', 'sumptuously', 'heroically', 'merriment', 'preferring', 'invincible', 'regard', 'lustrous', 'fortunately', 'influential', 'comfy', 'ftw', 'lawfully', 'poise', 'reaffirm', 'instructive', 'supportive', 'available', 'entrancing', 'wonderous', 'fairness', 'rapturous', 'warm', 'outstrip', 'exceptional', 'refined', 'bravo', 'feasible', 'orderly', 'reformed', 'hands-down', 'fecilitous', 'cleanliness', 'flawlessly', 'awesomeness', 'playful', 'divine', 'faster', 'fancinating', 'incredibly', 'radiance', 'godlike', 'prolific', 'prefered', 'finer', 'foolproof', 'luminous', 'overtake', 'succeeding', 'tolerable', 'flourish', 'prodigy', 'creative', 'miraculousness', 'solidarity', 'endorsed', 'eager', 'playfully', 'exemplar', 'winning', 'light-hearted', 'kindly', 'youthful', 'nourish', 'originality', 'speedily', 'gaining', 'loveliness', 'intelligent', 'rightfully', 'ambitiously', 'restful', 'desirable', 'decency', 'upheld', 'luckiness', 'jubilation', 'smarter', 'danken', 'low-risk', 'dextrous', 'convincing', 'admirably', 'versatility', 'bless', 'rectification', 'rapture', 'ingenuous', 'positives', 'reliable', 'safe', 'idyllic', 'survivor', 'wonders', 'agreeable', 'stable', 'hottest', 'glory', 'snappy', 'wisely', 'err-free', 'mastery', 'exultation', 'indebted', 'accessable', 'eyecatch', 'hot', 'skill', 'hale', 'exceeded', 'impartial', 'beautifullly', 'awsome', 'stimulate', 'soothingly', 'consummate', 'genius', 'amicability', 'pamperedness', 'compact', 'frolic', 'irreplaceable', 'kudos', 'radiant', 'intriguing', 'large-capacity', 'pleasantly', 'wowed', 'agreeably', 'smilingly', 'merciful', 'relish', 'patiently', 'generous', 'lionhearted', 'subsidized', 'crisper', 'affirmative', 'diplomatic', 'serene', 'victory', 'meritorious', 'fame', 'favorite', 'amazes', 'problem-solver', 'diligently', 'enthral', 'enticed', 'promised', 'raptureous', 'concise', 'appreciative', 'overtaking', 'rewardingly', 'freshest', 'jubilantly', 'shimmering', 'keen', 'resourceful', 'well-educated', 'guiltless', 'attractive', 'graciousness', 'convenience', 'astonishingly', 'neatest', 'exalt', 'smartest', 'skillful', 'luxuriously', 'verifiable', 'excellant', 'zest', 'humane', 'prettily', 'fond', 'protective', 'adaptable', 'soundly', 'mesmerize', 'admire', 'sophisticated', 'novelty', 'gracefully', 'fluent', 'autonomous', 'amenity', 'record-setting', 'enthralled', 'examplary', 'indulgent', 'rich', 'painless', 'matchless', 'feisty', 'lower-priced', 'benefit', 'revere', 'fast', 'gainful', 'effusively', 'fascination', 'lively', 'magnificently', 'deserving', 'upgraded', 'patience', 'faithful', 'precious', 'prosper', 'amiabily', 'lean', 'immaculately', 'mightily', 'glee', 'respectable', 'fervent', 'authoritative', 'reconcile', 'stupendous', 'warmth', 'seasoned', 'durable', 'passion', 'brainiest', 'euphoria', 'thrillingly', 'cure-all', 'mesmerized', 'friendliness', 'dazzled', 'effortless', 'won', 'happiness', 'shine', 'glimmering', 'convience', 'thriving', 'renowned', 'captivating', 'free', 'ilu', 'acumen', 'exalting', 'cheerful', 'glorious', 'brilliance', 'bonus', 'advocates', 'first-class', 'ideal', 'abounds', 'seamless', 'trusting', 'nicest', 'exceeds', 'admiring', 'tops', 'easiest', 'calming', 'magnanimous', 'interesting', 'gallantly', 'stellar', 'celebratory', 'spectacularly', 'refinement', 'bargain', 'contrasty', 'timely', 'liberation', 'supported', 'glistening', 'triumphal', 'feat', 'vivacious', 'smile', 'sensations', 'wonderously', 'well-regarded', 'euphoric', 'stabilize', 'vouchsafe', 'sparkle', 'elegant', 'comely', 'effectiveness', 'brilliant', 'high-spirited', 'calmness', 'unforgettable', 'upgradable', 'devout', 'recommended', 'snazzy', 'fast-paced', 'enough', 'gratefully', 'complemented', 'angel', 'regal', 'classy', 'joy', 'significant', 'celebration', 'passionately', 'defeat', 'chaste', 'smooth', 'brotherly', 'achievement', 'dauntless', 'brainy', 'finely', 'efficiently', 'survival', 'intelligence', 'resilient', 'hallmark', 'propitiously', 'talents', 'eagerly', 'feature-rich', 'enchantingly', 'lawful', 'assure', 'sporty', 'receptive', 'jubilate', 'accurately', 'passionate', 'breakthrough', 'excellently', 'wise', 'world-famous', 'gratifyingly', 'beckoning', 'fairly', 'comprehensive', 'insightful', 'stylishly', 'flashy', 'sharp', 'gush', 'sufficiently', 'advantages', 'thumbs-up', 'accomplishments', 'dependably', 'prefers', 'luck', 'pure', 'cooperatively', 'revives', 'unaffected', 'perfection', 'fidelity', 'gratifying', 'attractively', 'splendor', 'quaint', 'prudently', 'trustworthy', 'resplendent', 'purify', 'conveniently', 'fortitude', 'enlighten', 'unabashed', 'irresistibly', 'simplified', 'self-determination', 'obsession', 'enliven', 'sturdy', 'enjoying', 'fortunate', 'eventful', 'eased', 'promise', 'quiet', 'understandable', 'ergonomical', 'gallant', 'serenity', 'exuberantly', 'productive', 'gratifies', 'supurbly', 'long-lasting', 'noteworthy', 'enjoyed', 'sustainability', 'adroitly', 'advocated', 'desirous', 'convient', 'cheer', 'rosy', 'enticingly', 'clears', 'blossom', 'elate', 'fashionable', 'flattering', 'jollify', 'impressively', 'pinnacle', 'coherent', 'enjoys', 'distinctive', 'evocative', 'gained', 'suavely', 'defender', 'indulgence', 'heroic', 'morality', 'advocate', 'elegantly', 'reaffirmation', 'satisified', 'envious', 'flawless', 'handy', 'improvements', 'sensitive', 'valuable', 'beneficiary', 'blissfully', 'amiable', 'effectively', 'eagerness', 'exceeding', 'competitive', 'willingness', 'uplift', 'pain-free', 'bloom', 'awe', 'excallent', 'constructive', 'fondness', 'empathize', 'obtainable', 'piety', 'undamaged', 'insightfully', 'spellbinding', 'nifty', 'talent', 'masters', 'considerate', 'tenacious', 'preferably', 'upbeat', 'counter-attack', 'suave', 'beautiful', 'ecstasy', 'affable', 'satisfactorily', 'good', 'supremacy', 'cashback', 'reform', 'intelligible', 'sweetheart', 'immense', 'swiftness', 'trustworthiness', 'staunch', 'nimble', 'pros', 'unselfish', 'amuse', 'exultant', 'wonderful', 'attentive', 'useable', 'clever', 'remunerate', 'proficient', 'exaltedly', 'lavishly', 'persevere', 'speedy', 'smart', 'positively', 'firmer', 'trustingly', 'educated', 'exhilaratingly', 'dominates', 'substantive', 'idealize', 'pleasure', 'mesmerizing', 'unfettered', 'intimate', 'self-satisfaction', 'fortune', 'masterpieces', 'noble', 'fortuitously', 'personalized', 'unencumbered', 'unwavering', 'razor-sharp', 'convincingly', 'solace', 'fave', 'easy', 'effusiveness', 'bolster', 'proper', 'pamper', 'ecstasies', 'appreciable', 'roomy', 'sociable', 'risk-free', 'retractable', 'quicker', 'wows', 'optimal', 'excelled', 'exult', 'pride', 'sturdier', 'unrivaled', 'enviously', 'affectionate', 'patient', 'vibrant', 'excellent', 'gaily', 'goodly', 'favor', 'pampered', 'versatile', 'sweetness', 'luckier', 'gleeful', 'trophy', 'aspire', 'dynamic', 'noiseless', 'relief', 'elatedly', 'harmoniously', 'freed', 'awards', 'unquestionably', 'profuse', 'lucrative', 'invaluablely', 'enraptured', 'worked', 'rational', 'imaginative', 'momentous', 'courteous', 'decent', 'sensibly', 'tenderly', 'reconciliation', 'titillate', 'hearten', 'believable', 'equitable', 'sumptuous', 'pleased', 'reasonably', 'agility', 'truthful', 'mature', 'charisma', 'engrossing', 'straighten', 'righteous', 'marvelously', 'fervor', 'topnotch', 'cheapest', 'revolutionized', 'ecstatically', 'delight', 'elan', 'astoundingly', 'exultingly', 'advantageous', 'attune', 'poetic', 'supporter', 'ingenuously', 'skillfully', 'rapid', 'pepped', 'optimism', 'ebulliently', 'deservedly', 'phenomenally', 'treasure', 'thankful', 'desiring', 'sumptuousness', 'well-connected', 'gains', 'restored', 'romanticize', 'flexibility', 'best-selling', 'earnestly', 'fancy', 'buoyant', 'overjoyed', 'recommendations', 'felicitate', 'chivalry', 'swankiest', 'honesty', 'entice', 'unreal', 'excitedness', 'trendy', 'enhance', 'regally', 'legendary', 'capable', 'peaceful', 'eye-catching', 'evenly', 'swanky', 'inexpensive', 'accolades', 'commendably', 'smoother', 'enlightenment', 'openly', 'effusive', 'accomplished', 'flourishing', 'inviolate', 'commitment', 'profound', 'well-mannered', 'best-known', 'exemplary', 'improvement', 'correct', 'resounding', 'exhilarating', 'marvels', 'premier', 'user-friendly', 'flatteringly', 'portable', 'undisputably', 'splendid', 'keenly', 'supple', 'dawn', 'ecstatic', 'amazement', 'wealthy', 'modest', 'clear', 'righten', 'empowerment', 'dignity', 'modern', 'kindness', 'adroit', 'thrill', 'vibrantly', 'jovial', 'complimentary', 'excite', 'endorsement', 'confidence', 'leads', 'pepping', 'happily', 'monumentally', 'strong', 'enhances', 'avid', 'vigilance', 'effectual', 'prize', 'electrify', 'energetic', 'accomodative', 'god-send', 'thoughtfulness', 'decisiveness', 'inspiration', 'recovery', 'homage', 'ultra-crisp', 'impartially', 'succeed', 'glorify', 'adoring', 'inspirational', 'remarkably', 'marveled', 'glitter', 'thrift', 'plush', 'excellency', 'kid-friendly', 'marvelousness', 'irresistible', 'sharpest', 'gentle', 'a+', 'like', 'compassion', 'majesty', 'magical', 'advanced', 'enrich', 'proven', 'revival', 'thrills', 'secure', 'exaltingly', 'amusingly', 'congratulatory', 'handsome', 'energy-efficient', 'proves', 'zippy', 'daring', 'cleared', 'jolly', 'infallibly', 'auspicious', 'easing', 'soulful', 'faultless', 'refreshing', 'slick', 'stainless', 'evaluative', 'jubilant', 'relent', 'fantastically', 'wellbeing', 'heartfelt', 'amazing', 'benevolent', 'majestic', 'efficacious', 'lifesaver', 'audibly', 'excites', 'empathy', 'nobly', 'peaceable', 'titillatingly', 'winner', 'openness', 'affection', 'felicitous', 'finest', 'impresses', 'unlimited', 'delightful', 'modesty', 'breeze', 'celebrated', 'efficient', 'delightfulness', 'soundness', 'overtaken', 'painlessly', 'sincere', 'affirmation', 'defeated', 'humorous', 'dominate', 'unity', 'well-managed', 'approve', 'safely', 'hopeful', 'trivially', 'civility', 'entertains', 'proficiently', 'enrapture', 'honored', 'wins', 'surpass', 'miraculous', 'navigable', 'steadiest', 'astound', 'reliably', 'hardy', 'roomier', 'venerate', 'warmhearted', 'amazed', 'cohere', 'unassailable', 'cherish', 'agile', 'continuity', 'intuitive', 'enrapt', 'hail', 'dumbfounded', 'awed', 'defeating', 'marvel', 'brand-new', 'nicely', 'resourcefulness', 'superiority', 'supports', 'vivid', 'soothe', 'delightfully', 'superb', 'delicacy', 'exquisitely', 'praising', 'deginified', 'dead-on', 'charming', 'reachable', 'ready', 'rightness', 'humility', 'tantalize', 'effusion', 'punctual', 'sane', 'glamorous', 'encouraging', 'heroine', 'deference', 'levity', 'tender', 'truthfulness', 'confident', 'exuberance', 'liked', 'clear-cut', 'excelent', 'cost-effective', 'perfect', 'loving', 'astonishment', 'well-being', 'gutsy', 'counter-attacks', 'innovative', 'liking', 'beauty', 'beckon', 'fair', 'productively', 'satisfy', 'viewable', 'gladden', 'sufficient', 'grin', 'freedoms', 'support', 'harmonize', 'time-honored', 'impress', 'awestruck', 'courage', 'precise', 'prefer', 'affability', 'reasoned', 'revolutionizes', 'appeal', 'embolden', 'beauteous', 'heaven', 'enviousness', 'poeticize', 'poignant', 'amenable', 'ideally', 'fearless', 'peacefully', 'oasis', 'tranquility', 'achievements', 'well-received', 'backbone', 'masterpiece', 'eloquence', 'gratify', 'mesmerizingly', 'gloriously', 'hooray', 'favorable', 'pleasurably', 'liberate', 'advantage', 'heavenly', 'ease', 'deft', 'patriot', 'super', 'ecenomical', 'remedy', 'humorously', 'silent', 'magnificence', 'leverage', 'prosperity', 'paradise', 'delicious', 'well-intentioned', 'simplify', 'smitten', 'beneficent', 'idol', 'adulate', 'glow', 'phenomenal', 'wholeheartedly', 'warmer', 'amicable', 'recomend', 'faith', 'issue-free', 'sublime', 'fast-growing', 'manageable', 'nice', 'tantalizing', 'usable', 'dote', 'simplifies', 'adjustable', 'precisely', 'sensible', 'smiling', 'pampers', 'god-given', 'fanfare', 'astounding', 'joyously', 'promising', 'affluent', 'well-rounded', 'sweetly', 'tranquil', 'admirer', 'solid', 'amity', 'energy-saving', 'hero', 'satisfactory', 'unequivocally', 'geekier', 'benefits', 'darling', 'rapt', 'fine', 'veritable', 'thoughtful', 'unabashedly', 'fascinatingly', 'economical', 'strikingly', 'bullish', 'award', 'improving', 'wonder', 'fresh', 'revive', 'ovation', 'impeccably', 'relaxed', 'well-wishers', 'easygoing', 'exalted', 'richness', 'ample', 'dead-cheap', 'togetherness', 'headway', 'bonuses', 'futuristic', 'cherub', 'useful', 'salute', 'complementary', 'successfully', 'genuine', 'convienient', 'unrestricted', 'contribution', 'lavish', 'masterfully', 'agilely', 'protection', 'merrily', 'altruistic', 'warmly', 'amicably', 'refund', 'complement', 'thumb-up', 'prominence', 'favour', 'friendly', 'staunchness', 'enthusiastically', 'famed', 'sprightly', 'remarkable', 'suffice', 'problem-free', 'handsomely', 'pretty', 'clarity', 'imaculate', 'righteously', 'brave', 'enviable', 'upscale', 'prosperous', 'rejoice', 'streamlined', 'gooood', 'appreciatively', 'extraordinary', 'fascinating', 'meticulous', 'pleasing', 'blithe', 'hospitable', 'thrilled', 'suitable', 'brighten', 'proving', 'blissful', 'energize', 'improve', 'prowess', 'readily', 'famous', 'gladly', 'worth-while', 'revolutionize', 'undisputed', 'visionary', 'enthuse', 'success', 'fiery', 'jubiliant', 'outperformed', 'defeats', 'peace', 'justly', 'revolutionary', 'honest', 'panoramic', 'enthrall', 'congratulations', 'hotcake', 'outperforming', 'well-made', 'magic', 'praiseworthy', 'outdone', 'smoothly', 'destiny', 'pleasingly', 'optimistic', 'valiantly', 'witty', 'champion', 'well-established', 'thinner', 'affectation', 'tantalizingly', 'merriness', 'kindliness', 'fervid', 'stimulative', 'angelic', 'lovely', 'lush', 'joyfully', 'correctly', 'excitedly', 'saver', 'generously', 'inviolable', 'fashionably', 'merry', 'outsmart', 'accessible', 'paramount', 'prudence', 'beautify', 'examplar', 'admiringly', 'fulfillment', 'first-rate', 'high-quality', 'pamperedly', 'rejoicing', 'simpler', 'affordably', 'propitious', 'dumbfounding', 'stronger', 'gorgeous', 'triumph', 'commodious', 'goodness', 'unconditional', 'non-violence', 'godsend', 'unequivocal', 'tidy', 'inestimable', 'euphorically', 'diligent', 'tingle', 'commend', 'brighter', 'conscientious', 'humour', 'laud', 'ebullience', 'innocuous', 'accolade', 'hallmarks', 'calm', 'adored', 'pluses', 'feasibly', 'all-around', 'laudably', 'excel', 'fervidly', 'trouble-free', 'refunded', 'fancier', 'exceedingly', 'affirm', 'robust', 'beutifully', 'encourage', 'goood', 'spotless', 'smoothes', 'knowledgeable', 'gorgeously', 'prestigious', 'palatial', 'helping', 'frugal', 'prominent', 'sagely', 'tickle', 'luxurious', 'lyrical', 'politeness', 'prudent', 'rejuvenate', 'cleanest', 'holy', 'foremost', 'gusto', 'famously', 'promoter', 'posh', 'nicer', 'appreciate', 'exceed', 'harmonious', 'picturesque', 'acclaim', 'valor', 'idolize', 'beneficially', 'enhancement', 'bonny', 'wow', 'uphold', 'flatter', 'stimulating', 'advantageously', 'eulogize', 'enhanced', 'gleefully', 'savvy', 'mighty', 'self-sufficient', 'adorable', 'trusted', 'accurate', 'humble', 'comforting', 'appropriate', 'elegance', 'covenant', 'tougher', 'lucid', 'nurturing', 'jaw-dropping', 'amaze', 'clearly', 'gifted', 'glisten', 'well-backlit', 'adore', 'affordable', 'best-performing', 'dignified', 'likable', 'cajole', 'slammin', 'ambitious', 'dazzle', 'invigorate', 'thoughtfully', 'appreciates', 'superior', 'luxuriant', 'shiny', 'lovably', 'excitement', 'gems', 'affluence', 'joyous', 'rockstars', 'felicity', 'admiration', 'fruitful', 'divinely', 'restructuring', 'hilarious', 'intimacy', 'outshine', 'winnable', 'ennoble', 'stability', 'charmingly', 'low-cost', 'principled', 'awarded', 'halcyon', 'generosity', 'grand', 'abundance', 'accommodative', 'cool', 'redemption', 'renown', 'abundant', 'excited', 'self-respect', 'civilize', 'harmony', 'helpful', 'honoring', 'illustrious', 'exceptionally', 'eminent', 'self-sufficiency', 'boost', 'impressed', 'protect', 'fertile', 'reverence', 'leading', 'easy-to-use', 'peps', 'skilled', 'fragrant', 'effective', 'sustainable', 'terrifically', 'rightful', 'virtue', 'loyal', 'celebrate', 'salutary', 'heros', 'excitingly', 'sparkling', 'catchy', 'entertain', 'cherished', 'cute', 'gainfully', 'supporting', 'tenaciously', 'outstandingly', 'uncomplicated', 'guarantee', 'crisp', 'grace', 'richer', 'softer', 'refine', 'invincibility', 'quieter', 'titillating', 'praise', 'dedicated', 'motivated', 'windfall', 'powerful', 'wisdom', 'successful', 'blockbuster', 'restructure', 'enrichment', 'honorable', 'amusing', 'compactly', 'saint', 'solicitous', 'ethical', 'exhilaration', 'fabulously', 'sagacity', 'merit', 'sincerity', 'revel', 'enviably', 'idolized', 'coolest', 'intriguingly', 'excellence', 'privileged', 'statuesque', 'awesomely', 'respect', 'woo', 'soft', 'wholesome', 'endear', 'proud', 'realistic', 'enterprising', 'favorited', 'rectify', 'unquestionable', 'worthwhile', 'courageously', 'win', 'inspiring', 'solicitously', 'stimulates', 'believeable', 'welcome', 'happier', 'romantic', 'astonished', 'mesmerizes', 'outperform', 'easiness', 'master', 'wowing', 'exellent', 'works', 'loved', 'triumphantly', 'eye-catch', 'supurb', 'unbiased', 'congratulate', 'cost-saving', 'captivate', 'loyalty', 'illumine', 'gratitude', 'preferable', 'winners', 'important', 'stirringly', 'promises', 'easier', 'envy', 'gratification', 'better-known', 'smartly', 'eminence', 'stellarly', 'striking', 'preferes', 'traction', 'fine-looking', 'reputation', 'credence', 'well-behaved', 'outwit', 'expansive', 'standout', 'greatest', 'prodigiously', 'reassure', 'favored', 'contentment', 'courtly', 'recommend', 'multi-purpose', 'enthusiasm', 'remission', 'neat', 'inestimably', 'superbly', 'delectable', 'lucky', 'tenacity', 'sufficed', 'brisk', 'faithfully', 'endearing', 'spacious', 'charismatic', 'rapport', 'gem', 'guidance', 'reforms', 'aspiration', 'hallowed', 'breathtakingly', 'distinguished', 'brightest', 'surreal', 'reward', 'amiability', 'distinction', 'variety', 'ardor', 'foresight', 'encouragement', 'intricate', 'integrated', 'instrumental', 'worthiness', 'bliss', 'cleanly', 'grandeur', 'graciously', 'ardently', 'staunchly', 'clean', 'victorious', 'dotingly', 'well-known', 'adaptive', 'compassionate', 'fascinate', 'respite', 'exonerate', 'resound', 'talented', 'sharper', 'astonishing', 'colorful', 'fondly', 'gumption', 'stunned', 'plentiful', 'lovable', 'coherence', 'pleasurable', 'ingenuity', 'entranced', 'well', 'best', 'monumental', 'trusty', 'fantastic', 'rapturously', 'glitz', 'flutter', 'hard-working', 'everlasting', 'stupendously', 'permissible', 'carefree', 'cushy', 'spellbindingly', 'tempting', 'polite', 'temptingly', 'alluring', 'steadfastness', 'rock-stars', 'steadfast', 'acclaimed', 'spectacular', 'assurances', 'chic', 'aver', 'rectifying', 'congenial', 'comfortably', 'boundless', 'diversified', 'luckiest', 'led', 'succes', 'toll-free', 'avidly', 'compliment', 'enthusiastic', 'assurance', 'wondrous', 'personages', 'hug', 'reverently', 'exuberant', 'impassioned', 'decisive', 'restructured', 'subsidize', 'profusion', 'steadiness', 'hardier', 'amazingly', 'lucidly', 'luxuriate', 'achievable', 'exciting', 'afford', 'romantically', 'entrust', 'loves', 'providence', 'spirited', 'accomplish', 'formidable', 'abound', 'fun', 'breathlessness', 'revelation', 'marvellous', 'fabulous', 'better-than-expected', 'flexible', 'patriotic', 'classic', 'credible', 'refreshed', 'ardent', 'worthy', 'gladness', 'innovation', 'comfort', 'simplest', 'profoundly', 'maturely', 'respectful', 'miracle', 'poised', 'appreciated', 'ingenious', 'undaunted', 'pleasant', 'undisputable', 'dashing', 'brilliances', 'astutely', 'successes', 'cleaner', 'vouch', 'engaging', 'bountiful', 'astounded', 'effortlessly', 'first-in-class', 'surmount', 'earnestness', 'stately', 'breathtaking', 'fastest', 'liberty', 'sensation', 'infallible', 'eyecatching', 'strongest', 'inpressed', 'fastest-growing', 'sweeten', 'vigilant', 'well-run', 'unbeatable', 'elated', 'faithfulness', 'invigorating', 'ingeniously', 'intrigue', 'bravery', 'adulation', 'edify', 'eases', 'audible', 'fortuitous', 'amply', 'better', 'unmatched', 'yay', 'grateful', 'exceled', 'meticulously', 'luster', 'swift', 'whoooa', 'enchanting', 'enjoyable', 'blameless', 'endorses', 'honor', 'expeditiously', 'sexy', 'zenith', 'fervently', 'revitalize', 'nourishing', 'commendable', 'resolute', 'sensational', 'glowingly', 'magnanimously', 'reassurance', 'chivalrous', 'spiritual', 'fav', 'savings', 'facilitate', 'ameliorate', 'handily', 'heal', 'beloved', 'well-balanced', 'affably', 'cashbacks', 'accomplishment', 'transparent', 'extoll', 'graceful', 'positive', 'adulatory', 'expertly', 'delicate', 'state-of-the-art', 'likes', 'savior', 'cheaper', 'triumphant', 'scenic', 'redeem', 'powerfully', 'delighted', 'upliftingly', 'beautifully', 'splendidly', 'striving', 'illuminate', 'sweeping', 'encouragingly', 'apotheosis', 'entertaining', 'diligence', 'virtuously', 'redeeming', 'whooa', 'harmless', 'attraction', 'erudite', 'detachable', 'terrific', 'user-replaceable', 'spontaneous', 'thrilling', 'enjoyably', 'obsessions', 'enjoyment', 'helped', 'zeal', 'cohesive', 'thank', 'peach', 'dexterously', 'outshone', 'fearlessly', 'non-violent', 'heroize', 'realizable', 'endorsing', 'breakthroughs', 'rock-star', 'charitable', 'sincerely', 'uplifting', 'fresher', 'thrive', 'dexterous', 'miracles', 'marvelous', 'joyful', 'top', 'rejuvenated', 'dummy-proof', 'affinity', 'dirt-cheap', 'gain', 'endorse', 'recover', 'overtakes', 'greatness', 'subsidizes', 'enthusiast', 'readable', 'capability', 'luxury', 'responsive', 'tremendously'}\n",
            "{'badly', 'conscons', 'rue', 'second-tier', 'crook', 'totalitarian', 'unnecessary', 'dislikes', 'spews', 'abruptly', 'dissent', 'inconceivably', 'hiss', 'overwhelmed', 'goof', 'anguish', 'listless', 'rascals', 'writhe', 'mistrustful', 'cannibal', 'fanciful', 'revolt', 'violator', 'meltdown', 'persecution', 'indifferent', 'evade', 'cringed', 'oddity', 'flagrantly', 'overreach', 'picketing', 'headache', 'scramble', 'calumniously', 'malodorous', 'drag', 'senselessly', 'collusion', 'remorsefully', 'hostilities', 'harasses', 'spotty', 'extremism', 'unfriendly', 'butchery', 'failing', 'impediment', 'disobedient', 'limits', 'infected', 'illicit', 'stranger', 'limitation', 'paucity', 'vengefulness', 'emaciated', 'adulterate', 'pander', 'sedentary', 'scathing', 'damnation', 'excoriate', 'inefficient', 'distortion', 'gangster', 'anomaly', 'futile', 'uncivilized', 'virulently', 'disaster', 'peculiar', 'miserableness', 'posturing', 'impolitely', 'dishonor', 'distress', 'barbarian', 'enraging', 'deluge', 'lackey', 'setbacks', 'creeping', 'contempt', 'pessimistically', 'virus', 'pretend', 'panicking', 'omit', 'bewildering', 'treacherous', 'scrambled', 'capricious', 'crashing', 'disappointingly', 'incompatible', 'lure', 'pugnacious', 'insidious', 'bigotry', 'poverty', 'allege', 'lemon', 'demonic', 'moan', 'restriction', 'swindle', 'burns', 'dropouts', 'screwy', 'dreary', 'hiliarious', 'mistakes', 'back-wood', 'insanely', 'lovelorn', 'remorselessness', 'sardonically', 'nitpick', 'incompliant', 'impermissible', 'decrepitude', 'maliciousness', 'scared', 'tacky', 'ignorant', 'straggle', 'dissuade', 'abolish', 'occluding', 'rattles', 'god-awful', 'feeblely', 'overshadow', 'woeful', 'starkly', 'unfinished', 'addict', 'pinch', 'grossly', 'bad', 'heartbreaker', 'misrepresentation', 'scratched', 'shambles', 'derision', 'detesting', 'illusions', 'creepy', 'toxic', 'suffocate', 'illness', 'anti-proliferation', 'ached', 'cheerless', 'escapade', 'insulted', 'deterrent', 'downfallen', 'penalize', 'bewilder', 'deceive', 'malcontent', 'jutter', 'grieve', 'autocrat', 'funnily', 'inconsequentially', 'irrecoverablenesses', 'rusts', 'squeals', 'unreliable', 'incognizant', 'racism', 'rotten', 'taunting', 'culprit', 'hysterics', 'cripple', 'parody', 'itchy', 'indecency', 'sore', 'pains', 'disobey', 'gaff', 'mysteriously', 'fetid', 'overstated', 'earsplitting', 'superfluous', 'delusion', 'distort', 'peeve', 'outmoded', 'avalanche', 'pitiful', 'tingling', 'lumpy', 'calumny', 'miff', 'hapless', 'unsettled', 'sneer', 'stench', 'complain', 'downturns', 'radically', 'unfortunate', 'harangue', 'alienate', 'insolently', 'breaks', 'guilty', 'raping', 'shark', 'scratches', 'taut', 'inequitably', 'incredulously', 'irascible', 'high-priced', 'mocks', 'perverted', 'scams', 'unpleasantries', 'grainy', 'counter-productive', 'doggedly', 'untruthful', 'conspiracies', 'desiccate', 'inattentive', 'starvation', 'buzzing', 'crappy', 'buckle', 'smouldering', 'impeach', 'concede', 'franticly', 'irragularity', 'compulsive', 'saggy', 'defunct', 'lied', 'impinge', 'plasticky', 'reprove', 'jolt', 'unsuccessfully', 'ill-tempered', 'irrational', 'objections', 'creeps', 'bruises', 'interferes', 'confusion', 'needy', 'laughable', 'bondage', 'debaser', 'resistance', 'shiver', 'sly', 'ambivalent', 'skeptic', 'bleakness', 'naively', 'lorn', 'malicious', 'recoil', 'reprehensibly', 'retard', 'capsize', 'fatigued', 'leery', 'protracted', 'cheesy', 'slanderous', 'snobish', 'tiring', 'infuriated', 'bereft', 'diatribes', 'stodgy', 'obsess', 'abscond', 'futility', 'immodest', 'unjustly', 'impure', 'jaded', 'inconsiderately', 'inflame', 'downcast', 'bewildered', 'impetuously', 'villian', 'scolded', 'castigate', 'criticize', 'imbroglio', 'recourses', 'rocky', 'scolding', 'repulse', 'overrated', 'beset', 'tainted', 'payback', 'disquietingly', 'oppress', 'draconian', 'fissures', 'demon', 'junky', 'blister', 'direly', 'top-heavy', 'disastrously', 'extravagantly', 'sadness', 'squeal', 'disable', 'grating', 'oversimplified', 'tease', 'regression', 'disrespectable', 'arduously', 'water-down', 'bashful', 'die-hard', 'two-faces', 'skimpy', 'unlamentably', 'revert', 'unnerving', 'cynical', 'beleaguer', 'agonies', 'diffidence', 'obstinately', 'poison', 'scandals', 'coward', 'drab', 'injure', 'tragic', 'traumatize', 'warped', 'disregardful', 'fiendish', 'defiantly', 'mispronounces', 'smudging', 'dragoon', 'vileness', 'lawbreaking', 'mistress', 'unmoved', 'ill-usage', 'lascivious', 'mangle', 'protests', 'stuttering', 'mortify', 'vomited', 'uncomfy', 'fatcat', 'denying', 'whiny', 'eccentric', 'disloyal', 'nemesis', 'opposition', 'petrify', 'provocative', 'cons', 'over-priced', 'uneconomical', 'moron', 'distrustful', 'hard', 'corrosive', 'unsteadiness', 'insupportably', 'heretic', 'long-time', 'fumes', 'disservice', 'cloud', 'lagging', 'nepotism', 'sloooooooooooooow', 'over-awe', 'arrogance', 'cancerous', 'crush', 'fustigate', 'anti-american', 'sucker', 'vehement', 'dissocial', 'unbelievable', 'threesome', 'presumptuous', 'regrets', 'dick', 'blundering', 'uneventful', 'goading', 'outcry', 'recklessly', 'perplex', 'cry', 'erode', 'exhaust', 'disorderly', 'phony', 'inappropriate', 'ruins', 'wripping', 'corrosion', 'skulk', 'debacle', 'hardhearted', 'impolitic', 'flabbergast', 'impasse', 'dehumanize', 'dissemble', 'gape', 'bitter', 'oppression', 'stubborn', 'harass', 'antagonistic', 'anti-occupation', 'disapprove', 'bewitch', 'congestion', 'asininely', 'vexation', 'disarray', 'admonishment', 'stampede', 'hassled', 'leak', 'undermine', 'dings', 'egregiously', 'horrendous', 'punishable', 'bullyingly', 'defamation', 'indignity', 'baseless', 'dirty', 'hoodium', 'repugnant', 'shake', 'straggler', 'failures', 'treason', 'betrayals', 'mobster', 'refusing', 'dungeons', 'anxiously', 'floored', 'stupify', 'dissolution', 'subversively', 'forged', 'ungrateful', 'unproved', 'overzelous', 'inexperienced', 'stricken', 'zealously', 'uncontrolled', 'hysteria', 'detrimental', 'foolish', 'incomparable', 'felonious', 'restrictive', 'warily', 'inconsistence', 'slur', 'dim', 'aggravating', 'peevishly', 'imbalance', 'messy', 'unworkable', 'mashed', 'intoxicate', 'notorious', 'irrationally', 'imprecate', 'distasteful', 'thrash', 'divisiveness', 'misalign', 'spoilage', 'austere', 'poorest', 'cold', 'doubts', 'wariness', 'gainsay', 'misfit', 'corrosions', 'stupor', 'tarnish', 'farcical-yet-provocative', 'unequal', 'detraction', 'overacted', 'sickness', 'meanness', 'destructive', 'unwieldy', 'stressfully', 'defective', 'kills', 'mortification', 'fell', 'faltered', 'susceptible', 'reject', 'impossible', 'impatiently', 'flighty', 'kooky', 'disagreed', 'discriminatory', 'disconcert', 'pitilessly', 'uproar', 'insensitively', 'frost', 'insane', 'accidental', 'cancer', 'horde', 'improbably', 'controversy', 'cartoonish', 'messing', 'erratic', 'overstates', 'occluded', 'killing', 'ludicrous', 'thicker', 'combust', 'traitorously', 'jitter', 'belligerent', 'imperfection', 'snarl', 'tout', 'incompatability', 'nettle', 'confession', 'evildoer', 'flee', 'irrecoverable', 'screwed-up', 'death', 'crippling', 'disparagingly', 'intermittent', 'miscalculate', 'miserly', 'burning', 'issue', 'objectionable', 'dumbfound', 'run-down', 'dilly-dally', 'fictitious', 'gripe', 'contamination', 'humid', 'unfavorable', 'viciousness', 'smuttier', 'swollen', 'insupportable', 'prik', 'overbearingly', 'hassles', 'vomit', 'monotony', 'rot', 'sunk', 'horrifys', 'dusty', 'lag', 'sluggish', 'frigid', 'unimaginable', 'unworthy', 'scapegoat', 'excuses', 'embarrass', 'bothersome', 'overdo', 'licentiously', 'incorrigibly', 'troublesome', 'misleading', 'ungovernable', 'cheaply', 'collude', 'unclean', 'jeer', 'miserable', 'pandemonium', 'wrinkle', 'agonizing', 'unreadable', 'misgivings', 'perversion', 'prohibitively', 'confounded', 'hissed', 'sh*t', 'unfunded', 'complicit', 'acridness', 'embroilment', 'misses', 'vain', 'loathing', 'incorrectly', 'bereavement', 'pertinacious', 'uncivil', 'picket', 'snub', 'outrageous', 'aggravate', 'barbaric', 'congested', 'hestitant', 'lurk', 'blatantly', 'inferior', 'rogue', 'traumatic', 'impoverished', 'disallow', 'forgetfully', 'degradation', 'displace', 'intrude', 'creaks', 'renounce', 'apathetic', 'bothered', 'retaliate', 'pretentiously', 'disdained', 'lazy', 'gimmicks', 'unsuspecting', 'inordinate', 'isolate', 'f**k', 'forgetfulness', 'tardy', 'persecute', 'subtract', 'wreaks', 'hypocrisy', 'judder', 'awkwardness', 'emergency', 'gimmicky', 'irked', 'regrettably', 'gimmicking', 'unfaithful', 'unreasonable', 'wounds', 'backaching', 'reprehension', 'encroachment', 'blasphemous', 'sinful', 'daze', 'fatigue', 'mediocrity', 'disaffected', 'beastly', 'manic', 'bastards', 'avariciously', 'bitchy', 'chaff', 'paradoxical', 'starve', 'thoughtlessness', 'wayward', 'gossip', 'tanked', 'bizarre', 'plebeian', 'servitude', 'negativity', 'menacing', 'shortage', 'radical', 'overstate', 'selfinterested', 'zap', 'heckled', 'skepticism', 'ill-fated', 'complicated', 'conspicuously', 'feckless', 'immobilized', 'infidel', 'annoyances', 'mess', 'exhausts', 'mournful', 'frenzied', 'uproot', 'damages', 'heedless', 'conflicts', 'hoard', 'coerce', 'inopportune', 'precipitate', 'addicted', 'sever', 'disadvantageous', 'darken', 'misguidance', 'nauseatingly', 'obstructs', 'fusty', 'scream', 'abrade', 'damaged', 'deceptively', 'corrode', 'banalize', 'fallout', 'doddering', 'ramshackle', 'apologist', 'decay', 'cursed', 'dread', 'shriek', 'wince', 'disrupt', 'distorts', 'confrontational', 'demoralizingly', 'eruptions', 'fleed', 'impugn', 'moot', 'stringent', 'catastrophically', 'sunder', 'flagrant', 'plotters', 'shimmer', 'impair', 'niggle', 'ugliest', 'dud', 'nastiness', 'ill-sorted', 'exterminate', 'scant', 'wreck', 'inconvenience', 'misunderstanding', 'pest', 'unwise', 'hedge', 'travesty', 'deprecate', 'despoiler', 'discourteously', 'paranoid', 'risky', 'grate', 'unconfirmed', 'exasperating', 'boil', 'dissenter', 'frustratingly', 'freezes', 'creak', 'haze', 'injudicious', 'din', 'lies', 'flaw', 'disconcerting', 'underdog', 'tenuous', 'anomalous', 'profane', 'downside', 'fretful', 'unskilled', 'peril', 'impropriety', 'grumpier', 'dishonestly', 'upsetting', 'pitiable', 'unemployed', 'violate', 'bothering', 'slump', 'backaches', 'condescend', 'disingenuous', 'estranged', 'dubiously', 'imposition', 'occlude', 'retreated', 'get-rich', 'alarming', 'vindictiveness', 'chronic', 'depressed', 'debts', 'exorbitant', 'debauch', 'mangled', 'sty', 'rejecting', 'begging', 'tempest', 'recalcitrant', 'bewilderment', 'chastise', 'scathingly', 'over-valuation', 'repudiate', 'sucky', 'irony', 'burden', 'censure', 'dull', 'remorseless', 'brood', 'smelled', 'ordeal', 'ironies', 'tired', 'unorthodoxy', 'layoff-happy', 'reluctant', 'tarnishes', 'wary', 'wreaked', 'throbbed', 'demoralizing', 'sunken', 'contaminated', 'utterly', 'foolhardy', 'merciless', 'inveigle', 'subjection', 'despise', 'drain', 'blurry', 'creep', 'cackle', 'thankless', 'bullshit', 'annoy', 'resentment', 'touted', 'steals', 'prejudge', 'fat-cat', 'puny', 'aggrieve', 'bust', 'disconsolately', 'faze', 'disingenuously', 'fragmented', 'irredeemable', 'glower', 'deficiencies', 'd*mn', 'multi-polarization', 'meddle', 'slogged', 'sorry', 'damage', 'horrific', 'reproachful', 'slumpping', 'dreadfulness', 'insensitive', 'aggravation', 'dullard', 'weakness', 'dismissive', 'little-known', 'low-rated', 'cash-strapped', 'melodramatically', 'unsupportive', 'fuck', 'contradictory', 'intolerance', 'lamentably', 'uproarous', 'cramping', 'dragging', 'regretfully', 'temptation', 'hard-line', 'lethal', 'wrip', 'traitor', 'crude', 'fallacy', 'scratch', 'unwanted', 'dishearten', 'trap', 'unthinkably', 'vanity', 'agony', 'stupified', 'whining', 'break-ups', 'lethargy', 'foully', 'inflated', 'undercutting', 'infraction', 'procrastination', 'instigator', 'unlicensed', 'excruciating', 'repudiation', 'diabolic', 'rupture', 'savage', 'fear', 'testy', 'unauthentic', 'defects', 'curt', 'entrapment', 'distressed', 'refutes', 'bumpy', 'hoodwink', 'self-interest', 'insurmountably', 'leech', 'weaken', 'rebuke', 'harassment', 'fickle', 'wound', 'unwillingness', 'stall', 'bestial', 'ill-used', 'dissonantly', 'ferocity', 'madly', 'rip-off', 'languor', 'midget', 'inevitably', 'disapproval', 'teasingly', 'fainthearted', 'intransigence', 'incorrigible', 'lapses', 'stingingly', 'overpower', 'bemoan', 'combative', 'despondence', 'crippled', 'languid', 'unrest', 'oppositions', 'ugliness', 'gripes', 'massacre', 'bungling', 'madden', 'damnably', 'repress', 'delusional', 'inequitable', 'devilry', 'invasive', 'plague', 'exorbitantly', 'inequality', 'ironic', 'resigned', 'impurity', 'frustrations', 'depraved', 'garish', 'lurch', 'ire', 'shamefulness', 'bombardment', 'polluter', 'hype', 'intransigent', 'dauntingly', 'fatal', 'worthlessly', 'assault', 'ailment', 'loner', 'excessively', 'poor', 'recession', 'scars', 'contravene', 'haste', 'suffering', 'meager', 'condescension', 'disapointed', 'unnoticed', 'annoyingly', 'slogging', 'repel', 'discontent', 'slowed', 'oversimplification', 'unneeded', 'spoon-fed', 'erroneous', 'hard-liner', 'assassinate', 'avarice', 'overwhelms', 'laconic', 'misrepresent', 'pan', 'sneak', 'bum', 'lie', 'imminently', 'strut', 'discompose', 'fallacious', 'mordant', 'enemy', 'misery', 'hollow', 'misbecoming', 'stupidest', 'killed', 'disorder', 'obscene', 'iniquitous', 'annihilation', 'partiality', 'hogs', 'irksome', 'sue', 'pittance', 'presumptuously', 'haywire', 'unethical', 'apprehensively', 'sob', 'illogical', 'sinking', 'dishonesty', 'traumatically', 'prisoner', 'graft', 'grief', 'lackluster', 'snags', 'gallingly', 'perplexity', 'sickening', 'villainously', 'scrambles', 'anti-white', 'over-balanced', 'dope', 'repulsing', 'taboo', 'ingrate', 'ignore', 'disillusionment', 'famine', 'haphazard', 'obscurity', 'revulsion', 'dictator', 'hates', 'fleer', 'misbehave', 'senile', 'unproves', 'tortured', 'agonizingly', 'indeterminably', 'struggles', 'devoid', 'detracted', 'demolisher', 'impulsive', 'ineffectiveness', 'misstatement', 'squeaks', 'ignorance', 'indignantly', 'pokey', 'worsen', 'autocratic', 'damnable', 'tangle', 'bitch', 'disgust', 'haunt', 'torture', 'tyranny', 'snare', 'miss', 'shame', 'malady', 'sourly', 'struck', 'tenuously', 'tormented', 'warned', 'break', 'last-ditch', 'accuses', 'balk', 'wrangle', 'belabor', 'dropout', 'bull----', 'inundated', 'loathly', 'cramped', 'conceded', 'discouragingly', 'pointless', 'dispirited', 'racist', 'muddle', 'unsound', 'wickedness', 'incommensurate', 'credulous', 'deficient', 'endanger', 'knotted', 'flickers', 'checkered', 'regrettable', 'thoughtless', 'spoil', 'furious', 'lose', 'horrifying', 'incivility', 'sting', 'deplorably', 'ingratitude', 'crooks', 'grievous', 'allergic', 'incendiary', 'maladjusted', 'odder', 'ominous', 'terribly', 'venomous', 'distaste', 'uncollectible', 'disillusions', 'messes', 'plight', 'dumps', 'contrariness', 'subjugation', 'killer', 'acrimony', 'anxious', 'brusque', 'forbidding', 'far-fetched', 'greasy', 'grumpy', 'gruesomely', 'cataclysmically', 'downbeat', 'cranky', 'hopelessly', 'seethe', 'degenerately', 'unscrupulous', 'outlaw', 'unusual', 'tumbles', 'importune', 'repugn', 'grudgingly', 'untrue', 'obscenity', 'forfeit', 'revoltingly', 'sobering', 'vibrated', 'disagrees', 'rejection', 'venomously', 'harbors', 'naĂŻve', 'insociable', 'sack', 'bitterly', 'darkened', 'lunaticism', 'covetous', 'intrusive', 'screech', 'outraged', 'anti-israeli', 'licentious', 'invidious', 'disappoint', 'insignificant', 'gibe', 'shimmy', 'appall', 'exile', 'controversial', 'jutters', 'petrified', 'disparage', 'panicky', 'heinous', 'absentee', 'fallen', 'embattled', 'dissident', 'ripped', 'scornful', 'ultimatum', 'static', 'tediously', 'slack', 'imprecisely', 'afflictive', 'rankle', 'wretch', 'brutally', 'drunkard', 'undependable', 'unlamentable', 'ridicule', 'erosion', 'cussed', 'grudge', 'smudge', 'stunt', 'fluster', 'waste', 'wrestle', 'poisonously', 'refused', 'bland', 'demise', 'exaggerate', 'useless', 'dangerousness', 'irreversible', 'complaints', 'helplessness', 'turbulent', 'aweful', 'smallish', 'dissatisfying', 'stinging', 'undesirable', 'obnoxious', 'attacks', 'confined', 'defensive', 'disinclination', 'bump', 'enraged', 'loathsome', 'myth', 'lame', 'pricey', 'sabotage', 'salacious', 'sporadic', 'recklessness', 'unresponsive', 'lowly', 'irreformable', 'discontented', 'molest', 'flake', 'disturbingly', 'nonsense', 'problem', 'scandalized', 'antiquated', 'declaim', 'hissing', 'overzealously', 'disquieting', 'concern', 'grudges', 'weary', 'fake', 'immaterial', 'unipolar', 'crap', 'slime', 'threats', 'vexingly', 'unpleasant', 'falls', 'spewing', 'harmed', 'acrimonious', 'spookiest', 'crazy', 'absent-minded', 'dense', 'seedy', 'redundant', 'overbearing', 'overblown', 'droops', 'conspiratorial', 'insidiously', 'concen', 'risk', 'enfeeble', 'sloww', 'losers', 'rollercoaster', 'beware', 'smells', 'unattractive', 'disappointment', 'tortuous', 'bereave', 'brutal', 'bumpping', 'mistaken', 'violent', 'disapprobation', 'cautionary', 'fallaciousness', 'insinuating', 'mists', 'vibration', 'motionless', 'craftily', 'discrepant', 'unbearable', 'degrade', 'undetermined', 'erroneously', 'fallaciously', 'addicts', 'debt', 'ignominy', 'berserk', 'beggarly', 'sulk', 'bruised', 'deceitfully', 'backward', 'challenging', 'huckster', 'figurehead', 'ambiguous', 'injurious', 'mania', 'fraud', 'ill-favored', 'odor', 'loose', 'murderously', 'wrinkles', 'freak', 'hideously', 'indiscriminating', 'hostile', 'rebuff', 'sorrowfully', 'abusive', 'brash', 'unexpectedly', 'deprived', 'trashy', 'straining', 'abort', 'dishonorable', 'inhumane', 'jealousy', 'murderer', 'scorn', 'heavy-handed', 'partisan', 'weird', 'bogus', 'demeaning', 'symptoms', 'bowdlerize', 'catastrophe', 'ineptitude', 'apprehension', 'instable', 'unfaithfully', 'punch', 'concession', 'untouched', 'blindside', 'refutation', 'troubled', 'bother', 'ill-formed', 'shrew', 'inadvisably', 'lying', 'insufficient', 'instigators', 'reckless', 'troubles', 'zapped', 'satirize', 'stifling', 'unnaturally', 'annoyed', 'downfall', 'lifeless', 'spitefulness', 'unproving', 'joke', 'scowl', 'atrocity', 'befoul', 'fuss', 'exorbitantance', 'madman', 'spilling', 'pitiless', 'inaction', 'fabrication', 'fanatical', 'inaccurate', 'ruining', 'capitulate', 'abnormal', 'dissonance', 'chaotic', 'dungeon', 'decadence', 'lags', 'tanks', 'sour', 'debase', 'delinquent', 'amputate', 'biting', 'despicably', 'disconsolation', 'drawback', 'misbehavior', 'sagging', 'unsteady', 'dismalness', 'haters', 'disrespectablity', 'crashes', 'harm', 'idiotic', 'self-criticism', 'truant', 'aversion', 'evils', 'retract', 'disgraced', 'head-aches', 'annihilate', 'flak', 'macabre', 'cocky', 'obstructed', 'condemned', 'gruesome', 'unconvincing', 'undid', 'prejudices', 'rust', 'arrogant', 'infiltrator', 'screw-up', 'smugly', 'torturing', 'aborted', 'one-sided', 'bungle', 'viciously', 'contaminates', 'adamant', 'betrayal', 'punitive', 'sadly', 'twisted', 'reprehensive', 'enervate', 'lawbreaker', 'crowdedness', 'reactionary', 'uninsured', 'sin', 'unaccustomed', 'quibbles', 'doubtful', 'glib', 'irredeemably', 'troublingly', 'fraudulent', 'losses', 'stooge', 'brutalising', 'crumble', 'frenetically', 'fatuously', 'tumultuous', 'drastic', 'jobless', 'incitement', 'diatribe', 'sinisterly', 'embroiled', 'worrying', 'bastard', 'blind', 'infuriate', 'lost', 'terror-genic', 'dumping', 'carp', 'fruitless', 'pillory', 'underlings', 'unhappily', 'absurdness', 'confrontation', 'gaudy', 'lethargic', 'noxious', 'rape', 'trickery', 'problems', 'fleeing', 'indulge', 'gloom', 'degenerate', 'gravely', 'instigate', 'mendacity', 'sad', 'ruthless', 'temerity', 'squash', 'devilish', 'sloppy', 'drippy', 'depressingly', 'trivial', 'dupe', 'languish', 'rumours', 'shabby', 'strife', 'bothers', 'indelicate', 'manipulators', 'defy', 'disvalue', 'provocation', 'weakening', 'disrespect', 'flabbergasted', 'aborts', 'drop-out', 'confound', 'indiscernible', 'warp', 'flareups', 'outrageously', 'instability', 'scuff', 'bid-rigging', 'adverse', 'anti-semites', 'desultory', 'fragile', 'inaccuracies', 'massacres', 'drop-outs', 'inept', 'nauseates', 'peculiarly', 'stains', 'revoke', 'ruined', 'taunt', 'destitute', 'trick', 'vent', 'recessionary', 'frustrates', 'hawkish', 'jerky', 'wobble', 'worried', 'cheap', 'prideful', 'treacherously', 'error', 'restlessness', 'vibrates', 'shirk', 'preoccupy', 'hustler', 'cramp', 'overpriced', 'hostility', 'bleak', 'incessant', 'mortifying', 'involuntarily', 'scary', 'suppress', 'breakups', 'disregard', 'acerbic', 'fanatics', 'freaking', 'break-up', 'failure', 'clunky', 'grouchy', 'contagious', 'war-like', 'derisive', 'blurring', 'sham', 'dismayed', 'bellicose', 'sloooow', 'unforeseen', 'scandels', 'unimportant', 'raped', 'deception', 'browbeat', 'hotbeds', 'sloth', 'precariously', 'crass', 'deteriorate', 'downer', 'hypocrites', 'improper', 'non-confidence', 'poky', 'shrouded', 'unimaginably', 'villains', 'maledict', 'sueing', 'indignant', 'jerk', 'unresolved', 'forswear', 'fatty', 'denunciate', 'frantic', 'daunt', 'domineer', 'molestation', 'intrusion', 'solicitude', 'delinquency', 'incite', 'overrun', 'torturously', 'immovable', 'apocalypse', 'downhill', 'rascal', 'hells', 'implausible', 'hardship', 'stew', 'nervous', 'encroach', 'unfortunately', 'unrelenting', 'intractable', 'sneeringly', 'tattered', 'cruelties', 'revulsive', 'womanizing', 'perverse', 'dictatorial', 'stubbornly', 'envious', 'defiant', 'biases', 'contradict', 'moronic', 'snag', 'oppressively', 'regreted', 'invalidate', 'assail', 'unjustifiably', 'fury', 'riled', 'stresses', 'terror', 'splitting', 'bankrupt', 'delirium', 'threat', 'impudent', 'imprudence', 'rattle', 'defamatory', 'sickly', 'nettlesome', 'exagerate', 'offensively', 'faithless', 'slap', 'inadverent', 'showdown', 'ineffective', 'left-leaning', 'sweaty', 'snagging', 'heckles', 'demean', 'murky', 'snobs', 'cutthroat', 'tyrant', 'panic', 'oversights', 'unwelcome', 'abysmal', 'annoyance', 'disrespectfully', 'crushing', 'swamped', 'conceit', 'outrage', 'deficiency', 'discontentedly', 'conspicuous', 'chaos', 'destains', 'heckle', 'inaudible', 'languorous', 'lunatic', 'obstacle', 'agonize', 'glaringly', 'barbarically', 'refuses', 'ultimatums', 'idle', 'queer', 'shit', 'bashing', 'obliterated', 'choppy', 'cruelest', 'fat', 'hurts', 'defamations', 'disillusioned', 'infest', 'spewed', 'misunderstandings', 'unease', 'unorthodox', 'trapped', 'daunting', 'dishearteningly', 'trauma', 'skeletons', 'insurmountable', 'nervousness', 'entangle', 'implacable', 'slower', 'missed', 'unspecified', 'embarrassingly', 'longing', 'disarm', 'volatility', 'pertinacity', 'sucked', 'baffle', 'hoax', 'derisiveness', 'moribund', 'archaic', 'glut', 'misconceptions', 'quitter', 'bull****', 'undue', 'incomparably', 'antagonize', 'harms', 'infamous', 'martyrdom', 'haughty', 'shunned', 'spoilled', 'slashing', 'smack', 'loser', 'brat', 'complacent', 'divisively', 'monotonous', 'stutter', 'unwillingly', 'abysmally', 'shun', 'asinine', 'brazenness', 'difficult', 'mischievous', 'wrong', 'coercive', 'inadequate', 'sanctimonious', 'lonely', 'inequities', 'overweight', 'dawdle', 'frictions', 'pessimistic', 'questionable', 'cunts', 'disbelief', 'tangles', 'shocking', 'rant', 'mishap', 'impious', 'plunder', 'dark', 'polution', 'shortsightedness', 'hideous', 'furiously', 'enslave', 'involuntary', 'commotions', 'mourner', 'disagreeing', 'smear', 'imprudent', 'upset', 'awful', 'incomprehension', 'deceitfulness', 'expulse', 'madder', 'deviation', 'mudslinger', 'puzzlement', 'deceit', 'rigidity', 'aspersions', 'distraughtness', 'solemn', 'demonized', 'darker', 'marginally', 'invalid', 'confounding', 'damning', 'disapointment', 'vile', 'arduous', 'dilemma', '2-faced', 'infamously', 'sags', 'foulness', 'undone', 'dastard', 'mushy', 'wilt', 'corruptted', 'nauseate', 'unsettle', 'fanatically', 'imbecile', 'insufficiently', 'stubbornness', 'crafty', 'abused', 'anxiety', 'accursed', 'chafe', 'anarchistic', 'ill-natured', 'insults', 'affront', 'dump', 'spoiled', 'undercut', 'anxieties', 'vomiting', 'wrinkled', 'dislocated', 'flagging', 'miscalculation', 'sillily', 'clogged', 'bulkiness', 'reluctantly', 'yawn', 'upsets', 'bent', 'freakish', 'obscured', 'stark', 'deplorable', 'hamper', 'hassle', 'bluring', 'toil', 'invalidity', 'lesser-known', 'unconstitutional', 'hinder', 'enviously', 'hating', 'nagging', 'despairing', 'sloow', 'flairs', 'desolately', 'sugarcoated', 'disruption', 'lurid', 'excruciatingly', 'tin-y', 'harridan', 'irking', 'irritate', 'quarrellously', 'overpaid', 'irk', 'seriousness', 'snappish', 'superficially', 'life-threatening', 'shortness', 'second-class', 'frantically', 'paltry', 'bombard', 'embroil', 'falsely', 'parasite', 'sermonize', 'grind', 'mocked', 'baffled', 'bulky', 'subservience', 'commotion', 'diabolical', 'delude', 'superficial', 'unconvincingly', 'vehemently', 'wickedly', 'woefully', 'boiling', 'stunted', 'savaged', 'spooky', 'discombobulate', 'sceptical', 'ripoff', 'shallow', 'brazen', 'mope', 'blandish', 'bumps', 'cannibalize', 'strain', 'impending', 'torturous', 'grapple', 'cliche', 'insignificance', 'forbid', 'indigent', 'dizzingly', 'indecent', 'resentful', 'rumor', 'unyielding', 'scorching', 'wrought', 'crushed', 'powerless', 'bulkier', 'obtrusive', 'troublesomely', 'squander', 'dirtbag', 'disfavor', 'dispiritedly', 'struggling', 'unravel', 'interfere', 'infuriatingly', 'indecisive', 'swelled', 'uprising', 'uproarously', 'doldrums', 'fastidious', 'irrelevant', 'bane', 'eviscerate', 'declining', 'scandalous', 'calumniation', 'die', 'fried', 'hysterical', 'decadent', 'craven', 'miseries', 'infiltrators', 'accusation', 'unusable', 'stole', 'jeers', 'incomprehensible', 'lapse', 'alienated', 'mockingly', 'idiots', 'shameful', 'disinclined', 'dies', 'implode', 'pleas', 'grumble', 'brashness', 'contradiction', 'viper', 'overdue', 'harmful', 'mar', 'dwindling', 'chatter', 'impose', 'pandering', 'weep', 'breach', 'loud', 'polarisation', 'indiscriminate', 'decline', 'smut', 'sneaky', 'ulterior', 'flakieness', 'overwhelmingly', 'coercion', 'diss', 'haggard', 'exasperated', 'lamentable', 'rampant', 'deviousness', 'blur', 'mist', 'scarier', 'imaginary', 'abominably', 'wildly', 'latency', 'waning', 'stumped', 'lackadaisical', 'demoralize', 'glare', 'peevish', 'gibberish', 'sleazy', 'harshly', 'inhospitable', 'impertinent', 'rancor', 'absurd', 'repulsiveness', 'panicked', 'gasp', 'offensive', 'deceitful', 'unraveled', 'unusably', 'incapable', 'paradoxically', 'desititute', 'pickets', 'cheats', 'chunky', 'hangs', 'ill-treatment', 'incorrect', 'lecherous', 'belittle', 'groundless', 'nasty', 'ragged', 'leer', 'scandalize', 'untenable', 'racy', 'deadweight', 'intimidation', 'soreness', 'contortions', 'rremediable', 'regret', 'sugar-coated', 'bitingly', 'disgustful', 'disoobedient', 'misaligned', 'prison', 'disturb', 'fruitlessly', 'revile', 'nuisance', 'cruelness', 'discontinued', 'frozen', 'injury', 'knock', 'mischievously', 'despoil', 'awfully', 'entrap', 'hopeless', 'pathetic', 'knave', 'stumbled', 'inexpertly', 'deplete', 'insanity', 'wallow', 'miser', 'disreputable', 'overact', 'unsuccessful', 'calumniate', 'raging', 'displease', 'vainly', 'pettifog', 'zealot', 'contaminate', 'dubious', 'broke', 'stab', 'corrupting', 'forsake', 'handicapped', 'spookily', 'unthinkable', 'irreconcilable', 'ruinous', 'displeasure', 'implication', 'overtaxed', 'prejudice', 'wrongful', 'sues', 'repulsed', 'guiltily', 'maddening', 'refuted', 'burdensome', 'enjoin', 'savages', 'turmoil', 'crazily', 'upsettingly', 'illogically', 'cracked', 'beguile', 'apprehensive', 'blemish', 'jarring', 'gruff', 'madness', 'invidiousness', 'ironical', 'penalty', 'calamities', 'rejected', 'unusually', 'outrages', 'misjudge', 'inexcusable', 'calumnious', 'dissembler', 'illogic', 'braggart', 'prattle', 'fiction', 'blunder', 'despairingly', 'scare', 'downheartedly', 'reticent', 'usurper', 'decrepit', 'soapy', 'tragedy', 'dishonest', 'blockage', 'devilishly', 'distressingly', 'acrid', 'exhausted', 'squirm', 'ravage', 'wimpy', 'errors', 'apathy', 'despair', 'fiend', 'overbalanced', 'paralize', 'nonresponsive', 'worst', 'impudently', 'caustic', 'drained', 'craze', 'tamper', 'unintelligile', 'egomania', 'unproductive', 'foul', 'unsavory', 'vexing', 'boycott', 'staid', 'wastefulness', 'dissappointed', 'dismal', 'draining', 'flout', 'inapt', 'heathen', 'cheater', 'strictly', 'devastate', 'extermination', 'itching', 'despicable', 'devilment', 'breakup', 'retreat', 'suspicious', 'facetiously', 'conflicted', 'vociferously', 'bearish', 'superstition', 'foreboding', 'refusal', 'hegemonistic', 'layoff', 'boggle', 'wild', 'uncomfortable', 'disorganized', 'outbreak', 'evil', 'farfetched', 'detriment', 'infirm', 'patronize', 'rumple', 'pervasive', 'clog', 'altercation', 'irritations', 'slogs', 'tepid', 'unpredictable', 'dissuasive', 'banal', 'scarcity', 'unclear', 'disasterous', 'reluctance', 'denunciation', 'transgress', 'ranted', 'detestable', 'fastidiously', 'vociferous', 'droop', 'irks', 'malice', 'disturbing', 'woe', 'denounce', 'hampered', 'belated', 'scoffingly', 'perish', 'blackmail', 'failed', 'allergy', 'liar', 'resent', 'negligence', 'villify', 'caustically', 'calamitously', 'ambiguity', 'appallingly', 'clamorous', 'inexpert', 'restrict', 'woebegone', 'ineptly', 'err', 'whimper', 'unhealthy', 'overemphasize', 'ill-defined', 'hardliner', 'disadvantaged', 'disconcerted', 'mislead', 'unreasonably', 'deadly', 'jealously', 'perfunctory', 'shrivel', 'troublemaker', 'syndrome', 'discoutinous', 'over-hyped', 'inteferes', 'disputed', 'gaffe', 'critical', 'toll', 'predatory', 'broken-hearted', 'disliking', 'excuse', 'funky', 'sluts', 'adulterier', 'frets', 'farcically', 'disgrace', 'unlawful', 'imperfections', 'inexpiable', 'fibber', 'qualms', 'revengeful', 'subversive', 'unleash', 'deceiving', 'spook', 'discord', 'wrath', 'rebellious', 'dissidence', 'extortion', 'aloof', 'tentatively', 'impolite', 'issues', 'aches', 'galling', 'problematic', 'crumpled', 'junkyard', 'abrasive', 'adversary', 'mindlessly', 'dissension', 'insolent', 'rantingly', 'disagreeable', 'monstrosities', 'unfeeling', 'divergent', 'simplistic', 'extremist', 'tantrum', 'belittled', 'goad', 'stormy', 'atrocious', 'knife', 'disparaging', 'foolishness', 'rusty', 'absurdity', 'devastation', 'grieving', 'disheartening', 'traduce', 'disavow', 'dishonorablely', 'enmity', 'babble', 'stigma', 'blasphemy', 'pauper', 'indistinguishable', 'intimidate', 'growl', 'incessantly', 'pity', 'insatiable', 'craftly', 'crashed', 'obtuse', 'discontinuous', 'immoderately', 'tyrannical', 'brutality', 'shaky', 'smelt', 'imprisonment', 'onerous', 'tension', 'inimically', 'lonesome', 'fidgety', 'sufferers', 'dissatisfies', 'unbearablely', 'undecided', 'ghosting', 'neurotically', 'inexorably', 'un-viewable', 'cravenly', 'monstrosity', 'dire', 'villianously', 'inconsistency', 'cripples', 'slaughtered', 'extravagance', 'cowardly', 'shady', 'complication', 'limited', 'tetchily', 'strangle', 'obscure', 'concerns', 'fret', 'ridiculous', 'antagonist', 'quarrelsome', 'scuffs', 'disintegrates', 'swelling', 'threaten', 'displeased', 'erase', 'exhaustion', 'inefficiently', 'lacked', 'violently', 'uncreative', 'defect', 'deluded', 'disrespecting', 'regretted', 'denunciations', 'slaves', 'blow', 'heck', 'mocking', 'unavoidably', 'concerned', 'contemptuously', 'harpy', 'inactive', 'ill-mannered', 'repugnantly', 'ruts', 'scandalously', 'undercuts', 'delirious', 'dissonant', 'distastefully', 'bleeding', 'hairloss', 'retards', 'ashamed', 'bloated', 'fabricate', 'contaminating', 'pugnaciously', 'hysteric', 'so-cal', 'helpless', 'oblivious', 'terrorism', 'mortified', 'passive', 'gainsayer', 'complex', 'exploitation', 'gabble', 'tangled', 'calamitous', 'discountenance', 'kill', 'rivalry', 'exaggeration', 'trivialize', 'allegation', 'neglect', 'dizzing', 'slothful', 'unobserved', 'insecurity', 'intefere', 'disagree', 'mediocre', 'obese', 'downturn', 'insular', 'liars', 'rhetoric', 'insinuation', 'sorely', 'shrilly', 'blame', 'devastates', 'condescending', 'indecently', 'insecure', 'bitterness', 'inhospitality', 'flees', 'disoriented', 'brute', 'object', 'proprietary', 'pig', 'freakishly', 'defiance', 'livid', 'predicament', 'skittish', 'chide', 'omission', 'horrible', 'lech', 'restless', 'devastatingly', 'maddeningly', 'outcast', 'mistake', 'allergies', 'cataclysm', 'ineffectually', 'lacking', 'laughingstock', 'overbalance', 'shroud', 'timidness', 'irritation', 'tarnished', 'gloomy', 'inaptitude', 'inclement', 'falsehood', 'iniquity', 'fulminate', 'dismissively', 'offending', 'batty', 'stupidity', 'warning', 'accusations', 'compulsion', 'monstrous', 'hardheaded', 'pestilent', 'hegemonism', 'grouch', 'diappointed', 'feebleminded', 'hurted', 'stalls', 'pry', 'fictional', 'falsify', 'despised', 'radicalization', 'throbs', 'downhearted', 'glitches', 'weaknesses', 'hobble', 'rude', 'underpaid', 'obstruction', 'degrading', 'explosive', 'ignominiously', 'treasonous', 'barbarity', 'asperse', 'denies', 'venom', 'fiasco', 'whips', 'unreliability', 'depress', 'disgraceful', 'twist', 'undefined', 'malcontented', 'conflicting', 'flirt', 'resurgent', 'stammer', 'suspicion', 'perversity', '2-faces', 'quibble', 'irreparable', 'fumble', 'misguide', 'relapse', 'disappoints', 'dripping', 'frustrating', 'stagnant', 'clueless', 'undermining', 'mispronounced', 'dimmer', 'audacity', 'detestably', 'laggy', 'hardball', 'ignominious', 'needlessly', 'misgiving', 'prate', 'weed', 'inanely', 'mudslinging', 'busts', 'emasculate', 'askance', 'hacks', 'inconsolably', 'outrageousness', 'interruptions', 'obsessiveness', 'ruthlessly', 'guile', 'infuriating', 'nosey', 'engulf', 'gall', 'perplexing', 'protest', 'insubstantial', 'deformed', 'incongruous', 'concens', 'rile', 'vagrant', 'bravado', 'careless', 'unkind', 'defame', 'flickering', 'subjugate', 'worryingly', 'felon', 'nebulous', 'defiler', 'contrive', 'hotheaded', 'prickle', 'vengefully', 'spoon-feed', 'letch', 'deterioration', 'spitefully', 'acrimoniously', 'indignation', 'stun', 'threatening', 'slumping', 'lull', 'denigrate', 'vagueness', 'corrupts', 'shipwreck', 'egocentric', 'humming', 'abrupt', 'irrelevance', 'itch', 'tricky', 'gloatingly', 'inadverently', 'intolerablely', 'impede', 'throttle', 'irresolvable', 'infested', 'brimstone', 'revenge', 'lugubrious', 'abuse', 'frighteningly', 'hooligan', 'paranoia', 'downsides', 'fallacies', 'notoriously', 'watered-down', 'allegations', 'audacious', 'fat-cats', 'stale', 'disses', 'pertinaciously', 'untimely', 'awkward', 'despotism', 'plea', 'dripped', 'picketed', 'ambush', 'sarcasm', 'maniacal', 'assult', 'discourteous', 'doubt', 'inconsistencies', 'complains', 'cruelly', 'jagged', 'uproariously', 'fractious', 'confront', 'screwed', 'extremists', 'dogmatic', 'onerously', 'unsophisticated', 'imperialist', 'detests', 'smell', 'stinks', 'unjust', 'monstrously', 'obscures', 'sticky', 'dissolute', 'sarcastically', 'disgruntled', 'nag', 'helplessly', 'conflict', 'conspire', 'vice', 'shrug', 'bore', 'eyesore', 'brainwash', 'inflammation', 'melodramatic', 'oddest', 'meaningless', 'delayed', 'expire', 'preposterously', 'brashly', 'arrogantly', 'bedlam', 'incoherently', 'ineligible', 'enviousness', 'pompous', 'stereotypically', 'bleakly', 'criticisms', 'poisonous', 'creaking', 'rejects', 'seething', 'deprave', 'aggrieved', 'smuttiest', 'snob', 'exasperation', 'deaf', 'malevolence', 'expel', 'polemize', 'stutters', 'unlawfulness', 'standstill', 'crumples', 'enflame', 'sickeningly', 'slug', 'maltreatment', 'hurting', 'villianous', 'exagerated', 'wack', 'precipitous', 'stigmatize', 'blah', 'genocide', 'gimmick', 'improperly', 'mundane', 'poorer', 'dejected', 'wretchedly', 'contort', 'miscreants', 'backwood', 'fidget', 'discomfit', 'gutless', 'inflexible', 'retardedness', 'spoils', 'ineffectual', 'sidetracked', 'underpowered', 'complained', 'faults', 'desert', 'miscreant', 'lack', 'oddities', 'mournfully', 'dispirit', 'hellion', 'menace', 'rival', 'steep', 'topple', 'resignation', 'limp', 'inhibit', 'unsteadily', 'consternation', 'savagery', 'boisterous', 'breakdown', 'untrustworthy', 'remorse', 'hesitant', 'implicate', 'eschew', 'infection', 'false', 'depression', 'gawk', 'misconception', 'jeering', 'neglected', 'snagged', 'lame-duck', 'worriedly', 'notoriety', 'wretchedness', 'heartless', 'impiety', 'abominate', 'chintzy', 'disapointing', 'crash', 'freaks', 'fascist', 'botch', 'flicering', 'travesties', 'critics', 'dumped', 'grievously', 'unacceptably', 'self-destructive', 'unexpected', 'aching', 'backwoods', 'burn', 'disobedience', 'donside', 'decayed', 'lewd', 'scrambling', 'animosity', 'apologists', 'skinny', 'inundate', 'sharply', 'sued', 'fundamentalism', 'repressive', 'desolate', 'thwart', 'contention', 'mistified', 'ghetto', 'greed', 'uncompromisingly', 'murderous', 'fearful', 'rail', 'mawkishly', 'redundancy', 'premeditated', 'pretense', 'frustration', 'convoluted', 'offence', 'mock', 'exclusion', 'nightmarish', 'infamy', 'quarrellous', 'carelessness', 'craps', 'rattled', 'slow', 'squeak', 'worrier', 'mistakenly', 'hell', 'fierce', 'antithetical', 'confusing', 'destabilisation', 'hypocritical', 'disaccord', 'bleed', 'inexcusably', 'eccentricity', 'cave', 'fever', 'set-up', 'unruly', 'scourge', 'victimize', 'wobbles', 'hatred', 'manipulative', 'byzantine', 'angrily', 'irreplacible', 'cracks', 'ruin', 'corrupt', 'tank', 'deviate', 'absurdly', 'bumping', 'disorient', 'evasive', 'flimsy', 'sacrificed', 'thoughtlessly', 'undignified', 'pessimism', 'strangest', 'aghast', 'condemnation', 'equivocal', 'deceivers', 'drawbacks', 'dissatisfy', 'falter', 'debility', 'protested', 'full-blown', 'pitifully', 'stiflingly', 'sub-par', 'remorselessly', 'frustrated', 'disintegrated', 'subpoenas', 'quarrels', 'drags', 'importunate', 'uncaring', 'jam', 'unprofitable', 'weaker', 'incompetence', 'lawlessness', 'malaise', 'strict', 'blunt', 'uncomfortably', 'draconic', 'fussy', 'laid-off', 'slanderously', 'imposing', 'nitpicking', 'unuseably', 'disgustfully', 'bumped', 'scaly', 'bloodshed', 'scum', 'irretrievable', 'brutish', 'unwatchable', 'deadlock', 'overwhelming', 'pollute', 'unsecure', 'immoderate', 'mysterious', 'blameworthy', 'bickering', 'capriciousness', 'clash', 'hardliners', 'smokescreen', 'spiritless', 'morbid', 'catastrophes', 'hung', 'aggressor', 'imperil', 'betray', 'strained', 'sag', 'despotic', 'ugh', 'dissappointing', 'relentless', 'expensive', 'worthlessness', 'capriciously', 'unuseable', 'miserably', 'afraid', 'disrespectful', 'zealous', 'enrage', 'unjustified', 'demonizes', 'misreading', 'reprehensible', 'boredom', 'crabby', 'inculcate', 'douchebag', 'discourage', 'unilateralism', 'bruise', 'burned', 'displaced', 'afflict', 'pales', 'distains', 'slowest', 'disdainfully', 'smoulder', 'petty', 'degeneration', 'critic', 'splatter', 'perilous', 'enemies', 'disturbance', 'hopelessness', 'mendacious', 'slog', 'plot', 'horrifies', 'fatique', 'litigious', 'perturb', 'tiringly', 'exacerbate', 'louder', 'stuck', 'attack', 'disclaim', 'fatuity', 'dissention', 'drastically', 'fail', 'baffling', 'heartbreakingly', 'frenetic', 'frazzle', 'imperfect', 'superficiality', 'dismally', 'stringently', 'sputter', 'repugnance', 'boastful', 'misapprehend', 'stingy', 'strike', 'costlier', 'unsafe', 'mindless', 'demolish', 'doomed', 'inhibition', 'regretful', 'ploy', 'muscle-flexing', 'abominable', 'disbeliever', 'unaffordable', 'semi-retarded', 'tiresome', 'inelegant', 'painful', 'ineloquent', 'overheat', 'stereotypical', 'harsh', 'suspiciously', 'hefty', 'admonition', 'douchebags', 'direness', 'overzealous', 'trashed', 'dust', 'narrower', 'insinuate', 'embarrassing', 'incoherent', 'epidemic', 'ineffectively', 'feint', 'refuting', 'torment', 'jeeringly', 'wasting', 'symptom', 'negation', 'obstruct', 'ranting', 'chastisement', 'hazy', 'bedlamite', 'audaciousness', 'thorny', 'farce', 'sap', 'irritated', 'misinterpret', 'bicker', 'timid', 'wretched', 'offender', 'diametrically', 'retaliatory', 'shamelessness', 'spew', 'flair', 'dissatisfactory', 'interrupt', 'haughtily', 'disprove', 'faulty', 'oversimplify', 'plunderer', 'rifts', 'sneakily', 'unprove', 'jealousness', 'unscrupulously', 'upbraid', 'prohibitive', 'chatterbox', 'selfishly', 'accost', 'unlawfully', 'hurtful', 'irrecoverableness', 'bafflement', 'shortsighted', 'inconveniently', 'bewail', 'coupists', 'humiliating', 'lechery', 'mockeries', 'overloaded', 'mystery', 'unhelpful', 'hardened', 'crack', 'inordinately', 'repression', 'virulent', 'desecrate', 'election-rigger', 'offend', 'desiccated', 'brutalize', 'delusions', 'infernal', 'oppressors', 'sass', 'uneasily', 'harden', 'unrealistic', 'devious', 'bribery', 'damned', 'treachery', 'expired', 'risks', 'perversely', 'adversity', 'famished', 'shortcomings', 'sink', 'snappishly', 'offenses', 'darkness', 'mawkishness', 'surrender', 'stern', 'reviled', 'blaspheme', 'detest', 'goofy', 'horrid', 'slow-moving', 'tarnishing', 'slave', 'imminence', 'indiscriminately', 'manipulation', 'tricked', 'apathetically', 'cruelty', 'debilitating', 'insolvent', 'smutty', 'impersonal', 'inexplainable', 'spendy', 'oversize', 'insubordinate', 'anger', 'kaput', 'admonish', 'incredulous', 'pernicious', 'irrationality', 'subvert', 'limitations', 'dismayingly', 'hindrance', 'undependability', 'ill-advised', 'menacingly', 'muddy', 'brutalities', 'disturbed', 'freeze', 'pointlessly', 'tentative', 'smelling', 'suspect', 'unprepared', 'ineloquently', 'ruffian', 'unviewable', 'ill-designed', 'uproarious', 'indecisively', 'orphan', 'idiocy', 'overstatement', 'misfortune', 'reproach', 'shameless', 'lapsed', 'pervert', 'flaunt', 'galls', 'smudged', 'castrated', 'drips', 'casualty', 'farcical', 'impaired', 'ironically', 'back-logged', 'stealing', 'contentious', 'wane', 'insensible', 'thirst', 'choleric', 'hypocrite', 'smug', 'unaccessible', 'deplore', 'choke', 'admonisher', 'dumb', 'concessions', 'pout', 'rampage', 'spinster', 'senseless', 'betrays', 'futilely', 'obsolete', 'dissidents', 'grim', 'disaffect', 'halfhearted', 'unachievable', 'unpopular', 'fanatic', 'grimace', 'finagle', 'invective', 'adversarial', 'bores', 'inconsistent', 'propaganda', 'spurious', 'illusion', 'wail', 'expropriation', 'blurred', 'womanizer', 'detracting', 'impoverish', 'rigid', 'tyrannically', 'friction', 'irregularity', 'trample', 'subdued', 'crummy', 'volatile', 'smudges', 'distraught', 'lanky', 'dirt', 'rut', 'pique', 'acerbically', 'two-faced', 'besiege', 'taunts', 'nauseating', 'opinionated', 'conservative', 'exhort', 'leakage', 'outbursts', 'erratically', 'outsider', 'dissatisfied', 'pain', 'short-lived', 'intolerable', 'uninformed', 'dizzy', 'weak', 'injustices', 'fucking', 'impossibly', 'impedance', 'pariah', 'rife', 'painfull', 'destroyer', 'bashed', 'dehumanization', 'reprimand', 'despondent', 'brutalizing', 'dismay', 'hatefulness', 'rift', 'sorrowful', 'unproven', 'feign', 'blotchy', 'vindictive', 'irrepressible', 'heresy', 'job-killing', 'fatalistically', 'radicals', 'slowwww', 'idiot', 'tingled', 'disintegration', 'frightfully', 'flounder', 'vengeful', 'disputable', 'barren', 'brazenly', 'taint', 'disbelieve', 'flareup', 'criticized', 'flicker', 'belligerence', 'scariest', 'misbegotten', 'aspersion', 'distracting', 'goon', 'cataclysmal', 'costly', 'odd', 'harried', 'impudence', 'indiscreet', 'overdone', 'trash', 'execrate', 'glitch', 'wiles', 'zombie', 'abomination', 'incompetently', 'misdirection', 'noisy', 'craziness', 'audaciously', 'cumbersome', 'deject', 'shadowy', 'fatcats', 'leaks', 'gauche', 'preposterous', 'puzzled', 'ignoble', 'slander', 'suffers', 'ill-treated', 'dented', 'chilly', 'dead', 'fraught', 'complaining', 'prejudicial', 'extort', 'mordantly', 'quarrel', 'worsening', 'thug', 'accusingly', 'refuse', 'shortchange', 'sinfully', 'shoddy', 'worry', 'discontinuity', 'smash', 'disquiet', 'insensitivity', 'indifference', 'tragically', 'undermines', 'devastating', 'wrongly', 'distraughtly', 'miscellaneous', 'blurs', 'curses', 'stooges', 'washed-out', 'fault', 'sully', 'malevolently', 'dejection', 'assassin', 'debauchery', 'obsessively', 'strangely', 'detract', 'wily', 'inconstant', 'fugitive', 'frenzy', 'improbable', 'scorchingly', 'simplistically', 'underestimate', 'loneliness', 'plagiarize', 'unwisely', 'disinterest', 'indeterminable', 'disquietude', 'scandel', 'uncertain', 'loathe', 'unnatural', 'oppressiveness', 'condescendingly', 'heavyhearted', 'substandard', 'unfulfilled', 'suicide', 'beseech', 'roadblocks', 'severity', 'aggressiveness', 'smelly', 'fatefully', 'fracture', 'depressing', 'contend', 'opponent', 'regress', 'unbelievably', 'hectic', 'deploringly', 'elimination', 'negate', 'angry', 'exploit', 'demonize', 'drunken', 'disagreeably', 'insolence', 'lagged', 'ominously', 'argumentative', 'wasted', 'disdainful', 'implausibly', 'hothouse', 'violation', 'spookier', 'stink', 'sorrow', 'stress', 'gullible', 'sick', 'breaking', 'lukewarm', 'squabbling', 'ridiculously', 'diabolically', 'unrelentingly', 'arcane', 'whores', 'disconcertingly', 'peeved', 'broken', 'funny', 'meddlesome', 'contrived', 'forbidden', 'puppet', 'unsupported', 'cuss', 'incompatibility', 'randomly', 'perfidious', 'fawningly', 'caricature', 'irritating', 'self-coup', 'stagnate', 'overpayed', 'unacceptable', 'vulnerable', 'deprive', 'dissapointed', 'imprecise', 'uncouth', 'slowww', 'arbitrary', 'trouble', 'corrupted', 'shortcoming', 'delaying', 'distressing', 'guilt', 'overplay', 'scar', 'deform', 'gutter', 'jitters', 'bugging', 'divisive', 'horrendously', 'puzzling', 'prevaricate', 'unkindly', 'exhorbitant', 'recant', 'overturn', 'awfulness', 'geezer', 'worn', 'blatant', 'disrespectfulness', 'incoherence', 'inoperable', 'onslaught', 'melancholy', 'coldly', 'hard-hit', 'hate', 'avenge', 'bombastic', 'forebodingly', 'curse', 'havoc', 'malevolent', 'fevers', 'horrify', 'needless', 'perilously', 'butcher', 'partisans', 'quandary', 'suffered', 'friggin', 'temper', 'vibrating', 'disproportionate', 'satirical', 'misinform', 'insincere', 'inflammed', 'dubitable', 'cliched', 'falling', 'haggle', 'decrement', 'frighten', 'perplexed', 'sufferer', 'skeptically', 'amiss', 'damn', 'cruel', 'kook', 'inhuman', 'liability', 'betrayer', 'dearth', 'desertion', 'inadequacy', 'invisible', 'lament', 'calumnies', 'unfit', 'hypocricy', 'gawky', 'dastardly', 'halfheartedly', 'maladjustment', 'misaligns', 'timidly', 'undocumented', 'inflationary', 'disagreement', 'blinding', 'coarse', 'urgent', 'inefficacious', 'tenderness', 'fatuous', 'ghastly', 'drones', 'motley', 'deter', 'indecision', 'indefensible', 'back-woods', 'restricted', 'inexorable', 'offensiveness', 'berate', 'ax', 'fib', 'mourn', 'dissing', 'siege', 'cronyism', 'juddering', 'exagerates', 'fears', 'appal', 'hypocritically', 'displeasing', 'wearisome', 'beg', 'time-consuming', 'tramp', 'undissolved', 'grumpiest', 'carnage', 'jeopardy', 'acridly', 'impunity', 'distrusting', 'hack', 'scrap', 'slanders', 'rabid', 'loathsomely', 'immoral', 'sucks', 'undermined', 'flirty', 'disrepute', 'invader', 'crime', 'immature', 'cringes', 'thumbs-down', 'scummy', 'stupid', 'appalled', 'astray', 'irresolute', 'upseting', 'pugnacity', 'infringements', 'oddly', 'squealing', 'conspirator', 'burdensomely', 'debilitate', 'appalling', 'indeterminate', 'unseemly', 'inadvisable', 'deny', 'wobbled', 'cringe', 'discordant', 'warlike', 'sinister', 'transgression', 'lambaste', 'confuse', 'unstable', 'exasperatingly', 'indiscretion', 'leaking', 'condemnable', 'steeply', 'irksomely', 'aground', 'cheapen', 'douchbag', 'picky', 'officious', 'stereotype', 'obscenely', 'inefficacy', 'paralyzed', 'procrastinates', 'disadvantages', 'primitive', 'stressful', 'untested', 'confuses', 'uglier', 'vex', 'monster', 'annoying', 'menial', 'lawless', 'gracelessly', 'unacceptablely', 'dislike', 'finicky', 'inexperience', 'despondency', 'banish', 'suicidal', 'insignificantly', 'debatable', 'polluters', 'disillusion', 'anarchy', 'bigotries', 'drowning', 'backbiting', 'drought', 'extinguish', 'poorly', 'revolting', 'hedonistic', 'virulence', 'shrill', 'tawdry', 'mishandle', 'relentlessly', 'wicked', 'pratfall', 'despondently', 'sagged', 'joker', 'uneven', 'suffer', 'impractical', 'interference', 'mislike', 'oversight', 'disdain', 'phobia', 'scarce', 'asinininity', 'puppets', 'unappealing', 'unspeakable', 'self-serving', 'jabber', 'confessions', 'objection', 'gimmicked', 'malignant', 'spoonfed', 'destitution', 'bs', 'inextricable', 'irrationals', 'fastuous', 'panders', 'inconsolable', 'unfairly', 'mangling', 'authoritarian', 'backbite', 'discomfort', 'paupers', 'condemns', 'disgusting', 'skittishly', 'submissive', 'furor', 'nonexistent', 'unlikely', 'shamefully', 'achey', 'childish', 'slooow', 'sugar-coat', 'stupidly', 'buggy', 'anarchist', 'callous', 'denial', 'devil', 'profanity', 'idiotically', 'jittery', 'dreadfully', 'rumors', 'stiff', 'discrimination', 'forlorn', 'expunge', 'foolishly', 'dissed', 'imprison', 'fooled', 'perturbed', 'skeptical', 'struggle', 'unsettling', 'gritty', 'fathomless', 'nebulously', 'opportunistic', 'immorally', 'vestiges', 'stain', 'bleeds', 'discouragement', 'haunting', 'indoctrination', 'lecher', 'scoldingly', 'unfamiliar', 'misbecome', 'destroy', 'lewdness', 'mulish', 'oppose', 'fanaticism', 'inevitable', 'strange', 'impetuous', 'rubbish', 'anxiousness', 'wheedle', 'crept', 'impulsively', 'heretical', 'propagandize', 'irrationalities', 'discordance', 'hazardous', 'noisier', 'improbability', 'long-winded', 'unhappy', 'conceited', 'cuplrit', 'ludicrously', 'split', 'anti-social', 'prosecute', 'shock', 'superstitious', 'grouse', 'deceiver', 'avaricious', 'fearfully', 'intimidating', 'lewdly', 'stumps', 'unfounded', 'effrontery', 'judders', 'atrocities', 'dissatisfaction', 'bash', 'harboring', 'admonishingly', 'jealous', 'spite', 'whine', 'retarded', 'drains', 'frustrate', 'clique', 'comical', 'panick', 'stymied', 'sarcastic', 'unwarranted', 'entanglement', 'worse', 'ache', 'vicious', 'struggled', 'humiliation', 'abyss', 'pedantic', 'disgusted', 'plaything', 'terribleness', 'unwilling', 'incapably', 'timidity', 'illusory', 'forceful', 'inability', 'snobby', 'confess', 'garbage', 'inflammatory', 'lacks', 'protesting', 'secretive', 'vengeance', 'egotistically', 'imposers', 'spoilages', 'died', 'indolent', 'painfully', 'dinky', 'steal', 'mercilessly', 'exasperate', 'succumb', 'grievance', 'besmirch', 'demonizing', 'inelegance', 'insufferable', 'inconsiderate', 'overawe', 'hurt', 'ridicules', 'dejectedly', 'desperate', 'mistrustfully', 'overthrow', 'scarcely', 'limit', 'grisly', 'damper', 'deceptive', 'destruction', 'hostage', 'unjustifiable', 'inarticulate', 'misjudgment', 'uncooperative', 'inescapably', 'irately', 'ding', 'swagger', 'angriness', 'slowly', 'inconceivable', 'smoke', 'musty', 'violators', 'inimical', 'disloyalty', 'banishment', 'desperation', 'dogged', 'severe', 'unsettlingly', 'misuse', 'shocked', 'ostracize', 'silly', 'hasseling', 'bloodthirsty', 'dangerous', 'harrow', 'streaky', 'rumbling', 'clogs', 'nefariously', 'tumbled', 'confusions', 'inflict', 'absence', 'misleadingly', 'disastrous', 'dragged', 'quash', 'fails', 'unwell', 'flat-out', 'imperious', 'dents', 'belligerently', 'crowded', 'disinterested', 'imperfectly', 'obstinate', 'dazed', 'disown', 'infections', 'incomplete', 'hang', 'atrophy', 'neurotic', 'laughably', 'measly', 'spank', 'illegal', 'numb', 'thumb-down', 'vilify', 'explode', 'adulterated', 'biased', 'conspiracy', 'crumbling', 'frail', 'matte', 'undersized', 'delay', 'expropriate', 'difficulty', 'jumpy', 'perverts', 'terrorize', 'jaundiced', 'remorseful', 'battered', 'unable', 'froze', 'detested', 'fatalistic', 'ultra-hardline', 'decry', 'alarmingly', 'ho-hum', 'prick', 'scornfully', 'cheated', 'heartbreaking', 'irregular', 'filth', 'insincerity', 'self-defeating', 'raked', 'dirtbags', 'belittling', 'commonplace', 'alarmed', 'egregious', 'derisively', 'disappointed', 'disgruntle', 'embarrassment', 'hothead', 'frigging', 'passiveness', 'forgetful', 'rhapsodize', 'toughness', 'cheating', 'spurn', 'accuse', 'inconsequential', 'doomsday', 'addicting', 'egotism', 'hysterically', 'reprovingly', 'incense', 'pathetically', 'troubling', 'unspeakablely', 'complaint', 'inhumanity', 'crisis', 'nastily', 'distraction', 'negligent', 'negative', 'pigs', 'commiserate', 'glibly', 'uncompetitive', 'scoff', 'dodgey', 'frightening', 'insultingly', 'shatter', 'mispronounce', 'occludes', 'vindictively', 'bemoaning', 'bewilderingly', 'obstructing', 'cataclysmic', 'disgracefully', 'extraneous', 'asunder', 'filthy', 'weirdly', 'pricier', 'forsaken', 'unavailable', 'bemused', 'unsure', 'stiffness', 'hasty', 'dreadful', 'fatally', 'condemn', 'niggles', 'sullen', 'touts', 'villainous', 'wripped', 'hater', 'derogatory', 'humiliate', 'noise', 'worrisome', 'ail', 'illegally', 'barbarously', 'clamor', 'loses', 'bullies', 'invidiously', 'irritant', 'averse', 'testily', 'junk', 'bulkyness', 'mire', 'battering', 'less-developed', 'prohibit', 'racists', 'boring', 'grudging', 'irritable', 'bored', 'subjected', 'mistrust', 'touchy', 'isolation', 'killjoy', 'jeopardize', 'loot', 'ineffectualness', 'snarky', 'devastated', 'unintelligible', 'brainless', 'distrust', 'anti-', 'irresponsibly', 'harassed', 'downgrade', 'alienation', 'deign', 'contemptuous', 'aggression', 'deride', 'startlingly', 'indoctrinate', 'slaughter', 'hegemony', 'beggar', 'deviously', 'rhetorical', 'overkill', 'criminal', 'distorted', 'repulsively', 'bunk', 'smolder', 'desolation', 'messed', 'apprehensions', 'fleeting', 'hum', 'strenuous', 'hateful', 'unforgiving', 'pretentious', 'bully', 'despot', 'vague', 'doom', 'defrauding', 'inferiority', 'lackeys', 'noises', 'suspicions', 'unnervingly', 'fractiously', 'moody', 'overwhelm', 'repulsive', 'annoys', 'bomb', 'flaky', 'sicken', 'disappointments', 'bug', 'insufferably', 'bias', 'graceless', 'hallucination', 'deteriorating', 'fateful', 'frazzled', 'inescapable', 'feeble', 'infringe', 'languorously', 'tedious', 'naive', 'stuffy', 'throb', 'nefarious', 'flare', 'lone', 'smother', 'inglorious', 'aggrivation', 'loss', 'blindingly', 'sidetrack', 'startle', 'loath', 'vulgar', 'emphatic', 'swipe', 'stumble', 'obnoxiously', 'intense', 'confused', 'fist', 'flares', 'terrible', 'uncompromising', 'flawed', 'cunt', 'throbbing', 'pale', 'flaking', 'freezing', 'scam', 'scold', 'rants', 'defile', 'scoundrel', 'flimflam', 'passe', 'bullying', 'usurp', 'discomfititure', 'dispensable', 'whore', 'catastrophic', 'collapse', 'squabble', 'criticizing', 'mawkish', 'rage', 'stridently', 'insulting', 'bragger', 'revengefully', 'rip', 'worries', 'disapproving', 'innuendo', 'headaches', 'tortures', 'hideousness', 'cloudy', 'rough', 'oblique', 'inaccurately', 'misunderstand', 'idiocies', 'stagnation', 'irresponsible', 'sneering', 'shamelessly', 'traitorous', 'inequalities', 'morbidly', 'backache', 'crueler', 'provoke', 'anti-us', 'blockhead', 'irksomenesses', 'debaucher', 'loveless', 'manipulate', 'lier', 'disordered', 'irretating', 'criticism', 'bruising', 'insult', 'insubstantially', 'glum', 'hallucinate', 'mystify', 'mirage', 'tauntingly', 'uneasiness', 'upheaval', 'dunce', 'imprecision', 'traumatized', 'crooked', 'incompetent', 'blab', 'inextricably', 'prickles', 'obsessive', 'wanton', 'disconsolate', 'blurt', 'bugs', 'declines', 'bonkers', 'bait', 'inaccuracy', 'overstatements', 'disliked', 'discriminate', 'flaws', 'loopholes', 'raving', 'discredit', 'renunciation', 'slanderer', 'busybody', 'chasten', 'gibber', 'naughty', 'tense', 'insincerely', 'stifle', 'precarious', 'isolated', 'fascism', 'ambivalence', 'unexplained', 'bungler', 'gnawing', 'irritably', 'frown', 'extravagant', 'ferociously', 'lividly', 'illiterate', 'dispiriting', 'floundering', 'infringement', 'procrastinate', 'refute', 'disruptive', 'subversion', 'hatefully', 'desperately', 'subordinate', 'foe', 'sober', 'fall', 'misread', 'damaging', 'hated', 'degradingly', 'depravedly', 'insouciance', 'oppressive', 'hubris', 'mockery', 'overthrows', 'leakages', 'accusing', 'deploring', 'erodes', 'hardships', 'militancy', 'scandal', 'unnerve', 'fume', 'snobbish', 'distract', 'impossiblity', 'losing', 'peeled', 'fearsome', 'abuses', 'fudge', 'adulteration', 'fool', 'illegitimate', 'catastrophies', 'stump', 'negatives', 'perfidity', 'irate', 'runaway', 'spiteful', 'wasteful', 'evasion', 'egotistical', 'hastily', 'culpable', 'depressions', 'pretence', 'aggressive', 'adamantly', 'selfishness', 'dispute', 'unsatisfactory', 'sloppily', 'weariness', 'wreak', 'repetitive', 'alarm', 'suck', 'vomits', 'morons', 'inessential', 'bloody', 'indiscreetly', 'subservient', 'outburst', 'contemptible', 'impenitent', 'longingly', 'spade', 'apocalyptic', 'dirts', 'excessive', 'inadequately', 'drunk', 'blather', 'frightful', 'setback', 'crumple', 'greedy', 'horrified', 'scarred', 'tetchy', 'sensationalize', 'mangles', 'misguided', 'detracts', 'phobic', 'antipathy', 'disaffirm', 'over-acted', 'grumpily', 'stumbles', 'licentiousness', 'fuzzy', 'lurking', 'squeaky', 'quack', 'giddy', 'blabber', 'obliterate', 'aimless', 'nervously', 'ricer', 'bullshyt', 'antagonism', 'grumpish', 'pimple', 'torrent', 'irksomeness', 'disappointing', 'disavowal', 'dilapidated', 'hazard', 'incongruously', 'suppression', 'discouraging', 'chagrin', 'debasement', 'stuttered', 'punk', 'traped', 'selfish', 'anemic', 'sadden', 'delays', 'uneasy', 'somber', 'blistering', 'nightmare', 'liable', 'impatient', 'loophole', 'emphatically', 'betraying', 'disgustedly', 'scratchy', 'vibrate', 'nightmarishly', 'ailing', 'chill', 'regressive', 'unhappiness', 'intimidatingly', 'disabled', 'wrest', 'incautious', 'counterproductive', 'dying', 'flakey', 'rigidness', 'malign', 'difficulties', 'fright', 'unreachable', 'murder', 'dent', 'disadvantage', 'cynicism', 'blunders', 'maniac', 'danger', 'ruthlessness', 'slut', 'inconsequently', 'ill-conceived', 'sketchy', 'inconsequent', 'lousy', 'stolen', 'ugly', 'unqualified', 'zaps', 'rash', 'injustice', 'feverish', 'grotesque', 'disintegrate', 'insurrection', 'irrecoverably', 'unsustainable', 'dismaying', 'interruption', 'facetious', 'impotent', 'mad', 'blasted', 'pillage', 'lambast', 'immorality', 'worthless', 'misunderstood', 'bristle', 'self-interested', 'backwardness', 'affliction', 'unlucky', 'errant', 'faint', 'punish', 'shirker', 'audiciously', 'calamity', 'impatience', 'inappropriately', 'clouding', 'relentlessness', 'stalemate', 'startling', 'subpoena', 'cheat', 'twists', 'unknown', 'imperiously', 'qualm', 'ruffle', 'corruption', 'leaky', 'misinformed', 'disunity', 'hell-bent', 'clumsy', 'deadbeat', 'infidels', 'lengthy', 'mismanage', 'sardonic', 'effigy', 'barbarous', 'martyrdom-seeking', 'overlook', 'self-humiliation', 'acerbate', 'denied', 'emptiness', 'doubtfully', 'inefficiency', 'disgustingly', 'maliciously', 'inane', 'scarily', 'domineering', 'strident', 'gross', 'tumble', 'wedge', 'mischief', 'taxing', 'grievances', 'shockingly', 'anarchism', 'insufficiency', 'shemale', 'unnerved', 'chore', 'belie', 'brittle', 'forlornly', 'indecorum', 'marginal', 'smoldering'}\n"
          ]
        },
        {
          "output_type": "stream",
          "name": "stderr",
          "text": [
            "[nltk_data] Downloading package opinion_lexicon to /root/nltk_data...\n",
            "[nltk_data]   Package opinion_lexicon is already up-to-date!\n"
          ]
        }
      ]
    },
    {
      "cell_type": "markdown",
      "source": [
        "# Векторное представление слов\n",
        "\n",
        "**Людвиг Витгенштейн**: \"Значение слова определяется тем, как его используют\".\n",
        "\n",
        "**Слова-векторы** (word vectors) — это численные представления слов, сохраняющие семантическую связь между ними.\n",
        "\n",
        "Какое слово из [**собака**, **кошка**, **машина**] не подходит в этом предложении? \"Моя ___ любит много есть и спать\".\n",
        "\n",
        "Для вектора ***кошка*** одним из наиболее близких будет слово ***собака***. Векторное представление слова ***машина*** достаточно сильно отличается от вектора ***кошка***. Эта схожесть обусловлена частотой встречаемости двух слов (т.е. [**кошка**, **собака**] или [**кошка**, **машина**]) в одном контексте.\n",
        "\n",
        "Векторные представления слов используются во многих областях:\n",
        "* Моделирование языков,\n",
        "* Чат-боты,\n",
        "* Машинный перевод,\n",
        "* Вопросно-ответные системы,\n",
        "* И многое другое...\n",
        "\n",
        "Векторы слов лежат в основе многих систем обработки естественного языка (NLP), захлестнувших современный мир (Amazon Alexa, Google translate, Siri и т.д.).\n",
        "\n",
        "\n"
      ],
      "metadata": {
        "id": "N9X1V3cyTKvX"
      }
    },
    {
      "cell_type": "markdown",
      "source": [
        "### Word2Vec\n",
        "\n",
        "**Word2Vec** — одна из самых известных дистрибутивных моделей, использующая нейросеть. Алгоритмы **Word2Vec** используют контекст, чтобы сформировать численные представления слов, поэтому слова, используемые в одном и том же контексте, имеют похожие векторы.\n",
        "\n",
        "**Word2Vec** состоит из двух двух алгоритмов: **Skip-Gram** и **Continuous Bag-of-Words** (CBOW). **Skip-Gram** предсказывает близлежащие слова на основании одного слова. **CBOW** (или мешок слов) предсказывает слово на основании контекста.\n",
        "\n",
        "**Как нам создать числовой вектор для каждого слова?**\n",
        "\n",
        "Как всегда, чтобы обучить модель обрабатывать естественный язык, нужно дать ей большой корпус данных.\n",
        "\n",
        "Она создаст вектор для каждого слова, основываясь на его дистрибуции.\n",
        "\n",
        "В грубом приближении, между словами могут быть два отношения.\n",
        "\n",
        "1. **Синтагматическое отношение** — в этом отношении состоят слова, которые встречаются вместе в одном предложении, абзаце или тексте. Так работают **коллокации** — словосочетание, имеющее признаки синтаксически и семантически целостной единицы. Например, ***молоть чушь***, ***нести бред***, ***выносить приговор***, ***герметически закрыто*** и т.д.\n",
        "2. **Парадигматическое отношение** - в этом отношении находятся слова, которые не встречаются вместе в одном контексте, но при этом контексты их употребления схожи. Например, [***плохая*** | ***хорошая идея***], [***я люблю*** | ***ненавижу кабачки***] и т.д.\n",
        "\n",
        "[Здесь](https://github.com/Whereamiactually/lyceumcompling10/tree/main/Word2Vec) есть картинки, которые наглядно показывают, как могут соотноситься два слова.\n",
        "\n"
      ],
      "metadata": {
        "id": "iUScTKuX_xzG"
      }
    },
    {
      "cell_type": "markdown",
      "source": [
        "### Этапы создания модели векторного представления слов\n",
        "\n",
        "1. Читается корпус, и рассчитывается встречаемость каждого слова в корпусе.\n",
        "2. Массив слов сортируется по частоте и удаляются редкие слова.\n",
        "3. Строится [дерево Хаффмана](https://ru.wikipedia.org/wiki/%D0%9A%D0%BE%D0%B4_%D0%A5%D0%B0%D1%84%D1%84%D0%BC%D0%B0%D0%BD%D0%B0) (для кодирования словаря — это значительно снижает вычислительную и временную сложность алгоритма).\n",
        "4. Из корпуса читается т.н. субпредложение (базовый элемент корпуса — предложение, абзац, статья) и проводится субсэмплирование (процесс изъятия наиболее частотных слов) из анализа.\n",
        "5. По субпредложению проходим окном (максимальная дистанция между текущим и предсказываемым словом в предложении).\n",
        "6. Применяется нейросеть прямого распространения с функцией активации иерархический софтмакс и/или негативное сэмплирование.\n",
        "\n",
        "[Здесь](https://habr.com/ru/articles/446530/) есть очень крутой гайд по векторному представлению слов с картинками.\n",
        "\n",
        "\n",
        "\n"
      ],
      "metadata": {
        "id": "XmK3yNbj-waN"
      }
    }
  ]
}