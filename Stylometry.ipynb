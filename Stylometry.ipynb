{
  "nbformat": 4,
  "nbformat_minor": 0,
  "metadata": {
    "colab": {
      "provenance": [],
      "authorship_tag": "ABX9TyPZvM6FlyC1Zt+PRnBQ6FCu",
      "include_colab_link": true
    },
    "kernelspec": {
      "name": "python3",
      "display_name": "Python 3"
    },
    "language_info": {
      "name": "python"
    }
  },
  "cells": [
    {
      "cell_type": "markdown",
      "metadata": {
        "id": "view-in-github",
        "colab_type": "text"
      },
      "source": [
        "<a href=\"https://colab.research.google.com/github/Whereamiactually/lyceumcompling10/blob/main/Stylometry.ipynb\" target=\"_parent\"><img src=\"https://colab.research.google.com/assets/colab-badge.svg\" alt=\"Open In Colab\"/></a>"
      ]
    },
    {
      "cell_type": "markdown",
      "source": [
        "# Стилометрия\n",
        "\n",
        "Следующий материал основывается на главе 2 \"Установление авторства\n",
        "с помощью стилометрии\" из книги [\"Python для хакеров. Нетривиальные задачи и проекты\"](https://habr.com/ru/companies/piter/articles/733386/). Вот [тут](https://storage.piter.com/upload/contents/978544612968/978544612968_p.pdf) есть релевантный для нас отрывок.\n",
        "\n",
        "Мы будем определять, кто является автором произведения \"Идиот\" - Ф.М. Достоевский и Н.В. Гоголь (представим, что мы этого не знаем). Для этого возьмем по одному произведению каждого автора, про которое точно известно, кто его написал, и сравним каждое из них с \"Идиотом\".\n",
        "\n",
        "Тексты я взяла вот [отсюда](https://avidreaders.ru/).\n",
        "\n",
        "Тексты можно сравнивать по следующим параметрам:\n",
        "\n",
        "* **Длина слов**. График распределения частотности длин слов в тексте.\n",
        "* **Длина предложений**. График распределения частотности длин предложений в тексте.\n",
        "* **Стоп-слова**. График распределения частотности стоп-слов.\n",
        "* **Части речи**. График распределения частотности слов на основе их синтаксической роли (существительные, местоимения, глаголы, обстоятельства,\n",
        "определения и пр.).\n",
        "* **Лексическое разнообразие текста**. Процент уникальных слов от всего текста. То есть нужно посчитать количество уникальных токенов и поделить его на количество всех токенов.\n",
        "* **Наиболее распространенные слова**. Сравнение наиболее часто встречающихся в тексте слов.\n",
        "* **Коэффициент Жаккара**. Статистика, используемая для оценки сходства\n",
        "и разнообразия выборки. Можно почитать вот [тут](https://ru.wikipedia.org/wiki/%D0%9A%D0%BE%D1%8D%D1%84%D1%84%D0%B8%D1%86%D0%B8%D0%B5%D0%BD%D1%82_%D0%96%D0%B0%D0%BA%D0%BA%D0%B0%D1%80%D0%B0).\n",
        "\n",
        "С работой со многими из этих параметров нам поможет библиотека NLTK."
      ],
      "metadata": {
        "id": "YTtUfmW0jc7t"
      }
    },
    {
      "cell_type": "code",
      "execution_count": 1,
      "metadata": {
        "id": "84QjzNunjUkb",
        "colab": {
          "base_uri": "https://localhost:8080/"
        },
        "outputId": "d73f6433-d9c3-4bda-f581-f3b6d813f31f"
      },
      "outputs": [
        {
          "output_type": "stream",
          "name": "stderr",
          "text": [
            "[nltk_data] Downloading package stopwords to /root/nltk_data...\n",
            "[nltk_data]   Unzipping corpora/stopwords.zip.\n",
            "[nltk_data] Downloading package punkt to /root/nltk_data...\n",
            "[nltk_data]   Unzipping tokenizers/punkt.zip.\n",
            "[nltk_data] Downloading package averaged_perceptron_tagger to\n",
            "[nltk_data]     /root/nltk_data...\n",
            "[nltk_data]   Unzipping taggers/averaged_perceptron_tagger.zip.\n"
          ]
        }
      ],
      "source": [
        "import nltk\n",
        "nltk.download('stopwords')\n",
        "nltk.download('punkt') # для word_tokenize\n",
        "nltk.download('averaged_perceptron_tagger') # для pos_tag\n",
        "\n",
        "stopwords = nltk.corpus.stopwords.words('russian')"
      ]
    },
    {
      "cell_type": "markdown",
      "source": [
        "Вначале напишем функцию, которая считывает текстовый файл в строку."
      ],
      "metadata": {
        "id": "ctawIQhFsp3N"
      }
    },
    {
      "cell_type": "code",
      "source": [
        "def text_to_string(filename):\n",
        "    \"\"\"Считывает текстовый файл в строку.\"\"\"\n",
        "    with open(filename) as infile:\n",
        "        return infile.read() # возвращает строку"
      ],
      "metadata": {
        "id": "R_x5Sv2Kstdu"
      },
      "execution_count": 2,
      "outputs": []
    },
    {
      "cell_type": "code",
      "source": [
        "strings_by_author = dict()\n",
        "\n",
        "strings_by_author['gogol'] = text_to_string('mertvye-dushi.txt')\n",
        "strings_by_author['dostoevsky'] = text_to_string('prestuplenie-i-nakazanie-dr-izd.txt')\n",
        "strings_by_author['unknown'] = text_to_string('idiot.txt') # пишем uknown, так как автора мы якобы не знаем"
      ],
      "metadata": {
        "id": "hqP8gkaEsd-z"
      },
      "execution_count": 3,
      "outputs": []
    },
    {
      "cell_type": "code",
      "source": [
        "# проверим, все ли нормально считалось\n",
        "print(strings_by_author['dostoevsky'][:300])"
      ],
      "metadata": {
        "id": "e1nD7qzWuPJm"
      },
      "execution_count": null,
      "outputs": []
    },
    {
      "cell_type": "markdown",
      "source": [
        "Теперь напишем фукнцию, которая на вход получает словарь, в котором для каждого автора лежит строка с его произведением, и возвращает словарь со списком токенов для каждого из них."
      ],
      "metadata": {
        "id": "ZkBTnCimtpXb"
      }
    },
    {
      "cell_type": "code",
      "source": [
        "def make_word_dict(strings_by_author):\n",
        "    \"\"\"Возвращает словарь со списком токенов для каждого из авторов.\"\"\"\n",
        "    words_by_author = dict() # создаем пустой словарь\n",
        "    for author in strings_by_author: # проходимся по каждому автору\n",
        "        tokens = nltk.word_tokenize(strings_by_author[author]) # токенизируем произведение\n",
        "        words_by_author[author] = ([token.lower() for token in tokens # кладем токены в новый словарь\n",
        "                                    if token.isalpha()]) # избавляемся от знаков препинания\n",
        "    return words_by_author"
      ],
      "metadata": {
        "id": "qMwnpYGctYf3"
      },
      "execution_count": 5,
      "outputs": []
    },
    {
      "cell_type": "code",
      "source": [
        "tokens_per_author = make_word_dict(strings_by_author)"
      ],
      "metadata": {
        "id": "fHRUA4_wvSmk"
      },
      "execution_count": 6,
      "outputs": []
    },
    {
      "cell_type": "code",
      "source": [
        "tokens_per_author"
      ],
      "metadata": {
        "id": "cJ_lGDDWvwPF"
      },
      "execution_count": null,
      "outputs": []
    },
    {
      "cell_type": "code",
      "source": [
        "for author in tokens_per_author: # мы хотим посмотреть на длину каждого произведения в токенах\n",
        "  print(author, '-', len(tokens_per_author[author]))"
      ],
      "metadata": {
        "colab": {
          "base_uri": "https://localhost:8080/"
        },
        "id": "kTJcSWaMvp9C",
        "outputId": "8610039e-cbda-4157-f1d0-6b5928395b4f"
      },
      "execution_count": 8,
      "outputs": [
        {
          "output_type": "stream",
          "name": "stdout",
          "text": [
            "gogol - 113158\n",
            "dostoevsky - 164749\n",
            "unknown - 202063\n"
          ]
        }
      ]
    },
    {
      "cell_type": "markdown",
      "source": [
        "Эти тексты далеко не равнозначны по длине.\n",
        "\n",
        "Но, по-хорошему, тексты должны быть хотя бы примерно одинаковой длины, поэтому нам нужно обрезать более длинные тексты по длине самого короткого (мы предполагаем, что те части текстов, которые в таком случае не войдут в наше исследование, устроены таким же образом, что и те, которые войдут)."
      ],
      "metadata": {
        "id": "pWCG_EpTwOQG"
      }
    },
    {
      "cell_type": "code",
      "source": [
        "import matplotlib.pyplot as plt # для работы с графиками\n",
        "import collections # для нахождения частотности"
      ],
      "metadata": {
        "id": "--uParDiw4OL"
      },
      "execution_count": 9,
      "outputs": []
    },
    {
      "cell_type": "code",
      "source": [
        "LINES = ['-', ':', '--']  # стиль линий для графиков"
      ],
      "metadata": {
        "id": "PfBiErycyIq0"
      },
      "execution_count": 10,
      "outputs": []
    },
    {
      "cell_type": "markdown",
      "source": [
        "Построим первый график - посмотрим на частотность слов той или иной длины для каждого автора."
      ],
      "metadata": {
        "id": "jtmmT7qoFwad"
      }
    },
    {
      "cell_type": "code",
      "source": [
        "def word_length_test(words_by_author):\n",
        "    \"\"\"Рисует график распределения частотности длин слов для каждого автора.\"\"\"\n",
        "    plt.figure(1) # присваиваем номер графику\n",
        "    for i, author in enumerate(words_by_author): # проходимся по каждому автору (enumerate дает каждому автору порядковый номер, начиная с нуля)\n",
        "        word_lengths = [len(word) for word in words_by_author[author][:len(tokens_per_author['gogol'])]] # проходимся по каждому слову и считаем его длину (количество слов такое же, как в самом коротком тексте)\n",
        "        dist = dict(collections.Counter(word_lengths)) # считаем частотность слов разной длины и создаем словарь, где ключи - это длины слов\n",
        "        for num in range(1, 26): # проходимся по каждой возможной длине слова (от 1 до 25)\n",
        "          if num not in dist.keys(): # если ее не находим, то добавляем ноль в значение ключа\n",
        "            dist[num] = 0\n",
        "        sorting = dict(sorted(dist.items())) # сортируем словарь\n",
        "        #print(sorting)\n",
        "        plt.plot(sorting.values(), label = author, linestyle = LINES[i]) # рисуем линию для каждого автора\n",
        "    plt.legend() # рисуем легенду, где указано, какая линия какому автору соответствует\n",
        "    plt.title('Частотность длин слов для каждого автора')\n",
        "    plt.xlabel('длина слова')\n",
        "    plt.ylabel('количество вхождений')\n",
        "    plt.show() # выводим все вместе"
      ],
      "metadata": {
        "id": "GKmem2vgww4C"
      },
      "execution_count": 21,
      "outputs": []
    },
    {
      "cell_type": "code",
      "source": [
        "word_length_test(tokens_per_author)"
      ],
      "metadata": {
        "colab": {
          "base_uri": "https://localhost:8080/",
          "height": 472
        },
        "id": "OHNKc609yPbL",
        "outputId": "a0cd4e6f-276e-4e6d-ff69-a9a6352e55de"
      },
      "execution_count": 22,
      "outputs": [
        {
          "output_type": "display_data",
          "data": {
            "text/plain": [
              "<Figure size 640x480 with 1 Axes>"
            ],
            "image/png": "[encoded data removed]"
          },
          "metadata": {}
        }
      ]
    },
    {
      "cell_type": "markdown",
      "source": [
        "Теперь посмотрим на распределение слов по частям речи для каждого автора!"
      ],
      "metadata": {
        "id": "BBRcmZgRGOwb"
      }
    },
    {
      "cell_type": "code",
      "source": [
        "pip install pymorphy2"
      ],
      "metadata": {
        "id": "dFRhsUoDFC6V",
        "colab": {
          "base_uri": "https://localhost:8080/"
        },
        "outputId": "ad104845-44ea-42a0-8016-85198b6ffa14"
      },
      "execution_count": 23,
      "outputs": [
        {
          "output_type": "stream",
          "name": "stdout",
          "text": [
            "Collecting pymorphy2\n",
            "  Downloading pymorphy2-0.9.1-py3-none-any.whl (55 kB)\n",
            "\u001b[2K     \u001b[90m━━━━━━━━━━━━━━━━━━━━━━━━━━━━━━━━━━━━━━━━\u001b[0m \u001b[32m55.5/55.5 kB\u001b[0m \u001b[31m2.0 MB/s\u001b[0m eta \u001b[36m0:00:00\u001b[0m\n",
            "\u001b[?25hCollecting dawg-python>=0.7.1 (from pymorphy2)\n",
            "  Downloading DAWG_Python-0.7.2-py2.py3-none-any.whl (11 kB)\n",
            "Collecting pymorphy2-dicts-ru<3.0,>=2.4 (from pymorphy2)\n",
            "  Downloading pymorphy2_dicts_ru-2.4.417127.4579844-py2.py3-none-any.whl (8.2 MB)\n",
            "\u001b[2K     \u001b[90m━━━━━━━━━━━━━━━━━━━━━━━━━━━━━━━━━━━━━━━━\u001b[0m \u001b[32m8.2/8.2 MB\u001b[0m \u001b[31m43.7 MB/s\u001b[0m eta \u001b[36m0:00:00\u001b[0m\n",
            "\u001b[?25hCollecting docopt>=0.6 (from pymorphy2)\n",
            "  Downloading docopt-0.6.2.tar.gz (25 kB)\n",
            "  Preparing metadata (setup.py) ... \u001b[?25l\u001b[?25hdone\n",
            "Building wheels for collected packages: docopt\n",
            "  Building wheel for docopt (setup.py) ... \u001b[?25l\u001b[?25hdone\n",
            "  Created wheel for docopt: filename=docopt-0.6.2-py2.py3-none-any.whl size=13706 sha256=85a2125d5e496c04dc440ea8c324c5a0b33e10c26c32e9632e9a02262953032f\n",
            "  Stored in directory: /root/.cache/pip/wheels/fc/ab/d4/5da2067ac95b36618c629a5f93f809425700506f72c9732fac\n",
            "Successfully built docopt\n",
            "Installing collected packages: pymorphy2-dicts-ru, docopt, dawg-python, pymorphy2\n",
            "Successfully installed dawg-python-0.7.2 docopt-0.6.2 pymorphy2-0.9.1 pymorphy2-dicts-ru-2.4.417127.4579844\n"
          ]
        }
      ]
    },
    {
      "cell_type": "code",
      "source": [
        "from pymorphy2 import MorphAnalyzer\n",
        "morph = MorphAnalyzer()"
      ],
      "metadata": {
        "id": "SyzRWPR6FJU_"
      },
      "execution_count": 24,
      "outputs": []
    },
    {
      "cell_type": "code",
      "source": [
        "def parts_of_speech_test(words_by_author):\n",
        "    \"\"\"Рисует график распределения частотности частей речи для каждого автора.\"\"\"\n",
        "    plt.figure(2)\n",
        "    width = 0.25 # ширина столбцов\n",
        "    for i, author in enumerate(words_by_author): # проходимся по каждому автору и его токенам\n",
        "        pos_by_author = [str(morph.parse(word)[0].tag.POS) for word in words_by_author[author][:len(tokens_per_author['gogol'])]] # добавляем часть речь каждого токена в список\n",
        "        dist = dict(collections.Counter(pos_by_author)) # создаем словарь, где каждой части речи соответствует ее частотность\n",
        "        dist.pop('None') # некоторые токены почему-то оказываются None, их надо убрать\n",
        "        sorting = dict(sorted(dist.items(), key = lambda item: item[1], reverse = True)) # сортируем словарь по значениям\n",
        "        names = list(sorting.keys()) # отдельно сохраняем ключи в список\n",
        "        values = list(sorting.values()) # отдельно значения\n",
        "        plt.bar(names, values, width, label = author) # рисуем столбчатую диаграмму\n",
        "\n",
        "    plt.legend()\n",
        "    plt.title('Частотность частей речи для каждого автора')\n",
        "    plt.xlabel('част речи')\n",
        "    plt.ylabel('количество вхождений')\n",
        "    plt.xlim([-0.5, 7.5]) # задаем область вывода\n",
        "    plt.show() # показываем"
      ],
      "metadata": {
        "id": "Va_AGZLGGScn"
      },
      "execution_count": 25,
      "outputs": []
    },
    {
      "cell_type": "code",
      "source": [
        "parts_of_speech_test(tokens_per_author) # надо подождать, потому что морфологический разбор производится довольно долго для такого количества токенов"
      ],
      "metadata": {
        "colab": {
          "base_uri": "https://localhost:8080/",
          "height": 472
        },
        "outputId": "e43eb22f-aae8-4a46-d8c7-e9ec4abcb6ba",
        "id": "UMSE8JU0GUOX"
      },
      "execution_count": 26,
      "outputs": [
        {
          "output_type": "display_data",
          "data": {
            "text/plain": [
              "<Figure size 640x480 with 1 Axes>"
            ],
            "image/png": "[encoded data removed]"
          },
          "metadata": {}
        }
      ]
    },
    {
      "cell_type": "markdown",
      "source": [
        "Теперь сравним лексикон авторов с помощью [критерия хи-квадрат](https://blog.skillfactory.ru/glossary/kriteriy-hi-kvadrat/).\n",
        "\n",
        "Грубо говоря, этот критерий используется для соотнесения ожидаемых результатов с теми, что мы видим на самом деле. В нашем случае последнее - это результаты для текста, автора которого мы знаем, а первое - это результаты для общего текста, сложенного из текстов известного автора и неизвестного (unknown). То есть, например, текст gogol мы сравниваем с текстом gogol+unknown, а текст dostoevsky с текстом dostoevsky+unknown.\n",
        "\n",
        "Для каждого текста в паре мы хотим найти частотность слов. Давайте в качестве примера посмотрим на пару gogol и gogol+unknown.\n",
        "\n",
        "Если автором unknown является gogol, то мы ожидаем, что относительная частотность слов в тексте unknown будет примерна равна относительной частотности слов в тексте gogol. Чем больше она отличается, тем, соответственно, вероятнее, что автором unknown является не gogol. И чем больше она отличается, тем выше будет критерий хи-квадрат для каждого слова и для всего текста в целом.\n",
        "\n",
        "Поэтому мы можем, сравнивания частотность слов в паре gogol и gogol+unknown с помощью критерия хи-квадрат, получить сложением критерий хи-квадрат для всей пары в целом и в итоге сравнить его с парой другого автора, то есть в нашем случае с парой dostoevsky и dostoevsky+unknown.\n",
        "\n",
        "Наименьший критерий хи-квадрат будет у того автора, текст которого больше похож на текст unknown.\n",
        "\n",
        "Это все написано очень грубо и приблизительно, в это всё вникать необязательно, просто нужно помнить, что есть какой-то такой статистический тест, с помощью которого можно проверить схожесть лексикона. Тем не менее, нужно примерно понимать, что делает код.\n",
        "\n",
        "Для начала слова надо лемматизировать, так как мы хотим подсчитать частотность слов и хотим разные формы одного и того же слова считать одним словом.\n"
      ],
      "metadata": {
        "id": "N4JcJHnVfym6"
      }
    },
    {
      "cell_type": "code",
      "source": [
        "def lemmatize_list(words_by_author):\n",
        "    \"\"\"Возвращает словарь со списками лемматизированных токенов для каждого автора.\"\"\"\n",
        "    lemmatized = dict()\n",
        "    for author in words_by_author:\n",
        "      lemmas = [morph.parse(word)[0].normal_form for word in words_by_author[author]]\n",
        "      lemmatized[author] = lemmas\n",
        "    return lemmatized"
      ],
      "metadata": {
        "id": "DlocsQlqssxR"
      },
      "execution_count": 60,
      "outputs": []
    },
    {
      "cell_type": "code",
      "source": [
        "lemmatized = lemmatize_list(tokens_per_author)"
      ],
      "metadata": {
        "id": "fi0DHt4ftZaL"
      },
      "execution_count": 61,
      "outputs": []
    },
    {
      "cell_type": "code",
      "source": [
        "def vocab_test(words_by_author):\n",
        "    \"\"\"Сравнивает словарный запас авторов, используя критерий хи-квадрат.\"\"\"\n",
        "    chisquared_by_author = dict()\n",
        "    for author in words_by_author:\n",
        "        if author != 'unknown':\n",
        "            # находит 1000 ниболее частотных слов в списке токенов, получившесмся путем объединения токенов известного и неизвестного автора\n",
        "            combined_corpus = (words_by_author[author] +\n",
        "                               words_by_author['unknown']) # объединяем\n",
        "            author_proportion = (len(words_by_author[author])/\n",
        "                                 len(combined_corpus)) # вычисляем долю слов известного нам автора\n",
        "            combined_freq_dist = nltk.FreqDist(combined_corpus) # смотрим частотность слов\n",
        "            most_common_words = list(combined_freq_dist.most_common(1000)) # список самых частотных слов\n",
        "            chisquared = 0\n",
        "\n",
        "            # вычисляет совпадение ожидаемых и получившихся подсчетов\n",
        "            for word, combined_count in most_common_words:\n",
        "                observed_count_author = words_by_author[author].count(word) # смотрим частотность слова только в тексте известного нам автора (то есть это то, что мы действительно наблюдаем)\n",
        "                expected_count_author = combined_count * author_proportion # умножаем частотность слова в комбинированном списке токенов на долю токенов автора (то есть это то, что мы ожидаем)\n",
        "                # таким образом у нас получается две частотности для одного слова\n",
        "                chisquared += ((observed_count_author -\n",
        "                                expected_count_author)**2 /\n",
        "                               expected_count_author) # это формула, по которой мы вычисляем критерий хи-квадрат\n",
        "                # каждый раз мы увиличиваем сумму на хи-квадрат для отдельного слова\n",
        "            chisquared_by_author[author] = chisquared # кладем общую сумму для всех слов в словарь под именем автора\n",
        "            print('Хи-квадрат для {} = {:.1f}'.format(author.capitalize(), chisquared))\n",
        "\n",
        "    most_likely_author = min(chisquared_by_author, key = chisquared_by_author.get)\n",
        "    print('Судя по распределению частотностей слов, наиболее вероятно, что автором является {}\\n'.format(most_likely_author.capitalize()))"
      ],
      "metadata": {
        "id": "IwqGVr5FfGpR"
      },
      "execution_count": 51,
      "outputs": []
    },
    {
      "cell_type": "code",
      "source": [
        "vocab_test(lemmatized)"
      ],
      "metadata": {
        "colab": {
          "base_uri": "https://localhost:8080/"
        },
        "id": "Vn2GjqMshHzl",
        "outputId": "65cdac6d-7b02-442b-af60-c8fffd602f54"
      },
      "execution_count": 62,
      "outputs": [
        {
          "output_type": "stream",
          "name": "stdout",
          "text": [
            "Хи-квадрат для Gogol = 15361.8\n",
            "Хи-квадрат для Dostoevsky = 9916.9\n",
            "Наиболее вероятно, что автором является Dostoevsky\n",
            "\n"
          ]
        }
      ]
    },
    {
      "cell_type": "markdown",
      "source": [
        "Есть еще так называемый коэффициент Жаккара. С помощью него можно вычислить схожесть набора используемых слов (в предыдущем пункте мы смотрела на их частотность), то есть пропорцию общих слов ко всем необщим словам."
      ],
      "metadata": {
        "id": "DCXvwa7MqhE8"
      }
    },
    {
      "cell_type": "code",
      "source": [
        "def jaccard_test(words_by_author):\n",
        "    \"\"\"Вычисляет коэффициент Жаккарта для каждого текста в сравнении с текстом unknown.\"\"\"\n",
        "    jaccard_by_author = dict()\n",
        "    unique_words_unknown = set(words_by_author['unknown']\n",
        "                               [:len(tokens_per_author['gogol'])]) # функция set() удаляет повторы из списка, то есть получается список уникальных слов\n",
        "    authors = (author for author in words_by_author if author != 'unknown') # собираем имена авторов (двух), но не unknown, так как с ним будем сравнивать\n",
        "    for author in authors: # проходимся по каждому автору\n",
        "        unique_words_author = set(words_by_author[author][:len(tokens_per_author['gogol'])]) # собираем список уникальных слов для автора\n",
        "        shared_words = unique_words_author.intersection(unique_words_unknown) # находим пересечение списков слов (то есть общие слова)\n",
        "        jaccard_sim = (float(len(shared_words))/ (len(unique_words_author) +\n",
        "                                                  len(unique_words_unknown) -\n",
        "                                                  len(shared_words))) # так вычисляет коэффициент Жаккара\n",
        "        jaccard_by_author[author] = jaccard_sim # кладем результат в словарь под именем автора\n",
        "        print('Коэффициент Жаккарта для {} = {}'.format(author.capitalize(), jaccard_sim))\n",
        "\n",
        "    most_likely_author = max(jaccard_by_author, key = jaccard_by_author.get) # чем больше пропорция общих слов, тем, соответственно, вероятнее, что автором является именно этот писатель\n",
        "    print('Судя по схожести лексики, наиболее вероятно, что автором является {}'.format(most_likely_author.capitalize()))"
      ],
      "metadata": {
        "id": "lZY-TQAOqh07"
      },
      "execution_count": 64,
      "outputs": []
    },
    {
      "cell_type": "code",
      "source": [
        "jaccard_test(lemmatized)"
      ],
      "metadata": {
        "colab": {
          "base_uri": "https://localhost:8080/"
        },
        "id": "ABz28IVnvY4q",
        "outputId": "78e1770b-8245-495e-e544-156f68f067d4"
      },
      "execution_count": 65,
      "outputs": [
        {
          "output_type": "stream",
          "name": "stdout",
          "text": [
            "Коэффициент Жаккарта для Gogol = 0.3197589723215468\n",
            "Коэффициент Жаккарта для Dostoevsky = 0.4047163798597833\n",
            "Судя по схожести лексики, наиболее вероятно, что автором является Dostoevsky\n"
          ]
        }
      ]
    },
    {
      "cell_type": "markdown",
      "source": [
        "Все критерии указывают в пользу того, что Ф.М. Достоевский является автором \"Идиота\", что, безусловно, верно!"
      ],
      "metadata": {
        "id": "Rzw9vjuhwcc1"
      }
    },
    {
      "cell_type": "markdown",
      "source": [
        "# Ваш проект\n",
        "\n",
        "Вам нужно выбрать три прозаических текста из примерно одного времени (длина особо не играет роли, но важно, чтобы текст был больше 50000 слов). Автором двух из них должен являться один и тот же писатель (как было у нас). Из этих двух вам нужно выбрать один, автороство которого вы хотите проверить (мы тогда выбрали \"Идиот\").\n",
        "\n",
        "Вам нужно проверить эти три текста по:\n",
        "* критерию **лексического разнообразия текста** (см. в самое начало тетрадки),\n",
        "* любым **двум** критериям из тех, что мы проходили на паре (по сути это просто скормить ваш словарь \"автор:токены\" в уже готовые функции),\n",
        "* и **одному** критерию из тех, что мы не проходили (**график распределения частотности стоп-слов** (аналогично графику распределения частотности частей речи) или **график распределения частотности длин предложений** (аналогично графику распределения частотности длин слов)). То есть вам нужно взять готовую функцию из этой тетрадки и модифицировать её под тот критерий, который вы выбрали.\n",
        "\n",
        "Также для любого из текстов вам нужно создать либо облако слов, либо график встречаемости имен тех или иных персонажей в тексте. Во время презентации нужно будет это вкратце прокомментировать.\n",
        "\n",
        "Во время презентации вам надо прокомментировать совсем вкратце код, который вы написали (для функций, которые вы сами придумали), а не вкратце - результаты, которые вы получили. Правильный ли результат вы получили? Показалось ли вам что-то необычным? И другое в таком духе.\n",
        "\n",
        "### Подсказки\n",
        "\n",
        "1. Подсказки для критерия **лексического разнообразия текста** можно найти [тут](https://habr.com/ru/articles/536858/).\n",
        "2. Для **вычисления длин предложений** вам надо вначале сделать список списков слов по предложениям (вот в [этой тетрадке](https://colab.research.google.com/drive/10Hrqg1kvoKPr294-rFF3xibY_oBSnrMu?usp=sharing) перед старым домашним заданием есть код, который поможет вам с этим). Затем, проходясь по каждому списку слов предложений, вам нужно считать его длину и складывать длину в новый список со всеми длинами предложений.\n",
        "3. Для **вычисления частотности стоп-слов** вам нужно создать список слов, в который добавляются только те слова, которые содержатся в списке стоп-слов NLTK (можно использовать и другую проверку на стоп-словность).\n",
        "4. Для того, чтобы построить **облако слов** или **график встречаемости имен**, вам нужно скормить тому коду, что в [этой тетрадке](https://colab.research.google.com/drive/1bq-VOPmyQUo0SN02jeWzP9uEI0zF0Esh?usp=sharing), список лемматизированных слов (в этой тетрадке есть функция, которая лемматизирует)."
      ],
      "metadata": {
        "id": "DEhKXicRwtf3"
      }
    }
  ]
}